{
 "cells": [
  {
   "cell_type": "code",
   "execution_count": 1,
   "id": "34d0017b",
   "metadata": {
    "_cell_guid": "b1076dfc-b9ad-4769-8c92-a6c4dae69d19",
    "_uuid": "8f2839f25d086af736a60e9eeb907d3b93b6e0e5",
    "execution": {
     "iopub.execute_input": "2022-11-28T05:36:35.032236Z",
     "iopub.status.busy": "2022-11-28T05:36:35.031448Z",
     "iopub.status.idle": "2022-11-28T05:36:35.060012Z",
     "shell.execute_reply": "2022-11-28T05:36:35.059055Z"
    },
    "papermill": {
     "duration": 0.061435,
     "end_time": "2022-11-28T05:36:35.063095",
     "exception": false,
     "start_time": "2022-11-28T05:36:35.001660",
     "status": "completed"
    },
    "tags": []
   },
   "outputs": [
    {
     "name": "stdout",
     "output_type": "stream",
     "text": [
      "/kaggle/input/datacon-22/Processed_data/bookings.csv\n",
      "/kaggle/input/datacon-22/Processed_data/hotels_data.csv\n",
      "/kaggle/input/datacon-22/Processed_data/bookings_data.csv\n",
      "/kaggle/input/datacon-22/Processed_data/train_data.csv\n",
      "/kaggle/input/datacon-22/Processed_data/customer_data.csv\n",
      "/kaggle/input/datacon-22/Processed_data/sample_submission_5.csv\n",
      "/kaggle/input/datacon-22/Processed_data/payments_data.csv\n",
      "/kaggle/input/26-11-filtering-columns/__results__.html\n",
      "/kaggle/input/26-11-filtering-columns/__notebook__.ipynb\n",
      "/kaggle/input/26-11-filtering-columns/full_data_filtered.csv\n",
      "/kaggle/input/26-11-filtering-columns/__output__.json\n",
      "/kaggle/input/26-11-filtering-columns/custom.css\n"
     ]
    }
   ],
   "source": [
    "# This Python 3 environment comes with many helpful analytics libraries installed\n",
    "# It is defined by the kaggle/python Docker image: https://github.com/kaggle/docker-python\n",
    "# For example, here's several helpful packages to load\n",
    "\n",
    "import numpy as np # linear algebra\n",
    "import pandas as pd # data processing, CSV file I/O (e.g. pd.read_csv)\n",
    "\n",
    "# Input data files are available in the read-only \"../input/\" directory\n",
    "# For example, running this (by clicking run or pressing Shift+Enter) will list all files under the input directory\n",
    "\n",
    "import os\n",
    "for dirname, _, filenames in os.walk('/kaggle/input'):\n",
    "    for filename in filenames:\n",
    "        print(os.path.join(dirname, filename))\n",
    "\n",
    "# You can write up to 20GB to the current directory (/kaggle/working/) that gets preserved as output when you create a version using \"Save & Run All\" \n",
    "# You can also write temporary files to /kaggle/temp/, but they won't be saved outside of the current session"
   ]
  },
  {
   "cell_type": "code",
   "execution_count": 2,
   "id": "7bdcfce7",
   "metadata": {
    "execution": {
     "iopub.execute_input": "2022-11-28T05:36:35.115602Z",
     "iopub.status.busy": "2022-11-28T05:36:35.115163Z",
     "iopub.status.idle": "2022-11-28T05:36:36.421168Z",
     "shell.execute_reply": "2022-11-28T05:36:36.420024Z"
    },
    "papermill": {
     "duration": 1.335175,
     "end_time": "2022-11-28T05:36:36.423717",
     "exception": false,
     "start_time": "2022-11-28T05:36:35.088542",
     "status": "completed"
    },
    "tags": []
   },
   "outputs": [
    {
     "data": {
      "text/html": [
       "<div>\n",
       "<style scoped>\n",
       "    .dataframe tbody tr th:only-of-type {\n",
       "        vertical-align: middle;\n",
       "    }\n",
       "\n",
       "    .dataframe tbody tr th {\n",
       "        vertical-align: top;\n",
       "    }\n",
       "\n",
       "    .dataframe thead th {\n",
       "        text-align: right;\n",
       "    }\n",
       "</style>\n",
       "<table border=\"1\" class=\"dataframe\">\n",
       "  <thead>\n",
       "    <tr style=\"text-align: right;\">\n",
       "      <th></th>\n",
       "      <th>booking_id</th>\n",
       "      <th>rating_score</th>\n",
       "      <th>set</th>\n",
       "      <th>booking_status</th>\n",
       "      <th>booking_create_timestamp</th>\n",
       "      <th>booking_approved_at</th>\n",
       "      <th>booking_checkin_customer_date</th>\n",
       "      <th>country</th>\n",
       "      <th>payment_type_mode</th>\n",
       "      <th>payment_type_count</th>\n",
       "      <th>...</th>\n",
       "      <th>agent_fees_sum</th>\n",
       "      <th>hotel_category_max</th>\n",
       "      <th>hotel_category_count</th>\n",
       "      <th>hotel_name_length_mean</th>\n",
       "      <th>hotel_description_length_mean</th>\n",
       "      <th>hotel_photos_qty_mean</th>\n",
       "      <th>booking_expiry_date_min</th>\n",
       "      <th>booking_expiry_date_max</th>\n",
       "      <th>booking_expiry_date_count</th>\n",
       "      <th>seller_agent_id_count</th>\n",
       "    </tr>\n",
       "  </thead>\n",
       "  <tbody>\n",
       "    <tr>\n",
       "      <th>0</th>\n",
       "      <td>87114b39712e6da79b0a377eb73fc7af</td>\n",
       "      <td>4</td>\n",
       "      <td>training</td>\n",
       "      <td>5</td>\n",
       "      <td>2008-01-14 15:13:49.000000000</td>\n",
       "      <td>2008-01-14 15:30:59.000000000</td>\n",
       "      <td>2008-01-20 18:25:41.000000000</td>\n",
       "      <td>5</td>\n",
       "      <td>6.0</td>\n",
       "      <td>1.0</td>\n",
       "      <td>...</td>\n",
       "      <td>27.26</td>\n",
       "      <td>69.0</td>\n",
       "      <td>2.0</td>\n",
       "      <td>42.0</td>\n",
       "      <td>858.0</td>\n",
       "      <td>1.0</td>\n",
       "      <td>2018-01-18 15:47:59.000000000</td>\n",
       "      <td>2018-01-18 15:47:59.000000000</td>\n",
       "      <td>1970-01-01 00:00:00.000000002</td>\n",
       "      <td>2.0</td>\n",
       "    </tr>\n",
       "    <tr>\n",
       "      <th>1</th>\n",
       "      <td>81e283fa7e4f11123a3fb894f18e6bfb</td>\n",
       "      <td>5</td>\n",
       "      <td>training</td>\n",
       "      <td>5</td>\n",
       "      <td>2008-02-13 10:42:03.000000000</td>\n",
       "      <td>2008-02-13 15:31:21.000000000</td>\n",
       "      <td>2008-03-02 16:16:35.000000000</td>\n",
       "      <td>0</td>\n",
       "      <td>6.0</td>\n",
       "      <td>1.0</td>\n",
       "      <td>...</td>\n",
       "      <td>134.25</td>\n",
       "      <td>69.0</td>\n",
       "      <td>1.0</td>\n",
       "      <td>48.0</td>\n",
       "      <td>562.0</td>\n",
       "      <td>5.0</td>\n",
       "      <td>2018-02-15 15:48:21.000000000</td>\n",
       "      <td>2018-02-15 15:48:21.000000000</td>\n",
       "      <td>1970-01-01 00:00:00.000000001</td>\n",
       "      <td>1.0</td>\n",
       "    </tr>\n",
       "  </tbody>\n",
       "</table>\n",
       "<p>2 rows × 27 columns</p>\n",
       "</div>"
      ],
      "text/plain": [
       "                         booking_id  rating_score       set  booking_status  \\\n",
       "0  87114b39712e6da79b0a377eb73fc7af             4  training               5   \n",
       "1  81e283fa7e4f11123a3fb894f18e6bfb             5  training               5   \n",
       "\n",
       "        booking_create_timestamp            booking_approved_at  \\\n",
       "0  2008-01-14 15:13:49.000000000  2008-01-14 15:30:59.000000000   \n",
       "1  2008-02-13 10:42:03.000000000  2008-02-13 15:31:21.000000000   \n",
       "\n",
       "   booking_checkin_customer_date  country  payment_type_mode  \\\n",
       "0  2008-01-20 18:25:41.000000000        5                6.0   \n",
       "1  2008-03-02 16:16:35.000000000        0                6.0   \n",
       "\n",
       "   payment_type_count  ...  agent_fees_sum  hotel_category_max  \\\n",
       "0                 1.0  ...           27.26                69.0   \n",
       "1                 1.0  ...          134.25                69.0   \n",
       "\n",
       "   hotel_category_count  hotel_name_length_mean  \\\n",
       "0                   2.0                    42.0   \n",
       "1                   1.0                    48.0   \n",
       "\n",
       "   hotel_description_length_mean  hotel_photos_qty_mean  \\\n",
       "0                          858.0                    1.0   \n",
       "1                          562.0                    5.0   \n",
       "\n",
       "         booking_expiry_date_min        booking_expiry_date_max  \\\n",
       "0  2018-01-18 15:47:59.000000000  2018-01-18 15:47:59.000000000   \n",
       "1  2018-02-15 15:48:21.000000000  2018-02-15 15:48:21.000000000   \n",
       "\n",
       "       booking_expiry_date_count  seller_agent_id_count  \n",
       "0  1970-01-01 00:00:00.000000002                    2.0  \n",
       "1  1970-01-01 00:00:00.000000001                    1.0  \n",
       "\n",
       "[2 rows x 27 columns]"
      ]
     },
     "execution_count": 2,
     "metadata": {},
     "output_type": "execute_result"
    }
   ],
   "source": [
    "df = pd.read_csv('/kaggle/input/26-11-filtering-columns/full_data_filtered.csv')\n",
    "df.head(2)"
   ]
  },
  {
   "cell_type": "code",
   "execution_count": 3,
   "id": "975ce19e",
   "metadata": {
    "execution": {
     "iopub.execute_input": "2022-11-28T05:36:36.476624Z",
     "iopub.status.busy": "2022-11-28T05:36:36.476191Z",
     "iopub.status.idle": "2022-11-28T05:36:36.543134Z",
     "shell.execute_reply": "2022-11-28T05:36:36.541215Z"
    },
    "papermill": {
     "duration": 0.097069,
     "end_time": "2022-11-28T05:36:36.546478",
     "exception": false,
     "start_time": "2022-11-28T05:36:36.449409",
     "status": "completed"
    },
    "tags": []
   },
   "outputs": [
    {
     "name": "stdout",
     "output_type": "stream",
     "text": [
      "<class 'pandas.core.frame.DataFrame'>\n",
      "RangeIndex: 99079 entries, 0 to 99078\n",
      "Data columns (total 27 columns):\n",
      " #   Column                         Non-Null Count  Dtype  \n",
      "---  ------                         --------------  -----  \n",
      " 0   booking_id                     99079 non-null  object \n",
      " 1   rating_score                   99079 non-null  int64  \n",
      " 2   set                            99079 non-null  object \n",
      " 3   booking_status                 99079 non-null  int64  \n",
      " 4   booking_create_timestamp       99079 non-null  object \n",
      " 5   booking_approved_at            98924 non-null  object \n",
      " 6   booking_checkin_customer_date  96221 non-null  object \n",
      " 7   country                        99079 non-null  int64  \n",
      " 8   payment_type_mode              99079 non-null  float64\n",
      " 9   payment_type_count             99078 non-null  float64\n",
      " 10  payment_sequential_sum         99078 non-null  float64\n",
      " 11  payment_installments_count     99078 non-null  float64\n",
      " 12  payment_installments_sum       99078 non-null  float64\n",
      " 13  payment_value_count            99078 non-null  float64\n",
      " 14  payment_value_sum              99078 non-null  float64\n",
      " 15  booking_sequence_id_max        98321 non-null  float64\n",
      " 16  price_sum                      98321 non-null  float64\n",
      " 17  agent_fees_sum                 98321 non-null  float64\n",
      " 18  hotel_category_max             96936 non-null  float64\n",
      " 19  hotel_category_count           98321 non-null  float64\n",
      " 20  hotel_name_length_mean         96936 non-null  float64\n",
      " 21  hotel_description_length_mean  96936 non-null  float64\n",
      " 22  hotel_photos_qty_mean          96936 non-null  float64\n",
      " 23  booking_expiry_date_min        98321 non-null  object \n",
      " 24  booking_expiry_date_max        98321 non-null  object \n",
      " 25  booking_expiry_date_count      98321 non-null  object \n",
      " 26  seller_agent_id_count          98321 non-null  float64\n",
      "dtypes: float64(16), int64(3), object(8)\n",
      "memory usage: 20.4+ MB\n"
     ]
    }
   ],
   "source": [
    "df.info()"
   ]
  },
  {
   "cell_type": "markdown",
   "id": "b179207d",
   "metadata": {
    "papermill": {
     "duration": 0.026024,
     "end_time": "2022-11-28T05:36:36.599290",
     "exception": false,
     "start_time": "2022-11-28T05:36:36.573266",
     "status": "completed"
    },
    "tags": []
   },
   "source": [
    "# **Continuos columns have outliers in train and test both - kaise handle karte dekhna hai**"
   ]
  },
  {
   "cell_type": "markdown",
   "id": "f9b5ef82",
   "metadata": {
    "papermill": {
     "duration": 0.025701,
     "end_time": "2022-11-28T05:36:36.650468",
     "exception": false,
     "start_time": "2022-11-28T05:36:36.624767",
     "status": "completed"
    },
    "tags": []
   },
   "source": [
    "# **Abhi to time wale dekhte hai**"
   ]
  },
  {
   "cell_type": "code",
   "execution_count": 4,
   "id": "ab26568b",
   "metadata": {
    "execution": {
     "iopub.execute_input": "2022-11-28T05:36:36.710612Z",
     "iopub.status.busy": "2022-11-28T05:36:36.709523Z",
     "iopub.status.idle": "2022-11-28T05:36:36.913232Z",
     "shell.execute_reply": "2022-11-28T05:36:36.911915Z"
    },
    "papermill": {
     "duration": 0.24004,
     "end_time": "2022-11-28T05:36:36.916161",
     "exception": false,
     "start_time": "2022-11-28T05:36:36.676121",
     "status": "completed"
    },
    "tags": []
   },
   "outputs": [],
   "source": [
    "df['booking_create_timestamp'] = pd.to_datetime(df['booking_create_timestamp'])\n",
    "df['booking_approved_at'] = pd.to_datetime(df['booking_approved_at'])\n",
    "df['booking_checkin_customer_date'] = pd.to_datetime(df['booking_checkin_customer_date'])\n",
    "df['booking_expiry_date_min'] = pd.to_datetime(df['booking_expiry_date_min'])\n",
    "df['booking_expiry_date_max'] = pd.to_datetime(df['booking_expiry_date_max'])\n",
    "df['booking_expiry_date_count'] = pd.to_datetime(df['booking_expiry_date_count'])"
   ]
  },
  {
   "cell_type": "markdown",
   "id": "07af727e",
   "metadata": {
    "papermill": {
     "duration": 0.025013,
     "end_time": "2022-11-28T05:36:36.966750",
     "exception": false,
     "start_time": "2022-11-28T05:36:36.941737",
     "status": "completed"
    },
    "tags": []
   },
   "source": [
    "**booking_create_timestamp**"
   ]
  },
  {
   "cell_type": "code",
   "execution_count": null,
   "id": "46407f9e",
   "metadata": {
    "papermill": {
     "duration": 0.024778,
     "end_time": "2022-11-28T05:36:37.016787",
     "exception": false,
     "start_time": "2022-11-28T05:36:36.992009",
     "status": "completed"
    },
    "tags": []
   },
   "outputs": [],
   "source": []
  },
  {
   "cell_type": "code",
   "execution_count": 5,
   "id": "9c8686dc",
   "metadata": {
    "execution": {
     "iopub.execute_input": "2022-11-28T05:36:37.068832Z",
     "iopub.status.busy": "2022-11-28T05:36:37.068430Z",
     "iopub.status.idle": "2022-11-28T05:36:37.073560Z",
     "shell.execute_reply": "2022-11-28T05:36:37.072339Z"
    },
    "papermill": {
     "duration": 0.03399,
     "end_time": "2022-11-28T05:36:37.075971",
     "exception": false,
     "start_time": "2022-11-28T05:36:37.041981",
     "status": "completed"
    },
    "tags": []
   },
   "outputs": [],
   "source": [
    "import matplotlib.pyplot as plt"
   ]
  },
  {
   "cell_type": "code",
   "execution_count": 6,
   "id": "dc519e1a",
   "metadata": {
    "execution": {
     "iopub.execute_input": "2022-11-28T05:36:37.129768Z",
     "iopub.status.busy": "2022-11-28T05:36:37.128437Z",
     "iopub.status.idle": "2022-11-28T05:36:37.135266Z",
     "shell.execute_reply": "2022-11-28T05:36:37.134029Z"
    },
    "papermill": {
     "duration": 0.037794,
     "end_time": "2022-11-28T05:36:37.138861",
     "exception": false,
     "start_time": "2022-11-28T05:36:37.101067",
     "status": "completed"
    },
    "tags": []
   },
   "outputs": [],
   "source": [
    "# fig, axs = plt.subplots(2, 3, figsize = (20,10))\n",
    "\n",
    "# df.groupby(df[\"booking_create_timestamp\"].dt.year)['booking_id'].count().plot(kind=\"bar\", ax = axs[0,0], title = 'year')\n",
    "# df.groupby(df[\"booking_create_timestamp\"].dt.month)['booking_id'].count().plot(kind=\"bar\", ax = axs[0,1], title = 'month')\n",
    "# df.groupby(df[\"booking_create_timestamp\"].dt.day)['booking_id'].count().plot(kind=\"bar\", ax = axs[0,2], title = 'day')\n",
    "# df.groupby(df[\"booking_create_timestamp\"].dt.isocalendar().week)['booking_id'].count().plot(kind=\"bar\", ax = axs[1,0], title = 'week')\n",
    "# df.groupby(df[\"booking_create_timestamp\"].dt.weekday)['booking_id'].count().plot(kind=\"bar\", ax = axs[1,1], title = 'weekday')\n",
    "# df.groupby(df[\"booking_create_timestamp\"].dt.hour)['booking_id'].count().plot(kind=\"bar\", ax = axs[1,2], title = 'hour')\n",
    "# fig.suptitle('booking_create_timestamp')\n",
    "\n",
    "# plt.show()"
   ]
  },
  {
   "cell_type": "code",
   "execution_count": 7,
   "id": "d722a196",
   "metadata": {
    "execution": {
     "iopub.execute_input": "2022-11-28T05:36:37.206020Z",
     "iopub.status.busy": "2022-11-28T05:36:37.205036Z",
     "iopub.status.idle": "2022-11-28T05:36:37.305148Z",
     "shell.execute_reply": "2022-11-28T05:36:37.303825Z"
    },
    "papermill": {
     "duration": 0.131665,
     "end_time": "2022-11-28T05:36:37.308320",
     "exception": false,
     "start_time": "2022-11-28T05:36:37.176655",
     "status": "completed"
    },
    "tags": []
   },
   "outputs": [],
   "source": [
    "df[\"booking_create_timestamp_year\"] = df[\"booking_create_timestamp\"].dt.year\n",
    "df[\"booking_create_timestamp_month\"] = df[\"booking_create_timestamp\"].dt.month\n",
    "df[\"booking_create_timestamp_week\"] = df[\"booking_create_timestamp\"].dt.isocalendar().week\n",
    "df[\"booking_create_timestamp_weekday\"] = df[\"booking_create_timestamp\"].dt.weekday\n",
    "df[\"booking_create_timestamp_hour\"] = df[\"booking_create_timestamp\"].dt.hour\n",
    "\n",
    "# year - 3 bins\n",
    "\n",
    "# month: 2-4 and 5-8 and 9-1\n",
    "# df.loc[df[\"booking_create_timestamp_month\"].between(2,4), 'booking_create_timestamp_month'] = 1\n",
    "# df.loc[df[\"booking_create_timestamp_month\"].between(5,8), 'booking_create_timestamp_month'] = 2\n",
    "# df.loc[df[\"booking_create_timestamp_month\"].between(9,12), 'booking_create_timestamp_month'] = 3\n",
    "# df.loc[df[\"booking_create_timestamp_month\"] == 1, 'booking_create_timestamp_month'] = 3\n",
    "\n",
    "# day- lite\n",
    "\n",
    "# week is just detailed versuin of month: 2-16 and 17-21 and 22-28 and 29-34 and 34-44 and 45-1\n",
    "# df.loc[df[\"booking_create_timestamp_week\"].between(2,16), 'booking_create_timestamp_week'] = 1\n",
    "# df.loc[df[\"booking_create_timestamp_week\"].between(17,21), 'booking_create_timestamp_week'] = 2\n",
    "# df.loc[df[\"booking_create_timestamp_week\"].between(22,28), 'booking_create_timestamp_week'] = 3\n",
    "# df.loc[df[\"booking_create_timestamp_week\"].between(29,34), 'booking_create_timestamp_week'] = 4\n",
    "# df.loc[df[\"booking_create_timestamp_week\"].between(34,44), 'booking_create_timestamp_week'] = 5\n",
    "# df.loc[df[\"booking_create_timestamp_week\"].between(45,53), 'booking_create_timestamp_week'] = 6\n",
    "# df.loc[df[\"booking_create_timestamp_week\"] == 1, 'booking_create_timestamp_week'] = 6\n",
    "\n",
    "# hour- 9-22 and 23-8\n",
    "# df.loc[df[\"booking_create_timestamp_hour\"].between(9,22), 'booking_create_timestamp_hour'] = 1\n",
    "# df.loc[df[\"booking_create_timestamp_hour\"].between(23,24), 'booking_create_timestamp_hour'] = 2\n",
    "# df.loc[df[\"booking_create_timestamp_hour\"].between(0,8), 'booking_create_timestamp_hour'] = 2\n",
    "\n",
    "# weekday- 1-4 and 5-0\n",
    "# df.loc[df[\"booking_create_timestamp_weekday\"].between(1,4), 'booking_create_timestamp_weekday'] = 1\n",
    "# df.loc[df[\"booking_create_timestamp_weekday\"].between(5,6), 'booking_create_timestamp_weekday'] = 2\n",
    "# df.loc[df[\"booking_create_timestamp_weekday\"] == 0, 'booking_create_timestamp_weekday'] = 2"
   ]
  },
  {
   "cell_type": "code",
   "execution_count": null,
   "id": "ae6c545b",
   "metadata": {
    "papermill": {
     "duration": 0.024978,
     "end_time": "2022-11-28T05:36:37.359079",
     "exception": false,
     "start_time": "2022-11-28T05:36:37.334101",
     "status": "completed"
    },
    "tags": []
   },
   "outputs": [],
   "source": []
  },
  {
   "cell_type": "markdown",
   "id": "be005aeb",
   "metadata": {
    "papermill": {
     "duration": 0.024813,
     "end_time": "2022-11-28T05:36:37.409431",
     "exception": false,
     "start_time": "2022-11-28T05:36:37.384618",
     "status": "completed"
    },
    "tags": []
   },
   "source": [
    "# month\n",
    "# difference intitate\n",
    "# chekin vs booking\n",
    "# checkin day (weekday)"
   ]
  },
  {
   "cell_type": "code",
   "execution_count": null,
   "id": "0d41b33f",
   "metadata": {
    "papermill": {
     "duration": 0.025045,
     "end_time": "2022-11-28T05:36:37.459788",
     "exception": false,
     "start_time": "2022-11-28T05:36:37.434743",
     "status": "completed"
    },
    "tags": []
   },
   "outputs": [],
   "source": []
  },
  {
   "cell_type": "code",
   "execution_count": 8,
   "id": "919908fe",
   "metadata": {
    "execution": {
     "iopub.execute_input": "2022-11-28T05:36:37.513520Z",
     "iopub.status.busy": "2022-11-28T05:36:37.512538Z",
     "iopub.status.idle": "2022-11-28T05:36:37.517856Z",
     "shell.execute_reply": "2022-11-28T05:36:37.516964Z"
    },
    "papermill": {
     "duration": 0.035003,
     "end_time": "2022-11-28T05:36:37.520105",
     "exception": false,
     "start_time": "2022-11-28T05:36:37.485102",
     "status": "completed"
    },
    "tags": []
   },
   "outputs": [],
   "source": [
    "# fig, axs = plt.subplots(2, 3, figsize = (20,10))\n",
    "\n",
    "# df.groupby(df[\"booking_approved_at\"].dt.year)['booking_id'].count().plot(kind=\"bar\", ax = axs[0,0])\n",
    "# df.groupby(df[\"booking_approved_at\"].dt.month)['booking_id'].count().plot(kind=\"bar\", ax = axs[0,1])\n",
    "# df.groupby(df[\"booking_approved_at\"].dt.day)['booking_id'].count().plot(kind=\"bar\", ax = axs[0,2])\n",
    "# df.groupby(df[\"booking_approved_at\"].dt.isocalendar().week)['booking_id'].count().plot(kind=\"bar\", ax = axs[1,0])\n",
    "# df.groupby(df[\"booking_approved_at\"].dt.hour)['booking_id'].count().plot(kind=\"bar\", ax = axs[1,1])\n",
    "# df.groupby(df[\"booking_approved_at\"].dt.weekday)['booking_id'].count().plot(kind=\"bar\", ax = axs[1,1])\n",
    "# fig.suptitle('booking_approved_at')\n",
    "\n",
    "# plt.show()"
   ]
  },
  {
   "cell_type": "code",
   "execution_count": 9,
   "id": "58eba4b1",
   "metadata": {
    "execution": {
     "iopub.execute_input": "2022-11-28T05:36:37.572845Z",
     "iopub.status.busy": "2022-11-28T05:36:37.572159Z",
     "iopub.status.idle": "2022-11-28T05:36:37.668548Z",
     "shell.execute_reply": "2022-11-28T05:36:37.667631Z"
    },
    "papermill": {
     "duration": 0.125782,
     "end_time": "2022-11-28T05:36:37.671077",
     "exception": false,
     "start_time": "2022-11-28T05:36:37.545295",
     "status": "completed"
    },
    "tags": []
   },
   "outputs": [],
   "source": [
    "df[\"booking_approved_at_year\"] = df[\"booking_approved_at\"].dt.year\n",
    "df[\"booking_approved_at_month\"] = df[\"booking_approved_at\"].dt.month\n",
    "df[\"booking_approved_at_week\"] = df[\"booking_approved_at\"].dt.isocalendar().week\n",
    "df[\"booking_approved_at_weekday\"] = df[\"booking_approved_at\"].dt.weekday\n",
    "df[\"booking_approved_at_hour\"] = df[\"booking_approved_at\"].dt.hour\n",
    "\n",
    "# all bins here follow the same pattern as earlier\n",
    "# so not repeating\n",
    "\n",
    "# year - 3 bins\n",
    "\n",
    "# month: 2-4 and 5-8 and 9-1\n",
    "# df.loc[df[\"booking_approved_at_month\"].between(2,4), 'booking_create_timestamp_month'] = 1\n",
    "# df.loc[df[\"booking_approved_at_month\"].between(5,8), 'booking_create_timestamp_month'] = 2\n",
    "# df.loc[df[\"booking_approved_at_month\"].between(9,12), 'booking_create_timestamp_month'] = 3\n",
    "# df.loc[df[\"booking_approved_at_month\"] == 1, 'booking_create_timestamp_month'] = 3\n",
    "\n",
    "# day- lite\n",
    "# neeche to naam bhi nahi change kiya\n",
    "\n",
    "# week is just detailed versuin of month: 2-16 and 17-21 and 22-28 and 29-34 and 34-44 and 45-1\n",
    "# df.loc[df[\"booking_create_timestamp_week\"].between(2,16), 'booking_create_timestamp_week'] = 1\n",
    "# df.loc[df[\"booking_create_timestamp_week\"].between(17,21), 'booking_create_timestamp_week'] = 2\n",
    "# df.loc[df[\"booking_create_timestamp_week\"].between(22,28), 'booking_create_timestamp_week'] = 3\n",
    "# df.loc[df[\"booking_create_timestamp_week\"].between(29,34), 'booking_create_timestamp_week'] = 4\n",
    "# df.loc[df[\"booking_create_timestamp_week\"].between(34,44), 'booking_create_timestamp_week'] = 5\n",
    "# df.loc[df[\"booking_create_timestamp_week\"].between(45,53), 'booking_create_timestamp_week'] = 6\n",
    "# df.loc[df[\"booking_create_timestamp_week\"] == 1, 'booking_create_timestamp_week'] = 6\n",
    "\n",
    "# hour- 9-22 and 23-8\n",
    "# df.loc[df[\"booking_create_timestamp_hour\"].between(9,22), 'booking_create_timestamp_hour'] = 1\n",
    "# df.loc[df[\"booking_create_timestamp_hour\"].between(23,24), 'booking_create_timestamp_hour'] = 2\n",
    "# df.loc[df[\"booking_create_timestamp_hour\"].between(0,8), 'booking_create_timestamp_hour'] = 2\n",
    "\n",
    "# weekday- 1-4 and 5-0\n",
    "# df.loc[df[\"booking_create_timestamp_weekday\"].between(1,4), 'booking_create_timestamp_weekday'] = 1\n",
    "# df.loc[df[\"booking_create_timestamp_weekday\"].between(5,6), 'booking_create_timestamp_weekday'] = 2\n",
    "# df.loc[df[\"booking_create_timestamp_weekday\"] == 0, 'booking_create_timestamp_weekday'] = 2"
   ]
  },
  {
   "cell_type": "code",
   "execution_count": 10,
   "id": "2dd01fab",
   "metadata": {
    "execution": {
     "iopub.execute_input": "2022-11-28T05:36:37.724808Z",
     "iopub.status.busy": "2022-11-28T05:36:37.724129Z",
     "iopub.status.idle": "2022-11-28T05:36:37.729370Z",
     "shell.execute_reply": "2022-11-28T05:36:37.728578Z"
    },
    "papermill": {
     "duration": 0.034925,
     "end_time": "2022-11-28T05:36:37.731586",
     "exception": false,
     "start_time": "2022-11-28T05:36:37.696661",
     "status": "completed"
    },
    "tags": []
   },
   "outputs": [],
   "source": [
    "# fig, axs = plt.subplots(2, 3, figsize = (20,10))\n",
    "\n",
    "# df.groupby(df[\"booking_checkin_customer_date\"].dt.year)['booking_id'].count().plot(kind=\"bar\", ax = axs[0,0])\n",
    "# df.groupby(df[\"booking_checkin_customer_date\"].dt.month)['booking_id'].count().plot(kind=\"bar\", ax = axs[0,1])\n",
    "# df.groupby(df[\"booking_checkin_customer_date\"].dt.day)['booking_id'].count().plot(kind=\"bar\", ax = axs[0,2])\n",
    "# df.groupby(df[\"booking_checkin_customer_date\"].dt.isocalendar().week)['booking_id'].count().plot(kind=\"bar\", ax = axs[1,0])\n",
    "# df.groupby(df[\"booking_checkin_customer_date\"].dt.hour)['booking_id'].count().plot(kind=\"bar\", ax = axs[1,1])\n",
    "# df.groupby(df[\"booking_checkin_customer_date\"].dt.weekday)['booking_id'].count().plot(kind=\"bar\", ax = axs[1,2])\n",
    "# fig.suptitle('booking_checkin_customer_date')\n",
    "\n",
    "# plt.show()"
   ]
  },
  {
   "cell_type": "code",
   "execution_count": 11,
   "id": "d6707758",
   "metadata": {
    "execution": {
     "iopub.execute_input": "2022-11-28T05:36:37.784265Z",
     "iopub.status.busy": "2022-11-28T05:36:37.783589Z",
     "iopub.status.idle": "2022-11-28T05:36:37.880973Z",
     "shell.execute_reply": "2022-11-28T05:36:37.879682Z"
    },
    "papermill": {
     "duration": 0.127187,
     "end_time": "2022-11-28T05:36:37.884026",
     "exception": false,
     "start_time": "2022-11-28T05:36:37.756839",
     "status": "completed"
    },
    "tags": []
   },
   "outputs": [],
   "source": [
    "df[\"booking_checkin_customer_date_year\"] = df[\"booking_checkin_customer_date\"].dt.year\n",
    "df[\"booking_checkin_customer_date_month\"] = df[\"booking_checkin_customer_date\"].dt.month\n",
    "df[\"booking_checkin_customer_date_week\"] = df[\"booking_checkin_customer_date\"].dt.isocalendar().week\n",
    "df[\"booking_checkin_customer_date_weekday\"] = df[\"booking_checkin_customer_date\"].dt.weekday\n",
    "df[\"booking_checkin_customer_date_hour\"] = df[\"booking_checkin_customer_date\"].dt.hour\n",
    "\n",
    "# all bins here follow the same pattern as earlier\n",
    "# so not repeating\n",
    "\n",
    "# year - 3 bins\n",
    "\n",
    "# month: 2-4 and 5-8 and 9-1\n",
    "# df.loc[df[\"booking_checkin_customer_date_month\"].between(2,4), 'booking_checkin_customer_date_month'] = 1\n",
    "# df.loc[df[\"booking_checkin_customer_date_month\"].between(5,8), 'booking_checkin_customer_date_month'] = 2\n",
    "# df.loc[df[\"booking_checkin_customer_date_month\"].between(9,12), 'booking_checkin_customer_date_month'] = 3\n",
    "# df.loc[df[\"booking_checkin_customer_date_month\"] == 1, 'booking_checkin_customer_date_month'] = 3\n",
    "\n",
    "# day- lite\n",
    "\n",
    "# week is just detailed versuin of month: 2-11 and 12-18 and 19-28 and 29-35 and 36-46 and 47-1\n",
    "# df.loc[df[\"booking_checkin_customer_date_week\"].between(2,11), 'booking_checkin_customer_date_week'] = 1\n",
    "# df.loc[df[\"booking_checkin_customer_date_week\"].between(12,18), 'booking_checkin_customer_date_week'] = 2\n",
    "# df.loc[df[\"booking_checkin_customer_date_week\"].between(19,28), 'booking_checkin_customer_date_week'] = 3\n",
    "# df.loc[df[\"booking_checkin_customer_date_week\"].between(29,35), 'booking_checkin_customer_date_week'] = 4\n",
    "# df.loc[df[\"booking_checkin_customer_date_week\"].between(36,46), 'booking_checkin_customer_date_week'] = 5\n",
    "# df.loc[df[\"booking_checkin_customer_date_week\"].between(47,53), 'booking_checkin_customer_date_week'] = 6\n",
    "# df.loc[df[\"booking_checkin_customer_date_week\"] == 1, 'booking_checkin_customer_date_week'] = 6\n",
    "\n",
    "# hour- 9-22 and 23-8\n",
    "# df.loc[df[\"booking_create_timestamp_hour\"].between(9,22), 'booking_create_timestamp_hour'] = 1\n",
    "# df.loc[df[\"booking_create_timestamp_hour\"].between(23,24), 'booking_create_timestamp_hour'] = 2\n",
    "# df.loc[df[\"booking_create_timestamp_hour\"].between(0,8), 'booking_create_timestamp_hour'] = 2\n",
    "\n",
    "# weekday- 1-4 and 5-0\n",
    "# df.loc[df[\"booking_checkin_customer_date_weekday\"].between(2,3), 'booking_checkin_customer_date_weekday'] = 1\n",
    "# df.loc[df[\"booking_checkin_customer_date_weekday\"].between(4,6), 'booking_checkin_customer_date_weekday'] = 2\n",
    "# df.loc[df[\"booking_checkin_customer_date_weekday\"] == 0, 'booking_checkin_customer_date_weekday'] = 2"
   ]
  },
  {
   "cell_type": "code",
   "execution_count": null,
   "id": "ceab1572",
   "metadata": {
    "papermill": {
     "duration": 0.02956,
     "end_time": "2022-11-28T05:36:37.939691",
     "exception": false,
     "start_time": "2022-11-28T05:36:37.910131",
     "status": "completed"
    },
    "tags": []
   },
   "outputs": [],
   "source": []
  },
  {
   "cell_type": "markdown",
   "id": "eb340ad6",
   "metadata": {
    "papermill": {
     "duration": 0.024678,
     "end_time": "2022-11-28T05:36:37.989477",
     "exception": false,
     "start_time": "2022-11-28T05:36:37.964799",
     "status": "completed"
    },
    "tags": []
   },
   "source": [
    "### Even newer features"
   ]
  },
  {
   "cell_type": "code",
   "execution_count": 12,
   "id": "77aa919c",
   "metadata": {
    "execution": {
     "iopub.execute_input": "2022-11-28T05:36:38.042063Z",
     "iopub.status.busy": "2022-11-28T05:36:38.041009Z",
     "iopub.status.idle": "2022-11-28T05:36:38.046564Z",
     "shell.execute_reply": "2022-11-28T05:36:38.045678Z"
    },
    "papermill": {
     "duration": 0.034607,
     "end_time": "2022-11-28T05:36:38.049093",
     "exception": false,
     "start_time": "2022-11-28T05:36:38.014486",
     "status": "completed"
    },
    "tags": []
   },
   "outputs": [],
   "source": [
    "# df['booking_create_timestamp'], \n",
    "# df['booking_approved_at'],\n",
    "# df['booking_checkin_customer_date']\n",
    "\n",
    "# approved minus created # at end after date ko bhi impute kar diya\n",
    "# df['booking_approved_minus_created_days'] = (df['booking_approved_at'] - df['booking_create_timestamp']).dt.days\n",
    "# df['booking_approved_minus_created_hours'] = (df['booking_approved_at'] - df['booking_create_timestamp']).dt.total_seconds() / 3600 # difference in hours\n",
    "\n",
    "# # checkin minus created # at end after date ko bhi impute kar diya\n",
    "# df['booking_checkin_minus_created_days'] = (df['booking_checkin_customer_date'] - df['booking_create_timestamp']).dt.days\n",
    "# df['booking_approved_minus_created_hours'] = (df['booking_checkin_customer_date'] - df['booking_create_timestamp']).dt.total_seconds() / 36000 # difference in 10*hours"
   ]
  },
  {
   "cell_type": "code",
   "execution_count": 13,
   "id": "3dee4241",
   "metadata": {
    "execution": {
     "iopub.execute_input": "2022-11-28T05:36:38.101601Z",
     "iopub.status.busy": "2022-11-28T05:36:38.100845Z",
     "iopub.status.idle": "2022-11-28T05:36:38.141502Z",
     "shell.execute_reply": "2022-11-28T05:36:38.140196Z"
    },
    "papermill": {
     "duration": 0.070422,
     "end_time": "2022-11-28T05:36:38.144713",
     "exception": false,
     "start_time": "2022-11-28T05:36:38.074291",
     "status": "completed"
    },
    "tags": []
   },
   "outputs": [
    {
     "name": "stdout",
     "output_type": "stream",
     "text": [
      "<class 'pandas.core.frame.DataFrame'>\n",
      "RangeIndex: 99079 entries, 0 to 99078\n",
      "Data columns (total 42 columns):\n",
      " #   Column                                 Non-Null Count  Dtype         \n",
      "---  ------                                 --------------  -----         \n",
      " 0   booking_id                             99079 non-null  object        \n",
      " 1   rating_score                           99079 non-null  int64         \n",
      " 2   set                                    99079 non-null  object        \n",
      " 3   booking_status                         99079 non-null  int64         \n",
      " 4   booking_create_timestamp               99079 non-null  datetime64[ns]\n",
      " 5   booking_approved_at                    98924 non-null  datetime64[ns]\n",
      " 6   booking_checkin_customer_date          96221 non-null  datetime64[ns]\n",
      " 7   country                                99079 non-null  int64         \n",
      " 8   payment_type_mode                      99079 non-null  float64       \n",
      " 9   payment_type_count                     99078 non-null  float64       \n",
      " 10  payment_sequential_sum                 99078 non-null  float64       \n",
      " 11  payment_installments_count             99078 non-null  float64       \n",
      " 12  payment_installments_sum               99078 non-null  float64       \n",
      " 13  payment_value_count                    99078 non-null  float64       \n",
      " 14  payment_value_sum                      99078 non-null  float64       \n",
      " 15  booking_sequence_id_max                98321 non-null  float64       \n",
      " 16  price_sum                              98321 non-null  float64       \n",
      " 17  agent_fees_sum                         98321 non-null  float64       \n",
      " 18  hotel_category_max                     96936 non-null  float64       \n",
      " 19  hotel_category_count                   98321 non-null  float64       \n",
      " 20  hotel_name_length_mean                 96936 non-null  float64       \n",
      " 21  hotel_description_length_mean          96936 non-null  float64       \n",
      " 22  hotel_photos_qty_mean                  96936 non-null  float64       \n",
      " 23  booking_expiry_date_min                98321 non-null  datetime64[ns]\n",
      " 24  booking_expiry_date_max                98321 non-null  datetime64[ns]\n",
      " 25  booking_expiry_date_count              98321 non-null  datetime64[ns]\n",
      " 26  seller_agent_id_count                  98321 non-null  float64       \n",
      " 27  booking_create_timestamp_year          99079 non-null  int64         \n",
      " 28  booking_create_timestamp_month         99079 non-null  int64         \n",
      " 29  booking_create_timestamp_week          99079 non-null  UInt32        \n",
      " 30  booking_create_timestamp_weekday       99079 non-null  int64         \n",
      " 31  booking_create_timestamp_hour          99079 non-null  int64         \n",
      " 32  booking_approved_at_year               98924 non-null  float64       \n",
      " 33  booking_approved_at_month              98924 non-null  float64       \n",
      " 34  booking_approved_at_week               98924 non-null  UInt32        \n",
      " 35  booking_approved_at_weekday            98924 non-null  float64       \n",
      " 36  booking_approved_at_hour               98924 non-null  float64       \n",
      " 37  booking_checkin_customer_date_year     96221 non-null  float64       \n",
      " 38  booking_checkin_customer_date_month    96221 non-null  float64       \n",
      " 39  booking_checkin_customer_date_week     96221 non-null  UInt32        \n",
      " 40  booking_checkin_customer_date_weekday  96221 non-null  float64       \n",
      " 41  booking_checkin_customer_date_hour     96221 non-null  float64       \n",
      "dtypes: UInt32(3), datetime64[ns](6), float64(24), int64(7), object(2)\n",
      "memory usage: 30.9+ MB\n"
     ]
    }
   ],
   "source": [
    "df.info()"
   ]
  },
  {
   "cell_type": "code",
   "execution_count": 14,
   "id": "1676c260",
   "metadata": {
    "execution": {
     "iopub.execute_input": "2022-11-28T05:36:38.200253Z",
     "iopub.status.busy": "2022-11-28T05:36:38.199544Z",
     "iopub.status.idle": "2022-11-28T05:36:38.223606Z",
     "shell.execute_reply": "2022-11-28T05:36:38.222683Z"
    },
    "papermill": {
     "duration": 0.053929,
     "end_time": "2022-11-28T05:36:38.225819",
     "exception": false,
     "start_time": "2022-11-28T05:36:38.171890",
     "status": "completed"
    },
    "tags": []
   },
   "outputs": [
    {
     "data": {
      "text/plain": [
       "(72, 83)"
      ]
     },
     "execution_count": 14,
     "metadata": {},
     "output_type": "execute_result"
    }
   ],
   "source": [
    "df.loc[df['set'] == 'training', 'booking_approved_at'].isnull().sum(), df.loc[df['set'] == 'testing', 'booking_approved_at'].isnull().sum()"
   ]
  },
  {
   "cell_type": "code",
   "execution_count": 15,
   "id": "0b75c712",
   "metadata": {
    "execution": {
     "iopub.execute_input": "2022-11-28T05:36:38.278554Z",
     "iopub.status.busy": "2022-11-28T05:36:38.277823Z",
     "iopub.status.idle": "2022-11-28T05:36:38.368414Z",
     "shell.execute_reply": "2022-11-28T05:36:38.367171Z"
    },
    "papermill": {
     "duration": 0.119874,
     "end_time": "2022-11-28T05:36:38.371005",
     "exception": false,
     "start_time": "2022-11-28T05:36:38.251131",
     "status": "completed"
    },
    "tags": []
   },
   "outputs": [
    {
     "data": {
      "text/html": [
       "<div>\n",
       "<style scoped>\n",
       "    .dataframe tbody tr th:only-of-type {\n",
       "        vertical-align: middle;\n",
       "    }\n",
       "\n",
       "    .dataframe tbody tr th {\n",
       "        vertical-align: top;\n",
       "    }\n",
       "\n",
       "    .dataframe thead th {\n",
       "        text-align: right;\n",
       "    }\n",
       "</style>\n",
       "<table border=\"1\" class=\"dataframe\">\n",
       "  <thead>\n",
       "    <tr style=\"text-align: right;\">\n",
       "      <th></th>\n",
       "      <th>booking_id</th>\n",
       "      <th>rating_score</th>\n",
       "      <th>set</th>\n",
       "      <th>booking_status</th>\n",
       "      <th>booking_create_timestamp</th>\n",
       "      <th>booking_approved_at</th>\n",
       "      <th>booking_checkin_customer_date</th>\n",
       "      <th>country</th>\n",
       "      <th>payment_type_mode</th>\n",
       "      <th>payment_type_count</th>\n",
       "      <th>...</th>\n",
       "      <th>booking_approved_at_year</th>\n",
       "      <th>booking_approved_at_month</th>\n",
       "      <th>booking_approved_at_week</th>\n",
       "      <th>booking_approved_at_weekday</th>\n",
       "      <th>booking_approved_at_hour</th>\n",
       "      <th>booking_checkin_customer_date_year</th>\n",
       "      <th>booking_checkin_customer_date_month</th>\n",
       "      <th>booking_checkin_customer_date_week</th>\n",
       "      <th>booking_checkin_customer_date_weekday</th>\n",
       "      <th>booking_checkin_customer_date_hour</th>\n",
       "    </tr>\n",
       "  </thead>\n",
       "  <tbody>\n",
       "    <tr>\n",
       "      <th>518</th>\n",
       "      <td>e8dd7e65e1674db3015f4a8cf5dcabdb</td>\n",
       "      <td>1</td>\n",
       "      <td>training</td>\n",
       "      <td>3</td>\n",
       "      <td>2008-01-24 23:09:18</td>\n",
       "      <td>NaT</td>\n",
       "      <td>NaT</td>\n",
       "      <td>7</td>\n",
       "      <td>3.0</td>\n",
       "      <td>1.0</td>\n",
       "      <td>...</td>\n",
       "      <td>NaN</td>\n",
       "      <td>NaN</td>\n",
       "      <td>&lt;NA&gt;</td>\n",
       "      <td>NaN</td>\n",
       "      <td>NaN</td>\n",
       "      <td>NaN</td>\n",
       "      <td>NaN</td>\n",
       "      <td>&lt;NA&gt;</td>\n",
       "      <td>NaN</td>\n",
       "      <td>NaN</td>\n",
       "    </tr>\n",
       "    <tr>\n",
       "      <th>1811</th>\n",
       "      <td>a67c47f7bc4350f82b1d2c20dec52ffc</td>\n",
       "      <td>3</td>\n",
       "      <td>training</td>\n",
       "      <td>3</td>\n",
       "      <td>2007-11-29 18:25:08</td>\n",
       "      <td>NaT</td>\n",
       "      <td>NaT</td>\n",
       "      <td>7</td>\n",
       "      <td>3.0</td>\n",
       "      <td>1.0</td>\n",
       "      <td>...</td>\n",
       "      <td>NaN</td>\n",
       "      <td>NaN</td>\n",
       "      <td>&lt;NA&gt;</td>\n",
       "      <td>NaN</td>\n",
       "      <td>NaN</td>\n",
       "      <td>NaN</td>\n",
       "      <td>NaN</td>\n",
       "      <td>&lt;NA&gt;</td>\n",
       "      <td>NaN</td>\n",
       "      <td>NaN</td>\n",
       "    </tr>\n",
       "    <tr>\n",
       "      <th>2689</th>\n",
       "      <td>2a2e7bb6c0a851725f5888a9b54d59cc</td>\n",
       "      <td>5</td>\n",
       "      <td>training</td>\n",
       "      <td>3</td>\n",
       "      <td>2008-09-08 14:33:07</td>\n",
       "      <td>NaT</td>\n",
       "      <td>NaT</td>\n",
       "      <td>2</td>\n",
       "      <td>4.0</td>\n",
       "      <td>1.0</td>\n",
       "      <td>...</td>\n",
       "      <td>NaN</td>\n",
       "      <td>NaN</td>\n",
       "      <td>&lt;NA&gt;</td>\n",
       "      <td>NaN</td>\n",
       "      <td>NaN</td>\n",
       "      <td>NaN</td>\n",
       "      <td>NaN</td>\n",
       "      <td>&lt;NA&gt;</td>\n",
       "      <td>NaN</td>\n",
       "      <td>NaN</td>\n",
       "    </tr>\n",
       "    <tr>\n",
       "      <th>2804</th>\n",
       "      <td>bb6f76fe3b7cb68103a0d1c0e5215415</td>\n",
       "      <td>1</td>\n",
       "      <td>training</td>\n",
       "      <td>3</td>\n",
       "      <td>2006-10-25 08:08:27</td>\n",
       "      <td>NaT</td>\n",
       "      <td>NaT</td>\n",
       "      <td>0</td>\n",
       "      <td>4.0</td>\n",
       "      <td>1.0</td>\n",
       "      <td>...</td>\n",
       "      <td>NaN</td>\n",
       "      <td>NaN</td>\n",
       "      <td>&lt;NA&gt;</td>\n",
       "      <td>NaN</td>\n",
       "      <td>NaN</td>\n",
       "      <td>NaN</td>\n",
       "      <td>NaN</td>\n",
       "      <td>&lt;NA&gt;</td>\n",
       "      <td>NaN</td>\n",
       "      <td>NaN</td>\n",
       "    </tr>\n",
       "    <tr>\n",
       "      <th>3240</th>\n",
       "      <td>2a44760671a6a5697ea549e4227c804e</td>\n",
       "      <td>1</td>\n",
       "      <td>training</td>\n",
       "      <td>3</td>\n",
       "      <td>2007-10-01 14:45:56</td>\n",
       "      <td>NaT</td>\n",
       "      <td>NaT</td>\n",
       "      <td>8</td>\n",
       "      <td>6.0</td>\n",
       "      <td>1.0</td>\n",
       "      <td>...</td>\n",
       "      <td>NaN</td>\n",
       "      <td>NaN</td>\n",
       "      <td>&lt;NA&gt;</td>\n",
       "      <td>NaN</td>\n",
       "      <td>NaN</td>\n",
       "      <td>NaN</td>\n",
       "      <td>NaN</td>\n",
       "      <td>&lt;NA&gt;</td>\n",
       "      <td>NaN</td>\n",
       "      <td>NaN</td>\n",
       "    </tr>\n",
       "    <tr>\n",
       "      <th>...</th>\n",
       "      <td>...</td>\n",
       "      <td>...</td>\n",
       "      <td>...</td>\n",
       "      <td>...</td>\n",
       "      <td>...</td>\n",
       "      <td>...</td>\n",
       "      <td>...</td>\n",
       "      <td>...</td>\n",
       "      <td>...</td>\n",
       "      <td>...</td>\n",
       "      <td>...</td>\n",
       "      <td>...</td>\n",
       "      <td>...</td>\n",
       "      <td>...</td>\n",
       "      <td>...</td>\n",
       "      <td>...</td>\n",
       "      <td>...</td>\n",
       "      <td>...</td>\n",
       "      <td>...</td>\n",
       "      <td>...</td>\n",
       "      <td>...</td>\n",
       "    </tr>\n",
       "    <tr>\n",
       "      <th>46742</th>\n",
       "      <td>b49c92e278db491d3e19fa0556ba2821</td>\n",
       "      <td>5</td>\n",
       "      <td>training</td>\n",
       "      <td>3</td>\n",
       "      <td>2007-05-05 17:34:28</td>\n",
       "      <td>NaT</td>\n",
       "      <td>NaT</td>\n",
       "      <td>3</td>\n",
       "      <td>6.0</td>\n",
       "      <td>1.0</td>\n",
       "      <td>...</td>\n",
       "      <td>NaN</td>\n",
       "      <td>NaN</td>\n",
       "      <td>&lt;NA&gt;</td>\n",
       "      <td>NaN</td>\n",
       "      <td>NaN</td>\n",
       "      <td>NaN</td>\n",
       "      <td>NaN</td>\n",
       "      <td>&lt;NA&gt;</td>\n",
       "      <td>NaN</td>\n",
       "      <td>NaN</td>\n",
       "    </tr>\n",
       "    <tr>\n",
       "      <th>46956</th>\n",
       "      <td>8350f9dad30b31847845fe119fe25278</td>\n",
       "      <td>3</td>\n",
       "      <td>training</td>\n",
       "      <td>3</td>\n",
       "      <td>2007-04-26 14:41:37</td>\n",
       "      <td>NaT</td>\n",
       "      <td>NaT</td>\n",
       "      <td>4</td>\n",
       "      <td>6.0</td>\n",
       "      <td>1.0</td>\n",
       "      <td>...</td>\n",
       "      <td>NaN</td>\n",
       "      <td>NaN</td>\n",
       "      <td>&lt;NA&gt;</td>\n",
       "      <td>NaN</td>\n",
       "      <td>NaN</td>\n",
       "      <td>NaN</td>\n",
       "      <td>NaN</td>\n",
       "      <td>&lt;NA&gt;</td>\n",
       "      <td>NaN</td>\n",
       "      <td>NaN</td>\n",
       "    </tr>\n",
       "    <tr>\n",
       "      <th>47165</th>\n",
       "      <td>4c73693b9930d0ca33a9d0b11a5d21f4</td>\n",
       "      <td>3</td>\n",
       "      <td>training</td>\n",
       "      <td>3</td>\n",
       "      <td>2008-08-18 17:33:14</td>\n",
       "      <td>NaT</td>\n",
       "      <td>NaT</td>\n",
       "      <td>4</td>\n",
       "      <td>4.0</td>\n",
       "      <td>1.0</td>\n",
       "      <td>...</td>\n",
       "      <td>NaN</td>\n",
       "      <td>NaN</td>\n",
       "      <td>&lt;NA&gt;</td>\n",
       "      <td>NaN</td>\n",
       "      <td>NaN</td>\n",
       "      <td>NaN</td>\n",
       "      <td>NaN</td>\n",
       "      <td>&lt;NA&gt;</td>\n",
       "      <td>NaN</td>\n",
       "      <td>NaN</td>\n",
       "    </tr>\n",
       "    <tr>\n",
       "      <th>49698</th>\n",
       "      <td>a06953c420ef92d3da6e947e9c6bfd83</td>\n",
       "      <td>4</td>\n",
       "      <td>training</td>\n",
       "      <td>3</td>\n",
       "      <td>2008-08-17 14:56:32</td>\n",
       "      <td>NaT</td>\n",
       "      <td>NaT</td>\n",
       "      <td>5</td>\n",
       "      <td>4.0</td>\n",
       "      <td>1.0</td>\n",
       "      <td>...</td>\n",
       "      <td>NaN</td>\n",
       "      <td>NaN</td>\n",
       "      <td>&lt;NA&gt;</td>\n",
       "      <td>NaN</td>\n",
       "      <td>NaN</td>\n",
       "      <td>NaN</td>\n",
       "      <td>NaN</td>\n",
       "      <td>&lt;NA&gt;</td>\n",
       "      <td>NaN</td>\n",
       "      <td>NaN</td>\n",
       "    </tr>\n",
       "    <tr>\n",
       "      <th>49810</th>\n",
       "      <td>8ca96ee6d5a138461b8cacf6d8c088e1</td>\n",
       "      <td>1</td>\n",
       "      <td>training</td>\n",
       "      <td>3</td>\n",
       "      <td>2007-05-30 22:25:30</td>\n",
       "      <td>NaT</td>\n",
       "      <td>NaT</td>\n",
       "      <td>8</td>\n",
       "      <td>6.0</td>\n",
       "      <td>1.0</td>\n",
       "      <td>...</td>\n",
       "      <td>NaN</td>\n",
       "      <td>NaN</td>\n",
       "      <td>&lt;NA&gt;</td>\n",
       "      <td>NaN</td>\n",
       "      <td>NaN</td>\n",
       "      <td>NaN</td>\n",
       "      <td>NaN</td>\n",
       "      <td>&lt;NA&gt;</td>\n",
       "      <td>NaN</td>\n",
       "      <td>NaN</td>\n",
       "    </tr>\n",
       "  </tbody>\n",
       "</table>\n",
       "<p>72 rows × 42 columns</p>\n",
       "</div>"
      ],
      "text/plain": [
       "                             booking_id  rating_score       set  \\\n",
       "518    e8dd7e65e1674db3015f4a8cf5dcabdb             1  training   \n",
       "1811   a67c47f7bc4350f82b1d2c20dec52ffc             3  training   \n",
       "2689   2a2e7bb6c0a851725f5888a9b54d59cc             5  training   \n",
       "2804   bb6f76fe3b7cb68103a0d1c0e5215415             1  training   \n",
       "3240   2a44760671a6a5697ea549e4227c804e             1  training   \n",
       "...                                 ...           ...       ...   \n",
       "46742  b49c92e278db491d3e19fa0556ba2821             5  training   \n",
       "46956  8350f9dad30b31847845fe119fe25278             3  training   \n",
       "47165  4c73693b9930d0ca33a9d0b11a5d21f4             3  training   \n",
       "49698  a06953c420ef92d3da6e947e9c6bfd83             4  training   \n",
       "49810  8ca96ee6d5a138461b8cacf6d8c088e1             1  training   \n",
       "\n",
       "       booking_status booking_create_timestamp booking_approved_at  \\\n",
       "518                 3      2008-01-24 23:09:18                 NaT   \n",
       "1811                3      2007-11-29 18:25:08                 NaT   \n",
       "2689                3      2008-09-08 14:33:07                 NaT   \n",
       "2804                3      2006-10-25 08:08:27                 NaT   \n",
       "3240                3      2007-10-01 14:45:56                 NaT   \n",
       "...               ...                      ...                 ...   \n",
       "46742               3      2007-05-05 17:34:28                 NaT   \n",
       "46956               3      2007-04-26 14:41:37                 NaT   \n",
       "47165               3      2008-08-18 17:33:14                 NaT   \n",
       "49698               3      2008-08-17 14:56:32                 NaT   \n",
       "49810               3      2007-05-30 22:25:30                 NaT   \n",
       "\n",
       "      booking_checkin_customer_date  country  payment_type_mode  \\\n",
       "518                             NaT        7                3.0   \n",
       "1811                            NaT        7                3.0   \n",
       "2689                            NaT        2                4.0   \n",
       "2804                            NaT        0                4.0   \n",
       "3240                            NaT        8                6.0   \n",
       "...                             ...      ...                ...   \n",
       "46742                           NaT        3                6.0   \n",
       "46956                           NaT        4                6.0   \n",
       "47165                           NaT        4                4.0   \n",
       "49698                           NaT        5                4.0   \n",
       "49810                           NaT        8                6.0   \n",
       "\n",
       "       payment_type_count  ...  booking_approved_at_year  \\\n",
       "518                   1.0  ...                       NaN   \n",
       "1811                  1.0  ...                       NaN   \n",
       "2689                  1.0  ...                       NaN   \n",
       "2804                  1.0  ...                       NaN   \n",
       "3240                  1.0  ...                       NaN   \n",
       "...                   ...  ...                       ...   \n",
       "46742                 1.0  ...                       NaN   \n",
       "46956                 1.0  ...                       NaN   \n",
       "47165                 1.0  ...                       NaN   \n",
       "49698                 1.0  ...                       NaN   \n",
       "49810                 1.0  ...                       NaN   \n",
       "\n",
       "       booking_approved_at_month  booking_approved_at_week  \\\n",
       "518                          NaN                      <NA>   \n",
       "1811                         NaN                      <NA>   \n",
       "2689                         NaN                      <NA>   \n",
       "2804                         NaN                      <NA>   \n",
       "3240                         NaN                      <NA>   \n",
       "...                          ...                       ...   \n",
       "46742                        NaN                      <NA>   \n",
       "46956                        NaN                      <NA>   \n",
       "47165                        NaN                      <NA>   \n",
       "49698                        NaN                      <NA>   \n",
       "49810                        NaN                      <NA>   \n",
       "\n",
       "       booking_approved_at_weekday  booking_approved_at_hour  \\\n",
       "518                            NaN                       NaN   \n",
       "1811                           NaN                       NaN   \n",
       "2689                           NaN                       NaN   \n",
       "2804                           NaN                       NaN   \n",
       "3240                           NaN                       NaN   \n",
       "...                            ...                       ...   \n",
       "46742                          NaN                       NaN   \n",
       "46956                          NaN                       NaN   \n",
       "47165                          NaN                       NaN   \n",
       "49698                          NaN                       NaN   \n",
       "49810                          NaN                       NaN   \n",
       "\n",
       "       booking_checkin_customer_date_year  \\\n",
       "518                                   NaN   \n",
       "1811                                  NaN   \n",
       "2689                                  NaN   \n",
       "2804                                  NaN   \n",
       "3240                                  NaN   \n",
       "...                                   ...   \n",
       "46742                                 NaN   \n",
       "46956                                 NaN   \n",
       "47165                                 NaN   \n",
       "49698                                 NaN   \n",
       "49810                                 NaN   \n",
       "\n",
       "       booking_checkin_customer_date_month  \\\n",
       "518                                    NaN   \n",
       "1811                                   NaN   \n",
       "2689                                   NaN   \n",
       "2804                                   NaN   \n",
       "3240                                   NaN   \n",
       "...                                    ...   \n",
       "46742                                  NaN   \n",
       "46956                                  NaN   \n",
       "47165                                  NaN   \n",
       "49698                                  NaN   \n",
       "49810                                  NaN   \n",
       "\n",
       "       booking_checkin_customer_date_week  \\\n",
       "518                                  <NA>   \n",
       "1811                                 <NA>   \n",
       "2689                                 <NA>   \n",
       "2804                                 <NA>   \n",
       "3240                                 <NA>   \n",
       "...                                   ...   \n",
       "46742                                <NA>   \n",
       "46956                                <NA>   \n",
       "47165                                <NA>   \n",
       "49698                                <NA>   \n",
       "49810                                <NA>   \n",
       "\n",
       "       booking_checkin_customer_date_weekday  \\\n",
       "518                                      NaN   \n",
       "1811                                     NaN   \n",
       "2689                                     NaN   \n",
       "2804                                     NaN   \n",
       "3240                                     NaN   \n",
       "...                                      ...   \n",
       "46742                                    NaN   \n",
       "46956                                    NaN   \n",
       "47165                                    NaN   \n",
       "49698                                    NaN   \n",
       "49810                                    NaN   \n",
       "\n",
       "       booking_checkin_customer_date_hour  \n",
       "518                                   NaN  \n",
       "1811                                  NaN  \n",
       "2689                                  NaN  \n",
       "2804                                  NaN  \n",
       "3240                                  NaN  \n",
       "...                                   ...  \n",
       "46742                                 NaN  \n",
       "46956                                 NaN  \n",
       "47165                                 NaN  \n",
       "49698                                 NaN  \n",
       "49810                                 NaN  \n",
       "\n",
       "[72 rows x 42 columns]"
      ]
     },
     "execution_count": 15,
     "metadata": {},
     "output_type": "execute_result"
    }
   ],
   "source": [
    "df.loc[(df['set'] == 'training') & (df['booking_approved_at'].isnull())]"
   ]
  },
  {
   "cell_type": "markdown",
   "id": "26e678d5",
   "metadata": {
    "papermill": {
     "duration": 0.026056,
     "end_time": "2022-11-28T05:36:38.432169",
     "exception": false,
     "start_time": "2022-11-28T05:36:38.406113",
     "status": "completed"
    },
    "tags": []
   },
   "source": [
    "**ye thode se missing walo ko impute karna padega na**"
   ]
  },
  {
   "cell_type": "code",
   "execution_count": null,
   "id": "431d0b50",
   "metadata": {
    "papermill": {
     "duration": 0.02569,
     "end_time": "2022-11-28T05:36:38.483987",
     "exception": false,
     "start_time": "2022-11-28T05:36:38.458297",
     "status": "completed"
    },
    "tags": []
   },
   "outputs": [],
   "source": []
  },
  {
   "cell_type": "code",
   "execution_count": null,
   "id": "69147539",
   "metadata": {
    "papermill": {
     "duration": 0.026167,
     "end_time": "2022-11-28T05:36:38.544332",
     "exception": false,
     "start_time": "2022-11-28T05:36:38.518165",
     "status": "completed"
    },
    "tags": []
   },
   "outputs": [],
   "source": []
  },
  {
   "cell_type": "markdown",
   "id": "6d47c22d",
   "metadata": {
    "papermill": {
     "duration": 0.025445,
     "end_time": "2022-11-28T05:36:38.595596",
     "exception": false,
     "start_time": "2022-11-28T05:36:38.570151",
     "status": "completed"
    },
    "tags": []
   },
   "source": [
    "### Handle Missing Values for each column"
   ]
  },
  {
   "cell_type": "markdown",
   "id": "363c9290",
   "metadata": {
    "papermill": {
     "duration": 0.025755,
     "end_time": "2022-11-28T05:36:38.647188",
     "exception": false,
     "start_time": "2022-11-28T05:36:38.621433",
     "status": "completed"
    },
    "tags": []
   },
   "source": [
    "**payment_type_count**"
   ]
  },
  {
   "cell_type": "code",
   "execution_count": 16,
   "id": "63084658",
   "metadata": {
    "execution": {
     "iopub.execute_input": "2022-11-28T05:36:38.701284Z",
     "iopub.status.busy": "2022-11-28T05:36:38.700539Z",
     "iopub.status.idle": "2022-11-28T05:36:39.772945Z",
     "shell.execute_reply": "2022-11-28T05:36:39.771794Z"
    },
    "papermill": {
     "duration": 1.102593,
     "end_time": "2022-11-28T05:36:39.775651",
     "exception": false,
     "start_time": "2022-11-28T05:36:38.673058",
     "status": "completed"
    },
    "tags": []
   },
   "outputs": [],
   "source": [
    "import seaborn as sns"
   ]
  },
  {
   "cell_type": "code",
   "execution_count": 17,
   "id": "ed6e6857",
   "metadata": {
    "execution": {
     "iopub.execute_input": "2022-11-28T05:36:39.829514Z",
     "iopub.status.busy": "2022-11-28T05:36:39.829007Z",
     "iopub.status.idle": "2022-11-28T05:36:39.837629Z",
     "shell.execute_reply": "2022-11-28T05:36:39.836341Z"
    },
    "papermill": {
     "duration": 0.038426,
     "end_time": "2022-11-28T05:36:39.840108",
     "exception": false,
     "start_time": "2022-11-28T05:36:39.801682",
     "status": "completed"
    },
    "tags": []
   },
   "outputs": [
    {
     "data": {
      "text/plain": [
       "1"
      ]
     },
     "execution_count": 17,
     "metadata": {},
     "output_type": "execute_result"
    }
   ],
   "source": [
    "df['payment_type_count'].isnull().sum()"
   ]
  },
  {
   "cell_type": "code",
   "execution_count": 18,
   "id": "53656a64",
   "metadata": {
    "execution": {
     "iopub.execute_input": "2022-11-28T05:36:39.896489Z",
     "iopub.status.busy": "2022-11-28T05:36:39.895761Z",
     "iopub.status.idle": "2022-11-28T05:36:40.236997Z",
     "shell.execute_reply": "2022-11-28T05:36:40.235671Z"
    },
    "papermill": {
     "duration": 0.372742,
     "end_time": "2022-11-28T05:36:40.239573",
     "exception": false,
     "start_time": "2022-11-28T05:36:39.866831",
     "status": "completed"
    },
    "tags": []
   },
   "outputs": [
    {
     "data": {
      "text/plain": [
       "<AxesSubplot:xlabel='payment_type_count', ylabel='count'>"
      ]
     },
     "execution_count": 18,
     "metadata": {},
     "output_type": "execute_result"
    },
    {
     "data": {
      "image/png": "[encoded data removed]",
      "text/plain": [
       "<Figure size 432x288 with 1 Axes>"
      ]
     },
     "metadata": {
      "needs_background": "light"
     },
     "output_type": "display_data"
    }
   ],
   "source": [
    "sns.countplot(x = df['payment_type_count'], hue = df['set'])"
   ]
  },
  {
   "cell_type": "code",
   "execution_count": 19,
   "id": "0de9cac9",
   "metadata": {
    "execution": {
     "iopub.execute_input": "2022-11-28T05:36:40.295303Z",
     "iopub.status.busy": "2022-11-28T05:36:40.294899Z",
     "iopub.status.idle": "2022-11-28T05:36:40.304154Z",
     "shell.execute_reply": "2022-11-28T05:36:40.303388Z"
    },
    "papermill": {
     "duration": 0.039745,
     "end_time": "2022-11-28T05:36:40.306178",
     "exception": false,
     "start_time": "2022-11-28T05:36:40.266433",
     "status": "completed"
    },
    "tags": []
   },
   "outputs": [
    {
     "data": {
      "text/plain": [
       "0"
      ]
     },
     "execution_count": 19,
     "metadata": {},
     "output_type": "execute_result"
    }
   ],
   "source": [
    "# df.loc[df['payment_type_count'].isnull(), ['payment_type_count', 'booking_status']] # only one row with status as 'completed'\n",
    "df.loc[df['payment_type_count'].isnull(), 'payment_type_count'] = 1 # filling with 1 which is mode\n",
    "df['payment_type_count'].isnull().sum()"
   ]
  },
  {
   "cell_type": "code",
   "execution_count": null,
   "id": "abd64c5a",
   "metadata": {
    "papermill": {
     "duration": 0.026431,
     "end_time": "2022-11-28T05:36:40.359228",
     "exception": false,
     "start_time": "2022-11-28T05:36:40.332797",
     "status": "completed"
    },
    "tags": []
   },
   "outputs": [],
   "source": []
  },
  {
   "cell_type": "markdown",
   "id": "aaca4fc5",
   "metadata": {
    "papermill": {
     "duration": 0.026177,
     "end_time": "2022-11-28T05:36:40.412407",
     "exception": false,
     "start_time": "2022-11-28T05:36:40.386230",
     "status": "completed"
    },
    "tags": []
   },
   "source": [
    "**country**"
   ]
  },
  {
   "cell_type": "code",
   "execution_count": 20,
   "id": "ab5298d8",
   "metadata": {
    "execution": {
     "iopub.execute_input": "2022-11-28T05:36:40.467548Z",
     "iopub.status.busy": "2022-11-28T05:36:40.466784Z",
     "iopub.status.idle": "2022-11-28T05:36:40.474586Z",
     "shell.execute_reply": "2022-11-28T05:36:40.473253Z"
    },
    "papermill": {
     "duration": 0.038348,
     "end_time": "2022-11-28T05:36:40.477212",
     "exception": false,
     "start_time": "2022-11-28T05:36:40.438864",
     "status": "completed"
    },
    "tags": []
   },
   "outputs": [
    {
     "data": {
      "text/plain": [
       "0"
      ]
     },
     "execution_count": 20,
     "metadata": {},
     "output_type": "execute_result"
    }
   ],
   "source": [
    "df['country'].isnull().sum()"
   ]
  },
  {
   "cell_type": "code",
   "execution_count": 21,
   "id": "32ae2c5b",
   "metadata": {
    "execution": {
     "iopub.execute_input": "2022-11-28T05:36:40.533680Z",
     "iopub.status.busy": "2022-11-28T05:36:40.532908Z",
     "iopub.status.idle": "2022-11-28T05:36:40.873449Z",
     "shell.execute_reply": "2022-11-28T05:36:40.872472Z"
    },
    "papermill": {
     "duration": 0.371466,
     "end_time": "2022-11-28T05:36:40.875998",
     "exception": false,
     "start_time": "2022-11-28T05:36:40.504532",
     "status": "completed"
    },
    "tags": []
   },
   "outputs": [
    {
     "data": {
      "text/plain": [
       "<AxesSubplot:xlabel='country', ylabel='count'>"
      ]
     },
     "execution_count": 21,
     "metadata": {},
     "output_type": "execute_result"
    },
    {
     "data": {
      "image/png": "[encoded data removed]",
      "text/plain": [
       "<Figure size 432x288 with 1 Axes>"
      ]
     },
     "metadata": {
      "needs_background": "light"
     },
     "output_type": "display_data"
    }
   ],
   "source": [
    "sns.countplot(x = df['country'], hue = df['set'])"
   ]
  },
  {
   "cell_type": "markdown",
   "id": "3a4c4fe3",
   "metadata": {
    "papermill": {
     "duration": 0.026785,
     "end_time": "2022-11-28T05:36:40.930442",
     "exception": false,
     "start_time": "2022-11-28T05:36:40.903657",
     "status": "completed"
    },
    "tags": []
   },
   "source": [
    "**'payment_type_mode'**"
   ]
  },
  {
   "cell_type": "code",
   "execution_count": 22,
   "id": "76993281",
   "metadata": {
    "execution": {
     "iopub.execute_input": "2022-11-28T05:36:40.986505Z",
     "iopub.status.busy": "2022-11-28T05:36:40.986079Z",
     "iopub.status.idle": "2022-11-28T05:36:40.990662Z",
     "shell.execute_reply": "2022-11-28T05:36:40.989482Z"
    },
    "papermill": {
     "duration": 0.035302,
     "end_time": "2022-11-28T05:36:40.992786",
     "exception": false,
     "start_time": "2022-11-28T05:36:40.957484",
     "status": "completed"
    },
    "tags": []
   },
   "outputs": [],
   "source": [
    "# 'payment_type_mode' has no missing"
   ]
  },
  {
   "cell_type": "code",
   "execution_count": 23,
   "id": "2b3bc653",
   "metadata": {
    "execution": {
     "iopub.execute_input": "2022-11-28T05:36:41.049750Z",
     "iopub.status.busy": "2022-11-28T05:36:41.049340Z",
     "iopub.status.idle": "2022-11-28T05:36:41.367997Z",
     "shell.execute_reply": "2022-11-28T05:36:41.366876Z"
    },
    "papermill": {
     "duration": 0.349994,
     "end_time": "2022-11-28T05:36:41.370517",
     "exception": false,
     "start_time": "2022-11-28T05:36:41.020523",
     "status": "completed"
    },
    "tags": []
   },
   "outputs": [
    {
     "data": {
      "text/plain": [
       "<AxesSubplot:xlabel='payment_type_mode', ylabel='count'>"
      ]
     },
     "execution_count": 23,
     "metadata": {},
     "output_type": "execute_result"
    },
    {
     "data": {
      "image/png": "[encoded data removed]",
      "text/plain": [
       "<Figure size 432x288 with 1 Axes>"
      ]
     },
     "metadata": {
      "needs_background": "light"
     },
     "output_type": "display_data"
    }
   ],
   "source": [
    "sns.countplot(x = df['payment_type_mode'], hue = df['set'])"
   ]
  },
  {
   "cell_type": "code",
   "execution_count": null,
   "id": "889cd0d7",
   "metadata": {
    "papermill": {
     "duration": 0.027149,
     "end_time": "2022-11-28T05:36:41.426004",
     "exception": false,
     "start_time": "2022-11-28T05:36:41.398855",
     "status": "completed"
    },
    "tags": []
   },
   "outputs": [],
   "source": []
  },
  {
   "cell_type": "code",
   "execution_count": 24,
   "id": "f4af889f",
   "metadata": {
    "execution": {
     "iopub.execute_input": "2022-11-28T05:36:41.490460Z",
     "iopub.status.busy": "2022-11-28T05:36:41.489579Z",
     "iopub.status.idle": "2022-11-28T05:36:41.964059Z",
     "shell.execute_reply": "2022-11-28T05:36:41.962766Z"
    },
    "papermill": {
     "duration": 0.508635,
     "end_time": "2022-11-28T05:36:41.966773",
     "exception": false,
     "start_time": "2022-11-28T05:36:41.458138",
     "status": "completed"
    },
    "tags": []
   },
   "outputs": [
    {
     "data": {
      "text/plain": [
       "<AxesSubplot:xlabel='payment_sequential_sum', ylabel='Count'>"
      ]
     },
     "execution_count": 24,
     "metadata": {},
     "output_type": "execute_result"
    },
    {
     "data": {
      "image/png": "[encoded data removed]",
      "text/plain": [
       "<Figure size 432x288 with 1 Axes>"
      ]
     },
     "metadata": {
      "needs_background": "light"
     },
     "output_type": "display_data"
    }
   ],
   "source": [
    "# 'payment_sequential_sum',\n",
    "#        'payment_installments_count',\n",
    "\n",
    "sns.histplot(x = df['payment_sequential_sum'], hue = df['set'])"
   ]
  },
  {
   "cell_type": "code",
   "execution_count": 25,
   "id": "392214ec",
   "metadata": {
    "execution": {
     "iopub.execute_input": "2022-11-28T05:36:42.025656Z",
     "iopub.status.busy": "2022-11-28T05:36:42.025194Z",
     "iopub.status.idle": "2022-11-28T05:36:42.294059Z",
     "shell.execute_reply": "2022-11-28T05:36:42.292880Z"
    },
    "papermill": {
     "duration": 0.301109,
     "end_time": "2022-11-28T05:36:42.296545",
     "exception": false,
     "start_time": "2022-11-28T05:36:41.995436",
     "status": "completed"
    },
    "tags": []
   },
   "outputs": [
    {
     "data": {
      "text/plain": [
       "<AxesSubplot:xlabel='payment_sequential_sum', ylabel='Count'>"
      ]
     },
     "execution_count": 25,
     "metadata": {},
     "output_type": "execute_result"
    },
    {
     "data": {
      "image/png": "[encoded data removed]",
      "text/plain": [
       "<Figure size 432x288 with 1 Axes>"
      ]
     },
     "metadata": {
      "needs_background": "light"
     },
     "output_type": "display_data"
    }
   ],
   "source": [
    "sns.histplot(x = np.log2(df['payment_sequential_sum']))"
   ]
  },
  {
   "cell_type": "code",
   "execution_count": 26,
   "id": "6972f3e8",
   "metadata": {
    "execution": {
     "iopub.execute_input": "2022-11-28T05:36:42.355054Z",
     "iopub.status.busy": "2022-11-28T05:36:42.354371Z",
     "iopub.status.idle": "2022-11-28T05:36:42.623444Z",
     "shell.execute_reply": "2022-11-28T05:36:42.622267Z"
    },
    "papermill": {
     "duration": 0.301017,
     "end_time": "2022-11-28T05:36:42.625903",
     "exception": false,
     "start_time": "2022-11-28T05:36:42.324886",
     "status": "completed"
    },
    "tags": []
   },
   "outputs": [
    {
     "data": {
      "text/plain": [
       "<AxesSubplot:xlabel='payment_installments_count', ylabel='Count'>"
      ]
     },
     "execution_count": 26,
     "metadata": {},
     "output_type": "execute_result"
    },
    {
     "data": {
      "image/png": "[encoded data removed]",
      "text/plain": [
       "<Figure size 432x288 with 1 Axes>"
      ]
     },
     "metadata": {
      "needs_background": "light"
     },
     "output_type": "display_data"
    }
   ],
   "source": [
    "sns.histplot(x = df['payment_installments_count'])"
   ]
  },
  {
   "cell_type": "code",
   "execution_count": 27,
   "id": "294483b7",
   "metadata": {
    "execution": {
     "iopub.execute_input": "2022-11-28T05:36:42.686696Z",
     "iopub.status.busy": "2022-11-28T05:36:42.686271Z",
     "iopub.status.idle": "2022-11-28T05:36:42.699858Z",
     "shell.execute_reply": "2022-11-28T05:36:42.698638Z"
    },
    "papermill": {
     "duration": 0.047794,
     "end_time": "2022-11-28T05:36:42.702064",
     "exception": false,
     "start_time": "2022-11-28T05:36:42.654270",
     "status": "completed"
    },
    "tags": []
   },
   "outputs": [
    {
     "data": {
      "text/plain": [
       "(0    1.0\n",
       " dtype: float64,\n",
       " 0    1.0\n",
       " dtype: float64)"
      ]
     },
     "execution_count": 27,
     "metadata": {},
     "output_type": "execute_result"
    }
   ],
   "source": [
    "df['payment_sequential_sum'].mode(), df['payment_installments_count'].mode()"
   ]
  },
  {
   "cell_type": "code",
   "execution_count": 28,
   "id": "df354afc",
   "metadata": {
    "execution": {
     "iopub.execute_input": "2022-11-28T05:36:42.761856Z",
     "iopub.status.busy": "2022-11-28T05:36:42.760642Z",
     "iopub.status.idle": "2022-11-28T05:36:42.769888Z",
     "shell.execute_reply": "2022-11-28T05:36:42.768638Z"
    },
    "papermill": {
     "duration": 0.041569,
     "end_time": "2022-11-28T05:36:42.772202",
     "exception": false,
     "start_time": "2022-11-28T05:36:42.730633",
     "status": "completed"
    },
    "tags": []
   },
   "outputs": [],
   "source": [
    "df.loc[df['payment_sequential_sum'].isnull(), 'payment_sequential_sum'] = 1 # filling with 1 which is mode\n",
    "df.loc[df['payment_installments_count'].isnull(), 'payment_installments_count'] = 1 # filling with 1 which is mode\n",
    "\n",
    "# taking log2 looks quite reasonable\n",
    "# itna bhi needed nahi tha\n",
    "\n",
    "# df['payment_sequential_sum_log2'] = np.log2(df['payment_sequential_sum'])\n",
    "# df['payment_installments_count_log2'] = np.log2(df['payment_installments_count'])\n",
    "\n",
    "# df.drop(['payment_sequential_sum', 'payment_installments_count'], axis = 1, inplace = True)"
   ]
  },
  {
   "cell_type": "code",
   "execution_count": null,
   "id": "ad98c908",
   "metadata": {
    "papermill": {
     "duration": 0.028605,
     "end_time": "2022-11-28T05:36:42.829380",
     "exception": false,
     "start_time": "2022-11-28T05:36:42.800775",
     "status": "completed"
    },
    "tags": []
   },
   "outputs": [],
   "source": []
  },
  {
   "cell_type": "code",
   "execution_count": 29,
   "id": "b7280a1a",
   "metadata": {
    "execution": {
     "iopub.execute_input": "2022-11-28T05:36:42.890468Z",
     "iopub.status.busy": "2022-11-28T05:36:42.889851Z",
     "iopub.status.idle": "2022-11-28T05:36:43.806811Z",
     "shell.execute_reply": "2022-11-28T05:36:43.805547Z"
    },
    "papermill": {
     "duration": 0.951607,
     "end_time": "2022-11-28T05:36:43.809575",
     "exception": false,
     "start_time": "2022-11-28T05:36:42.857968",
     "status": "completed"
    },
    "tags": []
   },
   "outputs": [
    {
     "data": {
      "text/plain": [
       "<AxesSubplot:xlabel='payment_installments_sum', ylabel='Count'>"
      ]
     },
     "execution_count": 29,
     "metadata": {},
     "output_type": "execute_result"
    },
    {
     "data": {
      "image/png": "[encoded data removed]",
      "text/plain": [
       "<Figure size 432x288 with 1 Axes>"
      ]
     },
     "metadata": {
      "needs_background": "light"
     },
     "output_type": "display_data"
    }
   ],
   "source": [
    "#  'payment_installments_sum'\n",
    "sns.histplot(x = df['payment_installments_sum'], hue = df['set'])"
   ]
  },
  {
   "cell_type": "code",
   "execution_count": 30,
   "id": "4c5f30d5",
   "metadata": {
    "execution": {
     "iopub.execute_input": "2022-11-28T05:36:43.871026Z",
     "iopub.status.busy": "2022-11-28T05:36:43.870621Z",
     "iopub.status.idle": "2022-11-28T05:36:43.877995Z",
     "shell.execute_reply": "2022-11-28T05:36:43.876615Z"
    },
    "papermill": {
     "duration": 0.041377,
     "end_time": "2022-11-28T05:36:43.880737",
     "exception": false,
     "start_time": "2022-11-28T05:36:43.839360",
     "status": "completed"
    },
    "tags": []
   },
   "outputs": [],
   "source": [
    "# df['payment_installments_sum'].isnull().sum() # 1\n",
    "df.loc[df['payment_installments_sum'].isnull(), 'payment_installments_sum'] = 1 # filling with 1 which is mode"
   ]
  },
  {
   "cell_type": "code",
   "execution_count": null,
   "id": "7b257017",
   "metadata": {
    "papermill": {
     "duration": 0.029295,
     "end_time": "2022-11-28T05:36:43.939366",
     "exception": false,
     "start_time": "2022-11-28T05:36:43.910071",
     "status": "completed"
    },
    "tags": []
   },
   "outputs": [],
   "source": []
  },
  {
   "cell_type": "code",
   "execution_count": 31,
   "id": "6d652735",
   "metadata": {
    "execution": {
     "iopub.execute_input": "2022-11-28T05:36:44.000289Z",
     "iopub.status.busy": "2022-11-28T05:36:43.999855Z",
     "iopub.status.idle": "2022-11-28T05:36:44.004777Z",
     "shell.execute_reply": "2022-11-28T05:36:44.003712Z"
    },
    "papermill": {
     "duration": 0.037875,
     "end_time": "2022-11-28T05:36:44.007312",
     "exception": false,
     "start_time": "2022-11-28T05:36:43.969437",
     "status": "completed"
    },
    "tags": []
   },
   "outputs": [],
   "source": [
    "# itna bhi outliers to lite hai\n",
    "# kuch zero elements bhi hai, to log leke matlab nahi\n",
    "# standard scalar (min max type?)"
   ]
  },
  {
   "cell_type": "code",
   "execution_count": null,
   "id": "53b97c03",
   "metadata": {
    "papermill": {
     "duration": 0.0298,
     "end_time": "2022-11-28T05:36:44.066645",
     "exception": false,
     "start_time": "2022-11-28T05:36:44.036845",
     "status": "completed"
    },
    "tags": []
   },
   "outputs": [],
   "source": []
  },
  {
   "cell_type": "code",
   "execution_count": 32,
   "id": "a861020b",
   "metadata": {
    "execution": {
     "iopub.execute_input": "2022-11-28T05:36:44.128313Z",
     "iopub.status.busy": "2022-11-28T05:36:44.127895Z",
     "iopub.status.idle": "2022-11-28T05:36:44.589553Z",
     "shell.execute_reply": "2022-11-28T05:36:44.588060Z"
    },
    "papermill": {
     "duration": 0.496593,
     "end_time": "2022-11-28T05:36:44.592187",
     "exception": false,
     "start_time": "2022-11-28T05:36:44.095594",
     "status": "completed"
    },
    "tags": []
   },
   "outputs": [
    {
     "data": {
      "text/plain": [
       "<AxesSubplot:xlabel='payment_value_count', ylabel='Count'>"
      ]
     },
     "execution_count": 32,
     "metadata": {},
     "output_type": "execute_result"
    },
    {
     "data": {
      "image/png": "[encoded data removed]",
      "text/plain": [
       "<Figure size 432x288 with 1 Axes>"
      ]
     },
     "metadata": {
      "needs_background": "light"
     },
     "output_type": "display_data"
    }
   ],
   "source": [
    "#        'payment_value_count', 'payment_value_sum', \n",
    "sns.histplot(x = df['payment_value_count'], hue = df['set']) # lite"
   ]
  },
  {
   "cell_type": "code",
   "execution_count": 33,
   "id": "8a568910",
   "metadata": {
    "execution": {
     "iopub.execute_input": "2022-11-28T05:36:44.653579Z",
     "iopub.status.busy": "2022-11-28T05:36:44.652886Z",
     "iopub.status.idle": "2022-11-28T05:36:44.659810Z",
     "shell.execute_reply": "2022-11-28T05:36:44.658851Z"
    },
    "papermill": {
     "duration": 0.040253,
     "end_time": "2022-11-28T05:36:44.662387",
     "exception": false,
     "start_time": "2022-11-28T05:36:44.622134",
     "status": "completed"
    },
    "tags": []
   },
   "outputs": [],
   "source": [
    "df.loc[df['payment_value_count'].isnull(), 'payment_value_count'] = 1 # filling with 1 which is mode"
   ]
  },
  {
   "cell_type": "code",
   "execution_count": 34,
   "id": "28c85f7c",
   "metadata": {
    "execution": {
     "iopub.execute_input": "2022-11-28T05:36:44.723668Z",
     "iopub.status.busy": "2022-11-28T05:36:44.722970Z",
     "iopub.status.idle": "2022-11-28T05:36:58.232970Z",
     "shell.execute_reply": "2022-11-28T05:36:58.231546Z"
    },
    "papermill": {
     "duration": 13.543325,
     "end_time": "2022-11-28T05:36:58.235737",
     "exception": false,
     "start_time": "2022-11-28T05:36:44.692412",
     "status": "completed"
    },
    "tags": []
   },
   "outputs": [
    {
     "data": {
      "image/png": "[encoded data removed]",
      "text/plain": [
       "<Figure size 432x288 with 1 Axes>"
      ]
     },
     "metadata": {
      "needs_background": "light"
     },
     "output_type": "display_data"
    }
   ],
   "source": [
    "sns.histplot(x = df['payment_value_sum'], hue = df['set']) # ye aayi na baat outliers wali\n",
    "# cap everything above 2000 as 2500\n",
    "\n",
    "df.loc[df['payment_value_sum'].isnull(), 'payment_value_sum'] = 0 "
   ]
  },
  {
   "cell_type": "code",
   "execution_count": 35,
   "id": "1c3459ed",
   "metadata": {
    "execution": {
     "iopub.execute_input": "2022-11-28T05:36:58.297393Z",
     "iopub.status.busy": "2022-11-28T05:36:58.296942Z",
     "iopub.status.idle": "2022-11-28T05:36:59.901684Z",
     "shell.execute_reply": "2022-11-28T05:36:59.900498Z"
    },
    "papermill": {
     "duration": 1.638135,
     "end_time": "2022-11-28T05:36:59.904052",
     "exception": false,
     "start_time": "2022-11-28T05:36:58.265917",
     "status": "completed"
    },
    "tags": []
   },
   "outputs": [
    {
     "data": {
      "text/plain": [
       "<AxesSubplot:xlabel='payment_value_sum', ylabel='Count'>"
      ]
     },
     "execution_count": 35,
     "metadata": {},
     "output_type": "execute_result"
    },
    {
     "data": {
      "image/png": "[encoded data removed]",
      "text/plain": [
       "<Figure size 432x288 with 1 Axes>"
      ]
     },
     "metadata": {
      "needs_background": "light"
     },
     "output_type": "display_data"
    }
   ],
   "source": [
    "sns.histplot(x = np.log2(df['payment_value_sum'] + 0.1), hue = df['set']) # added chhotu sa value so that log2 0 does not go mad"
   ]
  },
  {
   "cell_type": "code",
   "execution_count": 36,
   "id": "05350d26",
   "metadata": {
    "execution": {
     "iopub.execute_input": "2022-11-28T05:36:59.965891Z",
     "iopub.status.busy": "2022-11-28T05:36:59.965493Z",
     "iopub.status.idle": "2022-11-28T05:37:00.011229Z",
     "shell.execute_reply": "2022-11-28T05:37:00.009999Z"
    },
    "papermill": {
     "duration": 0.079972,
     "end_time": "2022-11-28T05:37:00.014058",
     "exception": false,
     "start_time": "2022-11-28T05:36:59.934086",
     "status": "completed"
    },
    "tags": []
   },
   "outputs": [],
   "source": [
    "df['payment_value_sum_log2'] = np.log2(df['payment_value_sum'] + 0.1)\n",
    "df.drop('payment_value_sum', axis = 1, inplace = True)"
   ]
  },
  {
   "cell_type": "code",
   "execution_count": null,
   "id": "7e756bd3",
   "metadata": {
    "papermill": {
     "duration": 0.029894,
     "end_time": "2022-11-28T05:37:00.074710",
     "exception": false,
     "start_time": "2022-11-28T05:37:00.044816",
     "status": "completed"
    },
    "tags": []
   },
   "outputs": [],
   "source": []
  },
  {
   "cell_type": "code",
   "execution_count": 37,
   "id": "97a3b27c",
   "metadata": {
    "execution": {
     "iopub.execute_input": "2022-11-28T05:37:00.136762Z",
     "iopub.status.busy": "2022-11-28T05:37:00.136298Z",
     "iopub.status.idle": "2022-11-28T05:37:00.610713Z",
     "shell.execute_reply": "2022-11-28T05:37:00.609426Z"
    },
    "papermill": {
     "duration": 0.508719,
     "end_time": "2022-11-28T05:37:00.613459",
     "exception": false,
     "start_time": "2022-11-28T05:37:00.104740",
     "status": "completed"
    },
    "tags": []
   },
   "outputs": [
    {
     "data": {
      "text/plain": [
       "<AxesSubplot:xlabel='booking_sequence_id_max', ylabel='Count'>"
      ]
     },
     "execution_count": 37,
     "metadata": {},
     "output_type": "execute_result"
    },
    {
     "data": {
      "image/png": "[encoded data removed]",
      "text/plain": [
       "<Figure size 432x288 with 1 Axes>"
      ]
     },
     "metadata": {
      "needs_background": "light"
     },
     "output_type": "display_data"
    }
   ],
   "source": [
    "# 'booking_sequence_id_max'\n",
    "sns.histplot(x = df['booking_sequence_id_max'], hue = df['set'])"
   ]
  },
  {
   "cell_type": "code",
   "execution_count": 38,
   "id": "df71cf56",
   "metadata": {
    "execution": {
     "iopub.execute_input": "2022-11-28T05:37:00.678354Z",
     "iopub.status.busy": "2022-11-28T05:37:00.677930Z",
     "iopub.status.idle": "2022-11-28T05:37:00.685286Z",
     "shell.execute_reply": "2022-11-28T05:37:00.684454Z"
    },
    "papermill": {
     "duration": 0.042443,
     "end_time": "2022-11-28T05:37:00.687616",
     "exception": false,
     "start_time": "2022-11-28T05:37:00.645173",
     "status": "completed"
    },
    "tags": []
   },
   "outputs": [],
   "source": [
    "# df.loc[df['booking_sequence_id_max'].isnull(), 'booking_sequence_id_max']\n",
    "df.loc[df['booking_sequence_id_max'].isnull(), 'booking_sequence_id_max'] = 1 # filling with 1 which is mode"
   ]
  },
  {
   "cell_type": "code",
   "execution_count": null,
   "id": "ced24014",
   "metadata": {
    "papermill": {
     "duration": 0.03113,
     "end_time": "2022-11-28T05:37:00.751253",
     "exception": false,
     "start_time": "2022-11-28T05:37:00.720123",
     "status": "completed"
    },
    "tags": []
   },
   "outputs": [],
   "source": []
  },
  {
   "cell_type": "code",
   "execution_count": null,
   "id": "6a0e4c64",
   "metadata": {
    "papermill": {
     "duration": 0.031088,
     "end_time": "2022-11-28T05:37:00.813482",
     "exception": false,
     "start_time": "2022-11-28T05:37:00.782394",
     "status": "completed"
    },
    "tags": []
   },
   "outputs": [],
   "source": []
  },
  {
   "cell_type": "code",
   "execution_count": 39,
   "id": "fe03ec69",
   "metadata": {
    "execution": {
     "iopub.execute_input": "2022-11-28T05:37:00.878630Z",
     "iopub.status.busy": "2022-11-28T05:37:00.877822Z",
     "iopub.status.idle": "2022-11-28T05:37:15.520877Z",
     "shell.execute_reply": "2022-11-28T05:37:15.519857Z"
    },
    "papermill": {
     "duration": 14.678974,
     "end_time": "2022-11-28T05:37:15.523045",
     "exception": false,
     "start_time": "2022-11-28T05:37:00.844071",
     "status": "completed"
    },
    "tags": []
   },
   "outputs": [
    {
     "data": {
      "text/plain": [
       "<AxesSubplot:xlabel='price_sum', ylabel='Count'>"
      ]
     },
     "execution_count": 39,
     "metadata": {},
     "output_type": "execute_result"
    },
    {
     "data": {
      "image/png": "[encoded data removed]",
      "text/plain": [
       "<Figure size 432x288 with 1 Axes>"
      ]
     },
     "metadata": {
      "needs_background": "light"
     },
     "output_type": "display_data"
    }
   ],
   "source": [
    "# 'price_sum'\n",
    "sns.histplot(x = df['price_sum'], hue = df['set'])"
   ]
  },
  {
   "cell_type": "code",
   "execution_count": 40,
   "id": "0f26a825",
   "metadata": {
    "execution": {
     "iopub.execute_input": "2022-11-28T05:37:15.587096Z",
     "iopub.status.busy": "2022-11-28T05:37:15.586343Z",
     "iopub.status.idle": "2022-11-28T05:37:17.055974Z",
     "shell.execute_reply": "2022-11-28T05:37:17.054762Z"
    },
    "papermill": {
     "duration": 1.504179,
     "end_time": "2022-11-28T05:37:17.058146",
     "exception": false,
     "start_time": "2022-11-28T05:37:15.553967",
     "status": "completed"
    },
    "tags": []
   },
   "outputs": [
    {
     "data": {
      "text/plain": [
       "<AxesSubplot:xlabel='price_sum', ylabel='Count'>"
      ]
     },
     "execution_count": 40,
     "metadata": {},
     "output_type": "execute_result"
    },
    {
     "data": {
      "image/png": "[encoded data removed]",
      "text/plain": [
       "<Figure size 432x288 with 1 Axes>"
      ]
     },
     "metadata": {
      "needs_background": "light"
     },
     "output_type": "display_data"
    }
   ],
   "source": [
    "df.loc[df['price_sum'].isnull(), 'price_sum'] = 1 # filling with 1 which is mode\n",
    "sns.histplot(x = np.log2(df['price_sum'] + 0.1), hue = df['set']) # added chhotu sa value so that log2 0 does not go mad"
   ]
  },
  {
   "cell_type": "code",
   "execution_count": 41,
   "id": "9c64e40c",
   "metadata": {
    "execution": {
     "iopub.execute_input": "2022-11-28T05:37:17.122613Z",
     "iopub.status.busy": "2022-11-28T05:37:17.122080Z",
     "iopub.status.idle": "2022-11-28T05:37:17.160579Z",
     "shell.execute_reply": "2022-11-28T05:37:17.159268Z"
    },
    "papermill": {
     "duration": 0.074048,
     "end_time": "2022-11-28T05:37:17.163456",
     "exception": false,
     "start_time": "2022-11-28T05:37:17.089408",
     "status": "completed"
    },
    "tags": []
   },
   "outputs": [],
   "source": [
    "df['price_sum_log2'] = np.log2(df['price_sum']) + 0.1\n",
    "df.drop('price_sum', axis = 1, inplace = True)"
   ]
  },
  {
   "cell_type": "code",
   "execution_count": null,
   "id": "c0479ce5",
   "metadata": {
    "papermill": {
     "duration": 0.031753,
     "end_time": "2022-11-28T05:37:17.227350",
     "exception": false,
     "start_time": "2022-11-28T05:37:17.195597",
     "status": "completed"
    },
    "tags": []
   },
   "outputs": [],
   "source": []
  },
  {
   "cell_type": "code",
   "execution_count": 42,
   "id": "c0767ae7",
   "metadata": {
    "execution": {
     "iopub.execute_input": "2022-11-28T05:37:17.292143Z",
     "iopub.status.busy": "2022-11-28T05:37:17.291701Z",
     "iopub.status.idle": "2022-11-28T05:37:36.730218Z",
     "shell.execute_reply": "2022-11-28T05:37:36.728803Z"
    },
    "papermill": {
     "duration": 19.474159,
     "end_time": "2022-11-28T05:37:36.732899",
     "exception": false,
     "start_time": "2022-11-28T05:37:17.258740",
     "status": "completed"
    },
    "tags": []
   },
   "outputs": [
    {
     "data": {
      "text/plain": [
       "<AxesSubplot:xlabel='agent_fees_sum', ylabel='Count'>"
      ]
     },
     "execution_count": 42,
     "metadata": {},
     "output_type": "execute_result"
    },
    {
     "data": {
      "image/png": "[encoded data removed]",
      "text/plain": [
       "<Figure size 432x288 with 1 Axes>"
      ]
     },
     "metadata": {
      "needs_background": "light"
     },
     "output_type": "display_data"
    }
   ],
   "source": [
    "# 'agent_fees_sum'\n",
    "sns.histplot(x = df['agent_fees_sum'], hue = df['set'])"
   ]
  },
  {
   "cell_type": "code",
   "execution_count": 43,
   "id": "84631f63",
   "metadata": {
    "execution": {
     "iopub.execute_input": "2022-11-28T05:37:36.799640Z",
     "iopub.status.busy": "2022-11-28T05:37:36.799174Z",
     "iopub.status.idle": "2022-11-28T05:37:39.047256Z",
     "shell.execute_reply": "2022-11-28T05:37:39.046048Z"
    },
    "papermill": {
     "duration": 2.283862,
     "end_time": "2022-11-28T05:37:39.049809",
     "exception": false,
     "start_time": "2022-11-28T05:37:36.765947",
     "status": "completed"
    },
    "tags": []
   },
   "outputs": [
    {
     "data": {
      "text/plain": [
       "<AxesSubplot:xlabel='agent_fees_sum', ylabel='Count'>"
      ]
     },
     "execution_count": 43,
     "metadata": {},
     "output_type": "execute_result"
    },
    {
     "data": {
      "image/png": "[encoded data removed]",
      "text/plain": [
       "<Figure size 432x288 with 1 Axes>"
      ]
     },
     "metadata": {
      "needs_background": "light"
     },
     "output_type": "display_data"
    }
   ],
   "source": [
    "sns.histplot(x = np.log2(df['agent_fees_sum'] + 0.1), hue = df['set']) # added chhotu sa value so that log2 0 does not go mad"
   ]
  },
  {
   "cell_type": "code",
   "execution_count": 44,
   "id": "6f6e5f3f",
   "metadata": {
    "execution": {
     "iopub.execute_input": "2022-11-28T05:37:39.116509Z",
     "iopub.status.busy": "2022-11-28T05:37:39.116099Z",
     "iopub.status.idle": "2022-11-28T05:37:39.152664Z",
     "shell.execute_reply": "2022-11-28T05:37:39.151355Z"
    },
    "papermill": {
     "duration": 0.073049,
     "end_time": "2022-11-28T05:37:39.155418",
     "exception": false,
     "start_time": "2022-11-28T05:37:39.082369",
     "status": "completed"
    },
    "tags": []
   },
   "outputs": [],
   "source": [
    "df.loc[df['agent_fees_sum'].isnull(), 'agent_fees_sum'] = 1 # filling with 1 which is mode\n",
    "df['agent_fees_sum_log2'] = np.log2(df['agent_fees_sum'] + 0.1)\n",
    "df.drop('agent_fees_sum', axis = 1, inplace = True)"
   ]
  },
  {
   "cell_type": "code",
   "execution_count": null,
   "id": "5c476a10",
   "metadata": {
    "papermill": {
     "duration": 0.032099,
     "end_time": "2022-11-28T05:37:39.220660",
     "exception": false,
     "start_time": "2022-11-28T05:37:39.188561",
     "status": "completed"
    },
    "tags": []
   },
   "outputs": [],
   "source": []
  },
  {
   "cell_type": "code",
   "execution_count": 45,
   "id": "e7abde76",
   "metadata": {
    "execution": {
     "iopub.execute_input": "2022-11-28T05:37:39.288286Z",
     "iopub.status.busy": "2022-11-28T05:37:39.287865Z",
     "iopub.status.idle": "2022-11-28T05:37:40.366372Z",
     "shell.execute_reply": "2022-11-28T05:37:40.365190Z"
    },
    "papermill": {
     "duration": 1.116283,
     "end_time": "2022-11-28T05:37:40.368915",
     "exception": false,
     "start_time": "2022-11-28T05:37:39.252632",
     "status": "completed"
    },
    "tags": []
   },
   "outputs": [
    {
     "data": {
      "text/plain": [
       "<AxesSubplot:xlabel='hotel_category_max', ylabel='Count'>"
      ]
     },
     "execution_count": 45,
     "metadata": {},
     "output_type": "execute_result"
    },
    {
     "data": {
      "image/png": "[encoded data removed]",
      "text/plain": [
       "<Figure size 432x288 with 1 Axes>"
      ]
     },
     "metadata": {
      "needs_background": "light"
     },
     "output_type": "display_data"
    }
   ],
   "source": [
    "# 'hotel_category_max', 'hotel_category_count'\n",
    "sns.histplot(x = df['hotel_category_max'], hue = df['set'])"
   ]
  },
  {
   "cell_type": "code",
   "execution_count": 46,
   "id": "35dca029",
   "metadata": {
    "execution": {
     "iopub.execute_input": "2022-11-28T05:37:40.437591Z",
     "iopub.status.busy": "2022-11-28T05:37:40.436852Z",
     "iopub.status.idle": "2022-11-28T05:37:40.446686Z",
     "shell.execute_reply": "2022-11-28T05:37:40.445498Z"
    },
    "papermill": {
     "duration": 0.046909,
     "end_time": "2022-11-28T05:37:40.449133",
     "exception": false,
     "start_time": "2022-11-28T05:37:40.402224",
     "status": "completed"
    },
    "tags": []
   },
   "outputs": [
    {
     "data": {
      "text/plain": [
       "(2143, 758)"
      ]
     },
     "execution_count": 46,
     "metadata": {},
     "output_type": "execute_result"
    }
   ],
   "source": [
    "df['hotel_category_max'].isnull().sum(), df['hotel_category_count'].isnull().sum()"
   ]
  },
  {
   "cell_type": "code",
   "execution_count": 47,
   "id": "0dc06891",
   "metadata": {
    "execution": {
     "iopub.execute_input": "2022-11-28T05:37:40.518469Z",
     "iopub.status.busy": "2022-11-28T05:37:40.518000Z",
     "iopub.status.idle": "2022-11-28T05:37:40.529747Z",
     "shell.execute_reply": "2022-11-28T05:37:40.528670Z"
    },
    "papermill": {
     "duration": 0.049066,
     "end_time": "2022-11-28T05:37:40.532114",
     "exception": false,
     "start_time": "2022-11-28T05:37:40.483048",
     "status": "completed"
    },
    "tags": []
   },
   "outputs": [
    {
     "data": {
      "text/plain": [
       "(28.964708673764132,\n",
       " 0    28.0\n",
       " dtype: float64)"
      ]
     },
     "execution_count": 47,
     "metadata": {},
     "output_type": "execute_result"
    }
   ],
   "source": [
    "df['hotel_category_max'].mean(), df['hotel_category_max'].mode() # okay fill with 28"
   ]
  },
  {
   "cell_type": "code",
   "execution_count": 48,
   "id": "d8dfd0a7",
   "metadata": {
    "execution": {
     "iopub.execute_input": "2022-11-28T05:37:40.599978Z",
     "iopub.status.busy": "2022-11-28T05:37:40.599116Z",
     "iopub.status.idle": "2022-11-28T05:37:41.065400Z",
     "shell.execute_reply": "2022-11-28T05:37:41.064080Z"
    },
    "papermill": {
     "duration": 0.502889,
     "end_time": "2022-11-28T05:37:41.067812",
     "exception": false,
     "start_time": "2022-11-28T05:37:40.564923",
     "status": "completed"
    },
    "tags": []
   },
   "outputs": [
    {
     "data": {
      "image/png": "[encoded data removed]",
      "text/plain": [
       "<Figure size 432x288 with 1 Axes>"
      ]
     },
     "metadata": {
      "needs_background": "light"
     },
     "output_type": "display_data"
    }
   ],
   "source": [
    "sns.histplot(x = df['hotel_category_count'], hue = df['set'])\n",
    "df.loc[df['hotel_category_count'].isnull(), 'hotel_category_count'] = 1 # filling with 1 which is mode\n",
    "df.loc[df['hotel_category_max'].isnull(), 'hotel_category_max'] = 28 # filling with 1 which is mode"
   ]
  },
  {
   "cell_type": "code",
   "execution_count": null,
   "id": "c2412459",
   "metadata": {
    "papermill": {
     "duration": 0.033644,
     "end_time": "2022-11-28T05:37:41.135711",
     "exception": false,
     "start_time": "2022-11-28T05:37:41.102067",
     "status": "completed"
    },
    "tags": []
   },
   "outputs": [],
   "source": []
  },
  {
   "cell_type": "code",
   "execution_count": 49,
   "id": "209b1368",
   "metadata": {
    "execution": {
     "iopub.execute_input": "2022-11-28T05:37:41.204635Z",
     "iopub.status.busy": "2022-11-28T05:37:41.204154Z",
     "iopub.status.idle": "2022-11-28T05:37:42.135866Z",
     "shell.execute_reply": "2022-11-28T05:37:42.134648Z"
    },
    "papermill": {
     "duration": 0.969008,
     "end_time": "2022-11-28T05:37:42.138388",
     "exception": false,
     "start_time": "2022-11-28T05:37:41.169380",
     "status": "completed"
    },
    "tags": []
   },
   "outputs": [
    {
     "data": {
      "text/plain": [
       "<AxesSubplot:xlabel='hotel_name_length_mean', ylabel='Count'>"
      ]
     },
     "execution_count": 49,
     "metadata": {},
     "output_type": "execute_result"
    },
    {
     "data": {
      "image/png": "[encoded data removed]",
      "text/plain": [
       "<Figure size 432x288 with 1 Axes>"
      ]
     },
     "metadata": {
      "needs_background": "light"
     },
     "output_type": "display_data"
    }
   ],
   "source": [
    "# 'hotel_name_length_mean', 'hotel_description_length_mean', 'hotel_photos_qty_mean',\n",
    "sns.histplot(x = df['hotel_name_length_mean'], hue = df['set'])"
   ]
  },
  {
   "cell_type": "code",
   "execution_count": 50,
   "id": "666149d2",
   "metadata": {
    "execution": {
     "iopub.execute_input": "2022-11-28T05:37:42.209734Z",
     "iopub.status.busy": "2022-11-28T05:37:42.209322Z",
     "iopub.status.idle": "2022-11-28T05:37:42.219736Z",
     "shell.execute_reply": "2022-11-28T05:37:42.218133Z"
    },
    "papermill": {
     "duration": 0.049274,
     "end_time": "2022-11-28T05:37:42.222603",
     "exception": false,
     "start_time": "2022-11-28T05:37:42.173329",
     "status": "completed"
    },
    "tags": []
   },
   "outputs": [],
   "source": [
    "df['hotel_name_length_mean'].mean(), df['hotel_name_length_mean'].mode() # okay fill with 55\n",
    "df.loc[df['hotel_name_length_mean'].isnull(), 'hotel_name_length_mean'] = 55"
   ]
  },
  {
   "cell_type": "code",
   "execution_count": 51,
   "id": "867c9780",
   "metadata": {
    "execution": {
     "iopub.execute_input": "2022-11-28T05:37:42.292877Z",
     "iopub.status.busy": "2022-11-28T05:37:42.292426Z",
     "iopub.status.idle": "2022-11-28T05:37:43.359435Z",
     "shell.execute_reply": "2022-11-28T05:37:43.358196Z"
    },
    "papermill": {
     "duration": 1.10529,
     "end_time": "2022-11-28T05:37:43.361827",
     "exception": false,
     "start_time": "2022-11-28T05:37:42.256537",
     "status": "completed"
    },
    "tags": []
   },
   "outputs": [
    {
     "data": {
      "text/plain": [
       "<AxesSubplot:xlabel='hotel_description_length_mean', ylabel='Count'>"
      ]
     },
     "execution_count": 51,
     "metadata": {},
     "output_type": "execute_result"
    },
    {
     "data": {
      "image/png": "[encoded data removed]",
      "text/plain": [
       "<Figure size 432x288 with 1 Axes>"
      ]
     },
     "metadata": {
      "needs_background": "light"
     },
     "output_type": "display_data"
    }
   ],
   "source": [
    "sns.histplot(x = df['hotel_description_length_mean'], hue = df['set'])"
   ]
  },
  {
   "cell_type": "code",
   "execution_count": 52,
   "id": "8ca74c0d",
   "metadata": {
    "execution": {
     "iopub.execute_input": "2022-11-28T05:37:43.433424Z",
     "iopub.status.busy": "2022-11-28T05:37:43.432990Z",
     "iopub.status.idle": "2022-11-28T05:37:43.443848Z",
     "shell.execute_reply": "2022-11-28T05:37:43.442877Z"
    },
    "papermill": {
     "duration": 0.049308,
     "end_time": "2022-11-28T05:37:43.446540",
     "exception": false,
     "start_time": "2022-11-28T05:37:43.397232",
     "status": "completed"
    },
    "tags": []
   },
   "outputs": [],
   "source": [
    "df['hotel_description_length_mean'].mean(), df['hotel_description_length_mean'].mode() # okay fill with 550\n",
    "df.loc[df['hotel_description_length_mean'].isnull(), 'hotel_description_length_mean'] = 550"
   ]
  },
  {
   "cell_type": "code",
   "execution_count": 53,
   "id": "bdc7bf60",
   "metadata": {
    "execution": {
     "iopub.execute_input": "2022-11-28T05:37:43.517872Z",
     "iopub.status.busy": "2022-11-28T05:37:43.517196Z",
     "iopub.status.idle": "2022-11-28T05:37:44.674754Z",
     "shell.execute_reply": "2022-11-28T05:37:44.673608Z"
    },
    "papermill": {
     "duration": 1.195773,
     "end_time": "2022-11-28T05:37:44.677232",
     "exception": false,
     "start_time": "2022-11-28T05:37:43.481459",
     "status": "completed"
    },
    "tags": []
   },
   "outputs": [
    {
     "data": {
      "text/plain": [
       "<AxesSubplot:xlabel='hotel_description_length_mean', ylabel='Count'>"
      ]
     },
     "execution_count": 53,
     "metadata": {},
     "output_type": "execute_result"
    },
    {
     "data": {
      "image/png": "[encoded data removed]",
      "text/plain": [
       "<Figure size 432x288 with 1 Axes>"
      ]
     },
     "metadata": {
      "needs_background": "light"
     },
     "output_type": "display_data"
    }
   ],
   "source": [
    "sns.histplot(x = np.log2(df['hotel_description_length_mean'] + 0.1), hue = df['set']) # added chhotu sa value so that log2 0 does not go mad"
   ]
  },
  {
   "cell_type": "code",
   "execution_count": 54,
   "id": "ca2becc7",
   "metadata": {
    "execution": {
     "iopub.execute_input": "2022-11-28T05:37:44.749295Z",
     "iopub.status.busy": "2022-11-28T05:37:44.748832Z",
     "iopub.status.idle": "2022-11-28T05:37:44.780096Z",
     "shell.execute_reply": "2022-11-28T05:37:44.778978Z"
    },
    "papermill": {
     "duration": 0.07065,
     "end_time": "2022-11-28T05:37:44.782950",
     "exception": false,
     "start_time": "2022-11-28T05:37:44.712300",
     "status": "completed"
    },
    "tags": []
   },
   "outputs": [],
   "source": [
    "df['hotel_description_length_mean_log2'] = np.log2(df['hotel_description_length_mean']) + 0.1\n",
    "df.drop('hotel_description_length_mean', axis = 1, inplace = True)"
   ]
  },
  {
   "cell_type": "code",
   "execution_count": 55,
   "id": "b729d7d6",
   "metadata": {
    "execution": {
     "iopub.execute_input": "2022-11-28T05:37:44.856381Z",
     "iopub.status.busy": "2022-11-28T05:37:44.855920Z",
     "iopub.status.idle": "2022-11-28T05:37:46.227631Z",
     "shell.execute_reply": "2022-11-28T05:37:46.226301Z"
    },
    "papermill": {
     "duration": 1.411552,
     "end_time": "2022-11-28T05:37:46.230154",
     "exception": false,
     "start_time": "2022-11-28T05:37:44.818602",
     "status": "completed"
    },
    "tags": []
   },
   "outputs": [
    {
     "data": {
      "text/plain": [
       "<AxesSubplot:xlabel='hotel_photos_qty_mean', ylabel='Count'>"
      ]
     },
     "execution_count": 55,
     "metadata": {},
     "output_type": "execute_result"
    },
    {
     "data": {
      "image/png": "[encoded data removed]",
      "text/plain": [
       "<Figure size 432x288 with 1 Axes>"
      ]
     },
     "metadata": {
      "needs_background": "light"
     },
     "output_type": "display_data"
    }
   ],
   "source": [
    "sns.histplot(x = df['hotel_photos_qty_mean'], hue = df['set'])"
   ]
  },
  {
   "cell_type": "code",
   "execution_count": 56,
   "id": "2d32810c",
   "metadata": {
    "execution": {
     "iopub.execute_input": "2022-11-28T05:37:46.304876Z",
     "iopub.status.busy": "2022-11-28T05:37:46.304423Z",
     "iopub.status.idle": "2022-11-28T05:37:46.315831Z",
     "shell.execute_reply": "2022-11-28T05:37:46.314582Z"
    },
    "papermill": {
     "duration": 0.053517,
     "end_time": "2022-11-28T05:37:46.318558",
     "exception": false,
     "start_time": "2022-11-28T05:37:46.265041",
     "status": "completed"
    },
    "tags": []
   },
   "outputs": [],
   "source": [
    "df['hotel_photos_qty_mean'].mean(), df['hotel_photos_qty_mean'].mode() # okay fill with 1\n",
    "df.loc[df['hotel_photos_qty_mean'].isnull(), 'hotel_photos_qty_mean'] = 1"
   ]
  },
  {
   "cell_type": "code",
   "execution_count": null,
   "id": "7d965110",
   "metadata": {
    "papermill": {
     "duration": 0.0345,
     "end_time": "2022-11-28T05:37:46.388525",
     "exception": false,
     "start_time": "2022-11-28T05:37:46.354025",
     "status": "completed"
    },
    "tags": []
   },
   "outputs": [],
   "source": []
  },
  {
   "cell_type": "code",
   "execution_count": 57,
   "id": "d0f64709",
   "metadata": {
    "execution": {
     "iopub.execute_input": "2022-11-28T05:37:46.461221Z",
     "iopub.status.busy": "2022-11-28T05:37:46.460793Z",
     "iopub.status.idle": "2022-11-28T05:37:46.934116Z",
     "shell.execute_reply": "2022-11-28T05:37:46.932767Z"
    },
    "papermill": {
     "duration": 0.51303,
     "end_time": "2022-11-28T05:37:46.936852",
     "exception": false,
     "start_time": "2022-11-28T05:37:46.423822",
     "status": "completed"
    },
    "tags": []
   },
   "outputs": [
    {
     "data": {
      "text/plain": [
       "<AxesSubplot:xlabel='seller_agent_id_count', ylabel='Count'>"
      ]
     },
     "execution_count": 57,
     "metadata": {},
     "output_type": "execute_result"
    },
    {
     "data": {
      "image/png": "[encoded data removed]",
      "text/plain": [
       "<Figure size 432x288 with 1 Axes>"
      ]
     },
     "metadata": {
      "needs_background": "light"
     },
     "output_type": "display_data"
    }
   ],
   "source": [
    "# 'seller_agent_id_count'\n",
    "sns.histplot(x = df['seller_agent_id_count'], hue = df['set'])"
   ]
  },
  {
   "cell_type": "code",
   "execution_count": 58,
   "id": "372c511a",
   "metadata": {
    "execution": {
     "iopub.execute_input": "2022-11-28T05:37:47.010034Z",
     "iopub.status.busy": "2022-11-28T05:37:47.009601Z",
     "iopub.status.idle": "2022-11-28T05:37:47.016722Z",
     "shell.execute_reply": "2022-11-28T05:37:47.015639Z"
    },
    "papermill": {
     "duration": 0.046533,
     "end_time": "2022-11-28T05:37:47.018883",
     "exception": false,
     "start_time": "2022-11-28T05:37:46.972350",
     "status": "completed"
    },
    "tags": []
   },
   "outputs": [],
   "source": [
    "df.loc[df['seller_agent_id_count'].isnull(), 'seller_agent_id_count'] = 1"
   ]
  },
  {
   "cell_type": "code",
   "execution_count": null,
   "id": "9ec879c4",
   "metadata": {
    "papermill": {
     "duration": 0.035994,
     "end_time": "2022-11-28T05:37:47.161229",
     "exception": false,
     "start_time": "2022-11-28T05:37:47.125235",
     "status": "completed"
    },
    "tags": []
   },
   "outputs": [],
   "source": []
  },
  {
   "cell_type": "code",
   "execution_count": 59,
   "id": "9fc946ed",
   "metadata": {
    "execution": {
     "iopub.execute_input": "2022-11-28T05:37:47.238146Z",
     "iopub.status.busy": "2022-11-28T05:37:47.236986Z",
     "iopub.status.idle": "2022-11-28T05:37:47.242262Z",
     "shell.execute_reply": "2022-11-28T05:37:47.241160Z"
    },
    "papermill": {
     "duration": 0.046101,
     "end_time": "2022-11-28T05:37:47.244463",
     "exception": false,
     "start_time": "2022-11-28T05:37:47.198362",
     "status": "completed"
    },
    "tags": []
   },
   "outputs": [],
   "source": [
    "# 'booking_create_timestamp_year',\n",
    "#        'booking_create_timestamp_month', 'booking_create_timestamp_week',\n",
    "#        'booking_create_timestamp_weekday', 'booking_create_timestamp_hour',\n",
    "\n",
    "# no missing value here"
   ]
  },
  {
   "cell_type": "code",
   "execution_count": 60,
   "id": "65b4be26",
   "metadata": {
    "execution": {
     "iopub.execute_input": "2022-11-28T05:37:47.317589Z",
     "iopub.status.busy": "2022-11-28T05:37:47.316810Z",
     "iopub.status.idle": "2022-11-28T05:37:47.321201Z",
     "shell.execute_reply": "2022-11-28T05:37:47.320367Z"
    },
    "papermill": {
     "duration": 0.043303,
     "end_time": "2022-11-28T05:37:47.323368",
     "exception": false,
     "start_time": "2022-11-28T05:37:47.280065",
     "status": "completed"
    },
    "tags": []
   },
   "outputs": [],
   "source": [
    "#        'booking_approved_at_year', 'booking_approved_at_month',\n",
    "#        'booking_approved_at_week', 'booking_approved_at_weekday',\n",
    "#        'booking_approved_at_hour',\n",
    "# df['booking_approved_at_year'].isnull().sum() # same 155 cases having nulls for all these columns"
   ]
  },
  {
   "cell_type": "code",
   "execution_count": 61,
   "id": "fd69d2fe",
   "metadata": {
    "execution": {
     "iopub.execute_input": "2022-11-28T05:37:47.398462Z",
     "iopub.status.busy": "2022-11-28T05:37:47.397691Z",
     "iopub.status.idle": "2022-11-28T05:37:47.406106Z",
     "shell.execute_reply": "2022-11-28T05:37:47.405303Z"
    },
    "papermill": {
     "duration": 0.048761,
     "end_time": "2022-11-28T05:37:47.408331",
     "exception": false,
     "start_time": "2022-11-28T05:37:47.359570",
     "status": "completed"
    },
    "tags": []
   },
   "outputs": [
    {
     "data": {
      "text/plain": [
       "2008.0"
      ]
     },
     "execution_count": 61,
     "metadata": {},
     "output_type": "execute_result"
    }
   ],
   "source": [
    "df['booking_approved_at_year'].mode().values[0]"
   ]
  },
  {
   "cell_type": "code",
   "execution_count": 62,
   "id": "b9508484",
   "metadata": {
    "execution": {
     "iopub.execute_input": "2022-11-28T05:37:47.481401Z",
     "iopub.status.busy": "2022-11-28T05:37:47.480753Z",
     "iopub.status.idle": "2022-11-28T05:37:47.507653Z",
     "shell.execute_reply": "2022-11-28T05:37:47.505773Z"
    },
    "papermill": {
     "duration": 0.067084,
     "end_time": "2022-11-28T05:37:47.510887",
     "exception": false,
     "start_time": "2022-11-28T05:37:47.443803",
     "status": "completed"
    },
    "tags": []
   },
   "outputs": [],
   "source": [
    "df.loc[df['booking_approved_at_year'].isnull(), 'booking_approved_at_year'] = df['booking_approved_at_year'].mode().values[0]\n",
    "df.loc[df['booking_approved_at_month'].isnull(), 'booking_approved_at_month'] = df['booking_approved_at_month'].mode().values[0]\n",
    "df.loc[df['booking_approved_at_week'].isnull(), 'booking_approved_at_week'] = df['booking_approved_at_week'].mode().values[0]\n",
    "df.loc[df['booking_approved_at_weekday'].isnull(), 'booking_approved_at_weekday'] = df['booking_approved_at_weekday'].mode().values[0]\n",
    "df.loc[df['booking_approved_at_hour'].isnull(), 'booking_approved_at_hour'] = df['booking_approved_at_hour'].mode().values[0]"
   ]
  },
  {
   "cell_type": "code",
   "execution_count": 63,
   "id": "40e844b3",
   "metadata": {
    "execution": {
     "iopub.execute_input": "2022-11-28T05:37:47.584684Z",
     "iopub.status.busy": "2022-11-28T05:37:47.584280Z",
     "iopub.status.idle": "2022-11-28T05:37:47.612118Z",
     "shell.execute_reply": "2022-11-28T05:37:47.610709Z"
    },
    "papermill": {
     "duration": 0.067563,
     "end_time": "2022-11-28T05:37:47.614722",
     "exception": false,
     "start_time": "2022-11-28T05:37:47.547159",
     "status": "completed"
    },
    "tags": []
   },
   "outputs": [
    {
     "name": "stdout",
     "output_type": "stream",
     "text": [
      "1457\n",
      "1401\n"
     ]
    }
   ],
   "source": [
    "# 'booking_checkin_customer_date_year',\n",
    "#        'booking_checkin_customer_date_month',\n",
    "#        'booking_checkin_customer_date_week',\n",
    "#        'booking_checkin_customer_date_weekday',\n",
    "#        'booking_checkin_customer_date_hour',\n",
    "\n",
    "print(df.loc[(df['set'] == 'training') & (df['booking_checkin_customer_date_year'].isnull())].shape[0])\n",
    "print(df.loc[(df['set'] == 'testing') & (df['booking_checkin_customer_date_year'].isnull())].shape[0])"
   ]
  },
  {
   "cell_type": "code",
   "execution_count": 64,
   "id": "0f4577fe",
   "metadata": {
    "execution": {
     "iopub.execute_input": "2022-11-28T05:37:47.689795Z",
     "iopub.status.busy": "2022-11-28T05:37:47.688904Z",
     "iopub.status.idle": "2022-11-28T05:37:47.715465Z",
     "shell.execute_reply": "2022-11-28T05:37:47.714467Z"
    },
    "papermill": {
     "duration": 0.067636,
     "end_time": "2022-11-28T05:37:47.718350",
     "exception": false,
     "start_time": "2022-11-28T05:37:47.650714",
     "status": "completed"
    },
    "tags": []
   },
   "outputs": [],
   "source": [
    "df.loc[df['booking_checkin_customer_date_year'].isnull(), 'booking_checkin_customer_date_year'] = df['booking_checkin_customer_date_year'].mode().values[0]\n",
    "df.loc[df['booking_checkin_customer_date_month'].isnull(), 'booking_checkin_customer_date_month'] = df['booking_checkin_customer_date_month'].mode().values[0]\n",
    "df.loc[df['booking_checkin_customer_date_week'].isnull(), 'booking_checkin_customer_date_week'] = df['booking_checkin_customer_date_week'].mode().values[0]\n",
    "df.loc[df['booking_checkin_customer_date_weekday'].isnull(), 'booking_checkin_customer_date_weekday'] = df['booking_checkin_customer_date_weekday'].mode().values[0]\n",
    "df.loc[df['booking_checkin_customer_date_hour'].isnull(), 'booking_checkin_customer_date_hour'] = df['booking_checkin_customer_date_hour'].mode().values[0]"
   ]
  },
  {
   "cell_type": "code",
   "execution_count": 65,
   "id": "17caf7ac",
   "metadata": {
    "execution": {
     "iopub.execute_input": "2022-11-28T05:37:47.791920Z",
     "iopub.status.busy": "2022-11-28T05:37:47.791460Z",
     "iopub.status.idle": "2022-11-28T05:37:47.813940Z",
     "shell.execute_reply": "2022-11-28T05:37:47.812735Z"
    },
    "papermill": {
     "duration": 0.062761,
     "end_time": "2022-11-28T05:37:47.816893",
     "exception": false,
     "start_time": "2022-11-28T05:37:47.754132",
     "status": "completed"
    },
    "tags": []
   },
   "outputs": [],
   "source": [
    "#        'booking_approved_minus_created_days',\n",
    "#        'booking_approved_minus_created_hours',\n",
    "#        'booking_checkin_minus_created_days'\n",
    "    \n",
    "    \n",
    "# approved minus created \n",
    "df['booking_approved_minus_created_days'] = (df['booking_approved_at'] - df['booking_create_timestamp']).dt.days # decently spread\n",
    "df['booking_approved_minus_created_hours'] = (df['booking_approved_at'] - df['booking_create_timestamp']).dt.total_seconds() / 3600 # difference in hours\n",
    "\n",
    "# checkin minus created\n",
    "df['booking_checkin_minus_created_days'] = (df['booking_checkin_customer_date'] - df['booking_create_timestamp']).dt.days\n",
    "df['booking_checkin_minus_created_hours'] = (df['booking_checkin_customer_date'] - df['booking_create_timestamp']).dt.total_seconds() / 36000 # difference in 10*hours"
   ]
  },
  {
   "cell_type": "code",
   "execution_count": 66,
   "id": "5535dea6",
   "metadata": {
    "execution": {
     "iopub.execute_input": "2022-11-28T05:37:47.889968Z",
     "iopub.status.busy": "2022-11-28T05:37:47.889555Z",
     "iopub.status.idle": "2022-11-28T05:37:48.361380Z",
     "shell.execute_reply": "2022-11-28T05:37:48.360420Z"
    },
    "papermill": {
     "duration": 0.510888,
     "end_time": "2022-11-28T05:37:48.363653",
     "exception": false,
     "start_time": "2022-11-28T05:37:47.852765",
     "status": "completed"
    },
    "tags": []
   },
   "outputs": [
    {
     "data": {
      "text/plain": [
       "<AxesSubplot:xlabel='booking_approved_minus_created_days', ylabel='Count'>"
      ]
     },
     "execution_count": 66,
     "metadata": {},
     "output_type": "execute_result"
    },
    {
     "data": {
      "image/png": "[encoded data removed]",
      "text/plain": [
       "<Figure size 432x288 with 1 Axes>"
      ]
     },
     "metadata": {
      "needs_background": "light"
     },
     "output_type": "display_data"
    }
   ],
   "source": [
    "# booking_approved_minus_created_days\n",
    "sns.histplot(x = df['booking_approved_minus_created_days'], hue = df['set'])"
   ]
  },
  {
   "cell_type": "code",
   "execution_count": 67,
   "id": "20e6a5be",
   "metadata": {
    "execution": {
     "iopub.execute_input": "2022-11-28T05:37:48.437289Z",
     "iopub.status.busy": "2022-11-28T05:37:48.436598Z",
     "iopub.status.idle": "2022-11-28T05:37:48.444712Z",
     "shell.execute_reply": "2022-11-28T05:37:48.443601Z"
    },
    "papermill": {
     "duration": 0.04774,
     "end_time": "2022-11-28T05:37:48.447222",
     "exception": false,
     "start_time": "2022-11-28T05:37:48.399482",
     "status": "completed"
    },
    "tags": []
   },
   "outputs": [],
   "source": [
    "df.loc[df['booking_approved_minus_created_days'].isnull(), 'booking_approved_minus_created_days'] = df['booking_approved_minus_created_days'].mode().values[0]"
   ]
  },
  {
   "cell_type": "code",
   "execution_count": 68,
   "id": "2c04aade",
   "metadata": {
    "execution": {
     "iopub.execute_input": "2022-11-28T05:37:48.522566Z",
     "iopub.status.busy": "2022-11-28T05:37:48.521867Z",
     "iopub.status.idle": "2022-11-28T05:37:48.525933Z",
     "shell.execute_reply": "2022-11-28T05:37:48.525077Z"
    },
    "papermill": {
     "duration": 0.044108,
     "end_time": "2022-11-28T05:37:48.528167",
     "exception": false,
     "start_time": "2022-11-28T05:37:48.484059",
     "status": "completed"
    },
    "tags": []
   },
   "outputs": [],
   "source": [
    "# sns.histplot(x = df['booking_approved_minus_created_hours'], hue = df['set'])"
   ]
  },
  {
   "cell_type": "code",
   "execution_count": 69,
   "id": "2af716dd",
   "metadata": {
    "execution": {
     "iopub.execute_input": "2022-11-28T05:37:48.602107Z",
     "iopub.status.busy": "2022-11-28T05:37:48.601689Z",
     "iopub.status.idle": "2022-11-28T05:37:49.305948Z",
     "shell.execute_reply": "2022-11-28T05:37:49.304983Z"
    },
    "papermill": {
     "duration": 0.743682,
     "end_time": "2022-11-28T05:37:49.308148",
     "exception": false,
     "start_time": "2022-11-28T05:37:48.564466",
     "status": "completed"
    },
    "tags": []
   },
   "outputs": [
    {
     "data": {
      "text/plain": [
       "<AxesSubplot:xlabel='booking_approved_minus_created_hours', ylabel='Count'>"
      ]
     },
     "execution_count": 69,
     "metadata": {},
     "output_type": "execute_result"
    },
    {
     "data": {
      "image/png": "[encoded data removed]",
      "text/plain": [
       "<Figure size 432x288 with 1 Axes>"
      ]
     },
     "metadata": {
      "needs_background": "light"
     },
     "output_type": "display_data"
    }
   ],
   "source": [
    "sns.histplot(x = np.log2(df['booking_approved_minus_created_hours'] + 0.1), hue = df['set'])"
   ]
  },
  {
   "cell_type": "code",
   "execution_count": 70,
   "id": "c2ac0ace",
   "metadata": {
    "execution": {
     "iopub.execute_input": "2022-11-28T05:37:49.385762Z",
     "iopub.status.busy": "2022-11-28T05:37:49.384836Z",
     "iopub.status.idle": "2022-11-28T05:37:49.427022Z",
     "shell.execute_reply": "2022-11-28T05:37:49.425838Z"
    },
    "papermill": {
     "duration": 0.083845,
     "end_time": "2022-11-28T05:37:49.429610",
     "exception": false,
     "start_time": "2022-11-28T05:37:49.345765",
     "status": "completed"
    },
    "tags": []
   },
   "outputs": [],
   "source": [
    "df.loc[df['booking_approved_minus_created_hours'].isnull(), 'booking_approved_minus_created_hours'] = df['booking_approved_minus_created_hours'].mode().values[0]\n",
    "df['booking_approved_minus_created_hours_log2'] = np.log2(df['booking_approved_minus_created_hours'] + 0.1)\n",
    "df.drop('booking_approved_minus_created_hours', axis = 1, inplace = True)"
   ]
  },
  {
   "cell_type": "code",
   "execution_count": null,
   "id": "ddd66ed7",
   "metadata": {
    "papermill": {
     "duration": 0.035947,
     "end_time": "2022-11-28T05:37:49.501993",
     "exception": false,
     "start_time": "2022-11-28T05:37:49.466046",
     "status": "completed"
    },
    "tags": []
   },
   "outputs": [],
   "source": []
  },
  {
   "cell_type": "code",
   "execution_count": 71,
   "id": "fd6e0518",
   "metadata": {
    "execution": {
     "iopub.execute_input": "2022-11-28T05:37:49.576759Z",
     "iopub.status.busy": "2022-11-28T05:37:49.575996Z",
     "iopub.status.idle": "2022-11-28T05:37:52.351207Z",
     "shell.execute_reply": "2022-11-28T05:37:52.350322Z"
    },
    "papermill": {
     "duration": 2.815631,
     "end_time": "2022-11-28T05:37:52.353735",
     "exception": false,
     "start_time": "2022-11-28T05:37:49.538104",
     "status": "completed"
    },
    "tags": []
   },
   "outputs": [
    {
     "data": {
      "text/plain": [
       "<AxesSubplot:xlabel='booking_checkin_minus_created_days', ylabel='Count'>"
      ]
     },
     "execution_count": 71,
     "metadata": {},
     "output_type": "execute_result"
    },
    {
     "data": {
      "image/png": "[encoded data removed]",
      "text/plain": [
       "<Figure size 432x288 with 1 Axes>"
      ]
     },
     "metadata": {
      "needs_background": "light"
     },
     "output_type": "display_data"
    }
   ],
   "source": [
    "# booking_checkin_minus_created_days\n",
    "sns.histplot(x = df['booking_checkin_minus_created_days'] , hue = df['set']) # outlierrs"
   ]
  },
  {
   "cell_type": "code",
   "execution_count": 72,
   "id": "24f1778a",
   "metadata": {
    "execution": {
     "iopub.execute_input": "2022-11-28T05:37:52.430737Z",
     "iopub.status.busy": "2022-11-28T05:37:52.429900Z",
     "iopub.status.idle": "2022-11-28T05:37:52.439778Z",
     "shell.execute_reply": "2022-11-28T05:37:52.438659Z"
    },
    "papermill": {
     "duration": 0.04993,
     "end_time": "2022-11-28T05:37:52.441987",
     "exception": false,
     "start_time": "2022-11-28T05:37:52.392057",
     "status": "completed"
    },
    "tags": []
   },
   "outputs": [
    {
     "data": {
      "text/plain": [
       "(7.0, 12.057399112459859)"
      ]
     },
     "execution_count": 72,
     "metadata": {},
     "output_type": "execute_result"
    }
   ],
   "source": [
    "df['booking_checkin_minus_created_days'].mode().values[0], df['booking_checkin_minus_created_days'].mean()"
   ]
  },
  {
   "cell_type": "code",
   "execution_count": 73,
   "id": "8508910d",
   "metadata": {
    "execution": {
     "iopub.execute_input": "2022-11-28T05:37:52.517931Z",
     "iopub.status.busy": "2022-11-28T05:37:52.517215Z",
     "iopub.status.idle": "2022-11-28T05:37:52.525623Z",
     "shell.execute_reply": "2022-11-28T05:37:52.524554Z"
    },
    "papermill": {
     "duration": 0.049167,
     "end_time": "2022-11-28T05:37:52.527924",
     "exception": false,
     "start_time": "2022-11-28T05:37:52.478757",
     "status": "completed"
    },
    "tags": []
   },
   "outputs": [],
   "source": [
    "df.loc[df['booking_checkin_minus_created_days'].isnull(), 'booking_checkin_minus_created_days'] = df['booking_checkin_minus_created_days'].mode().values[0]"
   ]
  },
  {
   "cell_type": "code",
   "execution_count": 74,
   "id": "4991c34c",
   "metadata": {
    "execution": {
     "iopub.execute_input": "2022-11-28T05:37:52.603814Z",
     "iopub.status.busy": "2022-11-28T05:37:52.603029Z",
     "iopub.status.idle": "2022-11-28T05:37:53.857921Z",
     "shell.execute_reply": "2022-11-28T05:37:53.856726Z"
    },
    "papermill": {
     "duration": 1.295811,
     "end_time": "2022-11-28T05:37:53.860434",
     "exception": false,
     "start_time": "2022-11-28T05:37:52.564623",
     "status": "completed"
    },
    "tags": []
   },
   "outputs": [
    {
     "data": {
      "text/plain": [
       "<AxesSubplot:xlabel='booking_checkin_minus_created_days', ylabel='Count'>"
      ]
     },
     "execution_count": 74,
     "metadata": {},
     "output_type": "execute_result"
    },
    {
     "data": {
      "image/png": "[encoded data removed]",
      "text/plain": [
       "<Figure size 432x288 with 1 Axes>"
      ]
     },
     "metadata": {
      "needs_background": "light"
     },
     "output_type": "display_data"
    }
   ],
   "source": [
    "sns.histplot(x = np.log2(df['booking_checkin_minus_created_days'] + 0.1), hue = df['set'])"
   ]
  },
  {
   "cell_type": "code",
   "execution_count": 75,
   "id": "45580d6c",
   "metadata": {
    "execution": {
     "iopub.execute_input": "2022-11-28T05:37:53.938236Z",
     "iopub.status.busy": "2022-11-28T05:37:53.937522Z",
     "iopub.status.idle": "2022-11-28T05:37:53.977853Z",
     "shell.execute_reply": "2022-11-28T05:37:53.976796Z"
    },
    "papermill": {
     "duration": 0.082299,
     "end_time": "2022-11-28T05:37:53.980537",
     "exception": false,
     "start_time": "2022-11-28T05:37:53.898238",
     "status": "completed"
    },
    "tags": []
   },
   "outputs": [],
   "source": [
    "df['booking_checkin_minus_created_days_log2'] = np.log2(df['booking_checkin_minus_created_days'] + 0.1)\n",
    "df.drop('booking_checkin_minus_created_days', axis = 1, inplace = True)"
   ]
  },
  {
   "cell_type": "code",
   "execution_count": 76,
   "id": "38b9c3c0",
   "metadata": {
    "execution": {
     "iopub.execute_input": "2022-11-28T05:37:54.060338Z",
     "iopub.status.busy": "2022-11-28T05:37:54.059601Z",
     "iopub.status.idle": "2022-11-28T05:37:56.881728Z",
     "shell.execute_reply": "2022-11-28T05:37:56.880459Z"
    },
    "papermill": {
     "duration": 2.864334,
     "end_time": "2022-11-28T05:37:56.884298",
     "exception": false,
     "start_time": "2022-11-28T05:37:54.019964",
     "status": "completed"
    },
    "tags": []
   },
   "outputs": [
    {
     "name": "stdout",
     "output_type": "stream",
     "text": [
      "4.96575 30.052368957053726\n"
     ]
    },
    {
     "data": {
      "text/plain": [
       "<AxesSubplot:xlabel='booking_checkin_minus_created_hours', ylabel='Count'>"
      ]
     },
     "execution_count": 76,
     "metadata": {},
     "output_type": "execute_result"
    },
    {
     "data": {
      "image/png": "[encoded data removed]",
      "text/plain": [
       "<Figure size 432x288 with 1 Axes>"
      ]
     },
     "metadata": {
      "needs_background": "light"
     },
     "output_type": "display_data"
    }
   ],
   "source": [
    "# booking_checkin_minus_created_hours\n",
    "print(df['booking_checkin_minus_created_hours'].mode().values[0], df['booking_checkin_minus_created_hours'].mean())\n",
    "sns.histplot(x = df['booking_checkin_minus_created_hours'] , hue = df['set']) # outlierrs"
   ]
  },
  {
   "cell_type": "code",
   "execution_count": 77,
   "id": "a1bbaf5f",
   "metadata": {
    "execution": {
     "iopub.execute_input": "2022-11-28T05:37:56.962687Z",
     "iopub.status.busy": "2022-11-28T05:37:56.962276Z",
     "iopub.status.idle": "2022-11-28T05:37:58.525225Z",
     "shell.execute_reply": "2022-11-28T05:37:58.523801Z"
    },
    "papermill": {
     "duration": 1.605863,
     "end_time": "2022-11-28T05:37:58.528330",
     "exception": false,
     "start_time": "2022-11-28T05:37:56.922467",
     "status": "completed"
    },
    "tags": []
   },
   "outputs": [
    {
     "data": {
      "text/plain": [
       "<AxesSubplot:xlabel='booking_checkin_minus_created_hours', ylabel='Count'>"
      ]
     },
     "execution_count": 77,
     "metadata": {},
     "output_type": "execute_result"
    },
    {
     "data": {
      "image/png": "[encoded data removed]",
      "text/plain": [
       "<Figure size 432x288 with 1 Axes>"
      ]
     },
     "metadata": {
      "needs_background": "light"
     },
     "output_type": "display_data"
    }
   ],
   "source": [
    "df.loc[df['booking_checkin_minus_created_hours'].isnull(), 'booking_checkin_minus_created_hours'] = 10 # seems like best value\n",
    "sns.histplot(x = np.log2(df['booking_checkin_minus_created_hours'] + 0.1), hue = df['set'])"
   ]
  },
  {
   "cell_type": "code",
   "execution_count": 78,
   "id": "09bba47a",
   "metadata": {
    "execution": {
     "iopub.execute_input": "2022-11-28T05:37:58.608995Z",
     "iopub.status.busy": "2022-11-28T05:37:58.608595Z",
     "iopub.status.idle": "2022-11-28T05:37:58.640078Z",
     "shell.execute_reply": "2022-11-28T05:37:58.638966Z"
    },
    "papermill": {
     "duration": 0.074772,
     "end_time": "2022-11-28T05:37:58.642952",
     "exception": false,
     "start_time": "2022-11-28T05:37:58.568180",
     "status": "completed"
    },
    "tags": []
   },
   "outputs": [],
   "source": [
    "df['booking_checkin_minus_created_hours_log2'] = np.log2(df['booking_checkin_minus_created_hours']) + 0.1\n",
    "df.drop('booking_checkin_minus_created_hours', axis = 1, inplace = True)"
   ]
  },
  {
   "cell_type": "code",
   "execution_count": null,
   "id": "9438d3b0",
   "metadata": {
    "papermill": {
     "duration": 0.037969,
     "end_time": "2022-11-28T05:37:58.719416",
     "exception": false,
     "start_time": "2022-11-28T05:37:58.681447",
     "status": "completed"
    },
    "tags": []
   },
   "outputs": [],
   "source": []
  },
  {
   "cell_type": "code",
   "execution_count": 79,
   "id": "cd31611a",
   "metadata": {
    "execution": {
     "iopub.execute_input": "2022-11-28T05:37:58.797486Z",
     "iopub.status.busy": "2022-11-28T05:37:58.797079Z",
     "iopub.status.idle": "2022-11-28T05:37:58.813258Z",
     "shell.execute_reply": "2022-11-28T05:37:58.812091Z"
    },
    "papermill": {
     "duration": 0.058406,
     "end_time": "2022-11-28T05:37:58.815985",
     "exception": false,
     "start_time": "2022-11-28T05:37:58.757579",
     "status": "completed"
    },
    "tags": []
   },
   "outputs": [],
   "source": [
    "# finally drop datetype wale columns\n",
    "df = df.drop(['booking_create_timestamp', 'booking_approved_at', 'booking_checkin_customer_date',\n",
    "              'booking_create_timestamp', 'booking_approved_at', 'booking_checkin_customer_date',\n",
    "             'booking_expiry_date_min', 'booking_expiry_date_max', 'booking_expiry_date_count'], axis=1)"
   ]
  },
  {
   "cell_type": "code",
   "execution_count": 80,
   "id": "08597023",
   "metadata": {
    "execution": {
     "iopub.execute_input": "2022-11-28T05:37:58.895020Z",
     "iopub.status.busy": "2022-11-28T05:37:58.894627Z",
     "iopub.status.idle": "2022-11-28T05:37:58.927478Z",
     "shell.execute_reply": "2022-11-28T05:37:58.925319Z"
    },
    "papermill": {
     "duration": 0.075741,
     "end_time": "2022-11-28T05:37:58.930517",
     "exception": false,
     "start_time": "2022-11-28T05:37:58.854776",
     "status": "completed"
    },
    "tags": []
   },
   "outputs": [
    {
     "name": "stdout",
     "output_type": "stream",
     "text": [
      "<class 'pandas.core.frame.DataFrame'>\n",
      "RangeIndex: 99079 entries, 0 to 99078\n",
      "Data columns (total 40 columns):\n",
      " #   Column                                     Non-Null Count  Dtype  \n",
      "---  ------                                     --------------  -----  \n",
      " 0   booking_id                                 99079 non-null  object \n",
      " 1   rating_score                               99079 non-null  int64  \n",
      " 2   set                                        99079 non-null  object \n",
      " 3   booking_status                             99079 non-null  int64  \n",
      " 4   country                                    99079 non-null  int64  \n",
      " 5   payment_type_mode                          99079 non-null  float64\n",
      " 6   payment_type_count                         99079 non-null  float64\n",
      " 7   payment_sequential_sum                     99079 non-null  float64\n",
      " 8   payment_installments_count                 99079 non-null  float64\n",
      " 9   payment_installments_sum                   99079 non-null  float64\n",
      " 10  payment_value_count                        99079 non-null  float64\n",
      " 11  booking_sequence_id_max                    99079 non-null  float64\n",
      " 12  hotel_category_max                         99079 non-null  float64\n",
      " 13  hotel_category_count                       99079 non-null  float64\n",
      " 14  hotel_name_length_mean                     99079 non-null  float64\n",
      " 15  hotel_photos_qty_mean                      99079 non-null  float64\n",
      " 16  seller_agent_id_count                      99079 non-null  float64\n",
      " 17  booking_create_timestamp_year              99079 non-null  int64  \n",
      " 18  booking_create_timestamp_month             99079 non-null  int64  \n",
      " 19  booking_create_timestamp_week              99079 non-null  UInt32 \n",
      " 20  booking_create_timestamp_weekday           99079 non-null  int64  \n",
      " 21  booking_create_timestamp_hour              99079 non-null  int64  \n",
      " 22  booking_approved_at_year                   99079 non-null  float64\n",
      " 23  booking_approved_at_month                  99079 non-null  float64\n",
      " 24  booking_approved_at_week                   99079 non-null  UInt32 \n",
      " 25  booking_approved_at_weekday                99079 non-null  float64\n",
      " 26  booking_approved_at_hour                   99079 non-null  float64\n",
      " 27  booking_checkin_customer_date_year         99079 non-null  float64\n",
      " 28  booking_checkin_customer_date_month        99079 non-null  float64\n",
      " 29  booking_checkin_customer_date_week         99079 non-null  UInt32 \n",
      " 30  booking_checkin_customer_date_weekday      99079 non-null  float64\n",
      " 31  booking_checkin_customer_date_hour         99079 non-null  float64\n",
      " 32  payment_value_sum_log2                     99079 non-null  float64\n",
      " 33  price_sum_log2                             99079 non-null  float64\n",
      " 34  agent_fees_sum_log2                        99079 non-null  float64\n",
      " 35  hotel_description_length_mean_log2         99079 non-null  float64\n",
      " 36  booking_approved_minus_created_days        99079 non-null  float64\n",
      " 37  booking_approved_minus_created_hours_log2  99079 non-null  float64\n",
      " 38  booking_checkin_minus_created_days_log2    99079 non-null  float64\n",
      " 39  booking_checkin_minus_created_hours_log2   99079 non-null  float64\n",
      "dtypes: UInt32(3), float64(28), int64(7), object(2)\n",
      "memory usage: 29.4+ MB\n"
     ]
    }
   ],
   "source": [
    "df.info()"
   ]
  },
  {
   "cell_type": "code",
   "execution_count": 81,
   "id": "37c4b45d",
   "metadata": {
    "execution": {
     "iopub.execute_input": "2022-11-28T05:37:59.010984Z",
     "iopub.status.busy": "2022-11-28T05:37:59.010572Z",
     "iopub.status.idle": "2022-11-28T05:38:01.387123Z",
     "shell.execute_reply": "2022-11-28T05:38:01.385390Z"
    },
    "papermill": {
     "duration": 2.419487,
     "end_time": "2022-11-28T05:38:01.390035",
     "exception": false,
     "start_time": "2022-11-28T05:37:58.970548",
     "status": "completed"
    },
    "tags": []
   },
   "outputs": [],
   "source": [
    "df.to_csv('full_data_to_use_non_binned.csv',index=False)"
   ]
  },
  {
   "cell_type": "markdown",
   "id": "7869e0bb",
   "metadata": {
    "papermill": {
     "duration": 0.038219,
     "end_time": "2022-11-28T05:38:01.468037",
     "exception": false,
     "start_time": "2022-11-28T05:38:01.429818",
     "status": "completed"
    },
    "tags": []
   },
   "source": [
    "**outliers hatana padega kya**"
   ]
  },
  {
   "cell_type": "code",
   "execution_count": 82,
   "id": "ced78dd8",
   "metadata": {
    "execution": {
     "iopub.execute_input": "2022-11-28T05:38:01.547690Z",
     "iopub.status.busy": "2022-11-28T05:38:01.547233Z",
     "iopub.status.idle": "2022-11-28T05:38:01.552045Z",
     "shell.execute_reply": "2022-11-28T05:38:01.550911Z"
    },
    "papermill": {
     "duration": 0.047693,
     "end_time": "2022-11-28T05:38:01.554661",
     "exception": false,
     "start_time": "2022-11-28T05:38:01.506968",
     "status": "completed"
    },
    "tags": []
   },
   "outputs": [],
   "source": [
    "import seaborn as sns"
   ]
  },
  {
   "cell_type": "code",
   "execution_count": 83,
   "id": "fe29aec4",
   "metadata": {
    "execution": {
     "iopub.execute_input": "2022-11-28T05:38:01.634722Z",
     "iopub.status.busy": "2022-11-28T05:38:01.634281Z",
     "iopub.status.idle": "2022-11-28T05:38:01.805000Z",
     "shell.execute_reply": "2022-11-28T05:38:01.803732Z"
    },
    "papermill": {
     "duration": 0.213919,
     "end_time": "2022-11-28T05:38:01.807438",
     "exception": false,
     "start_time": "2022-11-28T05:38:01.593519",
     "status": "completed"
    },
    "tags": []
   },
   "outputs": [
    {
     "data": {
      "text/plain": [
       "<AxesSubplot:ylabel='count'>"
      ]
     },
     "execution_count": 83,
     "metadata": {},
     "output_type": "execute_result"
    },
    {
     "data": {
      "image/png": "[encoded data removed]",
      "text/plain": [
       "<Figure size 432x288 with 1 Axes>"
      ]
     },
     "metadata": {
      "needs_background": "light"
     },
     "output_type": "display_data"
    }
   ],
   "source": [
    "sns.countplot()"
   ]
  },
  {
   "cell_type": "code",
   "execution_count": 84,
   "id": "fae0061b",
   "metadata": {
    "execution": {
     "iopub.execute_input": "2022-11-28T05:38:01.888483Z",
     "iopub.status.busy": "2022-11-28T05:38:01.888077Z",
     "iopub.status.idle": "2022-11-28T05:38:01.893009Z",
     "shell.execute_reply": "2022-11-28T05:38:01.891860Z"
    },
    "papermill": {
     "duration": 0.047702,
     "end_time": "2022-11-28T05:38:01.895347",
     "exception": false,
     "start_time": "2022-11-28T05:38:01.847645",
     "status": "completed"
    },
    "tags": []
   },
   "outputs": [],
   "source": [
    "# df.loc[df['set'] == 'training', 'booking_approved_minus_created_days'].plot.hist()"
   ]
  },
  {
   "cell_type": "code",
   "execution_count": 85,
   "id": "894fd501",
   "metadata": {
    "execution": {
     "iopub.execute_input": "2022-11-28T05:38:01.975684Z",
     "iopub.status.busy": "2022-11-28T05:38:01.975235Z",
     "iopub.status.idle": "2022-11-28T05:38:01.980270Z",
     "shell.execute_reply": "2022-11-28T05:38:01.979035Z"
    },
    "papermill": {
     "duration": 0.047516,
     "end_time": "2022-11-28T05:38:01.982467",
     "exception": false,
     "start_time": "2022-11-28T05:38:01.934951",
     "status": "completed"
    },
    "tags": []
   },
   "outputs": [],
   "source": [
    "# df.loc[df['set'] == 'testing', 'booking_approved_minus_created_days'].plot.hist()"
   ]
  },
  {
   "cell_type": "code",
   "execution_count": 86,
   "id": "50519d5b",
   "metadata": {
    "execution": {
     "iopub.execute_input": "2022-11-28T05:38:02.063509Z",
     "iopub.status.busy": "2022-11-28T05:38:02.062411Z",
     "iopub.status.idle": "2022-11-28T05:38:02.068054Z",
     "shell.execute_reply": "2022-11-28T05:38:02.066849Z"
    },
    "papermill": {
     "duration": 0.049378,
     "end_time": "2022-11-28T05:38:02.070501",
     "exception": false,
     "start_time": "2022-11-28T05:38:02.021123",
     "status": "completed"
    },
    "tags": []
   },
   "outputs": [],
   "source": [
    "# (df['booking_approved_at'] - df['booking_create_timestamp']).dt.days.plot.hist()"
   ]
  },
  {
   "cell_type": "code",
   "execution_count": 87,
   "id": "59d934ef",
   "metadata": {
    "execution": {
     "iopub.execute_input": "2022-11-28T05:38:02.151384Z",
     "iopub.status.busy": "2022-11-28T05:38:02.149924Z",
     "iopub.status.idle": "2022-11-28T05:38:02.154922Z",
     "shell.execute_reply": "2022-11-28T05:38:02.154079Z"
    },
    "papermill": {
     "duration": 0.047613,
     "end_time": "2022-11-28T05:38:02.157201",
     "exception": false,
     "start_time": "2022-11-28T05:38:02.109588",
     "status": "completed"
    },
    "tags": []
   },
   "outputs": [],
   "source": [
    "# # checkin minus created\n",
    "# (df['booking_checkin_customer_date'] - df['booking_create_timestamp']).dt.days.plot.hist()"
   ]
  },
  {
   "cell_type": "code",
   "execution_count": null,
   "id": "4a8ae3b6",
   "metadata": {
    "papermill": {
     "duration": 0.03922,
     "end_time": "2022-11-28T05:38:02.235213",
     "exception": false,
     "start_time": "2022-11-28T05:38:02.195993",
     "status": "completed"
    },
    "tags": []
   },
   "outputs": [],
   "source": []
  },
  {
   "cell_type": "code",
   "execution_count": null,
   "id": "fee06ef5",
   "metadata": {
    "papermill": {
     "duration": 0.03891,
     "end_time": "2022-11-28T05:38:02.313811",
     "exception": false,
     "start_time": "2022-11-28T05:38:02.274901",
     "status": "completed"
    },
    "tags": []
   },
   "outputs": [],
   "source": []
  },
  {
   "cell_type": "code",
   "execution_count": null,
   "id": "86cbcd36",
   "metadata": {
    "papermill": {
     "duration": 0.038505,
     "end_time": "2022-11-28T05:38:02.390984",
     "exception": false,
     "start_time": "2022-11-28T05:38:02.352479",
     "status": "completed"
    },
    "tags": []
   },
   "outputs": [],
   "source": []
  },
  {
   "cell_type": "code",
   "execution_count": null,
   "id": "5a456250",
   "metadata": {
    "papermill": {
     "duration": 0.039003,
     "end_time": "2022-11-28T05:38:02.469194",
     "exception": false,
     "start_time": "2022-11-28T05:38:02.430191",
     "status": "completed"
    },
    "tags": []
   },
   "outputs": [],
   "source": []
  },
  {
   "cell_type": "markdown",
   "id": "036dcf41",
   "metadata": {
    "papermill": {
     "duration": 0.039371,
     "end_time": "2022-11-28T05:38:02.547958",
     "exception": false,
     "start_time": "2022-11-28T05:38:02.508587",
     "status": "completed"
    },
    "tags": []
   },
   "source": [
    "**expiry date ke min aur max to lite hi lagte hai**"
   ]
  },
  {
   "cell_type": "code",
   "execution_count": 88,
   "id": "c742d373",
   "metadata": {
    "execution": {
     "iopub.execute_input": "2022-11-28T05:38:02.631671Z",
     "iopub.status.busy": "2022-11-28T05:38:02.631222Z",
     "iopub.status.idle": "2022-11-28T05:38:02.635924Z",
     "shell.execute_reply": "2022-11-28T05:38:02.634762Z"
    },
    "papermill": {
     "duration": 0.049123,
     "end_time": "2022-11-28T05:38:02.638406",
     "exception": false,
     "start_time": "2022-11-28T05:38:02.589283",
     "status": "completed"
    },
    "tags": []
   },
   "outputs": [],
   "source": [
    "# fig, axs = plt.subplots(2, 3, figsize = (20,10))\n",
    "\n",
    "# df.groupby(df[\"booking_expiry_date_min\"].dt.year)['booking_id'].count().plot(kind=\"bar\", ax = axs[0,0])\n",
    "# df.groupby(df[\"booking_expiry_date_min\"].dt.month)['booking_id'].count().plot(kind=\"bar\", ax = axs[0,1])\n",
    "# df.groupby(df[\"booking_expiry_date_min\"].dt.day)['booking_id'].count().plot(kind=\"bar\", ax = axs[0,2])\n",
    "# df.groupby(df[\"booking_expiry_date_min\"].dt.isocalendar().week)['booking_id'].count().plot(kind=\"bar\", ax = axs[1,0])\n",
    "# df.groupby(df[\"booking_expiry_date_min\"].dt.hour)['booking_id'].count().plot(kind=\"bar\", ax = axs[1,1])\n",
    "# df.groupby(df[\"booking_expiry_date_min\"].dt.weekday)['booking_id'].count().plot(kind=\"bar\", ax = axs[1,2])\n",
    "# fig.suptitle('booking_expiry_date_min')\n",
    "\n",
    "# plt.show()"
   ]
  },
  {
   "cell_type": "code",
   "execution_count": 89,
   "id": "31127e2e",
   "metadata": {
    "execution": {
     "iopub.execute_input": "2022-11-28T05:38:02.718016Z",
     "iopub.status.busy": "2022-11-28T05:38:02.717204Z",
     "iopub.status.idle": "2022-11-28T05:38:02.722456Z",
     "shell.execute_reply": "2022-11-28T05:38:02.721589Z"
    },
    "papermill": {
     "duration": 0.047585,
     "end_time": "2022-11-28T05:38:02.724747",
     "exception": false,
     "start_time": "2022-11-28T05:38:02.677162",
     "status": "completed"
    },
    "tags": []
   },
   "outputs": [],
   "source": [
    "# fig, axs = plt.subplots(2, 3, figsize = (20,10))\n",
    "\n",
    "# df.groupby(df[\"booking_expiry_date_max\"].dt.year)['booking_id'].count().plot(kind=\"bar\", ax = axs[0,0])\n",
    "# df.groupby(df[\"booking_expiry_date_max\"].dt.month)['booking_id'].count().plot(kind=\"bar\", ax = axs[0,1])\n",
    "# df.groupby(df[\"booking_expiry_date_max\"].dt.day)['booking_id'].count().plot(kind=\"bar\", ax = axs[0,2])\n",
    "# df.groupby(df[\"booking_expiry_date_max\"].dt.isocalendar().week)['booking_id'].count().plot(kind=\"bar\", ax = axs[1,0])\n",
    "# df.groupby(df[\"booking_expiry_date_max\"].dt.hour)['booking_id'].count().plot(kind=\"bar\", ax = axs[1,1])\n",
    "# df.groupby(df[\"booking_expiry_date_max\"].dt.weekday)['booking_id'].count().plot(kind=\"bar\", ax = axs[1,2])\n",
    "# fig.suptitle('booking_expiry_date_max')\n",
    "\n",
    "# plt.show()"
   ]
  },
  {
   "cell_type": "code",
   "execution_count": null,
   "id": "24a385dc",
   "metadata": {
    "papermill": {
     "duration": 0.038366,
     "end_time": "2022-11-28T05:38:02.801469",
     "exception": false,
     "start_time": "2022-11-28T05:38:02.763103",
     "status": "completed"
    },
    "tags": []
   },
   "outputs": [],
   "source": []
  }
 ],
 "metadata": {
  "kernelspec": {
   "display_name": "Python 3",
   "language": "python",
   "name": "python3"
  },
  "language_info": {
   "codemirror_mode": {
    "name": "ipython",
    "version": 3
   },
   "file_extension": ".py",
   "mimetype": "text/x-python",
   "name": "python",
   "nbconvert_exporter": "python",
   "pygments_lexer": "ipython3",
   "version": "3.7.12"
  },
  "papermill": {
   "default_parameters": {},
   "duration": 99.256489,
   "end_time": "2022-11-28T05:38:05.391482",
   "environment_variables": {},
   "exception": null,
   "input_path": "__notebook__.ipynb",
   "output_path": "__notebook__.ipynb",
   "parameters": {},
   "start_time": "2022-11-28T05:36:26.134993",
   "version": "2.3.4"
  }
 },
 "nbformat": 4,
 "nbformat_minor": 5
}
