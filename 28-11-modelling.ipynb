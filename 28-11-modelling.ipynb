{
 "cells": [
  {
   "cell_type": "code",
   "execution_count": 1,
   "id": "d0cced25",
   "metadata": {
    "_cell_guid": "b1076dfc-b9ad-4769-8c92-a6c4dae69d19",
    "_uuid": "8f2839f25d086af736a60e9eeb907d3b93b6e0e5",
    "execution": {
     "iopub.execute_input": "2022-11-28T05:07:50.766292Z",
     "iopub.status.busy": "2022-11-28T05:07:50.765687Z",
     "iopub.status.idle": "2022-11-28T05:07:50.810531Z",
     "shell.execute_reply": "2022-11-28T05:07:50.809155Z"
    },
    "papermill": {
     "duration": 0.062916,
     "end_time": "2022-11-28T05:07:50.815049",
     "exception": false,
     "start_time": "2022-11-28T05:07:50.752133",
     "status": "completed"
    },
    "tags": []
   },
   "outputs": [
    {
     "name": "stdout",
     "output_type": "stream",
     "text": [
      "/kaggle/input/datacon-22/Processed_data/bookings.csv\n",
      "/kaggle/input/datacon-22/Processed_data/hotels_data.csv\n",
      "/kaggle/input/datacon-22/Processed_data/bookings_data.csv\n",
      "/kaggle/input/datacon-22/Processed_data/train_data.csv\n",
      "/kaggle/input/datacon-22/Processed_data/customer_data.csv\n",
      "/kaggle/input/datacon-22/Processed_data/sample_submission_5.csv\n",
      "/kaggle/input/datacon-22/Processed_data/payments_data.csv\n",
      "/kaggle/input/27-11-filtering-columns-date-new/__results__.html\n",
      "/kaggle/input/27-11-filtering-columns-date-new/__notebook__.ipynb\n",
      "/kaggle/input/27-11-filtering-columns-date-new/__output__.json\n",
      "/kaggle/input/27-11-filtering-columns-date-new/custom.css\n",
      "/kaggle/input/27-11-filtering-columns-date-new/full_data_to_use_27-11.csv\n",
      "/kaggle/input/27-11-filtering-columns-date-new/__results___files/__results___80_0.png\n",
      "/kaggle/input/27-11-filtering-columns-date-new/__results___files/__results___50_1.png\n",
      "/kaggle/input/27-11-filtering-columns-date-new/__results___files/__results___9_0.png\n",
      "/kaggle/input/27-11-filtering-columns-date-new/__results___files/__results___38_1.png\n",
      "/kaggle/input/27-11-filtering-columns-date-new/__results___files/__results___121_1.png\n",
      "/kaggle/input/27-11-filtering-columns-date-new/__results___files/__results___104_1.png\n",
      "/kaggle/input/27-11-filtering-columns-date-new/__results___files/__results___84_1.png\n",
      "/kaggle/input/27-11-filtering-columns-date-new/__results___files/__results___54_1.png\n",
      "/kaggle/input/27-11-filtering-columns-date-new/__results___files/__results___61_0.png\n",
      "/kaggle/input/27-11-filtering-columns-date-new/__results___files/__results___14_0.png\n",
      "/kaggle/input/27-11-filtering-columns-date-new/__results___files/__results___70_1.png\n",
      "/kaggle/input/27-11-filtering-columns-date-new/__results___files/__results___77_1.png\n",
      "/kaggle/input/27-11-filtering-columns-date-new/__results___files/__results___110_1.png\n",
      "/kaggle/input/27-11-filtering-columns-date-new/__results___files/__results___62_1.png\n",
      "/kaggle/input/27-11-filtering-columns-date-new/__results___files/__results___113_1.png\n",
      "/kaggle/input/27-11-filtering-columns-date-new/__results___files/__results___86_1.png\n",
      "/kaggle/input/27-11-filtering-columns-date-new/__results___files/__results___49_1.png\n",
      "/kaggle/input/27-11-filtering-columns-date-new/__results___files/__results___73_1.png\n",
      "/kaggle/input/27-11-filtering-columns-date-new/__results___files/__results___48_1.png\n",
      "/kaggle/input/27-11-filtering-columns-date-new/__results___files/__results___43_1.png\n",
      "/kaggle/input/27-11-filtering-columns-date-new/__results___files/__results___69_1.png\n",
      "/kaggle/input/27-11-filtering-columns-date-new/__results___files/__results___112_2.png\n",
      "/kaggle/input/27-11-filtering-columns-date-new/__results___files/__results___16_0.png\n",
      "/kaggle/input/27-11-filtering-columns-date-new/__results___files/__results___65_1.png\n",
      "/kaggle/input/27-11-filtering-columns-date-new/__results___files/__results___82_1.png\n",
      "/kaggle/input/27-11-filtering-columns-date-new/__results___files/__results___59_1.png\n",
      "/kaggle/input/27-11-filtering-columns-date-new/__results___files/__results___46_1.png\n",
      "/kaggle/input/27-11-filtering-columns-date-new/__results___files/__results___91_1.png\n",
      "/kaggle/input/27-11-filtering-columns-date-new/__results___files/__results___74_1.png\n",
      "/kaggle/input/27-11-filtering-columns-date-new/__results___files/__results___88_1.png\n",
      "/kaggle/input/27-11-filtering-columns-date-new/__results___files/__results___107_1.png\n",
      "/kaggle/input/27-11-filtering-columns-date-new/__results___files/__results___101_1.png\n"
     ]
    }
   ],
   "source": [
    "# This Python 3 environment comes with many helpful analytics libraries installed\n",
    "# It is defined by the kaggle/python Docker image: https://github.com/kaggle/docker-python\n",
    "# For example, here's several helpful packages to load\n",
    "\n",
    "import numpy as np # linear algebra\n",
    "import pandas as pd # data processing, CSV file I/O (e.g. pd.read_csv)\n",
    "\n",
    "# Input data files are available in the read-only \"../input/\" directory\n",
    "# For example, running this (by clicking run or pressing Shift+Enter) will list all files under the input directory\n",
    "\n",
    "import os\n",
    "for dirname, _, filenames in os.walk('/kaggle/input'):\n",
    "    for filename in filenames:\n",
    "        print(os.path.join(dirname, filename))\n",
    "\n",
    "# You can write up to 20GB to the current directory (/kaggle/working/) that gets preserved as output when you create a version using \"Save & Run All\" \n",
    "# You can also write temporary files to /kaggle/temp/, but they won't be saved outside of the current session"
   ]
  },
  {
   "cell_type": "code",
   "execution_count": 2,
   "id": "0a813881",
   "metadata": {
    "execution": {
     "iopub.execute_input": "2022-11-28T05:07:50.848208Z",
     "iopub.status.busy": "2022-11-28T05:07:50.847290Z",
     "iopub.status.idle": "2022-11-28T05:07:50.852569Z",
     "shell.execute_reply": "2022-11-28T05:07:50.851670Z"
    },
    "papermill": {
     "duration": 0.025688,
     "end_time": "2022-11-28T05:07:50.855711",
     "exception": false,
     "start_time": "2022-11-28T05:07:50.830023",
     "status": "completed"
    },
    "tags": []
   },
   "outputs": [],
   "source": [
    "import matplotlib.pyplot as plt"
   ]
  },
  {
   "cell_type": "code",
   "execution_count": 3,
   "id": "5ed2f79f",
   "metadata": {
    "execution": {
     "iopub.execute_input": "2022-11-28T05:07:50.885923Z",
     "iopub.status.busy": "2022-11-28T05:07:50.885282Z",
     "iopub.status.idle": "2022-11-28T05:07:51.906407Z",
     "shell.execute_reply": "2022-11-28T05:07:51.905274Z"
    },
    "papermill": {
     "duration": 1.039859,
     "end_time": "2022-11-28T05:07:51.909510",
     "exception": false,
     "start_time": "2022-11-28T05:07:50.869651",
     "status": "completed"
    },
    "tags": []
   },
   "outputs": [
    {
     "data": {
      "text/html": [
       "<div>\n",
       "<style scoped>\n",
       "    .dataframe tbody tr th:only-of-type {\n",
       "        vertical-align: middle;\n",
       "    }\n",
       "\n",
       "    .dataframe tbody tr th {\n",
       "        vertical-align: top;\n",
       "    }\n",
       "\n",
       "    .dataframe thead th {\n",
       "        text-align: right;\n",
       "    }\n",
       "</style>\n",
       "<table border=\"1\" class=\"dataframe\">\n",
       "  <thead>\n",
       "    <tr style=\"text-align: right;\">\n",
       "      <th></th>\n",
       "      <th>booking_id</th>\n",
       "      <th>rating_score</th>\n",
       "      <th>set</th>\n",
       "      <th>booking_status</th>\n",
       "      <th>country</th>\n",
       "      <th>payment_type_mode</th>\n",
       "      <th>payment_type_count</th>\n",
       "      <th>payment_sequential_sum</th>\n",
       "      <th>payment_installments_count</th>\n",
       "      <th>payment_installments_sum</th>\n",
       "      <th>...</th>\n",
       "      <th>booking_checkin_customer_date_weekday</th>\n",
       "      <th>booking_checkin_customer_date_hour</th>\n",
       "      <th>payment_value_sum_log2</th>\n",
       "      <th>price_sum_log2</th>\n",
       "      <th>agent_fees_sum_log2</th>\n",
       "      <th>hotel_description_length_mean_log2</th>\n",
       "      <th>booking_approved_minus_created_days</th>\n",
       "      <th>booking_approved_minus_created_hours_log2</th>\n",
       "      <th>booking_checkin_minus_created_days_log2</th>\n",
       "      <th>booking_checkin_minus_created_hours_log2</th>\n",
       "    </tr>\n",
       "  </thead>\n",
       "  <tbody>\n",
       "    <tr>\n",
       "      <th>0</th>\n",
       "      <td>87114b39712e6da79b0a377eb73fc7af</td>\n",
       "      <td>4</td>\n",
       "      <td>training</td>\n",
       "      <td>5</td>\n",
       "      <td>5</td>\n",
       "      <td>6.0</td>\n",
       "      <td>1.0</td>\n",
       "      <td>1.0</td>\n",
       "      <td>1.0</td>\n",
       "      <td>8.0</td>\n",
       "      <td>...</td>\n",
       "      <td>2.0</td>\n",
       "      <td>18.0</td>\n",
       "      <td>8.634303</td>\n",
       "      <td>8.631381</td>\n",
       "      <td>4.773996</td>\n",
       "      <td>9.844834</td>\n",
       "      <td>0.0</td>\n",
       "      <td>-1.372912</td>\n",
       "      <td>2.608809</td>\n",
       "      <td>3.979684</td>\n",
       "    </tr>\n",
       "    <tr>\n",
       "      <th>1</th>\n",
       "      <td>81e283fa7e4f11123a3fb894f18e6bfb</td>\n",
       "      <td>5</td>\n",
       "      <td>training</td>\n",
       "      <td>5</td>\n",
       "      <td>0</td>\n",
       "      <td>6.0</td>\n",
       "      <td>1.0</td>\n",
       "      <td>1.0</td>\n",
       "      <td>1.0</td>\n",
       "      <td>10.0</td>\n",
       "      <td>...</td>\n",
       "      <td>2.0</td>\n",
       "      <td>16.0</td>\n",
       "      <td>10.380840</td>\n",
       "      <td>10.327616</td>\n",
       "      <td>7.069853</td>\n",
       "      <td>9.234426</td>\n",
       "      <td>0.0</td>\n",
       "      <td>2.299147</td>\n",
       "      <td>4.177918</td>\n",
       "      <td>5.551460</td>\n",
       "    </tr>\n",
       "  </tbody>\n",
       "</table>\n",
       "<p>2 rows × 40 columns</p>\n",
       "</div>"
      ],
      "text/plain": [
       "                         booking_id  rating_score       set  booking_status  \\\n",
       "0  87114b39712e6da79b0a377eb73fc7af             4  training               5   \n",
       "1  81e283fa7e4f11123a3fb894f18e6bfb             5  training               5   \n",
       "\n",
       "   country  payment_type_mode  payment_type_count  payment_sequential_sum  \\\n",
       "0        5                6.0                 1.0                     1.0   \n",
       "1        0                6.0                 1.0                     1.0   \n",
       "\n",
       "   payment_installments_count  payment_installments_sum  ...  \\\n",
       "0                         1.0                       8.0  ...   \n",
       "1                         1.0                      10.0  ...   \n",
       "\n",
       "   booking_checkin_customer_date_weekday  booking_checkin_customer_date_hour  \\\n",
       "0                                    2.0                                18.0   \n",
       "1                                    2.0                                16.0   \n",
       "\n",
       "   payment_value_sum_log2  price_sum_log2  agent_fees_sum_log2  \\\n",
       "0                8.634303        8.631381             4.773996   \n",
       "1               10.380840       10.327616             7.069853   \n",
       "\n",
       "   hotel_description_length_mean_log2  booking_approved_minus_created_days  \\\n",
       "0                            9.844834                                  0.0   \n",
       "1                            9.234426                                  0.0   \n",
       "\n",
       "   booking_approved_minus_created_hours_log2  \\\n",
       "0                                  -1.372912   \n",
       "1                                   2.299147   \n",
       "\n",
       "   booking_checkin_minus_created_days_log2  \\\n",
       "0                                 2.608809   \n",
       "1                                 4.177918   \n",
       "\n",
       "   booking_checkin_minus_created_hours_log2  \n",
       "0                                  3.979684  \n",
       "1                                  5.551460  \n",
       "\n",
       "[2 rows x 40 columns]"
      ]
     },
     "execution_count": 3,
     "metadata": {},
     "output_type": "execute_result"
    }
   ],
   "source": [
    "df = pd.read_csv('/kaggle/input/27-11-filtering-columns-date-new/full_data_to_use_27-11.csv')\n",
    "df.head(2)"
   ]
  },
  {
   "cell_type": "code",
   "execution_count": 4,
   "id": "3d7107ed",
   "metadata": {
    "execution": {
     "iopub.execute_input": "2022-11-28T05:07:51.931397Z",
     "iopub.status.busy": "2022-11-28T05:07:51.930926Z",
     "iopub.status.idle": "2022-11-28T05:07:53.001239Z",
     "shell.execute_reply": "2022-11-28T05:07:52.999837Z"
    },
    "papermill": {
     "duration": 1.085039,
     "end_time": "2022-11-28T05:07:53.004659",
     "exception": false,
     "start_time": "2022-11-28T05:07:51.919620",
     "status": "completed"
    },
    "tags": []
   },
   "outputs": [],
   "source": [
    "from sklearn import model_selection"
   ]
  },
  {
   "cell_type": "code",
   "execution_count": 5,
   "id": "a9d756dc",
   "metadata": {
    "execution": {
     "iopub.execute_input": "2022-11-28T05:07:53.029655Z",
     "iopub.status.busy": "2022-11-28T05:07:53.029158Z",
     "iopub.status.idle": "2022-11-28T05:07:53.071720Z",
     "shell.execute_reply": "2022-11-28T05:07:53.070001Z"
    },
    "papermill": {
     "duration": 0.057755,
     "end_time": "2022-11-28T05:07:53.074867",
     "exception": false,
     "start_time": "2022-11-28T05:07:53.017112",
     "status": "completed"
    },
    "tags": []
   },
   "outputs": [],
   "source": [
    "df_train = df.loc[df['set'] == 'training']\n",
    "df_testing = df.loc[df['set'] == 'testing']"
   ]
  },
  {
   "cell_type": "code",
   "execution_count": 6,
   "id": "6a4a3a5c",
   "metadata": {
    "execution": {
     "iopub.execute_input": "2022-11-28T05:07:53.097501Z",
     "iopub.status.busy": "2022-11-28T05:07:53.096697Z",
     "iopub.status.idle": "2022-11-28T05:07:53.114206Z",
     "shell.execute_reply": "2022-11-28T05:07:53.113011Z"
    },
    "papermill": {
     "duration": 0.032021,
     "end_time": "2022-11-28T05:07:53.116987",
     "exception": false,
     "start_time": "2022-11-28T05:07:53.084966",
     "status": "completed"
    },
    "tags": []
   },
   "outputs": [],
   "source": [
    "df = df_train.copy() # likhne ko easy jayega aage"
   ]
  },
  {
   "cell_type": "code",
   "execution_count": 7,
   "id": "c777221f",
   "metadata": {
    "execution": {
     "iopub.execute_input": "2022-11-28T05:07:53.139652Z",
     "iopub.status.busy": "2022-11-28T05:07:53.138864Z",
     "iopub.status.idle": "2022-11-28T05:07:54.437291Z",
     "shell.execute_reply": "2022-11-28T05:07:54.436073Z"
    },
    "papermill": {
     "duration": 1.313186,
     "end_time": "2022-11-28T05:07:54.440252",
     "exception": false,
     "start_time": "2022-11-28T05:07:53.127066",
     "status": "completed"
    },
    "tags": []
   },
   "outputs": [],
   "source": [
    "# we create a new column called kfold and fill it with -1\n",
    "df[\"kfold\"] = -1\n",
    "\n",
    "# the next step is to randomize the rows of the data\n",
    "df = df.sample(frac=1).reset_index(drop=True)\n",
    "\n",
    "# fetch targets\n",
    "y = df.rating_score.values\n",
    "\n",
    "# initiate the kfold class from model_selection module\n",
    "kf = model_selection.StratifiedKFold(n_splits=5)\n",
    "\n",
    "# fill the new kfold column\n",
    "for f, (t_, v_) in enumerate(kf.split(X=df, y=y)):\n",
    "    df.loc[v_, 'kfold'] = f\n",
    "\n",
    "# save the new csv with kfold column\n",
    "df.to_csv(\"data_train_folds.csv\", index=False)"
   ]
  },
  {
   "cell_type": "code",
   "execution_count": 8,
   "id": "ac196247",
   "metadata": {
    "execution": {
     "iopub.execute_input": "2022-11-28T05:07:54.463628Z",
     "iopub.status.busy": "2022-11-28T05:07:54.462243Z",
     "iopub.status.idle": "2022-11-28T05:07:55.251642Z",
     "shell.execute_reply": "2022-11-28T05:07:55.250303Z"
    },
    "papermill": {
     "duration": 0.804228,
     "end_time": "2022-11-28T05:07:55.254845",
     "exception": false,
     "start_time": "2022-11-28T05:07:54.450617",
     "status": "completed"
    },
    "tags": []
   },
   "outputs": [],
   "source": [
    "df = pd.read_csv('/kaggle/working/data_train_folds.csv') # train\n",
    "df_testing = pd.read_csv('/kaggle/input/27-11-filtering-columns-date-new/full_data_to_use_27-11.csv')\n",
    "df_testing = df_testing.loc[df_testing['set'] == 'testing']"
   ]
  },
  {
   "cell_type": "code",
   "execution_count": null,
   "id": "dd356622",
   "metadata": {
    "papermill": {
     "duration": 0.00967,
     "end_time": "2022-11-28T05:07:55.274567",
     "exception": false,
     "start_time": "2022-11-28T05:07:55.264897",
     "status": "completed"
    },
    "tags": []
   },
   "outputs": [],
   "source": []
  },
  {
   "cell_type": "code",
   "execution_count": 9,
   "id": "30ebae17",
   "metadata": {
    "execution": {
     "iopub.execute_input": "2022-11-28T05:07:55.297353Z",
     "iopub.status.busy": "2022-11-28T05:07:55.296184Z",
     "iopub.status.idle": "2022-11-28T05:07:55.324682Z",
     "shell.execute_reply": "2022-11-28T05:07:55.323446Z"
    },
    "papermill": {
     "duration": 0.043008,
     "end_time": "2022-11-28T05:07:55.327596",
     "exception": false,
     "start_time": "2022-11-28T05:07:55.284588",
     "status": "completed"
    },
    "tags": []
   },
   "outputs": [
    {
     "data": {
      "text/html": [
       "<div>\n",
       "<style scoped>\n",
       "    .dataframe tbody tr th:only-of-type {\n",
       "        vertical-align: middle;\n",
       "    }\n",
       "\n",
       "    .dataframe tbody tr th {\n",
       "        vertical-align: top;\n",
       "    }\n",
       "\n",
       "    .dataframe thead th {\n",
       "        text-align: right;\n",
       "    }\n",
       "</style>\n",
       "<table border=\"1\" class=\"dataframe\">\n",
       "  <thead>\n",
       "    <tr style=\"text-align: right;\">\n",
       "      <th></th>\n",
       "      <th>booking_id</th>\n",
       "      <th>rating_score</th>\n",
       "      <th>set</th>\n",
       "      <th>booking_status</th>\n",
       "      <th>country</th>\n",
       "      <th>payment_type_mode</th>\n",
       "      <th>payment_type_count</th>\n",
       "      <th>payment_sequential_sum</th>\n",
       "      <th>payment_installments_count</th>\n",
       "      <th>payment_installments_sum</th>\n",
       "      <th>...</th>\n",
       "      <th>booking_checkin_customer_date_hour</th>\n",
       "      <th>payment_value_sum_log2</th>\n",
       "      <th>price_sum_log2</th>\n",
       "      <th>agent_fees_sum_log2</th>\n",
       "      <th>hotel_description_length_mean_log2</th>\n",
       "      <th>booking_approved_minus_created_days</th>\n",
       "      <th>booking_approved_minus_created_hours_log2</th>\n",
       "      <th>booking_checkin_minus_created_days_log2</th>\n",
       "      <th>booking_checkin_minus_created_hours_log2</th>\n",
       "      <th>kfold</th>\n",
       "    </tr>\n",
       "  </thead>\n",
       "  <tbody>\n",
       "    <tr>\n",
       "      <th>0</th>\n",
       "      <td>d056e978c305b3134cf612e5286ca4b6</td>\n",
       "      <td>5</td>\n",
       "      <td>training</td>\n",
       "      <td>5</td>\n",
       "      <td>1</td>\n",
       "      <td>6.0</td>\n",
       "      <td>1.0</td>\n",
       "      <td>1.0</td>\n",
       "      <td>1.0</td>\n",
       "      <td>1.0</td>\n",
       "      <td>...</td>\n",
       "      <td>16.0</td>\n",
       "      <td>5.242984</td>\n",
       "      <td>5.006410</td>\n",
       "      <td>2.978196</td>\n",
       "      <td>9.701771</td>\n",
       "      <td>0.0</td>\n",
       "      <td>-1.640104</td>\n",
       "      <td>2.035624</td>\n",
       "      <td>3.373893</td>\n",
       "      <td>0</td>\n",
       "    </tr>\n",
       "    <tr>\n",
       "      <th>1</th>\n",
       "      <td>1623c2fc6be250ca6f1c55f7ccb17dea</td>\n",
       "      <td>5</td>\n",
       "      <td>training</td>\n",
       "      <td>5</td>\n",
       "      <td>2</td>\n",
       "      <td>6.0</td>\n",
       "      <td>1.0</td>\n",
       "      <td>1.0</td>\n",
       "      <td>1.0</td>\n",
       "      <td>4.0</td>\n",
       "      <td>...</td>\n",
       "      <td>19.0</td>\n",
       "      <td>6.369990</td>\n",
       "      <td>6.242005</td>\n",
       "      <td>3.595742</td>\n",
       "      <td>9.213742</td>\n",
       "      <td>0.0</td>\n",
       "      <td>-1.555215</td>\n",
       "      <td>2.608809</td>\n",
       "      <td>4.140427</td>\n",
       "      <td>0</td>\n",
       "    </tr>\n",
       "  </tbody>\n",
       "</table>\n",
       "<p>2 rows × 41 columns</p>\n",
       "</div>"
      ],
      "text/plain": [
       "                         booking_id  rating_score       set  booking_status  \\\n",
       "0  d056e978c305b3134cf612e5286ca4b6             5  training               5   \n",
       "1  1623c2fc6be250ca6f1c55f7ccb17dea             5  training               5   \n",
       "\n",
       "   country  payment_type_mode  payment_type_count  payment_sequential_sum  \\\n",
       "0        1                6.0                 1.0                     1.0   \n",
       "1        2                6.0                 1.0                     1.0   \n",
       "\n",
       "   payment_installments_count  payment_installments_sum  ...  \\\n",
       "0                         1.0                       1.0  ...   \n",
       "1                         1.0                       4.0  ...   \n",
       "\n",
       "   booking_checkin_customer_date_hour  payment_value_sum_log2  price_sum_log2  \\\n",
       "0                                16.0                5.242984        5.006410   \n",
       "1                                19.0                6.369990        6.242005   \n",
       "\n",
       "   agent_fees_sum_log2  hotel_description_length_mean_log2  \\\n",
       "0             2.978196                            9.701771   \n",
       "1             3.595742                            9.213742   \n",
       "\n",
       "   booking_approved_minus_created_days  \\\n",
       "0                                  0.0   \n",
       "1                                  0.0   \n",
       "\n",
       "   booking_approved_minus_created_hours_log2  \\\n",
       "0                                  -1.640104   \n",
       "1                                  -1.555215   \n",
       "\n",
       "   booking_checkin_minus_created_days_log2  \\\n",
       "0                                 2.035624   \n",
       "1                                 2.608809   \n",
       "\n",
       "   booking_checkin_minus_created_hours_log2  kfold  \n",
       "0                                  3.373893      0  \n",
       "1                                  4.140427      0  \n",
       "\n",
       "[2 rows x 41 columns]"
      ]
     },
     "execution_count": 9,
     "metadata": {},
     "output_type": "execute_result"
    }
   ],
   "source": [
    "df.head(2)"
   ]
  },
  {
   "cell_type": "code",
   "execution_count": 10,
   "id": "7e52bd3d",
   "metadata": {
    "execution": {
     "iopub.execute_input": "2022-11-28T05:07:55.351265Z",
     "iopub.status.busy": "2022-11-28T05:07:55.350289Z",
     "iopub.status.idle": "2022-11-28T05:07:55.363047Z",
     "shell.execute_reply": "2022-11-28T05:07:55.361924Z"
    },
    "papermill": {
     "duration": 0.026847,
     "end_time": "2022-11-28T05:07:55.365362",
     "exception": false,
     "start_time": "2022-11-28T05:07:55.338515",
     "status": "completed"
    },
    "tags": []
   },
   "outputs": [
    {
     "data": {
      "text/plain": [
       "0    10000\n",
       "1    10000\n",
       "2    10000\n",
       "3    10000\n",
       "4    10000\n",
       "Name: kfold, dtype: int64"
      ]
     },
     "execution_count": 10,
     "metadata": {},
     "output_type": "execute_result"
    }
   ],
   "source": [
    "df['kfold'].value_counts()"
   ]
  },
  {
   "cell_type": "code",
   "execution_count": 11,
   "id": "ce57c37f",
   "metadata": {
    "execution": {
     "iopub.execute_input": "2022-11-28T05:07:55.388596Z",
     "iopub.status.busy": "2022-11-28T05:07:55.387773Z",
     "iopub.status.idle": "2022-11-28T05:07:55.398007Z",
     "shell.execute_reply": "2022-11-28T05:07:55.397006Z"
    },
    "papermill": {
     "duration": 0.024942,
     "end_time": "2022-11-28T05:07:55.400812",
     "exception": false,
     "start_time": "2022-11-28T05:07:55.375870",
     "status": "completed"
    },
    "tags": []
   },
   "outputs": [],
   "source": [
    "df.drop([\"booking_id\", 'set'], axis=1, inplace = True)"
   ]
  },
  {
   "cell_type": "code",
   "execution_count": 12,
   "id": "ac29035c",
   "metadata": {
    "execution": {
     "iopub.execute_input": "2022-11-28T05:07:55.425100Z",
     "iopub.status.busy": "2022-11-28T05:07:55.424338Z",
     "iopub.status.idle": "2022-11-28T05:07:55.434425Z",
     "shell.execute_reply": "2022-11-28T05:07:55.433328Z"
    },
    "papermill": {
     "duration": 0.025017,
     "end_time": "2022-11-28T05:07:55.437195",
     "exception": false,
     "start_time": "2022-11-28T05:07:55.412178",
     "status": "completed"
    },
    "tags": []
   },
   "outputs": [
    {
     "data": {
      "text/plain": [
       "5    28961\n",
       "4     9576\n",
       "1     5755\n",
       "3     4167\n",
       "2     1541\n",
       "Name: rating_score, dtype: int64"
      ]
     },
     "execution_count": 12,
     "metadata": {},
     "output_type": "execute_result"
    }
   ],
   "source": [
    "df['rating_score'].value_counts()"
   ]
  },
  {
   "cell_type": "code",
   "execution_count": 13,
   "id": "253d81d0",
   "metadata": {
    "execution": {
     "iopub.execute_input": "2022-11-28T05:07:55.461046Z",
     "iopub.status.busy": "2022-11-28T05:07:55.460581Z",
     "iopub.status.idle": "2022-11-28T05:07:55.472197Z",
     "shell.execute_reply": "2022-11-28T05:07:55.470743Z"
    },
    "papermill": {
     "duration": 0.027157,
     "end_time": "2022-11-28T05:07:55.474968",
     "exception": false,
     "start_time": "2022-11-28T05:07:55.447811",
     "status": "completed"
    },
    "tags": []
   },
   "outputs": [],
   "source": [
    "# when predicting do\n",
    "df_testing.drop([\"booking_id\", 'set'], axis=1, inplace = True)"
   ]
  },
  {
   "cell_type": "markdown",
   "id": "eafbbd4a",
   "metadata": {
    "papermill": {
     "duration": 0.010116,
     "end_time": "2022-11-28T05:07:55.495784",
     "exception": false,
     "start_time": "2022-11-28T05:07:55.485668",
     "status": "completed"
    },
    "tags": []
   },
   "source": [
    "## Simple Decision Tree Classifier"
   ]
  },
  {
   "cell_type": "code",
   "execution_count": 14,
   "id": "030193ce",
   "metadata": {
    "execution": {
     "iopub.execute_input": "2022-11-28T05:07:55.518762Z",
     "iopub.status.busy": "2022-11-28T05:07:55.518235Z",
     "iopub.status.idle": "2022-11-28T05:07:55.670772Z",
     "shell.execute_reply": "2022-11-28T05:07:55.669310Z"
    },
    "papermill": {
     "duration": 0.16781,
     "end_time": "2022-11-28T05:07:55.674068",
     "exception": false,
     "start_time": "2022-11-28T05:07:55.506258",
     "status": "completed"
    },
    "tags": []
   },
   "outputs": [],
   "source": [
    "import joblib\n",
    "from sklearn import metrics\n",
    "from sklearn import tree"
   ]
  },
  {
   "cell_type": "code",
   "execution_count": 15,
   "id": "5333240c",
   "metadata": {
    "execution": {
     "iopub.execute_input": "2022-11-28T05:07:55.698131Z",
     "iopub.status.busy": "2022-11-28T05:07:55.697610Z",
     "iopub.status.idle": "2022-11-28T05:07:55.708411Z",
     "shell.execute_reply": "2022-11-28T05:07:55.707108Z"
    },
    "papermill": {
     "duration": 0.02611,
     "end_time": "2022-11-28T05:07:55.711348",
     "exception": false,
     "start_time": "2022-11-28T05:07:55.685238",
     "status": "completed"
    },
    "tags": []
   },
   "outputs": [],
   "source": [
    "def run_DT(fold):\n",
    "        \n",
    "    # training data is where kfold is not equal to provided fold\n",
    "    # also, note that we reset the index\n",
    "    df_train = df[df.kfold != fold].reset_index(drop=True)\n",
    "    \n",
    "    # validation data is where kfold is equal to provided fold\n",
    "    df_valid = df[df.kfold == fold].reset_index(drop=True)\n",
    "    \n",
    "    x_train = df_train.drop([\"rating_score\", \"kfold\"], axis=1).values\n",
    "    y_train = df_train.rating_score.values\n",
    "    \n",
    "    x_valid = df_valid.drop([\"rating_score\", \"kfold\"], axis=1).values\n",
    "    y_valid = df_valid.rating_score.values\n",
    "    \n",
    "    clf = tree.DecisionTreeClassifier(max_depth = 8, min_samples_split = 15, \n",
    "                                      min_samples_leaf = 5, class_weight = None,\n",
    "                                     criterion = 'entropy')\n",
    "    \n",
    "    clf.fit(x_train, y_train)\n",
    "    print(clf.get_depth(), clf.get_n_leaves())\n",
    "    \n",
    "    # create predictions for validation samples\n",
    "    preds = clf.predict(x_valid)\n",
    "\n",
    "    accuracy = metrics.accuracy_score(y_valid, preds)\n",
    "    mse = metrics.mean_squared_error(y_valid, preds)\n",
    "    \n",
    "    print(f\"Fold={fold}, Accuracy={accuracy}, MSE = {mse}\") #\", roc_auc = {roc_auc}\")\n",
    "    \n",
    "    # save the model\n",
    "    joblib.dump(clf, f\"/kaggle/working/dt_{fold}.bin\")"
   ]
  },
  {
   "cell_type": "code",
   "execution_count": 16,
   "id": "ff51cbd5",
   "metadata": {
    "execution": {
     "iopub.execute_input": "2022-11-28T05:07:55.735310Z",
     "iopub.status.busy": "2022-11-28T05:07:55.734788Z",
     "iopub.status.idle": "2022-11-28T05:07:58.660136Z",
     "shell.execute_reply": "2022-11-28T05:07:58.658740Z"
    },
    "papermill": {
     "duration": 2.941144,
     "end_time": "2022-11-28T05:07:58.663299",
     "exception": false,
     "start_time": "2022-11-28T05:07:55.722155",
     "status": "completed"
    },
    "tags": []
   },
   "outputs": [
    {
     "name": "stdout",
     "output_type": "stream",
     "text": [
      "8 158\n",
      "Fold=0, Accuracy=0.612, MSE = 2.0728\n",
      "8 179\n",
      "Fold=1, Accuracy=0.6112, MSE = 2.0666\n",
      "8 179\n",
      "Fold=2, Accuracy=0.6117, MSE = 2.0669\n",
      "8 186\n",
      "Fold=3, Accuracy=0.6131, MSE = 2.0022\n",
      "8 173\n",
      "Fold=4, Accuracy=0.6095, MSE = 2.0798\n"
     ]
    }
   ],
   "source": [
    " run_DT(fold=0)\n",
    " run_DT(fold=1)\n",
    " run_DT(fold=2)\n",
    " run_DT(fold=3)\n",
    " run_DT(fold=4)"
   ]
  },
  {
   "cell_type": "markdown",
   "id": "c98438f5",
   "metadata": {
    "papermill": {
     "duration": 0.010388,
     "end_time": "2022-11-28T05:07:58.684659",
     "exception": false,
     "start_time": "2022-11-28T05:07:58.674271",
     "status": "completed"
    },
    "tags": []
   },
   "source": [
    "## RF"
   ]
  },
  {
   "cell_type": "code",
   "execution_count": 17,
   "id": "b73f92da",
   "metadata": {
    "execution": {
     "iopub.execute_input": "2022-11-28T05:07:58.709699Z",
     "iopub.status.busy": "2022-11-28T05:07:58.708790Z",
     "iopub.status.idle": "2022-11-28T05:07:58.776354Z",
     "shell.execute_reply": "2022-11-28T05:07:58.775061Z"
    },
    "papermill": {
     "duration": 0.083623,
     "end_time": "2022-11-28T05:07:58.779558",
     "exception": false,
     "start_time": "2022-11-28T05:07:58.695935",
     "status": "completed"
    },
    "tags": []
   },
   "outputs": [],
   "source": [
    "from sklearn.ensemble import RandomForestClassifier"
   ]
  },
  {
   "cell_type": "code",
   "execution_count": 18,
   "id": "d1d5a403",
   "metadata": {
    "execution": {
     "iopub.execute_input": "2022-11-28T05:07:58.804631Z",
     "iopub.status.busy": "2022-11-28T05:07:58.803781Z",
     "iopub.status.idle": "2022-11-28T05:07:58.813538Z",
     "shell.execute_reply": "2022-11-28T05:07:58.812043Z"
    },
    "papermill": {
     "duration": 0.025295,
     "end_time": "2022-11-28T05:07:58.816462",
     "exception": false,
     "start_time": "2022-11-28T05:07:58.791167",
     "status": "completed"
    },
    "tags": []
   },
   "outputs": [],
   "source": [
    "def run_RF(fold):\n",
    "        \n",
    "    # training data is where kfold is not equal to provided fold\n",
    "    # also, note that we reset the index\n",
    "    df_train = df[df.kfold != fold].reset_index(drop=True)\n",
    "    \n",
    "    # validation data is where kfold is equal to provided fold\n",
    "    df_valid = df[df.kfold == fold].reset_index(drop=True)\n",
    "    \n",
    "    x_train = df_train.drop([\"rating_score\", \"kfold\"], axis=1).values\n",
    "    y_train = df_train.rating_score.values\n",
    "    \n",
    "    x_valid = df_valid.drop([\"rating_score\", \"kfold\"], axis=1).values\n",
    "    y_valid = df_valid.rating_score.values\n",
    "    \n",
    "    clf = RandomForestClassifier()\n",
    "    clf.fit(x_train, y_train)\n",
    "        \n",
    "    preds = clf.predict(x_valid)\n",
    "\n",
    "    # calculate & print accuracy\n",
    "    accuracy = metrics.accuracy_score(y_valid, preds)\n",
    "    mse = metrics.mean_squared_error(y_valid, preds)\n",
    "    \n",
    "    print(f\"Fold={fold}, Accuracy={accuracy}, MSE = {mse}\")\n",
    "    \n",
    "    joblib.dump(clf, f\"/kaggle/working/rf_{fold}.bin\")"
   ]
  },
  {
   "cell_type": "code",
   "execution_count": 19,
   "id": "4686b027",
   "metadata": {
    "execution": {
     "iopub.execute_input": "2022-11-28T05:07:58.841677Z",
     "iopub.status.busy": "2022-11-28T05:07:58.841177Z",
     "iopub.status.idle": "2022-11-28T05:09:18.607268Z",
     "shell.execute_reply": "2022-11-28T05:09:18.605926Z"
    },
    "papermill": {
     "duration": 79.782587,
     "end_time": "2022-11-28T05:09:18.610728",
     "exception": false,
     "start_time": "2022-11-28T05:07:58.828141",
     "status": "completed"
    },
    "tags": []
   },
   "outputs": [
    {
     "name": "stdout",
     "output_type": "stream",
     "text": [
      "Fold=0, Accuracy=0.6134, MSE = 2.0372\n",
      "Fold=1, Accuracy=0.6134, MSE = 2.0491\n",
      "Fold=2, Accuracy=0.6133, MSE = 2.0397\n",
      "Fold=3, Accuracy=0.6168, MSE = 1.9545\n",
      "Fold=4, Accuracy=0.6127, MSE = 2.0427\n"
     ]
    }
   ],
   "source": [
    " run_RF(fold=0)\n",
    " run_RF(fold=1)\n",
    " run_RF(fold=2)\n",
    " run_RF(fold=3)\n",
    " run_RF(fold=4)"
   ]
  },
  {
   "cell_type": "markdown",
   "id": "5b845b9f",
   "metadata": {
    "papermill": {
     "duration": 0.010655,
     "end_time": "2022-11-28T05:09:18.632706",
     "exception": false,
     "start_time": "2022-11-28T05:09:18.622051",
     "status": "completed"
    },
    "tags": []
   },
   "source": [
    "## Logistic Regression"
   ]
  },
  {
   "cell_type": "code",
   "execution_count": 20,
   "id": "bfc8cd0a",
   "metadata": {
    "execution": {
     "iopub.execute_input": "2022-11-28T05:09:18.657755Z",
     "iopub.status.busy": "2022-11-28T05:09:18.657249Z",
     "iopub.status.idle": "2022-11-28T05:09:18.663248Z",
     "shell.execute_reply": "2022-11-28T05:09:18.661854Z"
    },
    "papermill": {
     "duration": 0.021692,
     "end_time": "2022-11-28T05:09:18.665777",
     "exception": false,
     "start_time": "2022-11-28T05:09:18.644085",
     "status": "completed"
    },
    "tags": []
   },
   "outputs": [],
   "source": [
    "from sklearn.linear_model import LogisticRegression"
   ]
  },
  {
   "cell_type": "code",
   "execution_count": 21,
   "id": "4d671eab",
   "metadata": {
    "execution": {
     "iopub.execute_input": "2022-11-28T05:09:18.690131Z",
     "iopub.status.busy": "2022-11-28T05:09:18.689638Z",
     "iopub.status.idle": "2022-11-28T05:09:18.698868Z",
     "shell.execute_reply": "2022-11-28T05:09:18.697570Z"
    },
    "papermill": {
     "duration": 0.02461,
     "end_time": "2022-11-28T05:09:18.701271",
     "exception": false,
     "start_time": "2022-11-28T05:09:18.676661",
     "status": "completed"
    },
    "tags": []
   },
   "outputs": [],
   "source": [
    "def run_LR(fold):\n",
    "        \n",
    "    # training data is where kfold is not equal to provided fold\n",
    "    # also, note that we reset the index\n",
    "    df_train = df[df.kfold != fold].reset_index(drop=True)\n",
    "    \n",
    "    # validation data is where kfold is equal to provided fold\n",
    "    df_valid = df[df.kfold == fold].reset_index(drop=True)\n",
    "    \n",
    "    x_train = df_train.drop([\"rating_score\", \"kfold\"], axis=1).values\n",
    "    y_train = df_train.rating_score.values\n",
    "    \n",
    "    x_valid = df_valid.drop([\"rating_score\", \"kfold\"], axis=1).values\n",
    "    y_valid = df_valid.rating_score.values\n",
    "    \n",
    "    clf = LogisticRegression(solver = 'liblinear') #'newton-cg’, ‘lbfgs’ -- fails to converge, , ‘sag’, ‘saga’\n",
    "    clf.fit(x_train, y_train)\n",
    "        \n",
    "    preds = clf.predict(x_valid)\n",
    "\n",
    "    # calculate & print accuracy\n",
    "    accuracy = metrics.accuracy_score(y_valid, preds)\n",
    "    mse = metrics.mean_squared_error(y_valid, preds)\n",
    "    \n",
    "    print(f\"Fold={fold}, Accuracy={accuracy}, MSE = {mse}\")\n",
    "    \n",
    "    joblib.dump(clf, f\"/kaggle/working/lr_{fold}.bin\")"
   ]
  },
  {
   "cell_type": "code",
   "execution_count": 22,
   "id": "6b40ea15",
   "metadata": {
    "execution": {
     "iopub.execute_input": "2022-11-28T05:09:18.725284Z",
     "iopub.status.busy": "2022-11-28T05:09:18.724784Z",
     "iopub.status.idle": "2022-11-28T05:09:53.893870Z",
     "shell.execute_reply": "2022-11-28T05:09:53.891648Z"
    },
    "papermill": {
     "duration": 35.200697,
     "end_time": "2022-11-28T05:09:53.912947",
     "exception": false,
     "start_time": "2022-11-28T05:09:18.712250",
     "status": "completed"
    },
    "tags": []
   },
   "outputs": [
    {
     "name": "stdout",
     "output_type": "stream",
     "text": [
      "Fold=0, Accuracy=0.5989, MSE = 2.3235\n",
      "Fold=1, Accuracy=0.6004, MSE = 2.296\n",
      "Fold=2, Accuracy=0.6041, MSE = 2.2415\n",
      "Fold=3, Accuracy=0.6027, MSE = 2.2748\n",
      "Fold=4, Accuracy=0.6017, MSE = 2.2884\n"
     ]
    }
   ],
   "source": [
    " run_LR(fold=0)\n",
    " run_LR(fold=1)\n",
    " run_LR(fold=2)\n",
    " run_LR(fold=3)\n",
    " run_LR(fold=4)"
   ]
  },
  {
   "cell_type": "markdown",
   "id": "5d37af76",
   "metadata": {
    "papermill": {
     "duration": 0.031399,
     "end_time": "2022-11-28T05:09:53.975088",
     "exception": false,
     "start_time": "2022-11-28T05:09:53.943689",
     "status": "completed"
    },
    "tags": []
   },
   "source": [
    "## Try to make preds (from each model trained on little folds) -- later will have to retrain on all data?"
   ]
  },
  {
   "cell_type": "code",
   "execution_count": 23,
   "id": "40ed0b5c",
   "metadata": {
    "execution": {
     "iopub.execute_input": "2022-11-28T05:09:54.009851Z",
     "iopub.status.busy": "2022-11-28T05:09:54.009190Z",
     "iopub.status.idle": "2022-11-28T05:09:54.017801Z",
     "shell.execute_reply": "2022-11-28T05:09:54.016574Z"
    },
    "papermill": {
     "duration": 0.026628,
     "end_time": "2022-11-28T05:09:54.020502",
     "exception": false,
     "start_time": "2022-11-28T05:09:53.993874",
     "status": "completed"
    },
    "tags": []
   },
   "outputs": [
    {
     "name": "stdout",
     "output_type": "stream",
     "text": [
      "/kaggle/working/dt_0.bin\n",
      "/kaggle/working/dt_2.bin\n",
      "/kaggle/working/lr_2.bin\n",
      "/kaggle/working/lr_4.bin\n",
      "/kaggle/working/dt_4.bin\n",
      "/kaggle/working/rf_0.bin\n",
      "/kaggle/working/rf_3.bin\n",
      "/kaggle/working/lr_0.bin\n",
      "/kaggle/working/rf_2.bin\n",
      "/kaggle/working/lr_3.bin\n",
      "/kaggle/working/dt_3.bin\n",
      "/kaggle/working/rf_4.bin\n",
      "/kaggle/working/lr_1.bin\n",
      "/kaggle/working/rf_1.bin\n",
      "/kaggle/working/dt_1.bin\n"
     ]
    }
   ],
   "source": [
    "trained_models_list = []\n",
    "for dirname, _, filenames in os.walk('/kaggle/working'):\n",
    "    for filename in filenames:\n",
    "        if 'bin' in filename:\n",
    "            model = os.path.join(dirname, filename)\n",
    "            print(model)\n",
    "            trained_models_list.append(model)"
   ]
  },
  {
   "cell_type": "code",
   "execution_count": 24,
   "id": "21eec334",
   "metadata": {
    "execution": {
     "iopub.execute_input": "2022-11-28T05:09:54.047468Z",
     "iopub.status.busy": "2022-11-28T05:09:54.046713Z",
     "iopub.status.idle": "2022-11-28T05:09:55.910897Z",
     "shell.execute_reply": "2022-11-28T05:09:55.909459Z"
    },
    "papermill": {
     "duration": 1.8815,
     "end_time": "2022-11-28T05:09:55.914222",
     "exception": false,
     "start_time": "2022-11-28T05:09:54.032722",
     "status": "completed"
    },
    "tags": []
   },
   "outputs": [],
   "source": [
    "# clf = joblib.load('/kaggle/working/rf_1.bin')\n",
    "# clf\n",
    "models = [joblib.load(model_path) for model_path in trained_models_list]"
   ]
  },
  {
   "cell_type": "code",
   "execution_count": 25,
   "id": "d013e2d9",
   "metadata": {
    "execution": {
     "iopub.execute_input": "2022-11-28T05:09:55.940492Z",
     "iopub.status.busy": "2022-11-28T05:09:55.939220Z",
     "iopub.status.idle": "2022-11-28T05:10:06.044748Z",
     "shell.execute_reply": "2022-11-28T05:10:06.043249Z"
    },
    "papermill": {
     "duration": 10.121363,
     "end_time": "2022-11-28T05:10:06.047519",
     "exception": false,
     "start_time": "2022-11-28T05:09:55.926156",
     "status": "completed"
    },
    "tags": []
   },
   "outputs": [
    {
     "data": {
      "text/plain": [
       "array([[5, 5, 5, ..., 5, 5, 5],\n",
       "       [5, 5, 5, ..., 5, 5, 5],\n",
       "       [5, 5, 5, ..., 5, 5, 5],\n",
       "       ...,\n",
       "       [5, 5, 5, ..., 5, 5, 5],\n",
       "       [5, 5, 5, ..., 5, 5, 5],\n",
       "       [5, 5, 5, ..., 5, 5, 5]])"
      ]
     },
     "execution_count": 25,
     "metadata": {},
     "output_type": "execute_result"
    }
   ],
   "source": [
    "all_preds = np.array([clf.predict(df_testing.drop(\"rating_score\", axis=1).values) for clf in models])\n",
    "all_preds"
   ]
  },
  {
   "cell_type": "code",
   "execution_count": 26,
   "id": "c933f1b2",
   "metadata": {
    "execution": {
     "iopub.execute_input": "2022-11-28T05:10:06.074658Z",
     "iopub.status.busy": "2022-11-28T05:10:06.074118Z",
     "iopub.status.idle": "2022-11-28T05:10:06.081925Z",
     "shell.execute_reply": "2022-11-28T05:10:06.080829Z"
    },
    "papermill": {
     "duration": 0.024417,
     "end_time": "2022-11-28T05:10:06.084586",
     "exception": false,
     "start_time": "2022-11-28T05:10:06.060169",
     "status": "completed"
    },
    "tags": []
   },
   "outputs": [
    {
     "data": {
      "text/plain": [
       "(15, 49079)"
      ]
     },
     "execution_count": 26,
     "metadata": {},
     "output_type": "execute_result"
    }
   ],
   "source": [
    "all_preds.shape"
   ]
  },
  {
   "cell_type": "code",
   "execution_count": 27,
   "id": "645307aa",
   "metadata": {
    "execution": {
     "iopub.execute_input": "2022-11-28T05:10:06.112492Z",
     "iopub.status.busy": "2022-11-28T05:10:06.111135Z",
     "iopub.status.idle": "2022-11-28T05:10:06.123830Z",
     "shell.execute_reply": "2022-11-28T05:10:06.122321Z"
    },
    "papermill": {
     "duration": 0.029399,
     "end_time": "2022-11-28T05:10:06.126346",
     "exception": false,
     "start_time": "2022-11-28T05:10:06.096947",
     "status": "completed"
    },
    "tags": []
   },
   "outputs": [
    {
     "data": {
      "text/plain": [
       "array([1.        , 1.06666667, 1.13333333, 1.2       , 1.26666667,\n",
       "       1.33333333, 1.4       , 1.46666667, 1.53333333, 1.6       ,\n",
       "       1.66666667, 1.73333333, 1.8       , 1.86666667, 1.93333333,\n",
       "       2.        , 2.06666667, 2.13333333, 2.2       , 2.26666667,\n",
       "       2.33333333, 2.4       , 2.46666667, 2.53333333, 2.6       ,\n",
       "       2.66666667, 2.73333333, 2.8       , 2.86666667, 2.93333333,\n",
       "       3.        , 3.06666667, 3.13333333, 3.2       , 3.26666667,\n",
       "       3.33333333, 3.4       , 3.46666667, 3.53333333, 3.6       ,\n",
       "       3.66666667, 3.73333333, 3.8       , 3.86666667, 3.93333333,\n",
       "       4.        , 4.06666667, 4.13333333, 4.2       , 4.26666667,\n",
       "       4.33333333, 4.4       , 4.46666667, 4.53333333, 4.6       ,\n",
       "       4.66666667, 4.73333333, 4.8       , 4.86666667, 4.93333333,\n",
       "       5.        ])"
      ]
     },
     "execution_count": 27,
     "metadata": {},
     "output_type": "execute_result"
    }
   ],
   "source": [
    "mean_preds = np.mean(all_preds, axis = 0)\n",
    "np.unique(mean_preds)"
   ]
  },
  {
   "cell_type": "code",
   "execution_count": 28,
   "id": "7eb49c1f",
   "metadata": {
    "execution": {
     "iopub.execute_input": "2022-11-28T05:10:06.152467Z",
     "iopub.status.busy": "2022-11-28T05:10:06.151988Z",
     "iopub.status.idle": "2022-11-28T05:10:06.157568Z",
     "shell.execute_reply": "2022-11-28T05:10:06.156070Z"
    },
    "papermill": {
     "duration": 0.02161,
     "end_time": "2022-11-28T05:10:06.159921",
     "exception": false,
     "start_time": "2022-11-28T05:10:06.138311",
     "status": "completed"
    },
    "tags": []
   },
   "outputs": [],
   "source": [
    "from scipy import stats"
   ]
  },
  {
   "cell_type": "code",
   "execution_count": 29,
   "id": "4b4a7600",
   "metadata": {
    "execution": {
     "iopub.execute_input": "2022-11-28T05:10:06.185612Z",
     "iopub.status.busy": "2022-11-28T05:10:06.185078Z",
     "iopub.status.idle": "2022-11-28T05:10:07.396390Z",
     "shell.execute_reply": "2022-11-28T05:10:07.394897Z"
    },
    "papermill": {
     "duration": 1.227236,
     "end_time": "2022-11-28T05:10:07.399129",
     "exception": false,
     "start_time": "2022-11-28T05:10:06.171893",
     "status": "completed"
    },
    "tags": []
   },
   "outputs": [
    {
     "data": {
      "text/plain": [
       "ModeResult(mode=array([[5, 5, 5, ..., 5, 5, 5]]), count=array([[15, 15, 15, ..., 15, 15, 15]]))"
      ]
     },
     "execution_count": 29,
     "metadata": {},
     "output_type": "execute_result"
    }
   ],
   "source": [
    "mode_preds = stats.mode(all_preds)\n",
    "mode_preds"
   ]
  },
  {
   "cell_type": "code",
   "execution_count": 30,
   "id": "145ee36d",
   "metadata": {
    "execution": {
     "iopub.execute_input": "2022-11-28T05:10:07.424586Z",
     "iopub.status.busy": "2022-11-28T05:10:07.424072Z",
     "iopub.status.idle": "2022-11-28T05:10:07.432105Z",
     "shell.execute_reply": "2022-11-28T05:10:07.430771Z"
    },
    "papermill": {
     "duration": 0.023803,
     "end_time": "2022-11-28T05:10:07.434713",
     "exception": false,
     "start_time": "2022-11-28T05:10:07.410910",
     "status": "completed"
    },
    "tags": []
   },
   "outputs": [
    {
     "data": {
      "text/plain": [
       "array([[5, 5, 5, ..., 5, 5, 5]])"
      ]
     },
     "execution_count": 30,
     "metadata": {},
     "output_type": "execute_result"
    }
   ],
   "source": [
    "mode_preds.mode"
   ]
  },
  {
   "cell_type": "code",
   "execution_count": 31,
   "id": "5ecad24c",
   "metadata": {
    "execution": {
     "iopub.execute_input": "2022-11-28T05:10:07.462079Z",
     "iopub.status.busy": "2022-11-28T05:10:07.461024Z",
     "iopub.status.idle": "2022-11-28T05:10:07.559234Z",
     "shell.execute_reply": "2022-11-28T05:10:07.558340Z"
    },
    "papermill": {
     "duration": 0.114789,
     "end_time": "2022-11-28T05:10:07.561516",
     "exception": false,
     "start_time": "2022-11-28T05:10:07.446727",
     "status": "completed"
    },
    "tags": []
   },
   "outputs": [
    {
     "data": {
      "text/html": [
       "<div>\n",
       "<style scoped>\n",
       "    .dataframe tbody tr th:only-of-type {\n",
       "        vertical-align: middle;\n",
       "    }\n",
       "\n",
       "    .dataframe tbody tr th {\n",
       "        vertical-align: top;\n",
       "    }\n",
       "\n",
       "    .dataframe thead th {\n",
       "        text-align: right;\n",
       "    }\n",
       "</style>\n",
       "<table border=\"1\" class=\"dataframe\">\n",
       "  <thead>\n",
       "    <tr style=\"text-align: right;\">\n",
       "      <th></th>\n",
       "      <th>booking_id</th>\n",
       "      <th>rating_score</th>\n",
       "    </tr>\n",
       "  </thead>\n",
       "  <tbody>\n",
       "    <tr>\n",
       "      <th>0</th>\n",
       "      <td>796b98fdf73dbeba33a548910a1c6147</td>\n",
       "      <td>5</td>\n",
       "    </tr>\n",
       "    <tr>\n",
       "      <th>1</th>\n",
       "      <td>b201a9f2ecdecbb34bed034bf9e4b658</td>\n",
       "      <td>5</td>\n",
       "    </tr>\n",
       "    <tr>\n",
       "      <th>2</th>\n",
       "      <td>97b385a9be170737859d3511b658677c</td>\n",
       "      <td>5</td>\n",
       "    </tr>\n",
       "    <tr>\n",
       "      <th>3</th>\n",
       "      <td>366873cd26c5724d1dcb18dcdf73be66</td>\n",
       "      <td>5</td>\n",
       "    </tr>\n",
       "    <tr>\n",
       "      <th>4</th>\n",
       "      <td>c3a2e87348811bcfdf22be48aa0d2dce</td>\n",
       "      <td>5</td>\n",
       "    </tr>\n",
       "  </tbody>\n",
       "</table>\n",
       "</div>"
      ],
      "text/plain": [
       "                         booking_id  rating_score\n",
       "0  796b98fdf73dbeba33a548910a1c6147             5\n",
       "1  b201a9f2ecdecbb34bed034bf9e4b658             5\n",
       "2  97b385a9be170737859d3511b658677c             5\n",
       "3  366873cd26c5724d1dcb18dcdf73be66             5\n",
       "4  c3a2e87348811bcfdf22be48aa0d2dce             5"
      ]
     },
     "execution_count": 31,
     "metadata": {},
     "output_type": "execute_result"
    }
   ],
   "source": [
    "sub = pd.read_csv('/kaggle/input/datacon-22/Processed_data/sample_submission_5.csv')\n",
    "sub.head()"
   ]
  },
  {
   "cell_type": "code",
   "execution_count": 32,
   "id": "b8604d45",
   "metadata": {
    "execution": {
     "iopub.execute_input": "2022-11-28T05:10:07.590245Z",
     "iopub.status.busy": "2022-11-28T05:10:07.589311Z",
     "iopub.status.idle": "2022-11-28T05:10:07.596961Z",
     "shell.execute_reply": "2022-11-28T05:10:07.595383Z"
    },
    "papermill": {
     "duration": 0.026018,
     "end_time": "2022-11-28T05:10:07.600513",
     "exception": false,
     "start_time": "2022-11-28T05:10:07.574495",
     "status": "completed"
    },
    "tags": []
   },
   "outputs": [],
   "source": [
    "sub.rating_score = mode_preds.mode.T"
   ]
  },
  {
   "cell_type": "code",
   "execution_count": 33,
   "id": "132d0b47",
   "metadata": {
    "execution": {
     "iopub.execute_input": "2022-11-28T05:10:07.628081Z",
     "iopub.status.busy": "2022-11-28T05:10:07.627586Z",
     "iopub.status.idle": "2022-11-28T05:10:07.640770Z",
     "shell.execute_reply": "2022-11-28T05:10:07.639484Z"
    },
    "papermill": {
     "duration": 0.030418,
     "end_time": "2022-11-28T05:10:07.643491",
     "exception": false,
     "start_time": "2022-11-28T05:10:07.613073",
     "status": "completed"
    },
    "tags": []
   },
   "outputs": [
    {
     "data": {
      "text/html": [
       "<div>\n",
       "<style scoped>\n",
       "    .dataframe tbody tr th:only-of-type {\n",
       "        vertical-align: middle;\n",
       "    }\n",
       "\n",
       "    .dataframe tbody tr th {\n",
       "        vertical-align: top;\n",
       "    }\n",
       "\n",
       "    .dataframe thead th {\n",
       "        text-align: right;\n",
       "    }\n",
       "</style>\n",
       "<table border=\"1\" class=\"dataframe\">\n",
       "  <thead>\n",
       "    <tr style=\"text-align: right;\">\n",
       "      <th></th>\n",
       "      <th>booking_id</th>\n",
       "      <th>rating_score</th>\n",
       "    </tr>\n",
       "  </thead>\n",
       "  <tbody>\n",
       "    <tr>\n",
       "      <th>0</th>\n",
       "      <td>796b98fdf73dbeba33a548910a1c6147</td>\n",
       "      <td>5</td>\n",
       "    </tr>\n",
       "    <tr>\n",
       "      <th>1</th>\n",
       "      <td>b201a9f2ecdecbb34bed034bf9e4b658</td>\n",
       "      <td>5</td>\n",
       "    </tr>\n",
       "    <tr>\n",
       "      <th>2</th>\n",
       "      <td>97b385a9be170737859d3511b658677c</td>\n",
       "      <td>5</td>\n",
       "    </tr>\n",
       "    <tr>\n",
       "      <th>3</th>\n",
       "      <td>366873cd26c5724d1dcb18dcdf73be66</td>\n",
       "      <td>5</td>\n",
       "    </tr>\n",
       "    <tr>\n",
       "      <th>4</th>\n",
       "      <td>c3a2e87348811bcfdf22be48aa0d2dce</td>\n",
       "      <td>5</td>\n",
       "    </tr>\n",
       "    <tr>\n",
       "      <th>...</th>\n",
       "      <td>...</td>\n",
       "      <td>...</td>\n",
       "    </tr>\n",
       "    <tr>\n",
       "      <th>49074</th>\n",
       "      <td>b221f926ba560907d8f7f62f01ec64c6</td>\n",
       "      <td>1</td>\n",
       "    </tr>\n",
       "    <tr>\n",
       "      <th>49075</th>\n",
       "      <td>2977fc6ce3d412c60000bdcdda88e6b0</td>\n",
       "      <td>5</td>\n",
       "    </tr>\n",
       "    <tr>\n",
       "      <th>49076</th>\n",
       "      <td>2269711bd1eaf7eed8fd32a7c95d5cb1</td>\n",
       "      <td>5</td>\n",
       "    </tr>\n",
       "    <tr>\n",
       "      <th>49077</th>\n",
       "      <td>245723df7cb52772a34416b41b1acd45</td>\n",
       "      <td>5</td>\n",
       "    </tr>\n",
       "    <tr>\n",
       "      <th>49078</th>\n",
       "      <td>e101d4d5662fa670396eb8da2a8c23fe</td>\n",
       "      <td>5</td>\n",
       "    </tr>\n",
       "  </tbody>\n",
       "</table>\n",
       "<p>49079 rows × 2 columns</p>\n",
       "</div>"
      ],
      "text/plain": [
       "                             booking_id  rating_score\n",
       "0      796b98fdf73dbeba33a548910a1c6147             5\n",
       "1      b201a9f2ecdecbb34bed034bf9e4b658             5\n",
       "2      97b385a9be170737859d3511b658677c             5\n",
       "3      366873cd26c5724d1dcb18dcdf73be66             5\n",
       "4      c3a2e87348811bcfdf22be48aa0d2dce             5\n",
       "...                                 ...           ...\n",
       "49074  b221f926ba560907d8f7f62f01ec64c6             1\n",
       "49075  2977fc6ce3d412c60000bdcdda88e6b0             5\n",
       "49076  2269711bd1eaf7eed8fd32a7c95d5cb1             5\n",
       "49077  245723df7cb52772a34416b41b1acd45             5\n",
       "49078  e101d4d5662fa670396eb8da2a8c23fe             5\n",
       "\n",
       "[49079 rows x 2 columns]"
      ]
     },
     "execution_count": 33,
     "metadata": {},
     "output_type": "execute_result"
    }
   ],
   "source": [
    "sub"
   ]
  },
  {
   "cell_type": "code",
   "execution_count": 34,
   "id": "6b23a266",
   "metadata": {
    "execution": {
     "iopub.execute_input": "2022-11-28T05:10:07.671627Z",
     "iopub.status.busy": "2022-11-28T05:10:07.670705Z",
     "iopub.status.idle": "2022-11-28T05:10:07.751043Z",
     "shell.execute_reply": "2022-11-28T05:10:07.749975Z"
    },
    "papermill": {
     "duration": 0.097571,
     "end_time": "2022-11-28T05:10:07.754192",
     "exception": false,
     "start_time": "2022-11-28T05:10:07.656621",
     "status": "completed"
    },
    "tags": []
   },
   "outputs": [],
   "source": [
    "sub.to_csv('submission_1_train_on_folds_no_tuning.csv',index=False)"
   ]
  },
  {
   "cell_type": "code",
   "execution_count": null,
   "id": "9b949168",
   "metadata": {
    "papermill": {
     "duration": 0.01275,
     "end_time": "2022-11-28T05:10:07.780208",
     "exception": false,
     "start_time": "2022-11-28T05:10:07.767458",
     "status": "completed"
    },
    "tags": []
   },
   "outputs": [],
   "source": []
  }
 ],
 "metadata": {
  "kernelspec": {
   "display_name": "Python 3",
   "language": "python",
   "name": "python3"
  },
  "language_info": {
   "codemirror_mode": {
    "name": "ipython",
    "version": 3
   },
   "file_extension": ".py",
   "mimetype": "text/x-python",
   "name": "python",
   "nbconvert_exporter": "python",
   "pygments_lexer": "ipython3",
   "version": "3.7.12"
  },
  "papermill": {
   "default_parameters": {},
   "duration": 147.08134,
   "end_time": "2022-11-28T05:10:08.718389",
   "environment_variables": {},
   "exception": null,
   "input_path": "__notebook__.ipynb",
   "output_path": "__notebook__.ipynb",
   "parameters": {},
   "start_time": "2022-11-28T05:07:41.637049",
   "version": "2.3.4"
  }
 },
 "nbformat": 4,
 "nbformat_minor": 5
}
