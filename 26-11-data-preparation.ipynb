{
 "cells": [
  {
   "cell_type": "code",
   "execution_count": 1,
   "id": "d3fb1008",
   "metadata": {
    "_cell_guid": "b1076dfc-b9ad-4769-8c92-a6c4dae69d19",
    "_uuid": "8f2839f25d086af736a60e9eeb907d3b93b6e0e5",
    "execution": {
     "iopub.execute_input": "2022-11-26T11:17:25.315735Z",
     "iopub.status.busy": "2022-11-26T11:17:25.315176Z",
     "iopub.status.idle": "2022-11-26T11:17:25.337600Z",
     "shell.execute_reply": "2022-11-26T11:17:25.336730Z"
    },
    "papermill": {
     "duration": 0.05327,
     "end_time": "2022-11-26T11:17:25.340265",
     "exception": false,
     "start_time": "2022-11-26T11:17:25.286995",
     "status": "completed"
    },
    "tags": []
   },
   "outputs": [
    {
     "name": "stdout",
     "output_type": "stream",
     "text": [
      "/kaggle/input/datacon-22/Processed_data/bookings.csv\n",
      "/kaggle/input/datacon-22/Processed_data/hotels_data.csv\n",
      "/kaggle/input/datacon-22/Processed_data/bookings_data.csv\n",
      "/kaggle/input/datacon-22/Processed_data/train_data.csv\n",
      "/kaggle/input/datacon-22/Processed_data/customer_data.csv\n",
      "/kaggle/input/datacon-22/Processed_data/sample_submission_5.csv\n",
      "/kaggle/input/datacon-22/Processed_data/payments_data.csv\n"
     ]
    }
   ],
   "source": [
    "# This Python 3 environment comes with many helpful analytics libraries installed\n",
    "# It is defined by the kaggle/python Docker image: https://github.com/kaggle/docker-python\n",
    "# For example, here's several helpful packages to load\n",
    "\n",
    "import numpy as np # linear algebra\n",
    "import pandas as pd # data processing, CSV file I/O (e.g. pd.read_csv)\n",
    "\n",
    "# Input data files are available in the read-only \"../input/\" directory\n",
    "# For example, running this (by clicking run or pressing Shift+Enter) will list all files under the input directory\n",
    "\n",
    "import os\n",
    "for dirname, _, filenames in os.walk('/kaggle/input'):\n",
    "    for filename in filenames:\n",
    "        print(os.path.join(dirname, filename))\n",
    "\n",
    "# You can write up to 20GB to the current directory (/kaggle/working/) that gets preserved as output when you create a version using \"Save & Run All\" \n",
    "# You can also write temporary files to /kaggle/temp/, but they won't be saved outside of the current session"
   ]
  },
  {
   "cell_type": "code",
   "execution_count": null,
   "id": "2b5ce422",
   "metadata": {
    "papermill": {
     "duration": 0.024078,
     "end_time": "2022-11-26T11:17:25.389239",
     "exception": false,
     "start_time": "2022-11-26T11:17:25.365161",
     "status": "completed"
    },
    "tags": []
   },
   "outputs": [],
   "source": []
  },
  {
   "cell_type": "code",
   "execution_count": 2,
   "id": "4e97afa9",
   "metadata": {
    "execution": {
     "iopub.execute_input": "2022-11-26T11:17:25.440978Z",
     "iopub.status.busy": "2022-11-26T11:17:25.440188Z",
     "iopub.status.idle": "2022-11-26T11:17:27.478130Z",
     "shell.execute_reply": "2022-11-26T11:17:27.476635Z"
    },
    "papermill": {
     "duration": 2.066913,
     "end_time": "2022-11-26T11:17:27.481095",
     "exception": false,
     "start_time": "2022-11-26T11:17:25.414182",
     "status": "completed"
    },
    "tags": []
   },
   "outputs": [],
   "source": [
    "bookings = pd.read_csv('/kaggle/input/datacon-22/Processed_data/bookings.csv')\n",
    "sample_submission = pd.read_csv('/kaggle/input/datacon-22/Processed_data/sample_submission_5.csv')\n",
    "hotels_data = pd.read_csv('/kaggle/input/datacon-22/Processed_data/hotels_data.csv')\n",
    "bookings_data = pd.read_csv('/kaggle/input/datacon-22/Processed_data/bookings_data.csv')\n",
    "train_data = pd.read_csv('/kaggle/input/datacon-22/Processed_data/train_data.csv')\n",
    "customer_data = pd.read_csv('/kaggle/input/datacon-22/Processed_data/customer_data.csv')\n",
    "payments_data = pd.read_csv('/kaggle/input/datacon-22/Processed_data/payments_data.csv')"
   ]
  },
  {
   "cell_type": "markdown",
   "id": "bb102293",
   "metadata": {
    "papermill": {
     "duration": 0.023866,
     "end_time": "2022-11-26T11:17:27.530000",
     "exception": false,
     "start_time": "2022-11-26T11:17:27.506134",
     "status": "completed"
    },
    "tags": []
   },
   "source": [
    "### Train Data"
   ]
  },
  {
   "cell_type": "code",
   "execution_count": 3,
   "id": "d798e76e",
   "metadata": {
    "execution": {
     "iopub.execute_input": "2022-11-26T11:17:27.580852Z",
     "iopub.status.busy": "2022-11-26T11:17:27.579834Z",
     "iopub.status.idle": "2022-11-26T11:17:27.599591Z",
     "shell.execute_reply": "2022-11-26T11:17:27.598729Z"
    },
    "papermill": {
     "duration": 0.047689,
     "end_time": "2022-11-26T11:17:27.601926",
     "exception": false,
     "start_time": "2022-11-26T11:17:27.554237",
     "status": "completed"
    },
    "tags": []
   },
   "outputs": [
    {
     "data": {
      "text/html": [
       "<div>\n",
       "<style scoped>\n",
       "    .dataframe tbody tr th:only-of-type {\n",
       "        vertical-align: middle;\n",
       "    }\n",
       "\n",
       "    .dataframe tbody tr th {\n",
       "        vertical-align: top;\n",
       "    }\n",
       "\n",
       "    .dataframe thead th {\n",
       "        text-align: right;\n",
       "    }\n",
       "</style>\n",
       "<table border=\"1\" class=\"dataframe\">\n",
       "  <thead>\n",
       "    <tr style=\"text-align: right;\">\n",
       "      <th></th>\n",
       "      <th>booking_id</th>\n",
       "      <th>rating_score</th>\n",
       "    </tr>\n",
       "  </thead>\n",
       "  <tbody>\n",
       "    <tr>\n",
       "      <th>0</th>\n",
       "      <td>87114b39712e6da79b0a377eb73fc7af</td>\n",
       "      <td>4</td>\n",
       "    </tr>\n",
       "    <tr>\n",
       "      <th>1</th>\n",
       "      <td>81e283fa7e4f11123a3fb894f18e6bfb</td>\n",
       "      <td>5</td>\n",
       "    </tr>\n",
       "    <tr>\n",
       "      <th>2</th>\n",
       "      <td>6530bb5ed4a7648915306a63d374c9e4</td>\n",
       "      <td>5</td>\n",
       "    </tr>\n",
       "    <tr>\n",
       "      <th>3</th>\n",
       "      <td>5f95d01e79bd1349cc208361f099d6f1</td>\n",
       "      <td>4</td>\n",
       "    </tr>\n",
       "    <tr>\n",
       "      <th>4</th>\n",
       "      <td>d871cd5c22b83b5ea8f6e0e2eaf8e099</td>\n",
       "      <td>4</td>\n",
       "    </tr>\n",
       "  </tbody>\n",
       "</table>\n",
       "</div>"
      ],
      "text/plain": [
       "                         booking_id  rating_score\n",
       "0  87114b39712e6da79b0a377eb73fc7af             4\n",
       "1  81e283fa7e4f11123a3fb894f18e6bfb             5\n",
       "2  6530bb5ed4a7648915306a63d374c9e4             5\n",
       "3  5f95d01e79bd1349cc208361f099d6f1             4\n",
       "4  d871cd5c22b83b5ea8f6e0e2eaf8e099             4"
      ]
     },
     "execution_count": 3,
     "metadata": {},
     "output_type": "execute_result"
    }
   ],
   "source": [
    "train_data.head()"
   ]
  },
  {
   "cell_type": "code",
   "execution_count": 4,
   "id": "22dc2ff4",
   "metadata": {
    "execution": {
     "iopub.execute_input": "2022-11-26T11:17:27.653323Z",
     "iopub.status.busy": "2022-11-26T11:17:27.652239Z",
     "iopub.status.idle": "2022-11-26T11:17:27.659028Z",
     "shell.execute_reply": "2022-11-26T11:17:27.658014Z"
    },
    "papermill": {
     "duration": 0.035175,
     "end_time": "2022-11-26T11:17:27.661511",
     "exception": false,
     "start_time": "2022-11-26T11:17:27.626336",
     "status": "completed"
    },
    "tags": []
   },
   "outputs": [
    {
     "data": {
      "text/plain": [
       "(50000, 2)"
      ]
     },
     "execution_count": 4,
     "metadata": {},
     "output_type": "execute_result"
    }
   ],
   "source": [
    "train_data.shape"
   ]
  },
  {
   "cell_type": "markdown",
   "id": "ca2ae465",
   "metadata": {
    "papermill": {
     "duration": 0.024461,
     "end_time": "2022-11-26T11:17:27.710571",
     "exception": false,
     "start_time": "2022-11-26T11:17:27.686110",
     "status": "completed"
    },
    "tags": []
   },
   "source": [
    "### Bookings"
   ]
  },
  {
   "cell_type": "code",
   "execution_count": 5,
   "id": "f6cb8753",
   "metadata": {
    "execution": {
     "iopub.execute_input": "2022-11-26T11:17:27.761856Z",
     "iopub.status.busy": "2022-11-26T11:17:27.760869Z",
     "iopub.status.idle": "2022-11-26T11:17:27.775930Z",
     "shell.execute_reply": "2022-11-26T11:17:27.774741Z"
    },
    "papermill": {
     "duration": 0.043451,
     "end_time": "2022-11-26T11:17:27.778565",
     "exception": false,
     "start_time": "2022-11-26T11:17:27.735114",
     "status": "completed"
    },
    "tags": []
   },
   "outputs": [
    {
     "data": {
      "text/html": [
       "<div>\n",
       "<style scoped>\n",
       "    .dataframe tbody tr th:only-of-type {\n",
       "        vertical-align: middle;\n",
       "    }\n",
       "\n",
       "    .dataframe tbody tr th {\n",
       "        vertical-align: top;\n",
       "    }\n",
       "\n",
       "    .dataframe thead th {\n",
       "        text-align: right;\n",
       "    }\n",
       "</style>\n",
       "<table border=\"1\" class=\"dataframe\">\n",
       "  <thead>\n",
       "    <tr style=\"text-align: right;\">\n",
       "      <th></th>\n",
       "      <th>booking_id</th>\n",
       "      <th>customer_id</th>\n",
       "      <th>booking_status</th>\n",
       "      <th>booking_create_timestamp</th>\n",
       "      <th>booking_approved_at</th>\n",
       "      <th>booking_checkin_customer_date</th>\n",
       "    </tr>\n",
       "  </thead>\n",
       "  <tbody>\n",
       "    <tr>\n",
       "      <th>0</th>\n",
       "      <td>c54678b7cc49136f2d6af7e481f51cbd</td>\n",
       "      <td>51297304e76186b10a928d9ef432eb62</td>\n",
       "      <td>completed</td>\n",
       "      <td>2007-10-05 10:39:33</td>\n",
       "      <td>2007-10-05 10:50:15</td>\n",
       "      <td>2007-10-13 21:08:13</td>\n",
       "    </tr>\n",
       "    <tr>\n",
       "      <th>1</th>\n",
       "      <td>c7dce0b6741e215027345153cdb2fc8b</td>\n",
       "      <td>7a6c6d20dea0b8c802d7efb0830fb474</td>\n",
       "      <td>completed</td>\n",
       "      <td>2008-07-26 20:24:37</td>\n",
       "      <td>2008-07-28 03:07:27</td>\n",
       "      <td>2008-08-09 15:10:45</td>\n",
       "    </tr>\n",
       "    <tr>\n",
       "      <th>2</th>\n",
       "      <td>d0c44946d9cf07ec65d47770eb9100c2</td>\n",
       "      <td>bf3443c3d931a36708941ce2a54c0b03</td>\n",
       "      <td>completed</td>\n",
       "      <td>2008-08-10 08:21:49</td>\n",
       "      <td>2008-08-10 08:38:23</td>\n",
       "      <td>2008-08-19 17:49:29</td>\n",
       "    </tr>\n",
       "    <tr>\n",
       "      <th>3</th>\n",
       "      <td>e918fe9c16f97b45f8a949d5b44dbf5d</td>\n",
       "      <td>20adcdbec7375364d82f88197465ea79</td>\n",
       "      <td>completed</td>\n",
       "      <td>2007-11-21 19:11:06</td>\n",
       "      <td>2007-11-21 19:28:59</td>\n",
       "      <td>2007-12-05 00:11:42</td>\n",
       "    </tr>\n",
       "    <tr>\n",
       "      <th>4</th>\n",
       "      <td>e6cb83a9ceb5573f8159ad21c59c0840</td>\n",
       "      <td>ea8866dbdbc4fb7aad2c8ab97904e6da</td>\n",
       "      <td>completed</td>\n",
       "      <td>2008-02-16 21:01:39</td>\n",
       "      <td>2008-02-16 22:03:29</td>\n",
       "      <td>2008-02-19 18:00:02</td>\n",
       "    </tr>\n",
       "  </tbody>\n",
       "</table>\n",
       "</div>"
      ],
      "text/plain": [
       "                         booking_id                       customer_id  \\\n",
       "0  c54678b7cc49136f2d6af7e481f51cbd  51297304e76186b10a928d9ef432eb62   \n",
       "1  c7dce0b6741e215027345153cdb2fc8b  7a6c6d20dea0b8c802d7efb0830fb474   \n",
       "2  d0c44946d9cf07ec65d47770eb9100c2  bf3443c3d931a36708941ce2a54c0b03   \n",
       "3  e918fe9c16f97b45f8a949d5b44dbf5d  20adcdbec7375364d82f88197465ea79   \n",
       "4  e6cb83a9ceb5573f8159ad21c59c0840  ea8866dbdbc4fb7aad2c8ab97904e6da   \n",
       "\n",
       "  booking_status booking_create_timestamp  booking_approved_at  \\\n",
       "0      completed      2007-10-05 10:39:33  2007-10-05 10:50:15   \n",
       "1      completed      2008-07-26 20:24:37  2008-07-28 03:07:27   \n",
       "2      completed      2008-08-10 08:21:49  2008-08-10 08:38:23   \n",
       "3      completed      2007-11-21 19:11:06  2007-11-21 19:28:59   \n",
       "4      completed      2008-02-16 21:01:39  2008-02-16 22:03:29   \n",
       "\n",
       "  booking_checkin_customer_date  \n",
       "0           2007-10-13 21:08:13  \n",
       "1           2008-08-09 15:10:45  \n",
       "2           2008-08-19 17:49:29  \n",
       "3           2007-12-05 00:11:42  \n",
       "4           2008-02-19 18:00:02  "
      ]
     },
     "execution_count": 5,
     "metadata": {},
     "output_type": "execute_result"
    }
   ],
   "source": [
    "bookings.head()"
   ]
  },
  {
   "cell_type": "code",
   "execution_count": 6,
   "id": "13eb9849",
   "metadata": {
    "execution": {
     "iopub.execute_input": "2022-11-26T11:17:27.831067Z",
     "iopub.status.busy": "2022-11-26T11:17:27.830681Z",
     "iopub.status.idle": "2022-11-26T11:17:27.837684Z",
     "shell.execute_reply": "2022-11-26T11:17:27.836580Z"
    },
    "papermill": {
     "duration": 0.035887,
     "end_time": "2022-11-26T11:17:27.839857",
     "exception": false,
     "start_time": "2022-11-26T11:17:27.803970",
     "status": "completed"
    },
    "tags": []
   },
   "outputs": [
    {
     "data": {
      "text/plain": [
       "(99441, 6)"
      ]
     },
     "execution_count": 6,
     "metadata": {},
     "output_type": "execute_result"
    }
   ],
   "source": [
    "bookings.shape"
   ]
  },
  {
   "cell_type": "code",
   "execution_count": 7,
   "id": "94996dcb",
   "metadata": {
    "execution": {
     "iopub.execute_input": "2022-11-26T11:17:27.892088Z",
     "iopub.status.busy": "2022-11-26T11:17:27.891622Z",
     "iopub.status.idle": "2022-11-26T11:17:28.154076Z",
     "shell.execute_reply": "2022-11-26T11:17:28.152741Z"
    },
    "papermill": {
     "duration": 0.292181,
     "end_time": "2022-11-26T11:17:28.157245",
     "exception": false,
     "start_time": "2022-11-26T11:17:27.865064",
     "status": "completed"
    },
    "tags": []
   },
   "outputs": [
    {
     "data": {
      "text/plain": [
       "(99441, 99441)"
      ]
     },
     "execution_count": 7,
     "metadata": {},
     "output_type": "execute_result"
    }
   ],
   "source": [
    "len(np.unique(bookings['booking_id'])), len(np.unique(bookings['customer_id']))"
   ]
  },
  {
   "cell_type": "markdown",
   "id": "64c2b30e",
   "metadata": {
    "papermill": {
     "duration": 0.024754,
     "end_time": "2022-11-26T11:17:28.209361",
     "exception": false,
     "start_time": "2022-11-26T11:17:28.184607",
     "status": "completed"
    },
    "tags": []
   },
   "source": [
    "**What???** All booking ids are unique?"
   ]
  },
  {
   "cell_type": "markdown",
   "id": "dadb92eb",
   "metadata": {
    "papermill": {
     "duration": 0.02428,
     "end_time": "2022-11-26T11:17:28.259162",
     "exception": false,
     "start_time": "2022-11-26T11:17:28.234882",
     "status": "completed"
    },
    "tags": []
   },
   "source": [
    "### Customer Data"
   ]
  },
  {
   "cell_type": "code",
   "execution_count": 8,
   "id": "2032e506",
   "metadata": {
    "execution": {
     "iopub.execute_input": "2022-11-26T11:17:28.311880Z",
     "iopub.status.busy": "2022-11-26T11:17:28.311045Z",
     "iopub.status.idle": "2022-11-26T11:17:28.322945Z",
     "shell.execute_reply": "2022-11-26T11:17:28.321829Z"
    },
    "papermill": {
     "duration": 0.041248,
     "end_time": "2022-11-26T11:17:28.325373",
     "exception": false,
     "start_time": "2022-11-26T11:17:28.284125",
     "status": "completed"
    },
    "tags": []
   },
   "outputs": [
    {
     "data": {
      "text/html": [
       "<div>\n",
       "<style scoped>\n",
       "    .dataframe tbody tr th:only-of-type {\n",
       "        vertical-align: middle;\n",
       "    }\n",
       "\n",
       "    .dataframe tbody tr th {\n",
       "        vertical-align: top;\n",
       "    }\n",
       "\n",
       "    .dataframe thead th {\n",
       "        text-align: right;\n",
       "    }\n",
       "</style>\n",
       "<table border=\"1\" class=\"dataframe\">\n",
       "  <thead>\n",
       "    <tr style=\"text-align: right;\">\n",
       "      <th></th>\n",
       "      <th>customer_id</th>\n",
       "      <th>customer_unique_id</th>\n",
       "      <th>country</th>\n",
       "    </tr>\n",
       "  </thead>\n",
       "  <tbody>\n",
       "    <tr>\n",
       "      <th>0</th>\n",
       "      <td>1fbc88172c00ba8bc706b8999e2fba1a</td>\n",
       "      <td>a542e4b93843c6dd7febb0861eff4711</td>\n",
       "      <td>Portugal</td>\n",
       "    </tr>\n",
       "    <tr>\n",
       "      <th>1</th>\n",
       "      <td>e83d337fd6b2def6b18a428ac7718955</td>\n",
       "      <td>9b7ac935b93aa66c333dc3290c77bc52</td>\n",
       "      <td>Japan</td>\n",
       "    </tr>\n",
       "    <tr>\n",
       "      <th>2</th>\n",
       "      <td>586ebd08712fdd0374a034e7b3e00288</td>\n",
       "      <td>8181a18229c7b0b2b5e060e732b5b29e</td>\n",
       "      <td>Portugal</td>\n",
       "    </tr>\n",
       "    <tr>\n",
       "      <th>3</th>\n",
       "      <td>c5c5109e529d4dc6358b12c3b2b6027b</td>\n",
       "      <td>24d7702b9acbbff3f3c259dac757896d</td>\n",
       "      <td>USA</td>\n",
       "    </tr>\n",
       "    <tr>\n",
       "      <th>4</th>\n",
       "      <td>1c80ec8364f7c12e35b23ad4f2d8ab17</td>\n",
       "      <td>18a9036ed96c73b8d066345ecd01c38d</td>\n",
       "      <td>Slovakia</td>\n",
       "    </tr>\n",
       "  </tbody>\n",
       "</table>\n",
       "</div>"
      ],
      "text/plain": [
       "                        customer_id                customer_unique_id  \\\n",
       "0  1fbc88172c00ba8bc706b8999e2fba1a  a542e4b93843c6dd7febb0861eff4711   \n",
       "1  e83d337fd6b2def6b18a428ac7718955  9b7ac935b93aa66c333dc3290c77bc52   \n",
       "2  586ebd08712fdd0374a034e7b3e00288  8181a18229c7b0b2b5e060e732b5b29e   \n",
       "3  c5c5109e529d4dc6358b12c3b2b6027b  24d7702b9acbbff3f3c259dac757896d   \n",
       "4  1c80ec8364f7c12e35b23ad4f2d8ab17  18a9036ed96c73b8d066345ecd01c38d   \n",
       "\n",
       "    country  \n",
       "0  Portugal  \n",
       "1     Japan  \n",
       "2  Portugal  \n",
       "3       USA  \n",
       "4  Slovakia  "
      ]
     },
     "execution_count": 8,
     "metadata": {},
     "output_type": "execute_result"
    }
   ],
   "source": [
    "customer_data.head()"
   ]
  },
  {
   "cell_type": "code",
   "execution_count": 9,
   "id": "6f5cf7bd",
   "metadata": {
    "execution": {
     "iopub.execute_input": "2022-11-26T11:17:28.378980Z",
     "iopub.status.busy": "2022-11-26T11:17:28.378158Z",
     "iopub.status.idle": "2022-11-26T11:17:28.385369Z",
     "shell.execute_reply": "2022-11-26T11:17:28.384428Z"
    },
    "papermill": {
     "duration": 0.037329,
     "end_time": "2022-11-26T11:17:28.387698",
     "exception": false,
     "start_time": "2022-11-26T11:17:28.350369",
     "status": "completed"
    },
    "tags": []
   },
   "outputs": [
    {
     "data": {
      "text/plain": [
       "(99441, 3)"
      ]
     },
     "execution_count": 9,
     "metadata": {},
     "output_type": "execute_result"
    }
   ],
   "source": [
    "customer_data.shape"
   ]
  },
  {
   "cell_type": "code",
   "execution_count": 10,
   "id": "bed6e168",
   "metadata": {
    "execution": {
     "iopub.execute_input": "2022-11-26T11:17:28.441128Z",
     "iopub.status.busy": "2022-11-26T11:17:28.440706Z",
     "iopub.status.idle": "2022-11-26T11:17:28.658077Z",
     "shell.execute_reply": "2022-11-26T11:17:28.656921Z"
    },
    "papermill": {
     "duration": 0.247417,
     "end_time": "2022-11-26T11:17:28.660691",
     "exception": false,
     "start_time": "2022-11-26T11:17:28.413274",
     "status": "completed"
    },
    "tags": []
   },
   "outputs": [
    {
     "data": {
      "text/plain": [
       "(99441, 96096)"
      ]
     },
     "execution_count": 10,
     "metadata": {},
     "output_type": "execute_result"
    }
   ],
   "source": [
    "len(np.unique(customer_data['customer_id'])), len(np.unique(customer_data['customer_unique_id']))"
   ]
  },
  {
   "cell_type": "code",
   "execution_count": 11,
   "id": "af46434d",
   "metadata": {
    "execution": {
     "iopub.execute_input": "2022-11-26T11:17:28.713836Z",
     "iopub.status.busy": "2022-11-26T11:17:28.713392Z",
     "iopub.status.idle": "2022-11-26T11:17:41.543894Z",
     "shell.execute_reply": "2022-11-26T11:17:41.542765Z"
    },
    "papermill": {
     "duration": 12.85972,
     "end_time": "2022-11-26T11:17:41.546302",
     "exception": false,
     "start_time": "2022-11-26T11:17:28.686582",
     "status": "completed"
    },
    "tags": []
   },
   "outputs": [
    {
     "data": {
      "text/html": [
       "<div>\n",
       "<style scoped>\n",
       "    .dataframe tbody tr th:only-of-type {\n",
       "        vertical-align: middle;\n",
       "    }\n",
       "\n",
       "    .dataframe tbody tr th {\n",
       "        vertical-align: top;\n",
       "    }\n",
       "\n",
       "    .dataframe thead th {\n",
       "        text-align: right;\n",
       "    }\n",
       "</style>\n",
       "<table border=\"1\" class=\"dataframe\">\n",
       "  <thead>\n",
       "    <tr style=\"text-align: right;\">\n",
       "      <th></th>\n",
       "      <th>mode</th>\n",
       "    </tr>\n",
       "    <tr>\n",
       "      <th>customer_id</th>\n",
       "      <th></th>\n",
       "    </tr>\n",
       "  </thead>\n",
       "  <tbody>\n",
       "    <tr>\n",
       "      <th>00006561d29870872c98879612677b83</th>\n",
       "      <td>USA</td>\n",
       "    </tr>\n",
       "    <tr>\n",
       "      <th>00017e0177378ddef1c9c757fe719dc4</th>\n",
       "      <td>Vietnam</td>\n",
       "    </tr>\n",
       "    <tr>\n",
       "      <th>000210bb0d5abb62fdeecee078e99036</th>\n",
       "      <td>USA</td>\n",
       "    </tr>\n",
       "    <tr>\n",
       "      <th>00022ba7bbeb4918104c3e4b0745edd0</th>\n",
       "      <td>USA</td>\n",
       "    </tr>\n",
       "    <tr>\n",
       "      <th>0002823449d52e6d6f951e27003e2be8</th>\n",
       "      <td>Japan</td>\n",
       "    </tr>\n",
       "    <tr>\n",
       "      <th>...</th>\n",
       "      <td>...</td>\n",
       "    </tr>\n",
       "    <tr>\n",
       "      <th>fffd24b2bc8a3745db299d01f5fc62b1</th>\n",
       "      <td>UK</td>\n",
       "    </tr>\n",
       "    <tr>\n",
       "      <th>fffe505ee892e153a2fbd49ba0660bf3</th>\n",
       "      <td>USA</td>\n",
       "    </tr>\n",
       "    <tr>\n",
       "      <th>fffe770d51b0b75c3e0994068ce84281</th>\n",
       "      <td>USA</td>\n",
       "    </tr>\n",
       "    <tr>\n",
       "      <th>fffea84c408569acad1def536ba4f866</th>\n",
       "      <td>Russia</td>\n",
       "    </tr>\n",
       "    <tr>\n",
       "      <th>ffff0d50f69e34097e6f08ffdbf0b21c</th>\n",
       "      <td>Vietnam</td>\n",
       "    </tr>\n",
       "  </tbody>\n",
       "</table>\n",
       "<p>99441 rows × 1 columns</p>\n",
       "</div>"
      ],
      "text/plain": [
       "                                     mode\n",
       "customer_id                              \n",
       "00006561d29870872c98879612677b83      USA\n",
       "00017e0177378ddef1c9c757fe719dc4  Vietnam\n",
       "000210bb0d5abb62fdeecee078e99036      USA\n",
       "00022ba7bbeb4918104c3e4b0745edd0      USA\n",
       "0002823449d52e6d6f951e27003e2be8    Japan\n",
       "...                                   ...\n",
       "fffd24b2bc8a3745db299d01f5fc62b1       UK\n",
       "fffe505ee892e153a2fbd49ba0660bf3      USA\n",
       "fffe770d51b0b75c3e0994068ce84281      USA\n",
       "fffea84c408569acad1def536ba4f866   Russia\n",
       "ffff0d50f69e34097e6f08ffdbf0b21c  Vietnam\n",
       "\n",
       "[99441 rows x 1 columns]"
      ]
     },
     "execution_count": 11,
     "metadata": {},
     "output_type": "execute_result"
    }
   ],
   "source": [
    "# grouped_cust_data = customer_data.groupby(by = 'customer_id')['country'].agg(['min', 'max'])\n",
    "grouped_cust_data = customer_data.groupby(by = 'customer_id')['country'].agg([pd.Series.mode])\n",
    "grouped_cust_data"
   ]
  },
  {
   "cell_type": "code",
   "execution_count": 12,
   "id": "85d6538c",
   "metadata": {
    "execution": {
     "iopub.execute_input": "2022-11-26T11:17:41.600469Z",
     "iopub.status.busy": "2022-11-26T11:17:41.600025Z",
     "iopub.status.idle": "2022-11-26T11:17:41.604997Z",
     "shell.execute_reply": "2022-11-26T11:17:41.603396Z"
    },
    "papermill": {
     "duration": 0.034883,
     "end_time": "2022-11-26T11:17:41.607671",
     "exception": false,
     "start_time": "2022-11-26T11:17:41.572788",
     "status": "completed"
    },
    "tags": []
   },
   "outputs": [],
   "source": [
    "# ['USA', 'Slovakia'].min()"
   ]
  },
  {
   "cell_type": "code",
   "execution_count": 13,
   "id": "5bcd567e",
   "metadata": {
    "execution": {
     "iopub.execute_input": "2022-11-26T11:17:41.661629Z",
     "iopub.status.busy": "2022-11-26T11:17:41.660802Z",
     "iopub.status.idle": "2022-11-26T11:17:41.678139Z",
     "shell.execute_reply": "2022-11-26T11:17:41.676842Z"
    },
    "papermill": {
     "duration": 0.047787,
     "end_time": "2022-11-26T11:17:41.681179",
     "exception": false,
     "start_time": "2022-11-26T11:17:41.633392",
     "status": "completed"
    },
    "tags": []
   },
   "outputs": [
    {
     "data": {
      "text/html": [
       "<div>\n",
       "<style scoped>\n",
       "    .dataframe tbody tr th:only-of-type {\n",
       "        vertical-align: middle;\n",
       "    }\n",
       "\n",
       "    .dataframe tbody tr th {\n",
       "        vertical-align: top;\n",
       "    }\n",
       "\n",
       "    .dataframe thead th {\n",
       "        text-align: right;\n",
       "    }\n",
       "</style>\n",
       "<table border=\"1\" class=\"dataframe\">\n",
       "  <thead>\n",
       "    <tr style=\"text-align: right;\">\n",
       "      <th></th>\n",
       "      <th>customer_id</th>\n",
       "      <th>mode</th>\n",
       "    </tr>\n",
       "  </thead>\n",
       "  <tbody>\n",
       "    <tr>\n",
       "      <th>0</th>\n",
       "      <td>00006561d29870872c98879612677b83</td>\n",
       "      <td>USA</td>\n",
       "    </tr>\n",
       "    <tr>\n",
       "      <th>1</th>\n",
       "      <td>00017e0177378ddef1c9c757fe719dc4</td>\n",
       "      <td>Vietnam</td>\n",
       "    </tr>\n",
       "    <tr>\n",
       "      <th>2</th>\n",
       "      <td>000210bb0d5abb62fdeecee078e99036</td>\n",
       "      <td>USA</td>\n",
       "    </tr>\n",
       "    <tr>\n",
       "      <th>3</th>\n",
       "      <td>00022ba7bbeb4918104c3e4b0745edd0</td>\n",
       "      <td>USA</td>\n",
       "    </tr>\n",
       "    <tr>\n",
       "      <th>4</th>\n",
       "      <td>0002823449d52e6d6f951e27003e2be8</td>\n",
       "      <td>Japan</td>\n",
       "    </tr>\n",
       "    <tr>\n",
       "      <th>...</th>\n",
       "      <td>...</td>\n",
       "      <td>...</td>\n",
       "    </tr>\n",
       "    <tr>\n",
       "      <th>99436</th>\n",
       "      <td>fffd24b2bc8a3745db299d01f5fc62b1</td>\n",
       "      <td>UK</td>\n",
       "    </tr>\n",
       "    <tr>\n",
       "      <th>99437</th>\n",
       "      <td>fffe505ee892e153a2fbd49ba0660bf3</td>\n",
       "      <td>USA</td>\n",
       "    </tr>\n",
       "    <tr>\n",
       "      <th>99438</th>\n",
       "      <td>fffe770d51b0b75c3e0994068ce84281</td>\n",
       "      <td>USA</td>\n",
       "    </tr>\n",
       "    <tr>\n",
       "      <th>99439</th>\n",
       "      <td>fffea84c408569acad1def536ba4f866</td>\n",
       "      <td>Russia</td>\n",
       "    </tr>\n",
       "    <tr>\n",
       "      <th>99440</th>\n",
       "      <td>ffff0d50f69e34097e6f08ffdbf0b21c</td>\n",
       "      <td>Vietnam</td>\n",
       "    </tr>\n",
       "  </tbody>\n",
       "</table>\n",
       "<p>99441 rows × 2 columns</p>\n",
       "</div>"
      ],
      "text/plain": [
       "                            customer_id     mode\n",
       "0      00006561d29870872c98879612677b83      USA\n",
       "1      00017e0177378ddef1c9c757fe719dc4  Vietnam\n",
       "2      000210bb0d5abb62fdeecee078e99036      USA\n",
       "3      00022ba7bbeb4918104c3e4b0745edd0      USA\n",
       "4      0002823449d52e6d6f951e27003e2be8    Japan\n",
       "...                                 ...      ...\n",
       "99436  fffd24b2bc8a3745db299d01f5fc62b1       UK\n",
       "99437  fffe505ee892e153a2fbd49ba0660bf3      USA\n",
       "99438  fffe770d51b0b75c3e0994068ce84281      USA\n",
       "99439  fffea84c408569acad1def536ba4f866   Russia\n",
       "99440  ffff0d50f69e34097e6f08ffdbf0b21c  Vietnam\n",
       "\n",
       "[99441 rows x 2 columns]"
      ]
     },
     "execution_count": 13,
     "metadata": {},
     "output_type": "execute_result"
    }
   ],
   "source": [
    "grouped_cust_data_df = grouped_cust_data.reset_index()\n",
    "grouped_cust_data_df"
   ]
  },
  {
   "cell_type": "code",
   "execution_count": 14,
   "id": "315bf88f",
   "metadata": {
    "execution": {
     "iopub.execute_input": "2022-11-26T11:17:41.737676Z",
     "iopub.status.busy": "2022-11-26T11:17:41.737227Z",
     "iopub.status.idle": "2022-11-26T11:17:41.752487Z",
     "shell.execute_reply": "2022-11-26T11:17:41.751254Z"
    },
    "papermill": {
     "duration": 0.046931,
     "end_time": "2022-11-26T11:17:41.754847",
     "exception": false,
     "start_time": "2022-11-26T11:17:41.707916",
     "status": "completed"
    },
    "tags": []
   },
   "outputs": [
    {
     "data": {
      "text/html": [
       "<div>\n",
       "<style scoped>\n",
       "    .dataframe tbody tr th:only-of-type {\n",
       "        vertical-align: middle;\n",
       "    }\n",
       "\n",
       "    .dataframe tbody tr th {\n",
       "        vertical-align: top;\n",
       "    }\n",
       "\n",
       "    .dataframe thead th {\n",
       "        text-align: right;\n",
       "    }\n",
       "</style>\n",
       "<table border=\"1\" class=\"dataframe\">\n",
       "  <thead>\n",
       "    <tr style=\"text-align: right;\">\n",
       "      <th></th>\n",
       "      <th>customer_id</th>\n",
       "      <th>country</th>\n",
       "    </tr>\n",
       "  </thead>\n",
       "  <tbody>\n",
       "    <tr>\n",
       "      <th>0</th>\n",
       "      <td>00006561d29870872c98879612677b83</td>\n",
       "      <td>USA</td>\n",
       "    </tr>\n",
       "    <tr>\n",
       "      <th>1</th>\n",
       "      <td>00017e0177378ddef1c9c757fe719dc4</td>\n",
       "      <td>Vietnam</td>\n",
       "    </tr>\n",
       "    <tr>\n",
       "      <th>2</th>\n",
       "      <td>000210bb0d5abb62fdeecee078e99036</td>\n",
       "      <td>USA</td>\n",
       "    </tr>\n",
       "    <tr>\n",
       "      <th>3</th>\n",
       "      <td>00022ba7bbeb4918104c3e4b0745edd0</td>\n",
       "      <td>USA</td>\n",
       "    </tr>\n",
       "    <tr>\n",
       "      <th>4</th>\n",
       "      <td>0002823449d52e6d6f951e27003e2be8</td>\n",
       "      <td>Japan</td>\n",
       "    </tr>\n",
       "    <tr>\n",
       "      <th>...</th>\n",
       "      <td>...</td>\n",
       "      <td>...</td>\n",
       "    </tr>\n",
       "    <tr>\n",
       "      <th>99436</th>\n",
       "      <td>fffd24b2bc8a3745db299d01f5fc62b1</td>\n",
       "      <td>UK</td>\n",
       "    </tr>\n",
       "    <tr>\n",
       "      <th>99437</th>\n",
       "      <td>fffe505ee892e153a2fbd49ba0660bf3</td>\n",
       "      <td>USA</td>\n",
       "    </tr>\n",
       "    <tr>\n",
       "      <th>99438</th>\n",
       "      <td>fffe770d51b0b75c3e0994068ce84281</td>\n",
       "      <td>USA</td>\n",
       "    </tr>\n",
       "    <tr>\n",
       "      <th>99439</th>\n",
       "      <td>fffea84c408569acad1def536ba4f866</td>\n",
       "      <td>Russia</td>\n",
       "    </tr>\n",
       "    <tr>\n",
       "      <th>99440</th>\n",
       "      <td>ffff0d50f69e34097e6f08ffdbf0b21c</td>\n",
       "      <td>Vietnam</td>\n",
       "    </tr>\n",
       "  </tbody>\n",
       "</table>\n",
       "<p>99441 rows × 2 columns</p>\n",
       "</div>"
      ],
      "text/plain": [
       "                            customer_id  country\n",
       "0      00006561d29870872c98879612677b83      USA\n",
       "1      00017e0177378ddef1c9c757fe719dc4  Vietnam\n",
       "2      000210bb0d5abb62fdeecee078e99036      USA\n",
       "3      00022ba7bbeb4918104c3e4b0745edd0      USA\n",
       "4      0002823449d52e6d6f951e27003e2be8    Japan\n",
       "...                                 ...      ...\n",
       "99436  fffd24b2bc8a3745db299d01f5fc62b1       UK\n",
       "99437  fffe505ee892e153a2fbd49ba0660bf3      USA\n",
       "99438  fffe770d51b0b75c3e0994068ce84281      USA\n",
       "99439  fffea84c408569acad1def536ba4f866   Russia\n",
       "99440  ffff0d50f69e34097e6f08ffdbf0b21c  Vietnam\n",
       "\n",
       "[99441 rows x 2 columns]"
      ]
     },
     "execution_count": 14,
     "metadata": {},
     "output_type": "execute_result"
    }
   ],
   "source": [
    "grouped_cust_data_df.columns = ['customer_id', 'country']\n",
    "grouped_cust_data_df"
   ]
  },
  {
   "cell_type": "markdown",
   "id": "20a7ca68",
   "metadata": {
    "papermill": {
     "duration": 0.027122,
     "end_time": "2022-11-26T11:17:41.809071",
     "exception": false,
     "start_time": "2022-11-26T11:17:41.781949",
     "status": "completed"
    },
    "tags": []
   },
   "source": []
  },
  {
   "cell_type": "code",
   "execution_count": 15,
   "id": "31f51fcd",
   "metadata": {
    "execution": {
     "iopub.execute_input": "2022-11-26T11:17:41.865311Z",
     "iopub.status.busy": "2022-11-26T11:17:41.864869Z",
     "iopub.status.idle": "2022-11-26T11:17:41.869584Z",
     "shell.execute_reply": "2022-11-26T11:17:41.868587Z"
    },
    "papermill": {
     "duration": 0.035641,
     "end_time": "2022-11-26T11:17:41.872072",
     "exception": false,
     "start_time": "2022-11-26T11:17:41.836431",
     "status": "completed"
    },
    "tags": []
   },
   "outputs": [],
   "source": [
    "# (grouped_cust_data_df['min'] == grouped_cust_data_df['max']).sum()"
   ]
  },
  {
   "cell_type": "markdown",
   "id": "3a7aa987",
   "metadata": {
    "papermill": {
     "duration": 0.0268,
     "end_time": "2022-11-26T11:17:41.925033",
     "exception": false,
     "start_time": "2022-11-26T11:17:41.898233",
     "status": "completed"
    },
    "tags": []
   },
   "source": [
    " *ignore* Haha all customer ids (even if multiple mapping wale) are assigned one country only. So directly customer id se country extract kar sakte hai"
   ]
  },
  {
   "cell_type": "markdown",
   "id": "fd5812ca",
   "metadata": {
    "papermill": {
     "duration": 0.02566,
     "end_time": "2022-11-26T11:17:41.977148",
     "exception": false,
     "start_time": "2022-11-26T11:17:41.951488",
     "status": "completed"
    },
    "tags": []
   },
   "source": [
    "**get the unique country for each customer id**"
   ]
  },
  {
   "cell_type": "code",
   "execution_count": 16,
   "id": "65627c6a",
   "metadata": {
    "execution": {
     "iopub.execute_input": "2022-11-26T11:17:42.032126Z",
     "iopub.status.busy": "2022-11-26T11:17:42.031376Z",
     "iopub.status.idle": "2022-11-26T11:17:42.035710Z",
     "shell.execute_reply": "2022-11-26T11:17:42.034757Z"
    },
    "papermill": {
     "duration": 0.034832,
     "end_time": "2022-11-26T11:17:42.038024",
     "exception": false,
     "start_time": "2022-11-26T11:17:42.003192",
     "status": "completed"
    },
    "tags": []
   },
   "outputs": [],
   "source": [
    "# v = customer_data['customer_unique_id'].value_counts()\n",
    "# v"
   ]
  },
  {
   "cell_type": "code",
   "execution_count": 17,
   "id": "dcda5828",
   "metadata": {
    "execution": {
     "iopub.execute_input": "2022-11-26T11:17:42.092228Z",
     "iopub.status.busy": "2022-11-26T11:17:42.091323Z",
     "iopub.status.idle": "2022-11-26T11:17:42.096184Z",
     "shell.execute_reply": "2022-11-26T11:17:42.095051Z"
    },
    "papermill": {
     "duration": 0.034576,
     "end_time": "2022-11-26T11:17:42.098684",
     "exception": false,
     "start_time": "2022-11-26T11:17:42.064108",
     "status": "completed"
    },
    "tags": []
   },
   "outputs": [],
   "source": [
    "# multiple_cust_ids_wale_cust = customer_data[customer_data['customer_unique_id'].isin(v.index[v.gt(1)])]\n",
    "# multiple_cust_ids_wale_cust"
   ]
  },
  {
   "cell_type": "code",
   "execution_count": 18,
   "id": "fc90ebe9",
   "metadata": {
    "execution": {
     "iopub.execute_input": "2022-11-26T11:17:42.153446Z",
     "iopub.status.busy": "2022-11-26T11:17:42.153046Z",
     "iopub.status.idle": "2022-11-26T11:17:42.157669Z",
     "shell.execute_reply": "2022-11-26T11:17:42.156540Z"
    },
    "papermill": {
     "duration": 0.035364,
     "end_time": "2022-11-26T11:17:42.160177",
     "exception": false,
     "start_time": "2022-11-26T11:17:42.124813",
     "status": "completed"
    },
    "tags": []
   },
   "outputs": [],
   "source": [
    "# multiple_cust_ids_wale_cust[multiple_cust_ids_wale_cust['customer_id'] == 'f50201ccdcedfb9e2ac84558d50f5ead']"
   ]
  },
  {
   "cell_type": "code",
   "execution_count": 19,
   "id": "dfed5457",
   "metadata": {
    "execution": {
     "iopub.execute_input": "2022-11-26T11:17:42.213948Z",
     "iopub.status.busy": "2022-11-26T11:17:42.213517Z",
     "iopub.status.idle": "2022-11-26T11:17:42.218225Z",
     "shell.execute_reply": "2022-11-26T11:17:42.217086Z"
    },
    "papermill": {
     "duration": 0.034482,
     "end_time": "2022-11-26T11:17:42.220746",
     "exception": false,
     "start_time": "2022-11-26T11:17:42.186264",
     "status": "completed"
    },
    "tags": []
   },
   "outputs": [],
   "source": [
    "# multiple_cust_ids_wale_cust.loc[multiple_cust_ids_wale_cust['customer_id'] == 'f50201ccdcedfb9e2ac84558d50f5ead']"
   ]
  },
  {
   "cell_type": "code",
   "execution_count": 20,
   "id": "f3a69875",
   "metadata": {
    "execution": {
     "iopub.execute_input": "2022-11-26T11:17:42.275481Z",
     "iopub.status.busy": "2022-11-26T11:17:42.275042Z",
     "iopub.status.idle": "2022-11-26T11:17:42.279846Z",
     "shell.execute_reply": "2022-11-26T11:17:42.278681Z"
    },
    "papermill": {
     "duration": 0.035363,
     "end_time": "2022-11-26T11:17:42.282258",
     "exception": false,
     "start_time": "2022-11-26T11:17:42.246895",
     "status": "completed"
    },
    "tags": []
   },
   "outputs": [],
   "source": [
    "# multiple_cust_ids_wale_cust.sort_values(by=['customer_id'])"
   ]
  },
  {
   "cell_type": "markdown",
   "id": "96309688",
   "metadata": {
    "papermill": {
     "duration": 0.025837,
     "end_time": "2022-11-26T11:17:42.334148",
     "exception": false,
     "start_time": "2022-11-26T11:17:42.308311",
     "status": "completed"
    },
    "tags": []
   },
   "source": [
    "### Combine grouped_data_cust with booking id (on cust_id column). Because cust_id column aur kahi nahi hai, bas inn dono me"
   ]
  },
  {
   "cell_type": "code",
   "execution_count": 21,
   "id": "98ba784c",
   "metadata": {
    "execution": {
     "iopub.execute_input": "2022-11-26T11:17:42.388406Z",
     "iopub.status.busy": "2022-11-26T11:17:42.387977Z",
     "iopub.status.idle": "2022-11-26T11:17:42.545986Z",
     "shell.execute_reply": "2022-11-26T11:17:42.544686Z"
    },
    "papermill": {
     "duration": 0.188557,
     "end_time": "2022-11-26T11:17:42.548579",
     "exception": false,
     "start_time": "2022-11-26T11:17:42.360022",
     "status": "completed"
    },
    "tags": []
   },
   "outputs": [
    {
     "data": {
      "text/html": [
       "<div>\n",
       "<style scoped>\n",
       "    .dataframe tbody tr th:only-of-type {\n",
       "        vertical-align: middle;\n",
       "    }\n",
       "\n",
       "    .dataframe tbody tr th {\n",
       "        vertical-align: top;\n",
       "    }\n",
       "\n",
       "    .dataframe thead th {\n",
       "        text-align: right;\n",
       "    }\n",
       "</style>\n",
       "<table border=\"1\" class=\"dataframe\">\n",
       "  <thead>\n",
       "    <tr style=\"text-align: right;\">\n",
       "      <th></th>\n",
       "      <th>booking_id</th>\n",
       "      <th>customer_id</th>\n",
       "      <th>booking_status</th>\n",
       "      <th>booking_create_timestamp</th>\n",
       "      <th>booking_approved_at</th>\n",
       "      <th>booking_checkin_customer_date</th>\n",
       "      <th>country</th>\n",
       "    </tr>\n",
       "  </thead>\n",
       "  <tbody>\n",
       "    <tr>\n",
       "      <th>0</th>\n",
       "      <td>c54678b7cc49136f2d6af7e481f51cbd</td>\n",
       "      <td>51297304e76186b10a928d9ef432eb62</td>\n",
       "      <td>completed</td>\n",
       "      <td>2007-10-05 10:39:33</td>\n",
       "      <td>2007-10-05 10:50:15</td>\n",
       "      <td>2007-10-13 21:08:13</td>\n",
       "      <td>Vietnam</td>\n",
       "    </tr>\n",
       "    <tr>\n",
       "      <th>1</th>\n",
       "      <td>c7dce0b6741e215027345153cdb2fc8b</td>\n",
       "      <td>7a6c6d20dea0b8c802d7efb0830fb474</td>\n",
       "      <td>completed</td>\n",
       "      <td>2008-07-26 20:24:37</td>\n",
       "      <td>2008-07-28 03:07:27</td>\n",
       "      <td>2008-08-09 15:10:45</td>\n",
       "      <td>Portugal</td>\n",
       "    </tr>\n",
       "    <tr>\n",
       "      <th>2</th>\n",
       "      <td>d0c44946d9cf07ec65d47770eb9100c2</td>\n",
       "      <td>bf3443c3d931a36708941ce2a54c0b03</td>\n",
       "      <td>completed</td>\n",
       "      <td>2008-08-10 08:21:49</td>\n",
       "      <td>2008-08-10 08:38:23</td>\n",
       "      <td>2008-08-19 17:49:29</td>\n",
       "      <td>Portugal</td>\n",
       "    </tr>\n",
       "    <tr>\n",
       "      <th>3</th>\n",
       "      <td>e918fe9c16f97b45f8a949d5b44dbf5d</td>\n",
       "      <td>20adcdbec7375364d82f88197465ea79</td>\n",
       "      <td>completed</td>\n",
       "      <td>2007-11-21 19:11:06</td>\n",
       "      <td>2007-11-21 19:28:59</td>\n",
       "      <td>2007-12-05 00:11:42</td>\n",
       "      <td>Portugal</td>\n",
       "    </tr>\n",
       "    <tr>\n",
       "      <th>4</th>\n",
       "      <td>e6cb83a9ceb5573f8159ad21c59c0840</td>\n",
       "      <td>ea8866dbdbc4fb7aad2c8ab97904e6da</td>\n",
       "      <td>completed</td>\n",
       "      <td>2008-02-16 21:01:39</td>\n",
       "      <td>2008-02-16 22:03:29</td>\n",
       "      <td>2008-02-19 18:00:02</td>\n",
       "      <td>Spain</td>\n",
       "    </tr>\n",
       "  </tbody>\n",
       "</table>\n",
       "</div>"
      ],
      "text/plain": [
       "                         booking_id                       customer_id  \\\n",
       "0  c54678b7cc49136f2d6af7e481f51cbd  51297304e76186b10a928d9ef432eb62   \n",
       "1  c7dce0b6741e215027345153cdb2fc8b  7a6c6d20dea0b8c802d7efb0830fb474   \n",
       "2  d0c44946d9cf07ec65d47770eb9100c2  bf3443c3d931a36708941ce2a54c0b03   \n",
       "3  e918fe9c16f97b45f8a949d5b44dbf5d  20adcdbec7375364d82f88197465ea79   \n",
       "4  e6cb83a9ceb5573f8159ad21c59c0840  ea8866dbdbc4fb7aad2c8ab97904e6da   \n",
       "\n",
       "  booking_status booking_create_timestamp  booking_approved_at  \\\n",
       "0      completed      2007-10-05 10:39:33  2007-10-05 10:50:15   \n",
       "1      completed      2008-07-26 20:24:37  2008-07-28 03:07:27   \n",
       "2      completed      2008-08-10 08:21:49  2008-08-10 08:38:23   \n",
       "3      completed      2007-11-21 19:11:06  2007-11-21 19:28:59   \n",
       "4      completed      2008-02-16 21:01:39  2008-02-16 22:03:29   \n",
       "\n",
       "  booking_checkin_customer_date   country  \n",
       "0           2007-10-13 21:08:13   Vietnam  \n",
       "1           2008-08-09 15:10:45  Portugal  \n",
       "2           2008-08-19 17:49:29  Portugal  \n",
       "3           2007-12-05 00:11:42  Portugal  \n",
       "4           2008-02-19 18:00:02     Spain  "
      ]
     },
     "execution_count": 21,
     "metadata": {},
     "output_type": "execute_result"
    }
   ],
   "source": [
    "bookings_customer_data_unqiue_for_each_id = pd.merge(bookings, grouped_cust_data_df, on = 'customer_id', how = 'left')\n",
    "bookings_customer_data_unqiue_for_each_id.head()"
   ]
  },
  {
   "cell_type": "code",
   "execution_count": null,
   "id": "e1606d6f",
   "metadata": {
    "papermill": {
     "duration": 0.025969,
     "end_time": "2022-11-26T11:17:42.600759",
     "exception": false,
     "start_time": "2022-11-26T11:17:42.574790",
     "status": "completed"
    },
    "tags": []
   },
   "outputs": [],
   "source": []
  },
  {
   "cell_type": "code",
   "execution_count": null,
   "id": "bd12bfd1",
   "metadata": {
    "papermill": {
     "duration": 0.026525,
     "end_time": "2022-11-26T11:17:42.653640",
     "exception": false,
     "start_time": "2022-11-26T11:17:42.627115",
     "status": "completed"
    },
    "tags": []
   },
   "outputs": [],
   "source": []
  },
  {
   "cell_type": "markdown",
   "id": "c5e896d7",
   "metadata": {
    "papermill": {
     "duration": 0.026137,
     "end_time": "2022-11-26T11:17:42.706161",
     "exception": false,
     "start_time": "2022-11-26T11:17:42.680024",
     "status": "completed"
    },
    "tags": []
   },
   "source": [
    "### Hotels data"
   ]
  },
  {
   "cell_type": "code",
   "execution_count": 22,
   "id": "d4edce75",
   "metadata": {
    "execution": {
     "iopub.execute_input": "2022-11-26T11:17:42.762466Z",
     "iopub.status.busy": "2022-11-26T11:17:42.761639Z",
     "iopub.status.idle": "2022-11-26T11:17:42.780931Z",
     "shell.execute_reply": "2022-11-26T11:17:42.779741Z"
    },
    "papermill": {
     "duration": 0.05079,
     "end_time": "2022-11-26T11:17:42.783309",
     "exception": false,
     "start_time": "2022-11-26T11:17:42.732519",
     "status": "completed"
    },
    "tags": []
   },
   "outputs": [
    {
     "data": {
      "text/html": [
       "<div>\n",
       "<style scoped>\n",
       "    .dataframe tbody tr th:only-of-type {\n",
       "        vertical-align: middle;\n",
       "    }\n",
       "\n",
       "    .dataframe tbody tr th {\n",
       "        vertical-align: top;\n",
       "    }\n",
       "\n",
       "    .dataframe thead th {\n",
       "        text-align: right;\n",
       "    }\n",
       "</style>\n",
       "<table border=\"1\" class=\"dataframe\">\n",
       "  <thead>\n",
       "    <tr style=\"text-align: right;\">\n",
       "      <th></th>\n",
       "      <th>hotel_id</th>\n",
       "      <th>hotel_category</th>\n",
       "      <th>hotel_name_length</th>\n",
       "      <th>hotel_description_length</th>\n",
       "      <th>hotel_photos_qty</th>\n",
       "    </tr>\n",
       "  </thead>\n",
       "  <tbody>\n",
       "    <tr>\n",
       "      <th>0</th>\n",
       "      <td>4dbcff4541ed26657ea517e51e9e8ef0</td>\n",
       "      <td>65.0</td>\n",
       "      <td>40.0</td>\n",
       "      <td>287.0</td>\n",
       "      <td>1.0</td>\n",
       "    </tr>\n",
       "    <tr>\n",
       "      <th>1</th>\n",
       "      <td>1139cb16b67ca9e5dea641aaa2f3aa07</td>\n",
       "      <td>72.0</td>\n",
       "      <td>44.0</td>\n",
       "      <td>276.0</td>\n",
       "      <td>1.0</td>\n",
       "    </tr>\n",
       "    <tr>\n",
       "      <th>2</th>\n",
       "      <td>c8810374ed1b65e291975717f96bd76e</td>\n",
       "      <td>69.0</td>\n",
       "      <td>46.0</td>\n",
       "      <td>250.0</td>\n",
       "      <td>1.0</td>\n",
       "    </tr>\n",
       "    <tr>\n",
       "      <th>3</th>\n",
       "      <td>66a932b7673e239eb23dcef67bcfe190</td>\n",
       "      <td>18.0</td>\n",
       "      <td>27.0</td>\n",
       "      <td>261.0</td>\n",
       "      <td>1.0</td>\n",
       "    </tr>\n",
       "    <tr>\n",
       "      <th>4</th>\n",
       "      <td>74444849c219cff195d0b719dc1a7de2</td>\n",
       "      <td>11.0</td>\n",
       "      <td>37.0</td>\n",
       "      <td>402.0</td>\n",
       "      <td>4.0</td>\n",
       "    </tr>\n",
       "    <tr>\n",
       "      <th>...</th>\n",
       "      <td>...</td>\n",
       "      <td>...</td>\n",
       "      <td>...</td>\n",
       "      <td>...</td>\n",
       "      <td>...</td>\n",
       "    </tr>\n",
       "    <tr>\n",
       "      <th>32946</th>\n",
       "      <td>cda646f2d34e418fff5a0a0b7d5a992c</td>\n",
       "      <td>6.0</td>\n",
       "      <td>45.0</td>\n",
       "      <td>67.0</td>\n",
       "      <td>2.0</td>\n",
       "    </tr>\n",
       "    <tr>\n",
       "      <th>32947</th>\n",
       "      <td>d0fd4412a93c974510e6bf4538d88321</td>\n",
       "      <td>67.0</td>\n",
       "      <td>41.0</td>\n",
       "      <td>971.0</td>\n",
       "      <td>1.0</td>\n",
       "    </tr>\n",
       "    <tr>\n",
       "      <th>32948</th>\n",
       "      <td>92d9d9ef6cfe62a71f8c9a7c6041fa95</td>\n",
       "      <td>28.0</td>\n",
       "      <td>50.0</td>\n",
       "      <td>799.0</td>\n",
       "      <td>1.0</td>\n",
       "    </tr>\n",
       "    <tr>\n",
       "      <th>32949</th>\n",
       "      <td>a22e264b9d75f04a2e83808703fc0706</td>\n",
       "      <td>2.0</td>\n",
       "      <td>60.0</td>\n",
       "      <td>156.0</td>\n",
       "      <td>2.0</td>\n",
       "    </tr>\n",
       "    <tr>\n",
       "      <th>32950</th>\n",
       "      <td>fca363410d287a815be6de4106392145</td>\n",
       "      <td>28.0</td>\n",
       "      <td>58.0</td>\n",
       "      <td>309.0</td>\n",
       "      <td>1.0</td>\n",
       "    </tr>\n",
       "  </tbody>\n",
       "</table>\n",
       "<p>32951 rows × 5 columns</p>\n",
       "</div>"
      ],
      "text/plain": [
       "                               hotel_id  hotel_category  hotel_name_length  \\\n",
       "0      4dbcff4541ed26657ea517e51e9e8ef0            65.0               40.0   \n",
       "1      1139cb16b67ca9e5dea641aaa2f3aa07            72.0               44.0   \n",
       "2      c8810374ed1b65e291975717f96bd76e            69.0               46.0   \n",
       "3      66a932b7673e239eb23dcef67bcfe190            18.0               27.0   \n",
       "4      74444849c219cff195d0b719dc1a7de2            11.0               37.0   \n",
       "...                                 ...             ...                ...   \n",
       "32946  cda646f2d34e418fff5a0a0b7d5a992c             6.0               45.0   \n",
       "32947  d0fd4412a93c974510e6bf4538d88321            67.0               41.0   \n",
       "32948  92d9d9ef6cfe62a71f8c9a7c6041fa95            28.0               50.0   \n",
       "32949  a22e264b9d75f04a2e83808703fc0706             2.0               60.0   \n",
       "32950  fca363410d287a815be6de4106392145            28.0               58.0   \n",
       "\n",
       "       hotel_description_length  hotel_photos_qty  \n",
       "0                         287.0               1.0  \n",
       "1                         276.0               1.0  \n",
       "2                         250.0               1.0  \n",
       "3                         261.0               1.0  \n",
       "4                         402.0               4.0  \n",
       "...                         ...               ...  \n",
       "32946                      67.0               2.0  \n",
       "32947                     971.0               1.0  \n",
       "32948                     799.0               1.0  \n",
       "32949                     156.0               2.0  \n",
       "32950                     309.0               1.0  \n",
       "\n",
       "[32951 rows x 5 columns]"
      ]
     },
     "execution_count": 22,
     "metadata": {},
     "output_type": "execute_result"
    }
   ],
   "source": [
    "hotels_data"
   ]
  },
  {
   "cell_type": "code",
   "execution_count": 23,
   "id": "c475cb5f",
   "metadata": {
    "execution": {
     "iopub.execute_input": "2022-11-26T11:17:42.840451Z",
     "iopub.status.busy": "2022-11-26T11:17:42.839294Z",
     "iopub.status.idle": "2022-11-26T11:17:42.875028Z",
     "shell.execute_reply": "2022-11-26T11:17:42.873745Z"
    },
    "papermill": {
     "duration": 0.067479,
     "end_time": "2022-11-26T11:17:42.877803",
     "exception": false,
     "start_time": "2022-11-26T11:17:42.810324",
     "status": "completed"
    },
    "tags": []
   },
   "outputs": [
    {
     "data": {
      "text/plain": [
       "32951"
      ]
     },
     "execution_count": 23,
     "metadata": {},
     "output_type": "execute_result"
    }
   ],
   "source": [
    "len(np.unique(hotels_data['hotel_id']))"
   ]
  },
  {
   "cell_type": "code",
   "execution_count": null,
   "id": "aef143ea",
   "metadata": {
    "papermill": {
     "duration": 0.026313,
     "end_time": "2022-11-26T11:17:42.930760",
     "exception": false,
     "start_time": "2022-11-26T11:17:42.904447",
     "status": "completed"
    },
    "tags": []
   },
   "outputs": [],
   "source": []
  },
  {
   "cell_type": "markdown",
   "id": "a87c53ff",
   "metadata": {
    "papermill": {
     "duration": 0.026352,
     "end_time": "2022-11-26T11:17:42.983815",
     "exception": false,
     "start_time": "2022-11-26T11:17:42.957463",
     "status": "completed"
    },
    "tags": []
   },
   "source": [
    "### Bookings Data"
   ]
  },
  {
   "cell_type": "code",
   "execution_count": 24,
   "id": "959f3b3e",
   "metadata": {
    "execution": {
     "iopub.execute_input": "2022-11-26T11:17:43.039490Z",
     "iopub.status.busy": "2022-11-26T11:17:43.038686Z",
     "iopub.status.idle": "2022-11-26T11:17:43.043786Z",
     "shell.execute_reply": "2022-11-26T11:17:43.042945Z"
    },
    "papermill": {
     "duration": 0.035785,
     "end_time": "2022-11-26T11:17:43.046219",
     "exception": false,
     "start_time": "2022-11-26T11:17:43.010434",
     "status": "completed"
    },
    "tags": []
   },
   "outputs": [],
   "source": [
    "# select only those booking ids which are in train and test set\n",
    "# drop others\n",
    "\n",
    "# all_booking_ids = list(train_data['booking_id']) + list(sample_submission['booking_id'])\n",
    "# # print(all_booking_ids[:10])\n",
    "# print(f'number of all such ids =  {len(all_booking_ids)}')\n",
    "\n",
    "# # all booking ids which are not in training and testing set\n",
    "# drop_ids = bookings_data[~bookings_data['booking_id'].isin(all_booking_ids)]\n",
    "\n",
    "# ids_to_be_dropped = drop_ids['booking_id'].values.tolist()\n",
    "\n",
    "# bookings_data = bookings_data[~bookings_data['booking_id'].isin(ids_to_be_dropped)]\n",
    "# bookings_data"
   ]
  },
  {
   "cell_type": "markdown",
   "id": "cf5bd1ce",
   "metadata": {
    "papermill": {
     "duration": 0.026432,
     "end_time": "2022-11-26T11:17:43.099284",
     "exception": false,
     "start_time": "2022-11-26T11:17:43.072852",
     "status": "completed"
    },
    "tags": []
   },
   "source": [
    "**now we only have rows which are useful**"
   ]
  },
  {
   "cell_type": "code",
   "execution_count": 25,
   "id": "3376b112",
   "metadata": {
    "execution": {
     "iopub.execute_input": "2022-11-26T11:17:43.156007Z",
     "iopub.status.busy": "2022-11-26T11:17:43.154838Z",
     "iopub.status.idle": "2022-11-26T11:17:43.170578Z",
     "shell.execute_reply": "2022-11-26T11:17:43.169409Z"
    },
    "papermill": {
     "duration": 0.047355,
     "end_time": "2022-11-26T11:17:43.173352",
     "exception": false,
     "start_time": "2022-11-26T11:17:43.125997",
     "status": "completed"
    },
    "tags": []
   },
   "outputs": [
    {
     "data": {
      "text/html": [
       "<div>\n",
       "<style scoped>\n",
       "    .dataframe tbody tr th:only-of-type {\n",
       "        vertical-align: middle;\n",
       "    }\n",
       "\n",
       "    .dataframe tbody tr th {\n",
       "        vertical-align: top;\n",
       "    }\n",
       "\n",
       "    .dataframe thead th {\n",
       "        text-align: right;\n",
       "    }\n",
       "</style>\n",
       "<table border=\"1\" class=\"dataframe\">\n",
       "  <thead>\n",
       "    <tr style=\"text-align: right;\">\n",
       "      <th></th>\n",
       "      <th>booking_id</th>\n",
       "      <th>booking_sequence_id</th>\n",
       "      <th>hotel_id</th>\n",
       "      <th>seller_agent_id</th>\n",
       "      <th>booking_expiry_date</th>\n",
       "      <th>price</th>\n",
       "      <th>agent_fees</th>\n",
       "    </tr>\n",
       "  </thead>\n",
       "  <tbody>\n",
       "    <tr>\n",
       "      <th>0</th>\n",
       "      <td>242fe8c5a6d1ba2dd792cb1621400010</td>\n",
       "      <td>1</td>\n",
       "      <td>e7ecb4970a6e2683c13e614244733e06</td>\n",
       "      <td>8ac8b2bce089ec2a04120248436dade1</td>\n",
       "      <td>2017-09-19 09:45:35</td>\n",
       "      <td>58.90</td>\n",
       "      <td>13.29</td>\n",
       "    </tr>\n",
       "    <tr>\n",
       "      <th>1</th>\n",
       "      <td>f77f2f0320c557190d7a144bdd300018</td>\n",
       "      <td>1</td>\n",
       "      <td>2189ee658865ca93d83a8fe5f2d52b80</td>\n",
       "      <td>b6c2c614352b383efe2d36dd7ddc04e1</td>\n",
       "      <td>2017-05-03 11:05:13</td>\n",
       "      <td>239.90</td>\n",
       "      <td>19.93</td>\n",
       "    </tr>\n",
       "    <tr>\n",
       "      <th>2</th>\n",
       "      <td>98224ef6ca0657da4fc703e000229ec3</td>\n",
       "      <td>1</td>\n",
       "      <td>b67abbeef9df44fd0fdc777355d18b72</td>\n",
       "      <td>2adc84c38acab88f23d5b51032eddd24</td>\n",
       "      <td>2018-01-18 14:48:30</td>\n",
       "      <td>199.00</td>\n",
       "      <td>17.87</td>\n",
       "    </tr>\n",
       "    <tr>\n",
       "      <th>3</th>\n",
       "      <td>cdf0a6daa1e931b038114c7500024acb</td>\n",
       "      <td>1</td>\n",
       "      <td>0f1595efa32f14722fc7634da152a461</td>\n",
       "      <td>409006425275ba1c2b49d7a1d34a5052</td>\n",
       "      <td>2018-08-15 10:10:18</td>\n",
       "      <td>12.99</td>\n",
       "      <td>12.79</td>\n",
       "    </tr>\n",
       "    <tr>\n",
       "      <th>4</th>\n",
       "      <td>26cf59d7ce69dfabb4e55b4fd900042b</td>\n",
       "      <td>1</td>\n",
       "      <td>30de03045865e4e10089ac6c3623068f</td>\n",
       "      <td>1e74553ab94004ba5c87df560393f3a5</td>\n",
       "      <td>2017-02-13 13:57:51</td>\n",
       "      <td>199.90</td>\n",
       "      <td>18.14</td>\n",
       "    </tr>\n",
       "  </tbody>\n",
       "</table>\n",
       "</div>"
      ],
      "text/plain": [
       "                         booking_id  booking_sequence_id  \\\n",
       "0  242fe8c5a6d1ba2dd792cb1621400010                    1   \n",
       "1  f77f2f0320c557190d7a144bdd300018                    1   \n",
       "2  98224ef6ca0657da4fc703e000229ec3                    1   \n",
       "3  cdf0a6daa1e931b038114c7500024acb                    1   \n",
       "4  26cf59d7ce69dfabb4e55b4fd900042b                    1   \n",
       "\n",
       "                           hotel_id                   seller_agent_id  \\\n",
       "0  e7ecb4970a6e2683c13e614244733e06  8ac8b2bce089ec2a04120248436dade1   \n",
       "1  2189ee658865ca93d83a8fe5f2d52b80  b6c2c614352b383efe2d36dd7ddc04e1   \n",
       "2  b67abbeef9df44fd0fdc777355d18b72  2adc84c38acab88f23d5b51032eddd24   \n",
       "3  0f1595efa32f14722fc7634da152a461  409006425275ba1c2b49d7a1d34a5052   \n",
       "4  30de03045865e4e10089ac6c3623068f  1e74553ab94004ba5c87df560393f3a5   \n",
       "\n",
       "   booking_expiry_date   price  agent_fees  \n",
       "0  2017-09-19 09:45:35   58.90       13.29  \n",
       "1  2017-05-03 11:05:13  239.90       19.93  \n",
       "2  2018-01-18 14:48:30  199.00       17.87  \n",
       "3  2018-08-15 10:10:18   12.99       12.79  \n",
       "4  2017-02-13 13:57:51  199.90       18.14  "
      ]
     },
     "execution_count": 25,
     "metadata": {},
     "output_type": "execute_result"
    }
   ],
   "source": [
    "bookings_data.head()"
   ]
  },
  {
   "cell_type": "code",
   "execution_count": 26,
   "id": "3edc6776",
   "metadata": {
    "execution": {
     "iopub.execute_input": "2022-11-26T11:17:43.229195Z",
     "iopub.status.busy": "2022-11-26T11:17:43.228822Z",
     "iopub.status.idle": "2022-11-26T11:17:43.234314Z",
     "shell.execute_reply": "2022-11-26T11:17:43.233560Z"
    },
    "papermill": {
     "duration": 0.03625,
     "end_time": "2022-11-26T11:17:43.236638",
     "exception": false,
     "start_time": "2022-11-26T11:17:43.200388",
     "status": "completed"
    },
    "tags": []
   },
   "outputs": [
    {
     "data": {
      "text/plain": [
       "(112650, 7)"
      ]
     },
     "execution_count": 26,
     "metadata": {},
     "output_type": "execute_result"
    }
   ],
   "source": [
    "bookings_data.shape"
   ]
  },
  {
   "cell_type": "markdown",
   "id": "3cb3e92f",
   "metadata": {
    "papermill": {
     "duration": 0.026976,
     "end_time": "2022-11-26T11:17:43.291607",
     "exception": false,
     "start_time": "2022-11-26T11:17:43.264631",
     "status": "completed"
    },
    "tags": []
   },
   "source": [
    "#### Look at hotel id (kyuki hotels data alag se dataframe given hai)"
   ]
  },
  {
   "cell_type": "code",
   "execution_count": 27,
   "id": "fff7ab36",
   "metadata": {
    "execution": {
     "iopub.execute_input": "2022-11-26T11:17:43.348544Z",
     "iopub.status.busy": "2022-11-26T11:17:43.348149Z",
     "iopub.status.idle": "2022-11-26T11:17:43.352544Z",
     "shell.execute_reply": "2022-11-26T11:17:43.351309Z"
    },
    "papermill": {
     "duration": 0.036203,
     "end_time": "2022-11-26T11:17:43.354805",
     "exception": false,
     "start_time": "2022-11-26T11:17:43.318602",
     "status": "completed"
    },
    "tags": []
   },
   "outputs": [],
   "source": [
    "# bookings_data[['booking_id', 'hotel_id']]"
   ]
  },
  {
   "cell_type": "code",
   "execution_count": 28,
   "id": "7db3fcdc",
   "metadata": {
    "execution": {
     "iopub.execute_input": "2022-11-26T11:17:43.411234Z",
     "iopub.status.busy": "2022-11-26T11:17:43.410821Z",
     "iopub.status.idle": "2022-11-26T11:17:43.425313Z",
     "shell.execute_reply": "2022-11-26T11:17:43.424134Z"
    },
    "papermill": {
     "duration": 0.046049,
     "end_time": "2022-11-26T11:17:43.428026",
     "exception": false,
     "start_time": "2022-11-26T11:17:43.381977",
     "status": "completed"
    },
    "tags": []
   },
   "outputs": [
    {
     "data": {
      "text/html": [
       "<div>\n",
       "<style scoped>\n",
       "    .dataframe tbody tr th:only-of-type {\n",
       "        vertical-align: middle;\n",
       "    }\n",
       "\n",
       "    .dataframe tbody tr th {\n",
       "        vertical-align: top;\n",
       "    }\n",
       "\n",
       "    .dataframe thead th {\n",
       "        text-align: right;\n",
       "    }\n",
       "</style>\n",
       "<table border=\"1\" class=\"dataframe\">\n",
       "  <thead>\n",
       "    <tr style=\"text-align: right;\">\n",
       "      <th></th>\n",
       "      <th>hotel_id</th>\n",
       "      <th>hotel_category</th>\n",
       "      <th>hotel_name_length</th>\n",
       "      <th>hotel_description_length</th>\n",
       "      <th>hotel_photos_qty</th>\n",
       "    </tr>\n",
       "  </thead>\n",
       "  <tbody>\n",
       "    <tr>\n",
       "      <th>0</th>\n",
       "      <td>4dbcff4541ed26657ea517e51e9e8ef0</td>\n",
       "      <td>65.0</td>\n",
       "      <td>40.0</td>\n",
       "      <td>287.0</td>\n",
       "      <td>1.0</td>\n",
       "    </tr>\n",
       "    <tr>\n",
       "      <th>1</th>\n",
       "      <td>1139cb16b67ca9e5dea641aaa2f3aa07</td>\n",
       "      <td>72.0</td>\n",
       "      <td>44.0</td>\n",
       "      <td>276.0</td>\n",
       "      <td>1.0</td>\n",
       "    </tr>\n",
       "    <tr>\n",
       "      <th>2</th>\n",
       "      <td>c8810374ed1b65e291975717f96bd76e</td>\n",
       "      <td>69.0</td>\n",
       "      <td>46.0</td>\n",
       "      <td>250.0</td>\n",
       "      <td>1.0</td>\n",
       "    </tr>\n",
       "    <tr>\n",
       "      <th>3</th>\n",
       "      <td>66a932b7673e239eb23dcef67bcfe190</td>\n",
       "      <td>18.0</td>\n",
       "      <td>27.0</td>\n",
       "      <td>261.0</td>\n",
       "      <td>1.0</td>\n",
       "    </tr>\n",
       "    <tr>\n",
       "      <th>4</th>\n",
       "      <td>74444849c219cff195d0b719dc1a7de2</td>\n",
       "      <td>11.0</td>\n",
       "      <td>37.0</td>\n",
       "      <td>402.0</td>\n",
       "      <td>4.0</td>\n",
       "    </tr>\n",
       "  </tbody>\n",
       "</table>\n",
       "</div>"
      ],
      "text/plain": [
       "                           hotel_id  hotel_category  hotel_name_length  \\\n",
       "0  4dbcff4541ed26657ea517e51e9e8ef0            65.0               40.0   \n",
       "1  1139cb16b67ca9e5dea641aaa2f3aa07            72.0               44.0   \n",
       "2  c8810374ed1b65e291975717f96bd76e            69.0               46.0   \n",
       "3  66a932b7673e239eb23dcef67bcfe190            18.0               27.0   \n",
       "4  74444849c219cff195d0b719dc1a7de2            11.0               37.0   \n",
       "\n",
       "   hotel_description_length  hotel_photos_qty  \n",
       "0                     287.0               1.0  \n",
       "1                     276.0               1.0  \n",
       "2                     250.0               1.0  \n",
       "3                     261.0               1.0  \n",
       "4                     402.0               4.0  "
      ]
     },
     "execution_count": 28,
     "metadata": {},
     "output_type": "execute_result"
    }
   ],
   "source": [
    "hotels_data.head()"
   ]
  },
  {
   "cell_type": "code",
   "execution_count": 29,
   "id": "f047adc3",
   "metadata": {
    "execution": {
     "iopub.execute_input": "2022-11-26T11:17:43.485621Z",
     "iopub.status.busy": "2022-11-26T11:17:43.484508Z",
     "iopub.status.idle": "2022-11-26T11:17:43.589812Z",
     "shell.execute_reply": "2022-11-26T11:17:43.588667Z"
    },
    "papermill": {
     "duration": 0.136993,
     "end_time": "2022-11-26T11:17:43.592360",
     "exception": false,
     "start_time": "2022-11-26T11:17:43.455367",
     "status": "completed"
    },
    "tags": []
   },
   "outputs": [
    {
     "data": {
      "text/html": [
       "<div>\n",
       "<style scoped>\n",
       "    .dataframe tbody tr th:only-of-type {\n",
       "        vertical-align: middle;\n",
       "    }\n",
       "\n",
       "    .dataframe tbody tr th {\n",
       "        vertical-align: top;\n",
       "    }\n",
       "\n",
       "    .dataframe thead th {\n",
       "        text-align: right;\n",
       "    }\n",
       "</style>\n",
       "<table border=\"1\" class=\"dataframe\">\n",
       "  <thead>\n",
       "    <tr style=\"text-align: right;\">\n",
       "      <th></th>\n",
       "      <th>booking_id</th>\n",
       "      <th>booking_sequence_id</th>\n",
       "      <th>hotel_id</th>\n",
       "      <th>seller_agent_id</th>\n",
       "      <th>booking_expiry_date</th>\n",
       "      <th>price</th>\n",
       "      <th>agent_fees</th>\n",
       "      <th>hotel_category</th>\n",
       "      <th>hotel_name_length</th>\n",
       "      <th>hotel_description_length</th>\n",
       "      <th>hotel_photos_qty</th>\n",
       "    </tr>\n",
       "  </thead>\n",
       "  <tbody>\n",
       "    <tr>\n",
       "      <th>0</th>\n",
       "      <td>242fe8c5a6d1ba2dd792cb1621400010</td>\n",
       "      <td>1</td>\n",
       "      <td>e7ecb4970a6e2683c13e614244733e06</td>\n",
       "      <td>8ac8b2bce089ec2a04120248436dade1</td>\n",
       "      <td>2017-09-19 09:45:35</td>\n",
       "      <td>58.90</td>\n",
       "      <td>13.29</td>\n",
       "      <td>19.0</td>\n",
       "      <td>58.0</td>\n",
       "      <td>598.0</td>\n",
       "      <td>4.0</td>\n",
       "    </tr>\n",
       "    <tr>\n",
       "      <th>1</th>\n",
       "      <td>f77f2f0320c557190d7a144bdd300018</td>\n",
       "      <td>1</td>\n",
       "      <td>2189ee658865ca93d83a8fe5f2d52b80</td>\n",
       "      <td>b6c2c614352b383efe2d36dd7ddc04e1</td>\n",
       "      <td>2017-05-03 11:05:13</td>\n",
       "      <td>239.90</td>\n",
       "      <td>19.93</td>\n",
       "      <td>14.0</td>\n",
       "      <td>56.0</td>\n",
       "      <td>239.0</td>\n",
       "      <td>2.0</td>\n",
       "    </tr>\n",
       "    <tr>\n",
       "      <th>2</th>\n",
       "      <td>98224ef6ca0657da4fc703e000229ec3</td>\n",
       "      <td>1</td>\n",
       "      <td>b67abbeef9df44fd0fdc777355d18b72</td>\n",
       "      <td>2adc84c38acab88f23d5b51032eddd24</td>\n",
       "      <td>2018-01-18 14:48:30</td>\n",
       "      <td>199.00</td>\n",
       "      <td>17.87</td>\n",
       "      <td>6.0</td>\n",
       "      <td>59.0</td>\n",
       "      <td>695.0</td>\n",
       "      <td>2.0</td>\n",
       "    </tr>\n",
       "    <tr>\n",
       "      <th>3</th>\n",
       "      <td>cdf0a6daa1e931b038114c7500024acb</td>\n",
       "      <td>1</td>\n",
       "      <td>0f1595efa32f14722fc7634da152a461</td>\n",
       "      <td>409006425275ba1c2b49d7a1d34a5052</td>\n",
       "      <td>2018-08-15 10:10:18</td>\n",
       "      <td>12.99</td>\n",
       "      <td>12.79</td>\n",
       "      <td>65.0</td>\n",
       "      <td>42.0</td>\n",
       "      <td>480.0</td>\n",
       "      <td>1.0</td>\n",
       "    </tr>\n",
       "    <tr>\n",
       "      <th>4</th>\n",
       "      <td>26cf59d7ce69dfabb4e55b4fd900042b</td>\n",
       "      <td>1</td>\n",
       "      <td>30de03045865e4e10089ac6c3623068f</td>\n",
       "      <td>1e74553ab94004ba5c87df560393f3a5</td>\n",
       "      <td>2017-02-13 13:57:51</td>\n",
       "      <td>199.90</td>\n",
       "      <td>18.14</td>\n",
       "      <td>17.0</td>\n",
       "      <td>59.0</td>\n",
       "      <td>409.0</td>\n",
       "      <td>1.0</td>\n",
       "    </tr>\n",
       "    <tr>\n",
       "      <th>...</th>\n",
       "      <td>...</td>\n",
       "      <td>...</td>\n",
       "      <td>...</td>\n",
       "      <td>...</td>\n",
       "      <td>...</td>\n",
       "      <td>...</td>\n",
       "      <td>...</td>\n",
       "      <td>...</td>\n",
       "      <td>...</td>\n",
       "      <td>...</td>\n",
       "      <td>...</td>\n",
       "    </tr>\n",
       "    <tr>\n",
       "      <th>112645</th>\n",
       "      <td>e00a00581880bf54a75a037fffc94f6c</td>\n",
       "      <td>1</td>\n",
       "      <td>682077f9dc4bffebc05b04aa6014eceb</td>\n",
       "      <td>88b23da09c0f1f3a3288cb8bc237ba37</td>\n",
       "      <td>2018-05-02 04:11:01</td>\n",
       "      <td>299.99</td>\n",
       "      <td>43.41</td>\n",
       "      <td>11.0</td>\n",
       "      <td>43.0</td>\n",
       "      <td>1002.0</td>\n",
       "      <td>3.0</td>\n",
       "    </tr>\n",
       "    <tr>\n",
       "      <th>112646</th>\n",
       "      <td>ef2263f404302a634eb57f7ebfffcd46</td>\n",
       "      <td>1</td>\n",
       "      <td>d915822b0765e448c4dd74c82832e07f</td>\n",
       "      <td>b652836d21de61fb8314b69182f3c38a</td>\n",
       "      <td>2018-07-20 04:31:48</td>\n",
       "      <td>350.00</td>\n",
       "      <td>36.53</td>\n",
       "      <td>2.0</td>\n",
       "      <td>31.0</td>\n",
       "      <td>232.0</td>\n",
       "      <td>1.0</td>\n",
       "    </tr>\n",
       "    <tr>\n",
       "      <th>112647</th>\n",
       "      <td>5a9662cd70adb13d4a31832dfffce470</td>\n",
       "      <td>1</td>\n",
       "      <td>483855e2eafc67aee5dc256048272a30</td>\n",
       "      <td>7fdbbbb35635a37472c53c3cfdc64817</td>\n",
       "      <td>2017-10-30 17:14:25</td>\n",
       "      <td>99.90</td>\n",
       "      <td>16.95</td>\n",
       "      <td>69.0</td>\n",
       "      <td>43.0</td>\n",
       "      <td>869.0</td>\n",
       "      <td>1.0</td>\n",
       "    </tr>\n",
       "    <tr>\n",
       "      <th>112648</th>\n",
       "      <td>ffabc95dfada21779c9644ffffe18544</td>\n",
       "      <td>1</td>\n",
       "      <td>dcad7575db5af1ba540e9c422a519119</td>\n",
       "      <td>8e01938cabda2a3e5cc792b3e4a2a3ea</td>\n",
       "      <td>2017-08-21 00:04:32</td>\n",
       "      <td>55.99</td>\n",
       "      <td>8.72</td>\n",
       "      <td>2.0</td>\n",
       "      <td>56.0</td>\n",
       "      <td>1306.0</td>\n",
       "      <td>1.0</td>\n",
       "    </tr>\n",
       "    <tr>\n",
       "      <th>112649</th>\n",
       "      <td>cc87c801fd61db3f6244fffe41c64501</td>\n",
       "      <td>1</td>\n",
       "      <td>d9dc1e75ff97be326363655e01350688</td>\n",
       "      <td>21b2fb1de37564105216cc1f7ccf836d</td>\n",
       "      <td>2018-06-12 17:10:13</td>\n",
       "      <td>43.00</td>\n",
       "      <td>12.79</td>\n",
       "      <td>28.0</td>\n",
       "      <td>47.0</td>\n",
       "      <td>511.0</td>\n",
       "      <td>1.0</td>\n",
       "    </tr>\n",
       "  </tbody>\n",
       "</table>\n",
       "<p>112650 rows × 11 columns</p>\n",
       "</div>"
      ],
      "text/plain": [
       "                              booking_id  booking_sequence_id  \\\n",
       "0       242fe8c5a6d1ba2dd792cb1621400010                    1   \n",
       "1       f77f2f0320c557190d7a144bdd300018                    1   \n",
       "2       98224ef6ca0657da4fc703e000229ec3                    1   \n",
       "3       cdf0a6daa1e931b038114c7500024acb                    1   \n",
       "4       26cf59d7ce69dfabb4e55b4fd900042b                    1   \n",
       "...                                  ...                  ...   \n",
       "112645  e00a00581880bf54a75a037fffc94f6c                    1   \n",
       "112646  ef2263f404302a634eb57f7ebfffcd46                    1   \n",
       "112647  5a9662cd70adb13d4a31832dfffce470                    1   \n",
       "112648  ffabc95dfada21779c9644ffffe18544                    1   \n",
       "112649  cc87c801fd61db3f6244fffe41c64501                    1   \n",
       "\n",
       "                                hotel_id                   seller_agent_id  \\\n",
       "0       e7ecb4970a6e2683c13e614244733e06  8ac8b2bce089ec2a04120248436dade1   \n",
       "1       2189ee658865ca93d83a8fe5f2d52b80  b6c2c614352b383efe2d36dd7ddc04e1   \n",
       "2       b67abbeef9df44fd0fdc777355d18b72  2adc84c38acab88f23d5b51032eddd24   \n",
       "3       0f1595efa32f14722fc7634da152a461  409006425275ba1c2b49d7a1d34a5052   \n",
       "4       30de03045865e4e10089ac6c3623068f  1e74553ab94004ba5c87df560393f3a5   \n",
       "...                                  ...                               ...   \n",
       "112645  682077f9dc4bffebc05b04aa6014eceb  88b23da09c0f1f3a3288cb8bc237ba37   \n",
       "112646  d915822b0765e448c4dd74c82832e07f  b652836d21de61fb8314b69182f3c38a   \n",
       "112647  483855e2eafc67aee5dc256048272a30  7fdbbbb35635a37472c53c3cfdc64817   \n",
       "112648  dcad7575db5af1ba540e9c422a519119  8e01938cabda2a3e5cc792b3e4a2a3ea   \n",
       "112649  d9dc1e75ff97be326363655e01350688  21b2fb1de37564105216cc1f7ccf836d   \n",
       "\n",
       "        booking_expiry_date   price  agent_fees  hotel_category  \\\n",
       "0       2017-09-19 09:45:35   58.90       13.29            19.0   \n",
       "1       2017-05-03 11:05:13  239.90       19.93            14.0   \n",
       "2       2018-01-18 14:48:30  199.00       17.87             6.0   \n",
       "3       2018-08-15 10:10:18   12.99       12.79            65.0   \n",
       "4       2017-02-13 13:57:51  199.90       18.14            17.0   \n",
       "...                     ...     ...         ...             ...   \n",
       "112645  2018-05-02 04:11:01  299.99       43.41            11.0   \n",
       "112646  2018-07-20 04:31:48  350.00       36.53             2.0   \n",
       "112647  2017-10-30 17:14:25   99.90       16.95            69.0   \n",
       "112648  2017-08-21 00:04:32   55.99        8.72             2.0   \n",
       "112649  2018-06-12 17:10:13   43.00       12.79            28.0   \n",
       "\n",
       "        hotel_name_length  hotel_description_length  hotel_photos_qty  \n",
       "0                    58.0                     598.0               4.0  \n",
       "1                    56.0                     239.0               2.0  \n",
       "2                    59.0                     695.0               2.0  \n",
       "3                    42.0                     480.0               1.0  \n",
       "4                    59.0                     409.0               1.0  \n",
       "...                   ...                       ...               ...  \n",
       "112645               43.0                    1002.0               3.0  \n",
       "112646               31.0                     232.0               1.0  \n",
       "112647               43.0                     869.0               1.0  \n",
       "112648               56.0                    1306.0               1.0  \n",
       "112649               47.0                     511.0               1.0  \n",
       "\n",
       "[112650 rows x 11 columns]"
      ]
     },
     "execution_count": 29,
     "metadata": {},
     "output_type": "execute_result"
    }
   ],
   "source": [
    "bookings_data = pd.merge(bookings_data, hotels_data, on='hotel_id', how='left')\n",
    "bookings_data"
   ]
  },
  {
   "cell_type": "code",
   "execution_count": null,
   "id": "1441604c",
   "metadata": {
    "papermill": {
     "duration": 0.027696,
     "end_time": "2022-11-26T11:17:43.648480",
     "exception": false,
     "start_time": "2022-11-26T11:17:43.620784",
     "status": "completed"
    },
    "tags": []
   },
   "outputs": [],
   "source": []
  },
  {
   "cell_type": "code",
   "execution_count": 30,
   "id": "37de7c51",
   "metadata": {
    "execution": {
     "iopub.execute_input": "2022-11-26T11:17:43.706305Z",
     "iopub.status.busy": "2022-11-26T11:17:43.705918Z",
     "iopub.status.idle": "2022-11-26T11:17:43.807242Z",
     "shell.execute_reply": "2022-11-26T11:17:43.805991Z"
    },
    "papermill": {
     "duration": 0.13389,
     "end_time": "2022-11-26T11:17:43.810418",
     "exception": false,
     "start_time": "2022-11-26T11:17:43.676528",
     "status": "completed"
    },
    "tags": []
   },
   "outputs": [
    {
     "data": {
      "text/html": [
       "<div>\n",
       "<style scoped>\n",
       "    .dataframe tbody tr th:only-of-type {\n",
       "        vertical-align: middle;\n",
       "    }\n",
       "\n",
       "    .dataframe tbody tr th {\n",
       "        vertical-align: top;\n",
       "    }\n",
       "\n",
       "    .dataframe thead tr th {\n",
       "        text-align: left;\n",
       "    }\n",
       "\n",
       "    .dataframe thead tr:last-of-type th {\n",
       "        text-align: right;\n",
       "    }\n",
       "</style>\n",
       "<table border=\"1\" class=\"dataframe\">\n",
       "  <thead>\n",
       "    <tr>\n",
       "      <th></th>\n",
       "      <th colspan=\"2\" halign=\"left\">hotel_id</th>\n",
       "      <th colspan=\"2\" halign=\"left\">price</th>\n",
       "      <th colspan=\"2\" halign=\"left\">agent_fees</th>\n",
       "      <th colspan=\"2\" halign=\"left\">booking_sequence_id</th>\n",
       "      <th colspan=\"2\" halign=\"left\">hotel_category</th>\n",
       "      <th colspan=\"2\" halign=\"left\">hotel_name_length</th>\n",
       "      <th colspan=\"2\" halign=\"left\">hotel_description_length</th>\n",
       "      <th colspan=\"2\" halign=\"left\">hotel_photos_qty</th>\n",
       "    </tr>\n",
       "    <tr>\n",
       "      <th></th>\n",
       "      <th>count</th>\n",
       "      <th>unique</th>\n",
       "      <th>count</th>\n",
       "      <th>unique</th>\n",
       "      <th>count</th>\n",
       "      <th>unique</th>\n",
       "      <th>count</th>\n",
       "      <th>unique</th>\n",
       "      <th>count</th>\n",
       "      <th>unique</th>\n",
       "      <th>count</th>\n",
       "      <th>unique</th>\n",
       "      <th>count</th>\n",
       "      <th>unique</th>\n",
       "      <th>count</th>\n",
       "      <th>unique</th>\n",
       "    </tr>\n",
       "    <tr>\n",
       "      <th>booking_id</th>\n",
       "      <th></th>\n",
       "      <th></th>\n",
       "      <th></th>\n",
       "      <th></th>\n",
       "      <th></th>\n",
       "      <th></th>\n",
       "      <th></th>\n",
       "      <th></th>\n",
       "      <th></th>\n",
       "      <th></th>\n",
       "      <th></th>\n",
       "      <th></th>\n",
       "      <th></th>\n",
       "      <th></th>\n",
       "      <th></th>\n",
       "      <th></th>\n",
       "    </tr>\n",
       "  </thead>\n",
       "  <tbody>\n",
       "    <tr>\n",
       "      <th>01a64e59a68b2c340bf65a70006ec9db</th>\n",
       "      <td>1</td>\n",
       "      <td>[856965c36a24e339b605899a4788cb24]</td>\n",
       "      <td>1</td>\n",
       "      <td>[74.0]</td>\n",
       "      <td>1</td>\n",
       "      <td>[23.32]</td>\n",
       "      <td>1</td>\n",
       "      <td>[1]</td>\n",
       "      <td>1</td>\n",
       "      <td>[28.0]</td>\n",
       "      <td>1</td>\n",
       "      <td>[54.0]</td>\n",
       "      <td>1</td>\n",
       "      <td>[245.0]</td>\n",
       "      <td>1</td>\n",
       "      <td>[1.0]</td>\n",
       "    </tr>\n",
       "    <tr>\n",
       "      <th>1f2006d75e0be9558292e000e562887b</th>\n",
       "      <td>1</td>\n",
       "      <td>[f6936b51d0b6c5e4d5c2e95ed9eaf534]</td>\n",
       "      <td>1</td>\n",
       "      <td>[25.0]</td>\n",
       "      <td>1</td>\n",
       "      <td>[16.11]</td>\n",
       "      <td>1</td>\n",
       "      <td>[1]</td>\n",
       "      <td>1</td>\n",
       "      <td>[19.0]</td>\n",
       "      <td>1</td>\n",
       "      <td>[51.0]</td>\n",
       "      <td>1</td>\n",
       "      <td>[693.0]</td>\n",
       "      <td>1</td>\n",
       "      <td>[3.0]</td>\n",
       "    </tr>\n",
       "    <tr>\n",
       "      <th>242fe8c5a6d1ba2dd792cb1621400010</th>\n",
       "      <td>1</td>\n",
       "      <td>[e7ecb4970a6e2683c13e614244733e06]</td>\n",
       "      <td>1</td>\n",
       "      <td>[58.9]</td>\n",
       "      <td>1</td>\n",
       "      <td>[13.29]</td>\n",
       "      <td>1</td>\n",
       "      <td>[1]</td>\n",
       "      <td>1</td>\n",
       "      <td>[19.0]</td>\n",
       "      <td>1</td>\n",
       "      <td>[58.0]</td>\n",
       "      <td>1</td>\n",
       "      <td>[598.0]</td>\n",
       "      <td>1</td>\n",
       "      <td>[4.0]</td>\n",
       "    </tr>\n",
       "    <tr>\n",
       "      <th>26cf59d7ce69dfabb4e55b4fd900042b</th>\n",
       "      <td>1</td>\n",
       "      <td>[30de03045865e4e10089ac6c3623068f]</td>\n",
       "      <td>1</td>\n",
       "      <td>[199.9]</td>\n",
       "      <td>1</td>\n",
       "      <td>[18.14]</td>\n",
       "      <td>1</td>\n",
       "      <td>[1]</td>\n",
       "      <td>1</td>\n",
       "      <td>[17.0]</td>\n",
       "      <td>1</td>\n",
       "      <td>[59.0]</td>\n",
       "      <td>1</td>\n",
       "      <td>[409.0]</td>\n",
       "      <td>1</td>\n",
       "      <td>[1.0]</td>\n",
       "    </tr>\n",
       "    <tr>\n",
       "      <th>28c9d785b8e2b08b904576c0005a1a17</th>\n",
       "      <td>1</td>\n",
       "      <td>[40ff94b03219ad0adc3c778f310ae3c1]</td>\n",
       "      <td>1</td>\n",
       "      <td>[145.95]</td>\n",
       "      <td>1</td>\n",
       "      <td>[11.65]</td>\n",
       "      <td>1</td>\n",
       "      <td>[1]</td>\n",
       "      <td>1</td>\n",
       "      <td>[7.0]</td>\n",
       "      <td>1</td>\n",
       "      <td>[59.0]</td>\n",
       "      <td>1</td>\n",
       "      <td>[493.0]</td>\n",
       "      <td>1</td>\n",
       "      <td>[1.0]</td>\n",
       "    </tr>\n",
       "    <tr>\n",
       "      <th>319847cbb9d288c5617fa6000576fe39</th>\n",
       "      <td>1</td>\n",
       "      <td>[2a7d6f792fd18ae1400d9b6557d85097]</td>\n",
       "      <td>1</td>\n",
       "      <td>[810.0]</td>\n",
       "      <td>1</td>\n",
       "      <td>[70.75]</td>\n",
       "      <td>1</td>\n",
       "      <td>[1]</td>\n",
       "      <td>1</td>\n",
       "      <td>[17.0]</td>\n",
       "      <td>1</td>\n",
       "      <td>[39.0]</td>\n",
       "      <td>1</td>\n",
       "      <td>[1310.0]</td>\n",
       "      <td>1</td>\n",
       "      <td>[3.0]</td>\n",
       "    </tr>\n",
       "    <tr>\n",
       "      <th>3dcd1d21e1fb9234950005f50442cb95</th>\n",
       "      <td>1</td>\n",
       "      <td>[1c278dfd193e5a1d63b39f4535b0e109]</td>\n",
       "      <td>1</td>\n",
       "      <td>[53.99]</td>\n",
       "      <td>1</td>\n",
       "      <td>[11.4]</td>\n",
       "      <td>1</td>\n",
       "      <td>[1]</td>\n",
       "      <td>1</td>\n",
       "      <td>[41.0]</td>\n",
       "      <td>1</td>\n",
       "      <td>[52.0]</td>\n",
       "      <td>1</td>\n",
       "      <td>[1192.0]</td>\n",
       "      <td>1</td>\n",
       "      <td>[1.0]</td>\n",
       "    </tr>\n",
       "    <tr>\n",
       "      <th>423d2a3f00fcb17cd7d87190008288aa</th>\n",
       "      <td>2</td>\n",
       "      <td>[30842d78016ad823897a372db368c6c7]</td>\n",
       "      <td>2</td>\n",
       "      <td>[49.9]</td>\n",
       "      <td>2</td>\n",
       "      <td>[13.37]</td>\n",
       "      <td>2</td>\n",
       "      <td>[1, 2]</td>\n",
       "      <td>2</td>\n",
       "      <td>[17.0]</td>\n",
       "      <td>2</td>\n",
       "      <td>[57.0]</td>\n",
       "      <td>2</td>\n",
       "      <td>[366.0]</td>\n",
       "      <td>2</td>\n",
       "      <td>[2.0]</td>\n",
       "    </tr>\n",
       "    <tr>\n",
       "      <th>431b9d7675808bcb819fb4a3200054e8</th>\n",
       "      <td>1</td>\n",
       "      <td>[10a28f34fa83ee7d288d4f2bb7e93e67]</td>\n",
       "      <td>1</td>\n",
       "      <td>[19.9]</td>\n",
       "      <td>1</td>\n",
       "      <td>[11.85]</td>\n",
       "      <td>1</td>\n",
       "      <td>[1]</td>\n",
       "      <td>1</td>\n",
       "      <td>[38.0]</td>\n",
       "      <td>1</td>\n",
       "      <td>[52.0]</td>\n",
       "      <td>1</td>\n",
       "      <td>[815.0]</td>\n",
       "      <td>1</td>\n",
       "      <td>[1.0]</td>\n",
       "    </tr>\n",
       "    <tr>\n",
       "      <th>51cc3cbb4b83257986000c3e66127598</th>\n",
       "      <td>1</td>\n",
       "      <td>[ba0dcead2c48032a690ce817b50c950a]</td>\n",
       "      <td>1</td>\n",
       "      <td>[99.0]</td>\n",
       "      <td>1</td>\n",
       "      <td>[13.71]</td>\n",
       "      <td>1</td>\n",
       "      <td>[1]</td>\n",
       "      <td>1</td>\n",
       "      <td>[69.0]</td>\n",
       "      <td>1</td>\n",
       "      <td>[58.0]</td>\n",
       "      <td>1</td>\n",
       "      <td>[2584.0]</td>\n",
       "      <td>1</td>\n",
       "      <td>[1.0]</td>\n",
       "    </tr>\n",
       "    <tr>\n",
       "      <th>5dbad2f9ddb70584c5a2ded000aed2e2</th>\n",
       "      <td>1</td>\n",
       "      <td>[15031a8cde03dd0d3e8fb27f014fa339]</td>\n",
       "      <td>1</td>\n",
       "      <td>[144.0]</td>\n",
       "      <td>1</td>\n",
       "      <td>[8.77]</td>\n",
       "      <td>1</td>\n",
       "      <td>[1]</td>\n",
       "      <td>1</td>\n",
       "      <td>[65.0]</td>\n",
       "      <td>1</td>\n",
       "      <td>[43.0]</td>\n",
       "      <td>1</td>\n",
       "      <td>[116.0]</td>\n",
       "      <td>1</td>\n",
       "      <td>[1.0]</td>\n",
       "    </tr>\n",
       "    <tr>\n",
       "      <th>64db532ff765bf7b182ae00097923114</th>\n",
       "      <td>1</td>\n",
       "      <td>[8715e0d70a36c8074158cab8abac5915]</td>\n",
       "      <td>1</td>\n",
       "      <td>[99.9]</td>\n",
       "      <td>1</td>\n",
       "      <td>[27.65]</td>\n",
       "      <td>1</td>\n",
       "      <td>[1]</td>\n",
       "      <td>1</td>\n",
       "      <td>[69.0]</td>\n",
       "      <td>1</td>\n",
       "      <td>[56.0]</td>\n",
       "      <td>1</td>\n",
       "      <td>[1392.0]</td>\n",
       "      <td>1</td>\n",
       "      <td>[4.0]</td>\n",
       "    </tr>\n",
       "    <tr>\n",
       "      <th>65dbb7d2a0634bc1ea00048cc3ae777c</th>\n",
       "      <td>1</td>\n",
       "      <td>[e845ab8450f9d70c526ef70fef92defd]</td>\n",
       "      <td>1</td>\n",
       "      <td>[21.9]</td>\n",
       "      <td>1</td>\n",
       "      <td>[12.69]</td>\n",
       "      <td>1</td>\n",
       "      <td>[1]</td>\n",
       "      <td>1</td>\n",
       "      <td>[11.0]</td>\n",
       "      <td>1</td>\n",
       "      <td>[36.0]</td>\n",
       "      <td>1</td>\n",
       "      <td>[558.0]</td>\n",
       "      <td>1</td>\n",
       "      <td>[1.0]</td>\n",
       "    </tr>\n",
       "    <tr>\n",
       "      <th>706d71784483a5d6430009c9a17f916a</th>\n",
       "      <td>1</td>\n",
       "      <td>[d300ec4a5d8c5cf0b23f27ac8e699df3]</td>\n",
       "      <td>1</td>\n",
       "      <td>[639.0]</td>\n",
       "      <td>1</td>\n",
       "      <td>[11.34]</td>\n",
       "      <td>1</td>\n",
       "      <td>[1]</td>\n",
       "      <td>1</td>\n",
       "      <td>[15.0]</td>\n",
       "      <td>1</td>\n",
       "      <td>[37.0]</td>\n",
       "      <td>1</td>\n",
       "      <td>[1172.0]</td>\n",
       "      <td>1</td>\n",
       "      <td>[2.0]</td>\n",
       "    </tr>\n",
       "    <tr>\n",
       "      <th>81e2406b52ad429470734ebd500063b3</th>\n",
       "      <td>1</td>\n",
       "      <td>[a5b282f24e33f65ab6f177554ea93259]</td>\n",
       "      <td>1</td>\n",
       "      <td>[45.0]</td>\n",
       "      <td>1</td>\n",
       "      <td>[12.98]</td>\n",
       "      <td>1</td>\n",
       "      <td>[1]</td>\n",
       "      <td>1</td>\n",
       "      <td>[71.0]</td>\n",
       "      <td>1</td>\n",
       "      <td>[35.0]</td>\n",
       "      <td>1</td>\n",
       "      <td>[60.0]</td>\n",
       "      <td>1</td>\n",
       "      <td>[1.0]</td>\n",
       "    </tr>\n",
       "    <tr>\n",
       "      <th>98224ef6ca0657da4fc703e000229ec3</th>\n",
       "      <td>1</td>\n",
       "      <td>[b67abbeef9df44fd0fdc777355d18b72]</td>\n",
       "      <td>1</td>\n",
       "      <td>[199.0]</td>\n",
       "      <td>1</td>\n",
       "      <td>[17.87]</td>\n",
       "      <td>1</td>\n",
       "      <td>[1]</td>\n",
       "      <td>1</td>\n",
       "      <td>[6.0]</td>\n",
       "      <td>1</td>\n",
       "      <td>[59.0]</td>\n",
       "      <td>1</td>\n",
       "      <td>[695.0]</td>\n",
       "      <td>1</td>\n",
       "      <td>[2.0]</td>\n",
       "    </tr>\n",
       "    <tr>\n",
       "      <th>bc09da83e415a52dc8a4af100061f2a7</th>\n",
       "      <td>1</td>\n",
       "      <td>[b976c352955b1c4bead63c1011f49d98]</td>\n",
       "      <td>1</td>\n",
       "      <td>[59.99]</td>\n",
       "      <td>1</td>\n",
       "      <td>[8.88]</td>\n",
       "      <td>1</td>\n",
       "      <td>[1]</td>\n",
       "      <td>1</td>\n",
       "      <td>[7.0]</td>\n",
       "      <td>1</td>\n",
       "      <td>[57.0]</td>\n",
       "      <td>1</td>\n",
       "      <td>[614.0]</td>\n",
       "      <td>1</td>\n",
       "      <td>[1.0]</td>\n",
       "    </tr>\n",
       "    <tr>\n",
       "      <th>cdf0a6daa1e931b038114c7500024acb</th>\n",
       "      <td>1</td>\n",
       "      <td>[0f1595efa32f14722fc7634da152a461]</td>\n",
       "      <td>1</td>\n",
       "      <td>[12.99]</td>\n",
       "      <td>1</td>\n",
       "      <td>[12.79]</td>\n",
       "      <td>1</td>\n",
       "      <td>[1]</td>\n",
       "      <td>1</td>\n",
       "      <td>[65.0]</td>\n",
       "      <td>1</td>\n",
       "      <td>[42.0]</td>\n",
       "      <td>1</td>\n",
       "      <td>[480.0]</td>\n",
       "      <td>1</td>\n",
       "      <td>[1.0]</td>\n",
       "    </tr>\n",
       "    <tr>\n",
       "      <th>f77f2f0320c557190d7a144bdd300018</th>\n",
       "      <td>1</td>\n",
       "      <td>[2189ee658865ca93d83a8fe5f2d52b80]</td>\n",
       "      <td>1</td>\n",
       "      <td>[239.9]</td>\n",
       "      <td>1</td>\n",
       "      <td>[19.93]</td>\n",
       "      <td>1</td>\n",
       "      <td>[1]</td>\n",
       "      <td>1</td>\n",
       "      <td>[14.0]</td>\n",
       "      <td>1</td>\n",
       "      <td>[56.0]</td>\n",
       "      <td>1</td>\n",
       "      <td>[239.0]</td>\n",
       "      <td>1</td>\n",
       "      <td>[2.0]</td>\n",
       "    </tr>\n",
       "  </tbody>\n",
       "</table>\n",
       "</div>"
      ],
      "text/plain": [
       "                                 hotel_id                                      \\\n",
       "                                    count                              unique   \n",
       "booking_id                                                                      \n",
       "01a64e59a68b2c340bf65a70006ec9db        1  [856965c36a24e339b605899a4788cb24]   \n",
       "1f2006d75e0be9558292e000e562887b        1  [f6936b51d0b6c5e4d5c2e95ed9eaf534]   \n",
       "242fe8c5a6d1ba2dd792cb1621400010        1  [e7ecb4970a6e2683c13e614244733e06]   \n",
       "26cf59d7ce69dfabb4e55b4fd900042b        1  [30de03045865e4e10089ac6c3623068f]   \n",
       "28c9d785b8e2b08b904576c0005a1a17        1  [40ff94b03219ad0adc3c778f310ae3c1]   \n",
       "319847cbb9d288c5617fa6000576fe39        1  [2a7d6f792fd18ae1400d9b6557d85097]   \n",
       "3dcd1d21e1fb9234950005f50442cb95        1  [1c278dfd193e5a1d63b39f4535b0e109]   \n",
       "423d2a3f00fcb17cd7d87190008288aa        2  [30842d78016ad823897a372db368c6c7]   \n",
       "431b9d7675808bcb819fb4a3200054e8        1  [10a28f34fa83ee7d288d4f2bb7e93e67]   \n",
       "51cc3cbb4b83257986000c3e66127598        1  [ba0dcead2c48032a690ce817b50c950a]   \n",
       "5dbad2f9ddb70584c5a2ded000aed2e2        1  [15031a8cde03dd0d3e8fb27f014fa339]   \n",
       "64db532ff765bf7b182ae00097923114        1  [8715e0d70a36c8074158cab8abac5915]   \n",
       "65dbb7d2a0634bc1ea00048cc3ae777c        1  [e845ab8450f9d70c526ef70fef92defd]   \n",
       "706d71784483a5d6430009c9a17f916a        1  [d300ec4a5d8c5cf0b23f27ac8e699df3]   \n",
       "81e2406b52ad429470734ebd500063b3        1  [a5b282f24e33f65ab6f177554ea93259]   \n",
       "98224ef6ca0657da4fc703e000229ec3        1  [b67abbeef9df44fd0fdc777355d18b72]   \n",
       "bc09da83e415a52dc8a4af100061f2a7        1  [b976c352955b1c4bead63c1011f49d98]   \n",
       "cdf0a6daa1e931b038114c7500024acb        1  [0f1595efa32f14722fc7634da152a461]   \n",
       "f77f2f0320c557190d7a144bdd300018        1  [2189ee658865ca93d83a8fe5f2d52b80]   \n",
       "\n",
       "                                 price           agent_fees           \\\n",
       "                                 count    unique      count   unique   \n",
       "booking_id                                                             \n",
       "01a64e59a68b2c340bf65a70006ec9db     1    [74.0]          1  [23.32]   \n",
       "1f2006d75e0be9558292e000e562887b     1    [25.0]          1  [16.11]   \n",
       "242fe8c5a6d1ba2dd792cb1621400010     1    [58.9]          1  [13.29]   \n",
       "26cf59d7ce69dfabb4e55b4fd900042b     1   [199.9]          1  [18.14]   \n",
       "28c9d785b8e2b08b904576c0005a1a17     1  [145.95]          1  [11.65]   \n",
       "319847cbb9d288c5617fa6000576fe39     1   [810.0]          1  [70.75]   \n",
       "3dcd1d21e1fb9234950005f50442cb95     1   [53.99]          1   [11.4]   \n",
       "423d2a3f00fcb17cd7d87190008288aa     2    [49.9]          2  [13.37]   \n",
       "431b9d7675808bcb819fb4a3200054e8     1    [19.9]          1  [11.85]   \n",
       "51cc3cbb4b83257986000c3e66127598     1    [99.0]          1  [13.71]   \n",
       "5dbad2f9ddb70584c5a2ded000aed2e2     1   [144.0]          1   [8.77]   \n",
       "64db532ff765bf7b182ae00097923114     1    [99.9]          1  [27.65]   \n",
       "65dbb7d2a0634bc1ea00048cc3ae777c     1    [21.9]          1  [12.69]   \n",
       "706d71784483a5d6430009c9a17f916a     1   [639.0]          1  [11.34]   \n",
       "81e2406b52ad429470734ebd500063b3     1    [45.0]          1  [12.98]   \n",
       "98224ef6ca0657da4fc703e000229ec3     1   [199.0]          1  [17.87]   \n",
       "bc09da83e415a52dc8a4af100061f2a7     1   [59.99]          1   [8.88]   \n",
       "cdf0a6daa1e931b038114c7500024acb     1   [12.99]          1  [12.79]   \n",
       "f77f2f0320c557190d7a144bdd300018     1   [239.9]          1  [19.93]   \n",
       "\n",
       "                                 booking_sequence_id         hotel_category  \\\n",
       "                                               count  unique          count   \n",
       "booking_id                                                                    \n",
       "01a64e59a68b2c340bf65a70006ec9db                   1     [1]              1   \n",
       "1f2006d75e0be9558292e000e562887b                   1     [1]              1   \n",
       "242fe8c5a6d1ba2dd792cb1621400010                   1     [1]              1   \n",
       "26cf59d7ce69dfabb4e55b4fd900042b                   1     [1]              1   \n",
       "28c9d785b8e2b08b904576c0005a1a17                   1     [1]              1   \n",
       "319847cbb9d288c5617fa6000576fe39                   1     [1]              1   \n",
       "3dcd1d21e1fb9234950005f50442cb95                   1     [1]              1   \n",
       "423d2a3f00fcb17cd7d87190008288aa                   2  [1, 2]              2   \n",
       "431b9d7675808bcb819fb4a3200054e8                   1     [1]              1   \n",
       "51cc3cbb4b83257986000c3e66127598                   1     [1]              1   \n",
       "5dbad2f9ddb70584c5a2ded000aed2e2                   1     [1]              1   \n",
       "64db532ff765bf7b182ae00097923114                   1     [1]              1   \n",
       "65dbb7d2a0634bc1ea00048cc3ae777c                   1     [1]              1   \n",
       "706d71784483a5d6430009c9a17f916a                   1     [1]              1   \n",
       "81e2406b52ad429470734ebd500063b3                   1     [1]              1   \n",
       "98224ef6ca0657da4fc703e000229ec3                   1     [1]              1   \n",
       "bc09da83e415a52dc8a4af100061f2a7                   1     [1]              1   \n",
       "cdf0a6daa1e931b038114c7500024acb                   1     [1]              1   \n",
       "f77f2f0320c557190d7a144bdd300018                   1     [1]              1   \n",
       "\n",
       "                                         hotel_name_length          \\\n",
       "                                  unique             count  unique   \n",
       "booking_id                                                           \n",
       "01a64e59a68b2c340bf65a70006ec9db  [28.0]                 1  [54.0]   \n",
       "1f2006d75e0be9558292e000e562887b  [19.0]                 1  [51.0]   \n",
       "242fe8c5a6d1ba2dd792cb1621400010  [19.0]                 1  [58.0]   \n",
       "26cf59d7ce69dfabb4e55b4fd900042b  [17.0]                 1  [59.0]   \n",
       "28c9d785b8e2b08b904576c0005a1a17   [7.0]                 1  [59.0]   \n",
       "319847cbb9d288c5617fa6000576fe39  [17.0]                 1  [39.0]   \n",
       "3dcd1d21e1fb9234950005f50442cb95  [41.0]                 1  [52.0]   \n",
       "423d2a3f00fcb17cd7d87190008288aa  [17.0]                 2  [57.0]   \n",
       "431b9d7675808bcb819fb4a3200054e8  [38.0]                 1  [52.0]   \n",
       "51cc3cbb4b83257986000c3e66127598  [69.0]                 1  [58.0]   \n",
       "5dbad2f9ddb70584c5a2ded000aed2e2  [65.0]                 1  [43.0]   \n",
       "64db532ff765bf7b182ae00097923114  [69.0]                 1  [56.0]   \n",
       "65dbb7d2a0634bc1ea00048cc3ae777c  [11.0]                 1  [36.0]   \n",
       "706d71784483a5d6430009c9a17f916a  [15.0]                 1  [37.0]   \n",
       "81e2406b52ad429470734ebd500063b3  [71.0]                 1  [35.0]   \n",
       "98224ef6ca0657da4fc703e000229ec3   [6.0]                 1  [59.0]   \n",
       "bc09da83e415a52dc8a4af100061f2a7   [7.0]                 1  [57.0]   \n",
       "cdf0a6daa1e931b038114c7500024acb  [65.0]                 1  [42.0]   \n",
       "f77f2f0320c557190d7a144bdd300018  [14.0]                 1  [56.0]   \n",
       "\n",
       "                                 hotel_description_length            \\\n",
       "                                                    count    unique   \n",
       "booking_id                                                            \n",
       "01a64e59a68b2c340bf65a70006ec9db                        1   [245.0]   \n",
       "1f2006d75e0be9558292e000e562887b                        1   [693.0]   \n",
       "242fe8c5a6d1ba2dd792cb1621400010                        1   [598.0]   \n",
       "26cf59d7ce69dfabb4e55b4fd900042b                        1   [409.0]   \n",
       "28c9d785b8e2b08b904576c0005a1a17                        1   [493.0]   \n",
       "319847cbb9d288c5617fa6000576fe39                        1  [1310.0]   \n",
       "3dcd1d21e1fb9234950005f50442cb95                        1  [1192.0]   \n",
       "423d2a3f00fcb17cd7d87190008288aa                        2   [366.0]   \n",
       "431b9d7675808bcb819fb4a3200054e8                        1   [815.0]   \n",
       "51cc3cbb4b83257986000c3e66127598                        1  [2584.0]   \n",
       "5dbad2f9ddb70584c5a2ded000aed2e2                        1   [116.0]   \n",
       "64db532ff765bf7b182ae00097923114                        1  [1392.0]   \n",
       "65dbb7d2a0634bc1ea00048cc3ae777c                        1   [558.0]   \n",
       "706d71784483a5d6430009c9a17f916a                        1  [1172.0]   \n",
       "81e2406b52ad429470734ebd500063b3                        1    [60.0]   \n",
       "98224ef6ca0657da4fc703e000229ec3                        1   [695.0]   \n",
       "bc09da83e415a52dc8a4af100061f2a7                        1   [614.0]   \n",
       "cdf0a6daa1e931b038114c7500024acb                        1   [480.0]   \n",
       "f77f2f0320c557190d7a144bdd300018                        1   [239.0]   \n",
       "\n",
       "                                 hotel_photos_qty         \n",
       "                                            count unique  \n",
       "booking_id                                                \n",
       "01a64e59a68b2c340bf65a70006ec9db                1  [1.0]  \n",
       "1f2006d75e0be9558292e000e562887b                1  [3.0]  \n",
       "242fe8c5a6d1ba2dd792cb1621400010                1  [4.0]  \n",
       "26cf59d7ce69dfabb4e55b4fd900042b                1  [1.0]  \n",
       "28c9d785b8e2b08b904576c0005a1a17                1  [1.0]  \n",
       "319847cbb9d288c5617fa6000576fe39                1  [3.0]  \n",
       "3dcd1d21e1fb9234950005f50442cb95                1  [1.0]  \n",
       "423d2a3f00fcb17cd7d87190008288aa                2  [2.0]  \n",
       "431b9d7675808bcb819fb4a3200054e8                1  [1.0]  \n",
       "51cc3cbb4b83257986000c3e66127598                1  [1.0]  \n",
       "5dbad2f9ddb70584c5a2ded000aed2e2                1  [1.0]  \n",
       "64db532ff765bf7b182ae00097923114                1  [4.0]  \n",
       "65dbb7d2a0634bc1ea00048cc3ae777c                1  [1.0]  \n",
       "706d71784483a5d6430009c9a17f916a                1  [2.0]  \n",
       "81e2406b52ad429470734ebd500063b3                1  [1.0]  \n",
       "98224ef6ca0657da4fc703e000229ec3                1  [2.0]  \n",
       "bc09da83e415a52dc8a4af100061f2a7                1  [1.0]  \n",
       "cdf0a6daa1e931b038114c7500024acb                1  [1.0]  \n",
       "f77f2f0320c557190d7a144bdd300018                1  [2.0]  "
      ]
     },
     "execution_count": 30,
     "metadata": {},
     "output_type": "execute_result"
    }
   ],
   "source": [
    "bookings_data[:20].groupby(by = 'booking_id')[[ 'hotel_id', 'price', 'agent_fees', 'booking_sequence_id',\n",
    "                                              'hotel_category', 'hotel_name_length', 'hotel_description_length', 'hotel_photos_qty']].agg(['count', 'unique'])"
   ]
  },
  {
   "cell_type": "markdown",
   "id": "52a7c8a3",
   "metadata": {
    "papermill": {
     "duration": 0.028829,
     "end_time": "2022-11-26T11:17:43.868131",
     "exception": false,
     "start_time": "2022-11-26T11:17:43.839302",
     "status": "completed"
    },
    "tags": []
   },
   "source": [
    "#### Other continuous columns"
   ]
  },
  {
   "cell_type": "code",
   "execution_count": 31,
   "id": "bd4ee074",
   "metadata": {
    "execution": {
     "iopub.execute_input": "2022-11-26T11:17:43.927552Z",
     "iopub.status.busy": "2022-11-26T11:17:43.927098Z",
     "iopub.status.idle": "2022-11-26T11:17:44.135399Z",
     "shell.execute_reply": "2022-11-26T11:17:44.134211Z"
    },
    "papermill": {
     "duration": 0.241292,
     "end_time": "2022-11-26T11:17:44.137922",
     "exception": false,
     "start_time": "2022-11-26T11:17:43.896630",
     "status": "completed"
    },
    "tags": []
   },
   "outputs": [
    {
     "data": {
      "text/html": [
       "<div>\n",
       "<style scoped>\n",
       "    .dataframe tbody tr th:only-of-type {\n",
       "        vertical-align: middle;\n",
       "    }\n",
       "\n",
       "    .dataframe tbody tr th {\n",
       "        vertical-align: top;\n",
       "    }\n",
       "\n",
       "    .dataframe thead tr th {\n",
       "        text-align: left;\n",
       "    }\n",
       "\n",
       "    .dataframe thead tr:last-of-type th {\n",
       "        text-align: right;\n",
       "    }\n",
       "</style>\n",
       "<table border=\"1\" class=\"dataframe\">\n",
       "  <thead>\n",
       "    <tr>\n",
       "      <th></th>\n",
       "      <th colspan=\"3\" halign=\"left\">booking_expiry_date</th>\n",
       "    </tr>\n",
       "    <tr>\n",
       "      <th></th>\n",
       "      <th>min</th>\n",
       "      <th>mode</th>\n",
       "      <th>count</th>\n",
       "    </tr>\n",
       "    <tr>\n",
       "      <th>booking_id</th>\n",
       "      <th></th>\n",
       "      <th></th>\n",
       "      <th></th>\n",
       "    </tr>\n",
       "  </thead>\n",
       "  <tbody>\n",
       "    <tr>\n",
       "      <th>0018d12a3853c059f7f23ab5b1002d04</th>\n",
       "      <td>2017-11-27 03:47:23</td>\n",
       "      <td>2017-11-27 03:47:23</td>\n",
       "      <td>1</td>\n",
       "    </tr>\n",
       "    <tr>\n",
       "      <th>004164883520d0bd32b107261008eaf9</th>\n",
       "      <td>2017-07-18 02:10:13</td>\n",
       "      <td>2017-07-18 02:10:13</td>\n",
       "      <td>1</td>\n",
       "    </tr>\n",
       "    <tr>\n",
       "      <th>00867da359bd81db9227a330068e8369</th>\n",
       "      <td>2017-10-05 02:24:43</td>\n",
       "      <td>2017-10-05 02:24:43</td>\n",
       "      <td>1</td>\n",
       "    </tr>\n",
       "    <tr>\n",
       "      <th>00cebda592d4e5f966e300cc0148d3df</th>\n",
       "      <td>2017-08-24 19:24:32</td>\n",
       "      <td>2017-08-24 19:24:32</td>\n",
       "      <td>5</td>\n",
       "    </tr>\n",
       "    <tr>\n",
       "      <th>00f9ca182b8361556a3873d8ed017193</th>\n",
       "      <td>2017-09-06 04:30:50</td>\n",
       "      <td>2017-09-06 04:30:50</td>\n",
       "      <td>1</td>\n",
       "    </tr>\n",
       "    <tr>\n",
       "      <th>...</th>\n",
       "      <td>...</td>\n",
       "      <td>...</td>\n",
       "      <td>...</td>\n",
       "    </tr>\n",
       "    <tr>\n",
       "      <th>ff035d672af3aac1f38f100110688c40</th>\n",
       "      <td>2018-02-07 14:33:45</td>\n",
       "      <td>2018-02-07 14:33:45</td>\n",
       "      <td>1</td>\n",
       "    </tr>\n",
       "    <tr>\n",
       "      <th>ff06f2f7e8a83950c4b3b424ea01786f</th>\n",
       "      <td>2017-12-21 12:14:46</td>\n",
       "      <td>2017-12-21 12:14:46</td>\n",
       "      <td>1</td>\n",
       "    </tr>\n",
       "    <tr>\n",
       "      <th>ff2545a2cf8ac1809faed3ec88011f9d</th>\n",
       "      <td>2017-08-07 19:10:21</td>\n",
       "      <td>2017-08-07 19:10:21</td>\n",
       "      <td>1</td>\n",
       "    </tr>\n",
       "    <tr>\n",
       "      <th>ffa1dcfb71e202fbf9824fb00602f25b</th>\n",
       "      <td>2017-11-08 02:31:17</td>\n",
       "      <td>2017-11-08 02:31:17</td>\n",
       "      <td>1</td>\n",
       "    </tr>\n",
       "    <tr>\n",
       "      <th>ffb4cee6abdf9b908901978b8bae8292</th>\n",
       "      <td>2017-12-18 03:57:24</td>\n",
       "      <td>2017-12-18 03:57:24</td>\n",
       "      <td>1</td>\n",
       "    </tr>\n",
       "  </tbody>\n",
       "</table>\n",
       "<p>877 rows × 3 columns</p>\n",
       "</div>"
      ],
      "text/plain": [
       "                                  booking_expiry_date                       \\\n",
       "                                                  min                 mode   \n",
       "booking_id                                                                   \n",
       "0018d12a3853c059f7f23ab5b1002d04  2017-11-27 03:47:23  2017-11-27 03:47:23   \n",
       "004164883520d0bd32b107261008eaf9  2017-07-18 02:10:13  2017-07-18 02:10:13   \n",
       "00867da359bd81db9227a330068e8369  2017-10-05 02:24:43  2017-10-05 02:24:43   \n",
       "00cebda592d4e5f966e300cc0148d3df  2017-08-24 19:24:32  2017-08-24 19:24:32   \n",
       "00f9ca182b8361556a3873d8ed017193  2017-09-06 04:30:50  2017-09-06 04:30:50   \n",
       "...                                               ...                  ...   \n",
       "ff035d672af3aac1f38f100110688c40  2018-02-07 14:33:45  2018-02-07 14:33:45   \n",
       "ff06f2f7e8a83950c4b3b424ea01786f  2017-12-21 12:14:46  2017-12-21 12:14:46   \n",
       "ff2545a2cf8ac1809faed3ec88011f9d  2017-08-07 19:10:21  2017-08-07 19:10:21   \n",
       "ffa1dcfb71e202fbf9824fb00602f25b  2017-11-08 02:31:17  2017-11-08 02:31:17   \n",
       "ffb4cee6abdf9b908901978b8bae8292  2017-12-18 03:57:24  2017-12-18 03:57:24   \n",
       "\n",
       "                                        \n",
       "                                 count  \n",
       "booking_id                              \n",
       "0018d12a3853c059f7f23ab5b1002d04     1  \n",
       "004164883520d0bd32b107261008eaf9     1  \n",
       "00867da359bd81db9227a330068e8369     1  \n",
       "00cebda592d4e5f966e300cc0148d3df     5  \n",
       "00f9ca182b8361556a3873d8ed017193     1  \n",
       "...                                ...  \n",
       "ff035d672af3aac1f38f100110688c40     1  \n",
       "ff06f2f7e8a83950c4b3b424ea01786f     1  \n",
       "ff2545a2cf8ac1809faed3ec88011f9d     1  \n",
       "ffa1dcfb71e202fbf9824fb00602f25b     1  \n",
       "ffb4cee6abdf9b908901978b8bae8292     1  \n",
       "\n",
       "[877 rows x 3 columns]"
      ]
     },
     "execution_count": 31,
     "metadata": {},
     "output_type": "execute_result"
    }
   ],
   "source": [
    "bookings_data[:1000].groupby(by = 'booking_id')[[ 'booking_expiry_date']].agg(['min', pd.Series.mode, 'count'])"
   ]
  },
  {
   "cell_type": "markdown",
   "id": "c5db2dd3",
   "metadata": {
    "papermill": {
     "duration": 0.028599,
     "end_time": "2022-11-26T11:17:44.196168",
     "exception": false,
     "start_time": "2022-11-26T11:17:44.167569",
     "status": "completed"
    },
    "tags": []
   },
   "source": [
    "**Date se mean is not possible, otherwise everything works**"
   ]
  },
  {
   "cell_type": "markdown",
   "id": "0530c63c",
   "metadata": {
    "papermill": {
     "duration": 0.028495,
     "end_time": "2022-11-26T11:17:44.253482",
     "exception": false,
     "start_time": "2022-11-26T11:17:44.224987",
     "status": "completed"
    },
    "tags": []
   },
   "source": [
    "**REDO the below in two steps**\n",
    "- 'price', 'agent_fees' ke liye .agg(['min', 'max', pd.Series.mode, pd.Series.mean, 'count', 'sum', 'var', 'std']) \n",
    "    - added hotel wale columns also\n",
    "- booking_expiry_date ke liye everything except  mean"
   ]
  },
  {
   "cell_type": "code",
   "execution_count": 32,
   "id": "1cf7fffc",
   "metadata": {
    "execution": {
     "iopub.execute_input": "2022-11-26T11:17:44.315028Z",
     "iopub.status.busy": "2022-11-26T11:17:44.313796Z",
     "iopub.status.idle": "2022-11-26T11:17:44.332884Z",
     "shell.execute_reply": "2022-11-26T11:17:44.331725Z"
    },
    "papermill": {
     "duration": 0.052546,
     "end_time": "2022-11-26T11:17:44.335016",
     "exception": false,
     "start_time": "2022-11-26T11:17:44.282470",
     "status": "completed"
    },
    "tags": []
   },
   "outputs": [
    {
     "data": {
      "text/html": [
       "<div>\n",
       "<style scoped>\n",
       "    .dataframe tbody tr th:only-of-type {\n",
       "        vertical-align: middle;\n",
       "    }\n",
       "\n",
       "    .dataframe tbody tr th {\n",
       "        vertical-align: top;\n",
       "    }\n",
       "\n",
       "    .dataframe thead th {\n",
       "        text-align: right;\n",
       "    }\n",
       "</style>\n",
       "<table border=\"1\" class=\"dataframe\">\n",
       "  <thead>\n",
       "    <tr style=\"text-align: right;\">\n",
       "      <th></th>\n",
       "      <th>booking_id</th>\n",
       "      <th>booking_sequence_id</th>\n",
       "      <th>hotel_id</th>\n",
       "      <th>seller_agent_id</th>\n",
       "      <th>booking_expiry_date</th>\n",
       "      <th>price</th>\n",
       "      <th>agent_fees</th>\n",
       "      <th>hotel_category</th>\n",
       "      <th>hotel_name_length</th>\n",
       "      <th>hotel_description_length</th>\n",
       "      <th>hotel_photos_qty</th>\n",
       "    </tr>\n",
       "  </thead>\n",
       "  <tbody>\n",
       "    <tr>\n",
       "      <th>0</th>\n",
       "      <td>242fe8c5a6d1ba2dd792cb1621400010</td>\n",
       "      <td>1</td>\n",
       "      <td>e7ecb4970a6e2683c13e614244733e06</td>\n",
       "      <td>8ac8b2bce089ec2a04120248436dade1</td>\n",
       "      <td>2017-09-19 09:45:35</td>\n",
       "      <td>58.90</td>\n",
       "      <td>13.29</td>\n",
       "      <td>19.0</td>\n",
       "      <td>58.0</td>\n",
       "      <td>598.0</td>\n",
       "      <td>4.0</td>\n",
       "    </tr>\n",
       "    <tr>\n",
       "      <th>1</th>\n",
       "      <td>f77f2f0320c557190d7a144bdd300018</td>\n",
       "      <td>1</td>\n",
       "      <td>2189ee658865ca93d83a8fe5f2d52b80</td>\n",
       "      <td>b6c2c614352b383efe2d36dd7ddc04e1</td>\n",
       "      <td>2017-05-03 11:05:13</td>\n",
       "      <td>239.90</td>\n",
       "      <td>19.93</td>\n",
       "      <td>14.0</td>\n",
       "      <td>56.0</td>\n",
       "      <td>239.0</td>\n",
       "      <td>2.0</td>\n",
       "    </tr>\n",
       "    <tr>\n",
       "      <th>2</th>\n",
       "      <td>98224ef6ca0657da4fc703e000229ec3</td>\n",
       "      <td>1</td>\n",
       "      <td>b67abbeef9df44fd0fdc777355d18b72</td>\n",
       "      <td>2adc84c38acab88f23d5b51032eddd24</td>\n",
       "      <td>2018-01-18 14:48:30</td>\n",
       "      <td>199.00</td>\n",
       "      <td>17.87</td>\n",
       "      <td>6.0</td>\n",
       "      <td>59.0</td>\n",
       "      <td>695.0</td>\n",
       "      <td>2.0</td>\n",
       "    </tr>\n",
       "    <tr>\n",
       "      <th>3</th>\n",
       "      <td>cdf0a6daa1e931b038114c7500024acb</td>\n",
       "      <td>1</td>\n",
       "      <td>0f1595efa32f14722fc7634da152a461</td>\n",
       "      <td>409006425275ba1c2b49d7a1d34a5052</td>\n",
       "      <td>2018-08-15 10:10:18</td>\n",
       "      <td>12.99</td>\n",
       "      <td>12.79</td>\n",
       "      <td>65.0</td>\n",
       "      <td>42.0</td>\n",
       "      <td>480.0</td>\n",
       "      <td>1.0</td>\n",
       "    </tr>\n",
       "    <tr>\n",
       "      <th>4</th>\n",
       "      <td>26cf59d7ce69dfabb4e55b4fd900042b</td>\n",
       "      <td>1</td>\n",
       "      <td>30de03045865e4e10089ac6c3623068f</td>\n",
       "      <td>1e74553ab94004ba5c87df560393f3a5</td>\n",
       "      <td>2017-02-13 13:57:51</td>\n",
       "      <td>199.90</td>\n",
       "      <td>18.14</td>\n",
       "      <td>17.0</td>\n",
       "      <td>59.0</td>\n",
       "      <td>409.0</td>\n",
       "      <td>1.0</td>\n",
       "    </tr>\n",
       "  </tbody>\n",
       "</table>\n",
       "</div>"
      ],
      "text/plain": [
       "                         booking_id  booking_sequence_id  \\\n",
       "0  242fe8c5a6d1ba2dd792cb1621400010                    1   \n",
       "1  f77f2f0320c557190d7a144bdd300018                    1   \n",
       "2  98224ef6ca0657da4fc703e000229ec3                    1   \n",
       "3  cdf0a6daa1e931b038114c7500024acb                    1   \n",
       "4  26cf59d7ce69dfabb4e55b4fd900042b                    1   \n",
       "\n",
       "                           hotel_id                   seller_agent_id  \\\n",
       "0  e7ecb4970a6e2683c13e614244733e06  8ac8b2bce089ec2a04120248436dade1   \n",
       "1  2189ee658865ca93d83a8fe5f2d52b80  b6c2c614352b383efe2d36dd7ddc04e1   \n",
       "2  b67abbeef9df44fd0fdc777355d18b72  2adc84c38acab88f23d5b51032eddd24   \n",
       "3  0f1595efa32f14722fc7634da152a461  409006425275ba1c2b49d7a1d34a5052   \n",
       "4  30de03045865e4e10089ac6c3623068f  1e74553ab94004ba5c87df560393f3a5   \n",
       "\n",
       "   booking_expiry_date   price  agent_fees  hotel_category  hotel_name_length  \\\n",
       "0  2017-09-19 09:45:35   58.90       13.29            19.0               58.0   \n",
       "1  2017-05-03 11:05:13  239.90       19.93            14.0               56.0   \n",
       "2  2018-01-18 14:48:30  199.00       17.87             6.0               59.0   \n",
       "3  2018-08-15 10:10:18   12.99       12.79            65.0               42.0   \n",
       "4  2017-02-13 13:57:51  199.90       18.14            17.0               59.0   \n",
       "\n",
       "   hotel_description_length  hotel_photos_qty  \n",
       "0                     598.0               4.0  \n",
       "1                     239.0               2.0  \n",
       "2                     695.0               2.0  \n",
       "3                     480.0               1.0  \n",
       "4                     409.0               1.0  "
      ]
     },
     "execution_count": 32,
     "metadata": {},
     "output_type": "execute_result"
    }
   ],
   "source": [
    "bookings_data.head()"
   ]
  },
  {
   "cell_type": "code",
   "execution_count": null,
   "id": "b98f7ccc",
   "metadata": {
    "papermill": {
     "duration": 0.029058,
     "end_time": "2022-11-26T11:17:44.393445",
     "exception": false,
     "start_time": "2022-11-26T11:17:44.364387",
     "status": "completed"
    },
    "tags": []
   },
   "outputs": [],
   "source": []
  },
  {
   "cell_type": "markdown",
   "id": "0e212692",
   "metadata": {
    "papermill": {
     "duration": 0.02897,
     "end_time": "2022-11-26T11:17:44.451846",
     "exception": false,
     "start_time": "2022-11-26T11:17:44.422876",
     "status": "completed"
    },
    "tags": []
   },
   "source": [
    "**Seller agent id baki kahi nahi aata to taking number of unique ids for each booking id**"
   ]
  },
  {
   "cell_type": "code",
   "execution_count": 33,
   "id": "cbbc7539",
   "metadata": {
    "execution": {
     "iopub.execute_input": "2022-11-26T11:17:44.512208Z",
     "iopub.status.busy": "2022-11-26T11:17:44.511763Z",
     "iopub.status.idle": "2022-11-26T11:17:44.750882Z",
     "shell.execute_reply": "2022-11-26T11:17:44.750040Z"
    },
    "papermill": {
     "duration": 0.272152,
     "end_time": "2022-11-26T11:17:44.753230",
     "exception": false,
     "start_time": "2022-11-26T11:17:44.481078",
     "status": "completed"
    },
    "tags": []
   },
   "outputs": [
    {
     "data": {
      "text/html": [
       "<div>\n",
       "<style scoped>\n",
       "    .dataframe tbody tr th:only-of-type {\n",
       "        vertical-align: middle;\n",
       "    }\n",
       "\n",
       "    .dataframe tbody tr th {\n",
       "        vertical-align: top;\n",
       "    }\n",
       "\n",
       "    .dataframe thead th {\n",
       "        text-align: right;\n",
       "    }\n",
       "</style>\n",
       "<table border=\"1\" class=\"dataframe\">\n",
       "  <thead>\n",
       "    <tr style=\"text-align: right;\">\n",
       "      <th></th>\n",
       "      <th>booking_id</th>\n",
       "      <th>seller_agent_id_count</th>\n",
       "    </tr>\n",
       "  </thead>\n",
       "  <tbody>\n",
       "    <tr>\n",
       "      <th>0</th>\n",
       "      <td>00020b5bc201756cad655783aa166514</td>\n",
       "      <td>1</td>\n",
       "    </tr>\n",
       "    <tr>\n",
       "      <th>1</th>\n",
       "      <td>00025a261e572c2a9fc158e005414df7</td>\n",
       "      <td>1</td>\n",
       "    </tr>\n",
       "    <tr>\n",
       "      <th>2</th>\n",
       "      <td>00035456e8e57cbcf89cdf7268c63976</td>\n",
       "      <td>1</td>\n",
       "    </tr>\n",
       "    <tr>\n",
       "      <th>3</th>\n",
       "      <td>00045d86380d5b014642fbc4994b99a0</td>\n",
       "      <td>2</td>\n",
       "    </tr>\n",
       "    <tr>\n",
       "      <th>4</th>\n",
       "      <td>0004ed7b4b20bb24c1eeb5871a6f9a16</td>\n",
       "      <td>1</td>\n",
       "    </tr>\n",
       "  </tbody>\n",
       "</table>\n",
       "</div>"
      ],
      "text/plain": [
       "                         booking_id  seller_agent_id_count\n",
       "0  00020b5bc201756cad655783aa166514                      1\n",
       "1  00025a261e572c2a9fc158e005414df7                      1\n",
       "2  00035456e8e57cbcf89cdf7268c63976                      1\n",
       "3  00045d86380d5b014642fbc4994b99a0                      2\n",
       "4  0004ed7b4b20bb24c1eeb5871a6f9a16                      1"
      ]
     },
     "execution_count": 33,
     "metadata": {},
     "output_type": "execute_result"
    }
   ],
   "source": [
    "bookings_data_unqiue_for_each_id_0 = bookings_data.groupby(by = 'booking_id')[['seller_agent_id']].agg(['count']) \n",
    "bookings_data_unqiue_for_each_id_0.set_axis(bookings_data_unqiue_for_each_id_0.columns.map('_'.join), axis=1, inplace=True)\n",
    "bookings_data_unqiue_for_each_id_0.reset_index(inplace=True)\n",
    "bookings_data_unqiue_for_each_id_0.head()"
   ]
  },
  {
   "cell_type": "code",
   "execution_count": 34,
   "id": "68e6e9b7",
   "metadata": {
    "execution": {
     "iopub.execute_input": "2022-11-26T11:17:44.815297Z",
     "iopub.status.busy": "2022-11-26T11:17:44.814093Z",
     "iopub.status.idle": "2022-11-26T11:17:44.821980Z",
     "shell.execute_reply": "2022-11-26T11:17:44.820810Z"
    },
    "papermill": {
     "duration": 0.041798,
     "end_time": "2022-11-26T11:17:44.824712",
     "exception": false,
     "start_time": "2022-11-26T11:17:44.782914",
     "status": "completed"
    },
    "tags": []
   },
   "outputs": [
    {
     "data": {
      "text/plain": [
       "(98666, 2)"
      ]
     },
     "execution_count": 34,
     "metadata": {},
     "output_type": "execute_result"
    }
   ],
   "source": [
    "bookings_data_unqiue_for_each_id_0.shape"
   ]
  },
  {
   "cell_type": "markdown",
   "id": "c6457b90",
   "metadata": {
    "papermill": {
     "duration": 0.029142,
     "end_time": "2022-11-26T11:17:44.883450",
     "exception": false,
     "start_time": "2022-11-26T11:17:44.854308",
     "status": "completed"
    },
    "tags": []
   },
   "source": [
    "**wrt continuous vars**"
   ]
  },
  {
   "cell_type": "code",
   "execution_count": 35,
   "id": "846a5fbd",
   "metadata": {
    "execution": {
     "iopub.execute_input": "2022-11-26T11:17:44.945277Z",
     "iopub.status.busy": "2022-11-26T11:17:44.944431Z",
     "iopub.status.idle": "2022-11-26T11:18:31.765667Z",
     "shell.execute_reply": "2022-11-26T11:18:31.764503Z"
    },
    "papermill": {
     "duration": 46.885598,
     "end_time": "2022-11-26T11:18:31.798842",
     "exception": false,
     "start_time": "2022-11-26T11:17:44.913244",
     "status": "completed"
    },
    "tags": []
   },
   "outputs": [
    {
     "data": {
      "text/html": [
       "<div>\n",
       "<style scoped>\n",
       "    .dataframe tbody tr th:only-of-type {\n",
       "        vertical-align: middle;\n",
       "    }\n",
       "\n",
       "    .dataframe tbody tr th {\n",
       "        vertical-align: top;\n",
       "    }\n",
       "\n",
       "    .dataframe thead th {\n",
       "        text-align: right;\n",
       "    }\n",
       "</style>\n",
       "<table border=\"1\" class=\"dataframe\">\n",
       "  <thead>\n",
       "    <tr style=\"text-align: right;\">\n",
       "      <th></th>\n",
       "      <th>booking_id</th>\n",
       "      <th>booking_sequence_id_min</th>\n",
       "      <th>booking_sequence_id_max</th>\n",
       "      <th>booking_sequence_id_mean</th>\n",
       "      <th>booking_sequence_id_count</th>\n",
       "      <th>booking_sequence_id_sum</th>\n",
       "      <th>price_min</th>\n",
       "      <th>price_max</th>\n",
       "      <th>price_mean</th>\n",
       "      <th>price_count</th>\n",
       "      <th>...</th>\n",
       "      <th>hotel_description_length_min</th>\n",
       "      <th>hotel_description_length_max</th>\n",
       "      <th>hotel_description_length_mean</th>\n",
       "      <th>hotel_description_length_count</th>\n",
       "      <th>hotel_description_length_sum</th>\n",
       "      <th>hotel_photos_qty_min</th>\n",
       "      <th>hotel_photos_qty_max</th>\n",
       "      <th>hotel_photos_qty_mean</th>\n",
       "      <th>hotel_photos_qty_count</th>\n",
       "      <th>hotel_photos_qty_sum</th>\n",
       "    </tr>\n",
       "  </thead>\n",
       "  <tbody>\n",
       "    <tr>\n",
       "      <th>0</th>\n",
       "      <td>00020b5bc201756cad655783aa166514</td>\n",
       "      <td>1</td>\n",
       "      <td>1</td>\n",
       "      <td>1.0</td>\n",
       "      <td>1</td>\n",
       "      <td>1</td>\n",
       "      <td>49.99</td>\n",
       "      <td>49.99</td>\n",
       "      <td>49.99</td>\n",
       "      <td>1</td>\n",
       "      <td>...</td>\n",
       "      <td>338.0</td>\n",
       "      <td>338.0</td>\n",
       "      <td>338.0</td>\n",
       "      <td>1</td>\n",
       "      <td>338.0</td>\n",
       "      <td>3.0</td>\n",
       "      <td>3.0</td>\n",
       "      <td>3.0</td>\n",
       "      <td>1</td>\n",
       "      <td>3.0</td>\n",
       "    </tr>\n",
       "    <tr>\n",
       "      <th>1</th>\n",
       "      <td>00025a261e572c2a9fc158e005414df7</td>\n",
       "      <td>1</td>\n",
       "      <td>1</td>\n",
       "      <td>1.0</td>\n",
       "      <td>1</td>\n",
       "      <td>1</td>\n",
       "      <td>169.90</td>\n",
       "      <td>169.90</td>\n",
       "      <td>169.90</td>\n",
       "      <td>1</td>\n",
       "      <td>...</td>\n",
       "      <td>1313.0</td>\n",
       "      <td>1313.0</td>\n",
       "      <td>1313.0</td>\n",
       "      <td>1</td>\n",
       "      <td>1313.0</td>\n",
       "      <td>1.0</td>\n",
       "      <td>1.0</td>\n",
       "      <td>1.0</td>\n",
       "      <td>1</td>\n",
       "      <td>1.0</td>\n",
       "    </tr>\n",
       "    <tr>\n",
       "      <th>2</th>\n",
       "      <td>00035456e8e57cbcf89cdf7268c63976</td>\n",
       "      <td>1</td>\n",
       "      <td>1</td>\n",
       "      <td>1.0</td>\n",
       "      <td>1</td>\n",
       "      <td>1</td>\n",
       "      <td>39.99</td>\n",
       "      <td>39.99</td>\n",
       "      <td>39.99</td>\n",
       "      <td>1</td>\n",
       "      <td>...</td>\n",
       "      <td>463.0</td>\n",
       "      <td>463.0</td>\n",
       "      <td>463.0</td>\n",
       "      <td>1</td>\n",
       "      <td>463.0</td>\n",
       "      <td>2.0</td>\n",
       "      <td>2.0</td>\n",
       "      <td>2.0</td>\n",
       "      <td>1</td>\n",
       "      <td>2.0</td>\n",
       "    </tr>\n",
       "    <tr>\n",
       "      <th>3</th>\n",
       "      <td>00045d86380d5b014642fbc4994b99a0</td>\n",
       "      <td>1</td>\n",
       "      <td>2</td>\n",
       "      <td>1.5</td>\n",
       "      <td>2</td>\n",
       "      <td>3</td>\n",
       "      <td>129.05</td>\n",
       "      <td>129.05</td>\n",
       "      <td>129.05</td>\n",
       "      <td>2</td>\n",
       "      <td>...</td>\n",
       "      <td>407.0</td>\n",
       "      <td>407.0</td>\n",
       "      <td>407.0</td>\n",
       "      <td>2</td>\n",
       "      <td>814.0</td>\n",
       "      <td>1.0</td>\n",
       "      <td>1.0</td>\n",
       "      <td>1.0</td>\n",
       "      <td>2</td>\n",
       "      <td>2.0</td>\n",
       "    </tr>\n",
       "    <tr>\n",
       "      <th>4</th>\n",
       "      <td>0004ed7b4b20bb24c1eeb5871a6f9a16</td>\n",
       "      <td>1</td>\n",
       "      <td>1</td>\n",
       "      <td>1.0</td>\n",
       "      <td>1</td>\n",
       "      <td>1</td>\n",
       "      <td>99.90</td>\n",
       "      <td>99.90</td>\n",
       "      <td>99.90</td>\n",
       "      <td>1</td>\n",
       "      <td>...</td>\n",
       "      <td>273.0</td>\n",
       "      <td>273.0</td>\n",
       "      <td>273.0</td>\n",
       "      <td>1</td>\n",
       "      <td>273.0</td>\n",
       "      <td>1.0</td>\n",
       "      <td>1.0</td>\n",
       "      <td>1.0</td>\n",
       "      <td>1</td>\n",
       "      <td>1.0</td>\n",
       "    </tr>\n",
       "  </tbody>\n",
       "</table>\n",
       "<p>5 rows × 36 columns</p>\n",
       "</div>"
      ],
      "text/plain": [
       "                         booking_id  booking_sequence_id_min  \\\n",
       "0  00020b5bc201756cad655783aa166514                        1   \n",
       "1  00025a261e572c2a9fc158e005414df7                        1   \n",
       "2  00035456e8e57cbcf89cdf7268c63976                        1   \n",
       "3  00045d86380d5b014642fbc4994b99a0                        1   \n",
       "4  0004ed7b4b20bb24c1eeb5871a6f9a16                        1   \n",
       "\n",
       "   booking_sequence_id_max  booking_sequence_id_mean  \\\n",
       "0                        1                       1.0   \n",
       "1                        1                       1.0   \n",
       "2                        1                       1.0   \n",
       "3                        2                       1.5   \n",
       "4                        1                       1.0   \n",
       "\n",
       "   booking_sequence_id_count  booking_sequence_id_sum  price_min  price_max  \\\n",
       "0                          1                        1      49.99      49.99   \n",
       "1                          1                        1     169.90     169.90   \n",
       "2                          1                        1      39.99      39.99   \n",
       "3                          2                        3     129.05     129.05   \n",
       "4                          1                        1      99.90      99.90   \n",
       "\n",
       "   price_mean  price_count  ...  hotel_description_length_min  \\\n",
       "0       49.99            1  ...                         338.0   \n",
       "1      169.90            1  ...                        1313.0   \n",
       "2       39.99            1  ...                         463.0   \n",
       "3      129.05            2  ...                         407.0   \n",
       "4       99.90            1  ...                         273.0   \n",
       "\n",
       "   hotel_description_length_max  hotel_description_length_mean  \\\n",
       "0                         338.0                          338.0   \n",
       "1                        1313.0                         1313.0   \n",
       "2                         463.0                          463.0   \n",
       "3                         407.0                          407.0   \n",
       "4                         273.0                          273.0   \n",
       "\n",
       "   hotel_description_length_count  hotel_description_length_sum  \\\n",
       "0                               1                         338.0   \n",
       "1                               1                        1313.0   \n",
       "2                               1                         463.0   \n",
       "3                               2                         814.0   \n",
       "4                               1                         273.0   \n",
       "\n",
       "   hotel_photos_qty_min  hotel_photos_qty_max  hotel_photos_qty_mean  \\\n",
       "0                   3.0                   3.0                    3.0   \n",
       "1                   1.0                   1.0                    1.0   \n",
       "2                   2.0                   2.0                    2.0   \n",
       "3                   1.0                   1.0                    1.0   \n",
       "4                   1.0                   1.0                    1.0   \n",
       "\n",
       "   hotel_photos_qty_count  hotel_photos_qty_sum  \n",
       "0                       1                   3.0  \n",
       "1                       1                   1.0  \n",
       "2                       1                   2.0  \n",
       "3                       2                   2.0  \n",
       "4                       1                   1.0  \n",
       "\n",
       "[5 rows x 36 columns]"
      ]
     },
     "execution_count": 35,
     "metadata": {},
     "output_type": "execute_result"
    }
   ],
   "source": [
    "bookings_data_unqiue_for_each_id_1 = bookings_data.groupby(by = 'booking_id')[['booking_sequence_id', 'price', 'agent_fees',\n",
    "                                                                              'hotel_category', 'hotel_name_length', 'hotel_description_length', \n",
    "                                                                               'hotel_photos_qty']].agg(['min', 'max', # pd.Series.mode, \n",
    "                                                                                                         pd.Series.mean, 'count','sum',\n",
    "#                                                                                                          'var', 'std' # was giving a lot of nulls only, since one observation per id tha\n",
    "                                                                                                         ]) \n",
    "bookings_data_unqiue_for_each_id_1.set_axis(bookings_data_unqiue_for_each_id_1.columns.map('_'.join), axis=1, inplace=True)\n",
    "bookings_data_unqiue_for_each_id_1.reset_index(inplace=True)\n",
    "bookings_data_unqiue_for_each_id_1.head()"
   ]
  },
  {
   "cell_type": "code",
   "execution_count": 36,
   "id": "d711177f",
   "metadata": {
    "execution": {
     "iopub.execute_input": "2022-11-26T11:18:31.861532Z",
     "iopub.status.busy": "2022-11-26T11:18:31.860795Z",
     "iopub.status.idle": "2022-11-26T11:18:31.867963Z",
     "shell.execute_reply": "2022-11-26T11:18:31.866766Z"
    },
    "papermill": {
     "duration": 0.040469,
     "end_time": "2022-11-26T11:18:31.870265",
     "exception": false,
     "start_time": "2022-11-26T11:18:31.829796",
     "status": "completed"
    },
    "tags": []
   },
   "outputs": [
    {
     "data": {
      "text/plain": [
       "(98666, 36)"
      ]
     },
     "execution_count": 36,
     "metadata": {},
     "output_type": "execute_result"
    }
   ],
   "source": [
    "bookings_data_unqiue_for_each_id_1.shape"
   ]
  },
  {
   "cell_type": "code",
   "execution_count": 37,
   "id": "59b02615",
   "metadata": {
    "execution": {
     "iopub.execute_input": "2022-11-26T11:18:31.932453Z",
     "iopub.status.busy": "2022-11-26T11:18:31.932061Z",
     "iopub.status.idle": "2022-11-26T11:18:48.635006Z",
     "shell.execute_reply": "2022-11-26T11:18:48.633701Z"
    },
    "papermill": {
     "duration": 16.736845,
     "end_time": "2022-11-26T11:18:48.637438",
     "exception": false,
     "start_time": "2022-11-26T11:18:31.900593",
     "status": "completed"
    },
    "tags": []
   },
   "outputs": [
    {
     "data": {
      "text/html": [
       "<div>\n",
       "<style scoped>\n",
       "    .dataframe tbody tr th:only-of-type {\n",
       "        vertical-align: middle;\n",
       "    }\n",
       "\n",
       "    .dataframe tbody tr th {\n",
       "        vertical-align: top;\n",
       "    }\n",
       "\n",
       "    .dataframe thead th {\n",
       "        text-align: right;\n",
       "    }\n",
       "</style>\n",
       "<table border=\"1\" class=\"dataframe\">\n",
       "  <thead>\n",
       "    <tr style=\"text-align: right;\">\n",
       "      <th></th>\n",
       "      <th>booking_id</th>\n",
       "      <th>booking_expiry_date_min</th>\n",
       "      <th>booking_expiry_date_max</th>\n",
       "      <th>booking_expiry_date_count</th>\n",
       "    </tr>\n",
       "  </thead>\n",
       "  <tbody>\n",
       "    <tr>\n",
       "      <th>0</th>\n",
       "      <td>00020b5bc201756cad655783aa166514</td>\n",
       "      <td>2018-02-09 14:10:50</td>\n",
       "      <td>2018-02-09 14:10:50</td>\n",
       "      <td>1</td>\n",
       "    </tr>\n",
       "    <tr>\n",
       "      <th>1</th>\n",
       "      <td>00025a261e572c2a9fc158e005414df7</td>\n",
       "      <td>2017-05-22 18:02:34</td>\n",
       "      <td>2017-05-22 18:02:34</td>\n",
       "      <td>1</td>\n",
       "    </tr>\n",
       "    <tr>\n",
       "      <th>2</th>\n",
       "      <td>00035456e8e57cbcf89cdf7268c63976</td>\n",
       "      <td>2018-05-16 11:51:37</td>\n",
       "      <td>2018-05-16 11:51:37</td>\n",
       "      <td>1</td>\n",
       "    </tr>\n",
       "    <tr>\n",
       "      <th>3</th>\n",
       "      <td>00045d86380d5b014642fbc4994b99a0</td>\n",
       "      <td>2018-07-03 12:50:17</td>\n",
       "      <td>2018-07-03 12:50:17</td>\n",
       "      <td>2</td>\n",
       "    </tr>\n",
       "    <tr>\n",
       "      <th>4</th>\n",
       "      <td>0004ed7b4b20bb24c1eeb5871a6f9a16</td>\n",
       "      <td>2018-06-21 20:16:27</td>\n",
       "      <td>2018-06-21 20:16:27</td>\n",
       "      <td>1</td>\n",
       "    </tr>\n",
       "  </tbody>\n",
       "</table>\n",
       "</div>"
      ],
      "text/plain": [
       "                         booking_id booking_expiry_date_min  \\\n",
       "0  00020b5bc201756cad655783aa166514     2018-02-09 14:10:50   \n",
       "1  00025a261e572c2a9fc158e005414df7     2017-05-22 18:02:34   \n",
       "2  00035456e8e57cbcf89cdf7268c63976     2018-05-16 11:51:37   \n",
       "3  00045d86380d5b014642fbc4994b99a0     2018-07-03 12:50:17   \n",
       "4  0004ed7b4b20bb24c1eeb5871a6f9a16     2018-06-21 20:16:27   \n",
       "\n",
       "  booking_expiry_date_max  booking_expiry_date_count  \n",
       "0     2018-02-09 14:10:50                          1  \n",
       "1     2017-05-22 18:02:34                          1  \n",
       "2     2018-05-16 11:51:37                          1  \n",
       "3     2018-07-03 12:50:17                          2  \n",
       "4     2018-06-21 20:16:27                          1  "
      ]
     },
     "execution_count": 37,
     "metadata": {},
     "output_type": "execute_result"
    }
   ],
   "source": [
    "bookings_data_unqiue_for_each_id_2 = bookings_data.groupby(by = 'booking_id')[[ 'booking_expiry_date']].agg(['min', 'max', \n",
    "                                                                                                             'count'\n",
    "                                                                                                            ]) \n",
    "bookings_data_unqiue_for_each_id_2.set_axis(bookings_data_unqiue_for_each_id_2.columns.map('_'.join), axis=1, inplace=True)\n",
    "bookings_data_unqiue_for_each_id_2.reset_index(inplace=True)\n",
    "bookings_data_unqiue_for_each_id_2.head()"
   ]
  },
  {
   "cell_type": "code",
   "execution_count": 38,
   "id": "c53f006f",
   "metadata": {
    "execution": {
     "iopub.execute_input": "2022-11-26T11:18:48.700170Z",
     "iopub.status.busy": "2022-11-26T11:18:48.699726Z",
     "iopub.status.idle": "2022-11-26T11:18:48.707224Z",
     "shell.execute_reply": "2022-11-26T11:18:48.705856Z"
    },
    "papermill": {
     "duration": 0.041569,
     "end_time": "2022-11-26T11:18:48.709618",
     "exception": false,
     "start_time": "2022-11-26T11:18:48.668049",
     "status": "completed"
    },
    "tags": []
   },
   "outputs": [
    {
     "data": {
      "text/plain": [
       "(98666, 4)"
      ]
     },
     "execution_count": 38,
     "metadata": {},
     "output_type": "execute_result"
    }
   ],
   "source": [
    "bookings_data_unqiue_for_each_id_2.shape"
   ]
  },
  {
   "cell_type": "markdown",
   "id": "4a93ed74",
   "metadata": {
    "papermill": {
     "duration": 0.030012,
     "end_time": "2022-11-26T11:18:48.770534",
     "exception": false,
     "start_time": "2022-11-26T11:18:48.740522",
     "status": "completed"
    },
    "tags": []
   },
   "source": [
    "**merge all these to one**"
   ]
  },
  {
   "cell_type": "code",
   "execution_count": 39,
   "id": "1bec7457",
   "metadata": {
    "execution": {
     "iopub.execute_input": "2022-11-26T11:18:48.833275Z",
     "iopub.status.busy": "2022-11-26T11:18:48.832889Z",
     "iopub.status.idle": "2022-11-26T11:18:49.223560Z",
     "shell.execute_reply": "2022-11-26T11:18:49.222421Z"
    },
    "papermill": {
     "duration": 0.424982,
     "end_time": "2022-11-26T11:18:49.226111",
     "exception": false,
     "start_time": "2022-11-26T11:18:48.801129",
     "status": "completed"
    },
    "tags": []
   },
   "outputs": [
    {
     "data": {
      "text/html": [
       "<div>\n",
       "<style scoped>\n",
       "    .dataframe tbody tr th:only-of-type {\n",
       "        vertical-align: middle;\n",
       "    }\n",
       "\n",
       "    .dataframe tbody tr th {\n",
       "        vertical-align: top;\n",
       "    }\n",
       "\n",
       "    .dataframe thead th {\n",
       "        text-align: right;\n",
       "    }\n",
       "</style>\n",
       "<table border=\"1\" class=\"dataframe\">\n",
       "  <thead>\n",
       "    <tr style=\"text-align: right;\">\n",
       "      <th></th>\n",
       "      <th>booking_id</th>\n",
       "      <th>booking_sequence_id_min</th>\n",
       "      <th>booking_sequence_id_max</th>\n",
       "      <th>booking_sequence_id_mean</th>\n",
       "      <th>booking_sequence_id_count</th>\n",
       "      <th>booking_sequence_id_sum</th>\n",
       "      <th>price_min</th>\n",
       "      <th>price_max</th>\n",
       "      <th>price_mean</th>\n",
       "      <th>price_count</th>\n",
       "      <th>...</th>\n",
       "      <th>hotel_description_length_sum</th>\n",
       "      <th>hotel_photos_qty_min</th>\n",
       "      <th>hotel_photos_qty_max</th>\n",
       "      <th>hotel_photos_qty_mean</th>\n",
       "      <th>hotel_photos_qty_count</th>\n",
       "      <th>hotel_photos_qty_sum</th>\n",
       "      <th>booking_expiry_date_min</th>\n",
       "      <th>booking_expiry_date_max</th>\n",
       "      <th>booking_expiry_date_count</th>\n",
       "      <th>seller_agent_id_count</th>\n",
       "    </tr>\n",
       "  </thead>\n",
       "  <tbody>\n",
       "    <tr>\n",
       "      <th>0</th>\n",
       "      <td>00020b5bc201756cad655783aa166514</td>\n",
       "      <td>1</td>\n",
       "      <td>1</td>\n",
       "      <td>1.0</td>\n",
       "      <td>1</td>\n",
       "      <td>1</td>\n",
       "      <td>49.99</td>\n",
       "      <td>49.99</td>\n",
       "      <td>49.99</td>\n",
       "      <td>1</td>\n",
       "      <td>...</td>\n",
       "      <td>338.0</td>\n",
       "      <td>3.0</td>\n",
       "      <td>3.0</td>\n",
       "      <td>3.0</td>\n",
       "      <td>1</td>\n",
       "      <td>3.0</td>\n",
       "      <td>2018-02-09 14:10:50</td>\n",
       "      <td>2018-02-09 14:10:50</td>\n",
       "      <td>1</td>\n",
       "      <td>1</td>\n",
       "    </tr>\n",
       "    <tr>\n",
       "      <th>1</th>\n",
       "      <td>00025a261e572c2a9fc158e005414df7</td>\n",
       "      <td>1</td>\n",
       "      <td>1</td>\n",
       "      <td>1.0</td>\n",
       "      <td>1</td>\n",
       "      <td>1</td>\n",
       "      <td>169.90</td>\n",
       "      <td>169.90</td>\n",
       "      <td>169.90</td>\n",
       "      <td>1</td>\n",
       "      <td>...</td>\n",
       "      <td>1313.0</td>\n",
       "      <td>1.0</td>\n",
       "      <td>1.0</td>\n",
       "      <td>1.0</td>\n",
       "      <td>1</td>\n",
       "      <td>1.0</td>\n",
       "      <td>2017-05-22 18:02:34</td>\n",
       "      <td>2017-05-22 18:02:34</td>\n",
       "      <td>1</td>\n",
       "      <td>1</td>\n",
       "    </tr>\n",
       "    <tr>\n",
       "      <th>2</th>\n",
       "      <td>00035456e8e57cbcf89cdf7268c63976</td>\n",
       "      <td>1</td>\n",
       "      <td>1</td>\n",
       "      <td>1.0</td>\n",
       "      <td>1</td>\n",
       "      <td>1</td>\n",
       "      <td>39.99</td>\n",
       "      <td>39.99</td>\n",
       "      <td>39.99</td>\n",
       "      <td>1</td>\n",
       "      <td>...</td>\n",
       "      <td>463.0</td>\n",
       "      <td>2.0</td>\n",
       "      <td>2.0</td>\n",
       "      <td>2.0</td>\n",
       "      <td>1</td>\n",
       "      <td>2.0</td>\n",
       "      <td>2018-05-16 11:51:37</td>\n",
       "      <td>2018-05-16 11:51:37</td>\n",
       "      <td>1</td>\n",
       "      <td>1</td>\n",
       "    </tr>\n",
       "    <tr>\n",
       "      <th>3</th>\n",
       "      <td>00045d86380d5b014642fbc4994b99a0</td>\n",
       "      <td>1</td>\n",
       "      <td>2</td>\n",
       "      <td>1.5</td>\n",
       "      <td>2</td>\n",
       "      <td>3</td>\n",
       "      <td>129.05</td>\n",
       "      <td>129.05</td>\n",
       "      <td>129.05</td>\n",
       "      <td>2</td>\n",
       "      <td>...</td>\n",
       "      <td>814.0</td>\n",
       "      <td>1.0</td>\n",
       "      <td>1.0</td>\n",
       "      <td>1.0</td>\n",
       "      <td>2</td>\n",
       "      <td>2.0</td>\n",
       "      <td>2018-07-03 12:50:17</td>\n",
       "      <td>2018-07-03 12:50:17</td>\n",
       "      <td>2</td>\n",
       "      <td>2</td>\n",
       "    </tr>\n",
       "    <tr>\n",
       "      <th>4</th>\n",
       "      <td>0004ed7b4b20bb24c1eeb5871a6f9a16</td>\n",
       "      <td>1</td>\n",
       "      <td>1</td>\n",
       "      <td>1.0</td>\n",
       "      <td>1</td>\n",
       "      <td>1</td>\n",
       "      <td>99.90</td>\n",
       "      <td>99.90</td>\n",
       "      <td>99.90</td>\n",
       "      <td>1</td>\n",
       "      <td>...</td>\n",
       "      <td>273.0</td>\n",
       "      <td>1.0</td>\n",
       "      <td>1.0</td>\n",
       "      <td>1.0</td>\n",
       "      <td>1</td>\n",
       "      <td>1.0</td>\n",
       "      <td>2018-06-21 20:16:27</td>\n",
       "      <td>2018-06-21 20:16:27</td>\n",
       "      <td>1</td>\n",
       "      <td>1</td>\n",
       "    </tr>\n",
       "  </tbody>\n",
       "</table>\n",
       "<p>5 rows × 40 columns</p>\n",
       "</div>"
      ],
      "text/plain": [
       "                         booking_id  booking_sequence_id_min  \\\n",
       "0  00020b5bc201756cad655783aa166514                        1   \n",
       "1  00025a261e572c2a9fc158e005414df7                        1   \n",
       "2  00035456e8e57cbcf89cdf7268c63976                        1   \n",
       "3  00045d86380d5b014642fbc4994b99a0                        1   \n",
       "4  0004ed7b4b20bb24c1eeb5871a6f9a16                        1   \n",
       "\n",
       "   booking_sequence_id_max  booking_sequence_id_mean  \\\n",
       "0                        1                       1.0   \n",
       "1                        1                       1.0   \n",
       "2                        1                       1.0   \n",
       "3                        2                       1.5   \n",
       "4                        1                       1.0   \n",
       "\n",
       "   booking_sequence_id_count  booking_sequence_id_sum  price_min  price_max  \\\n",
       "0                          1                        1      49.99      49.99   \n",
       "1                          1                        1     169.90     169.90   \n",
       "2                          1                        1      39.99      39.99   \n",
       "3                          2                        3     129.05     129.05   \n",
       "4                          1                        1      99.90      99.90   \n",
       "\n",
       "   price_mean  price_count  ...  hotel_description_length_sum  \\\n",
       "0       49.99            1  ...                         338.0   \n",
       "1      169.90            1  ...                        1313.0   \n",
       "2       39.99            1  ...                         463.0   \n",
       "3      129.05            2  ...                         814.0   \n",
       "4       99.90            1  ...                         273.0   \n",
       "\n",
       "   hotel_photos_qty_min  hotel_photos_qty_max  hotel_photos_qty_mean  \\\n",
       "0                   3.0                   3.0                    3.0   \n",
       "1                   1.0                   1.0                    1.0   \n",
       "2                   2.0                   2.0                    2.0   \n",
       "3                   1.0                   1.0                    1.0   \n",
       "4                   1.0                   1.0                    1.0   \n",
       "\n",
       "   hotel_photos_qty_count  hotel_photos_qty_sum  booking_expiry_date_min  \\\n",
       "0                       1                   3.0      2018-02-09 14:10:50   \n",
       "1                       1                   1.0      2017-05-22 18:02:34   \n",
       "2                       1                   2.0      2018-05-16 11:51:37   \n",
       "3                       2                   2.0      2018-07-03 12:50:17   \n",
       "4                       1                   1.0      2018-06-21 20:16:27   \n",
       "\n",
       "   booking_expiry_date_max  booking_expiry_date_count  seller_agent_id_count  \n",
       "0      2018-02-09 14:10:50                          1                      1  \n",
       "1      2017-05-22 18:02:34                          1                      1  \n",
       "2      2018-05-16 11:51:37                          1                      1  \n",
       "3      2018-07-03 12:50:17                          2                      2  \n",
       "4      2018-06-21 20:16:27                          1                      1  \n",
       "\n",
       "[5 rows x 40 columns]"
      ]
     },
     "execution_count": 39,
     "metadata": {},
     "output_type": "execute_result"
    }
   ],
   "source": [
    "bookings_data_unqiue_for_each_id = pd.merge(bookings_data_unqiue_for_each_id_1, bookings_data_unqiue_for_each_id_2, on = 'booking_id', how = 'left')\n",
    "bookings_data_unqiue_for_each_id = pd.merge(bookings_data_unqiue_for_each_id, bookings_data_unqiue_for_each_id_0, on ='booking_id', how = 'left')\n",
    "bookings_data_unqiue_for_each_id.head()"
   ]
  },
  {
   "cell_type": "code",
   "execution_count": 40,
   "id": "ae09fd8e",
   "metadata": {
    "execution": {
     "iopub.execute_input": "2022-11-26T11:18:49.290772Z",
     "iopub.status.busy": "2022-11-26T11:18:49.289623Z",
     "iopub.status.idle": "2022-11-26T11:18:49.296101Z",
     "shell.execute_reply": "2022-11-26T11:18:49.295112Z"
    },
    "papermill": {
     "duration": 0.041097,
     "end_time": "2022-11-26T11:18:49.298433",
     "exception": false,
     "start_time": "2022-11-26T11:18:49.257336",
     "status": "completed"
    },
    "tags": []
   },
   "outputs": [
    {
     "data": {
      "text/plain": [
       "(98666, 40)"
      ]
     },
     "execution_count": 40,
     "metadata": {},
     "output_type": "execute_result"
    }
   ],
   "source": [
    "# bookings_data_unqiue_for_each_id.columns\n",
    "bookings_data_unqiue_for_each_id.shape"
   ]
  },
  {
   "cell_type": "code",
   "execution_count": 41,
   "id": "bd75aafe",
   "metadata": {
    "execution": {
     "iopub.execute_input": "2022-11-26T11:18:49.362860Z",
     "iopub.status.busy": "2022-11-26T11:18:49.362370Z",
     "iopub.status.idle": "2022-11-26T11:18:49.367601Z",
     "shell.execute_reply": "2022-11-26T11:18:49.366083Z"
    },
    "papermill": {
     "duration": 0.040656,
     "end_time": "2022-11-26T11:18:49.370438",
     "exception": false,
     "start_time": "2022-11-26T11:18:49.329782",
     "status": "completed"
    },
    "tags": []
   },
   "outputs": [],
   "source": [
    "# bookings_data_unqiue_for_each_id['price_mode'].values.tolist()\n",
    "# bookings_data_unqiue_for_each_id['booking_sequence_id_mode'].values.tolist()\n",
    "# mode kaam ka nahi hai so drop\n",
    "# bookings_data_unqiue_for_each_id.drop(['booking_sequence_id_mode'], axis=1, inplace=True)"
   ]
  },
  {
   "cell_type": "code",
   "execution_count": null,
   "id": "e6fa3b4e",
   "metadata": {
    "papermill": {
     "duration": 0.03084,
     "end_time": "2022-11-26T11:18:49.432334",
     "exception": false,
     "start_time": "2022-11-26T11:18:49.401494",
     "status": "completed"
    },
    "tags": []
   },
   "outputs": [],
   "source": []
  },
  {
   "cell_type": "markdown",
   "id": "8064f10a",
   "metadata": {
    "papermill": {
     "duration": 0.031065,
     "end_time": "2022-11-26T11:18:49.494302",
     "exception": false,
     "start_time": "2022-11-26T11:18:49.463237",
     "status": "completed"
    },
    "tags": []
   },
   "source": [
    "*for price\tagent_fees make sum, variance, std dev also!!!!* - **not needed**"
   ]
  },
  {
   "cell_type": "markdown",
   "id": "d5a68fe9",
   "metadata": {
    "papermill": {
     "duration": 0.03083,
     "end_time": "2022-11-26T11:18:49.557050",
     "exception": false,
     "start_time": "2022-11-26T11:18:49.526220",
     "status": "completed"
    },
    "tags": []
   },
   "source": []
  },
  {
   "cell_type": "code",
   "execution_count": null,
   "id": "1f2035bf",
   "metadata": {
    "papermill": {
     "duration": 0.030883,
     "end_time": "2022-11-26T11:18:49.619199",
     "exception": false,
     "start_time": "2022-11-26T11:18:49.588316",
     "status": "completed"
    },
    "tags": []
   },
   "outputs": [],
   "source": []
  },
  {
   "cell_type": "code",
   "execution_count": 42,
   "id": "12a1bede",
   "metadata": {
    "execution": {
     "iopub.execute_input": "2022-11-26T11:18:49.682620Z",
     "iopub.status.busy": "2022-11-26T11:18:49.682233Z",
     "iopub.status.idle": "2022-11-26T11:18:49.686935Z",
     "shell.execute_reply": "2022-11-26T11:18:49.685714Z"
    },
    "papermill": {
     "duration": 0.039369,
     "end_time": "2022-11-26T11:18:49.689539",
     "exception": false,
     "start_time": "2022-11-26T11:18:49.650170",
     "status": "completed"
    },
    "tags": []
   },
   "outputs": [],
   "source": [
    "# bookings_data.groupby(by = 'booking_id')[['booking_sequence_id', 'hotel_id', 'seller_agent_id', 'booking_expiry_date', 'price', 'agent_fees']]"
   ]
  },
  {
   "cell_type": "code",
   "execution_count": null,
   "id": "74efca10",
   "metadata": {
    "papermill": {
     "duration": 0.03097,
     "end_time": "2022-11-26T11:18:49.751468",
     "exception": false,
     "start_time": "2022-11-26T11:18:49.720498",
     "status": "completed"
    },
    "tags": []
   },
   "outputs": [],
   "source": []
  },
  {
   "cell_type": "markdown",
   "id": "ffc0329a",
   "metadata": {
    "papermill": {
     "duration": 0.032559,
     "end_time": "2022-11-26T11:18:49.814868",
     "exception": false,
     "start_time": "2022-11-26T11:18:49.782309",
     "status": "completed"
    },
    "tags": []
   },
   "source": [
    "### Payments_data (some booking ids repeated)\n",
    "- Will check which values to take in the main table"
   ]
  },
  {
   "cell_type": "code",
   "execution_count": 43,
   "id": "2e9a8b45",
   "metadata": {
    "execution": {
     "iopub.execute_input": "2022-11-26T11:18:49.881797Z",
     "iopub.status.busy": "2022-11-26T11:18:49.880955Z",
     "iopub.status.idle": "2022-11-26T11:18:49.894044Z",
     "shell.execute_reply": "2022-11-26T11:18:49.892761Z"
    },
    "papermill": {
     "duration": 0.050206,
     "end_time": "2022-11-26T11:18:49.896545",
     "exception": false,
     "start_time": "2022-11-26T11:18:49.846339",
     "status": "completed"
    },
    "tags": []
   },
   "outputs": [
    {
     "data": {
      "text/html": [
       "<div>\n",
       "<style scoped>\n",
       "    .dataframe tbody tr th:only-of-type {\n",
       "        vertical-align: middle;\n",
       "    }\n",
       "\n",
       "    .dataframe tbody tr th {\n",
       "        vertical-align: top;\n",
       "    }\n",
       "\n",
       "    .dataframe thead th {\n",
       "        text-align: right;\n",
       "    }\n",
       "</style>\n",
       "<table border=\"1\" class=\"dataframe\">\n",
       "  <thead>\n",
       "    <tr style=\"text-align: right;\">\n",
       "      <th></th>\n",
       "      <th>booking_id</th>\n",
       "      <th>payment_sequential</th>\n",
       "      <th>payment_type</th>\n",
       "      <th>payment_installments</th>\n",
       "      <th>payment_value</th>\n",
       "    </tr>\n",
       "  </thead>\n",
       "  <tbody>\n",
       "    <tr>\n",
       "      <th>0</th>\n",
       "      <td>6f3fe1789b1e8b2acac839d17b81ef22</td>\n",
       "      <td>1</td>\n",
       "      <td>credit_card</td>\n",
       "      <td>8</td>\n",
       "      <td>99.33</td>\n",
       "    </tr>\n",
       "    <tr>\n",
       "      <th>1</th>\n",
       "      <td>917af2d9aefd1278f1dcfa0a9810da82</td>\n",
       "      <td>1</td>\n",
       "      <td>credit_card</td>\n",
       "      <td>1</td>\n",
       "      <td>24.39</td>\n",
       "    </tr>\n",
       "    <tr>\n",
       "      <th>2</th>\n",
       "      <td>396b6fa0d3dd708e76c1bd25e8ea4e93</td>\n",
       "      <td>1</td>\n",
       "      <td>credit_card</td>\n",
       "      <td>1</td>\n",
       "      <td>65.71</td>\n",
       "    </tr>\n",
       "    <tr>\n",
       "      <th>3</th>\n",
       "      <td>dc1373bb41e913ab953ba78997921bbc</td>\n",
       "      <td>1</td>\n",
       "      <td>credit_card</td>\n",
       "      <td>8</td>\n",
       "      <td>107.78</td>\n",
       "    </tr>\n",
       "    <tr>\n",
       "      <th>4</th>\n",
       "      <td>a16b47b59251dd489d4441a42fdf880b</td>\n",
       "      <td>1</td>\n",
       "      <td>credit_card</td>\n",
       "      <td>2</td>\n",
       "      <td>128.45</td>\n",
       "    </tr>\n",
       "  </tbody>\n",
       "</table>\n",
       "</div>"
      ],
      "text/plain": [
       "                         booking_id  payment_sequential payment_type  \\\n",
       "0  6f3fe1789b1e8b2acac839d17b81ef22                   1  credit_card   \n",
       "1  917af2d9aefd1278f1dcfa0a9810da82                   1  credit_card   \n",
       "2  396b6fa0d3dd708e76c1bd25e8ea4e93                   1  credit_card   \n",
       "3  dc1373bb41e913ab953ba78997921bbc                   1  credit_card   \n",
       "4  a16b47b59251dd489d4441a42fdf880b                   1  credit_card   \n",
       "\n",
       "   payment_installments  payment_value  \n",
       "0                     8          99.33  \n",
       "1                     1          24.39  \n",
       "2                     1          65.71  \n",
       "3                     8         107.78  \n",
       "4                     2         128.45  "
      ]
     },
     "execution_count": 43,
     "metadata": {},
     "output_type": "execute_result"
    }
   ],
   "source": [
    "payments_data.head()"
   ]
  },
  {
   "cell_type": "code",
   "execution_count": 44,
   "id": "54c26afd",
   "metadata": {
    "execution": {
     "iopub.execute_input": "2022-11-26T11:18:49.961456Z",
     "iopub.status.busy": "2022-11-26T11:18:49.960618Z",
     "iopub.status.idle": "2022-11-26T11:18:49.968172Z",
     "shell.execute_reply": "2022-11-26T11:18:49.967009Z"
    },
    "papermill": {
     "duration": 0.042734,
     "end_time": "2022-11-26T11:18:49.970692",
     "exception": false,
     "start_time": "2022-11-26T11:18:49.927958",
     "status": "completed"
    },
    "tags": []
   },
   "outputs": [
    {
     "data": {
      "text/plain": [
       "(103886, 5)"
      ]
     },
     "execution_count": 44,
     "metadata": {},
     "output_type": "execute_result"
    }
   ],
   "source": [
    "payments_data.shape"
   ]
  },
  {
   "cell_type": "code",
   "execution_count": 45,
   "id": "98b140ad",
   "metadata": {
    "execution": {
     "iopub.execute_input": "2022-11-26T11:18:50.036628Z",
     "iopub.status.busy": "2022-11-26T11:18:50.035866Z",
     "iopub.status.idle": "2022-11-26T11:18:50.155666Z",
     "shell.execute_reply": "2022-11-26T11:18:50.154541Z"
    },
    "papermill": {
     "duration": 0.155541,
     "end_time": "2022-11-26T11:18:50.158525",
     "exception": false,
     "start_time": "2022-11-26T11:18:50.002984",
     "status": "completed"
    },
    "tags": []
   },
   "outputs": [
    {
     "data": {
      "text/plain": [
       "99440"
      ]
     },
     "execution_count": 45,
     "metadata": {},
     "output_type": "execute_result"
    }
   ],
   "source": [
    "len(np.unique(payments_data['booking_id']))"
   ]
  },
  {
   "cell_type": "code",
   "execution_count": 46,
   "id": "296aca2d",
   "metadata": {
    "execution": {
     "iopub.execute_input": "2022-11-26T11:18:50.223573Z",
     "iopub.status.busy": "2022-11-26T11:18:50.223133Z",
     "iopub.status.idle": "2022-11-26T11:18:50.228472Z",
     "shell.execute_reply": "2022-11-26T11:18:50.227241Z"
    },
    "papermill": {
     "duration": 0.040962,
     "end_time": "2022-11-26T11:18:50.230853",
     "exception": false,
     "start_time": "2022-11-26T11:18:50.189891",
     "status": "completed"
    },
    "tags": []
   },
   "outputs": [],
   "source": [
    "# payments_data.groupby('booking_id')['payment_type'].apply(pd.Series.mode)\n",
    "# takes a lot of time"
   ]
  },
  {
   "cell_type": "code",
   "execution_count": 47,
   "id": "f2a7d38a",
   "metadata": {
    "execution": {
     "iopub.execute_input": "2022-11-26T11:18:50.297285Z",
     "iopub.status.busy": "2022-11-26T11:18:50.296856Z",
     "iopub.status.idle": "2022-11-26T11:19:08.559474Z",
     "shell.execute_reply": "2022-11-26T11:19:08.557434Z"
    },
    "papermill": {
     "duration": 18.299438,
     "end_time": "2022-11-26T11:19:08.562248",
     "exception": false,
     "start_time": "2022-11-26T11:18:50.262810",
     "status": "completed"
    },
    "tags": []
   },
   "outputs": [
    {
     "data": {
      "text/html": [
       "<div>\n",
       "<style scoped>\n",
       "    .dataframe tbody tr th:only-of-type {\n",
       "        vertical-align: middle;\n",
       "    }\n",
       "\n",
       "    .dataframe tbody tr th {\n",
       "        vertical-align: top;\n",
       "    }\n",
       "\n",
       "    .dataframe thead th {\n",
       "        text-align: right;\n",
       "    }\n",
       "</style>\n",
       "<table border=\"1\" class=\"dataframe\">\n",
       "  <thead>\n",
       "    <tr style=\"text-align: right;\">\n",
       "      <th></th>\n",
       "      <th>booking_id</th>\n",
       "      <th>payment_type_mode</th>\n",
       "      <th>payment_type_count</th>\n",
       "      <th>payment_type_unique</th>\n",
       "    </tr>\n",
       "  </thead>\n",
       "  <tbody>\n",
       "    <tr>\n",
       "      <th>0</th>\n",
       "      <td>00020b5bc201756cad655783aa166514</td>\n",
       "      <td>credit_card</td>\n",
       "      <td>1</td>\n",
       "      <td>[credit_card]</td>\n",
       "    </tr>\n",
       "    <tr>\n",
       "      <th>1</th>\n",
       "      <td>00025a261e572c2a9fc158e005414df7</td>\n",
       "      <td>credit_card</td>\n",
       "      <td>1</td>\n",
       "      <td>[credit_card]</td>\n",
       "    </tr>\n",
       "    <tr>\n",
       "      <th>2</th>\n",
       "      <td>00035456e8e57cbcf89cdf7268c63976</td>\n",
       "      <td>credit_card</td>\n",
       "      <td>1</td>\n",
       "      <td>[credit_card]</td>\n",
       "    </tr>\n",
       "    <tr>\n",
       "      <th>3</th>\n",
       "      <td>00045d86380d5b014642fbc4994b99a0</td>\n",
       "      <td>credit_card</td>\n",
       "      <td>1</td>\n",
       "      <td>[credit_card]</td>\n",
       "    </tr>\n",
       "    <tr>\n",
       "      <th>4</th>\n",
       "      <td>0004ed7b4b20bb24c1eeb5871a6f9a16</td>\n",
       "      <td>credit_card</td>\n",
       "      <td>1</td>\n",
       "      <td>[credit_card]</td>\n",
       "    </tr>\n",
       "  </tbody>\n",
       "</table>\n",
       "</div>"
      ],
      "text/plain": [
       "                         booking_id payment_type_mode  payment_type_count  \\\n",
       "0  00020b5bc201756cad655783aa166514       credit_card                   1   \n",
       "1  00025a261e572c2a9fc158e005414df7       credit_card                   1   \n",
       "2  00035456e8e57cbcf89cdf7268c63976       credit_card                   1   \n",
       "3  00045d86380d5b014642fbc4994b99a0       credit_card                   1   \n",
       "4  0004ed7b4b20bb24c1eeb5871a6f9a16       credit_card                   1   \n",
       "\n",
       "  payment_type_unique  \n",
       "0       [credit_card]  \n",
       "1       [credit_card]  \n",
       "2       [credit_card]  \n",
       "3       [credit_card]  \n",
       "4       [credit_card]  "
      ]
     },
     "execution_count": 47,
     "metadata": {},
     "output_type": "execute_result"
    }
   ],
   "source": [
    "payments_data_unqiue_for_each_id_1 = payments_data.groupby(by = 'booking_id')[['payment_type']].agg([pd.Series.mode, 'count', 'unique'\n",
    "                                                                                                    # pd.Series.mean, ,'sum'\n",
    "                                                                                                   ])\n",
    "payments_data_unqiue_for_each_id_1.set_axis(payments_data_unqiue_for_each_id_1.columns.map('_'.join), axis=1, inplace=True)\n",
    "payments_data_unqiue_for_each_id_1.reset_index(inplace=True)\n",
    "payments_data_unqiue_for_each_id_1.head()                                                      "
   ]
  },
  {
   "cell_type": "code",
   "execution_count": 48,
   "id": "8420cd2b",
   "metadata": {
    "execution": {
     "iopub.execute_input": "2022-11-26T11:19:08.638377Z",
     "iopub.status.busy": "2022-11-26T11:19:08.637449Z",
     "iopub.status.idle": "2022-11-26T11:19:08.643201Z",
     "shell.execute_reply": "2022-11-26T11:19:08.641861Z"
    },
    "papermill": {
     "duration": 0.05171,
     "end_time": "2022-11-26T11:19:08.646262",
     "exception": false,
     "start_time": "2022-11-26T11:19:08.594552",
     "status": "completed"
    },
    "tags": []
   },
   "outputs": [],
   "source": [
    "# payments_data_unqiue_for_each_id_1['payment_type_count'].value_counts()\n",
    "\n",
    "# 1     96479\n",
    "# 2      2382\n",
    "# 3       301\n",
    "# 4       108\n",
    "# 5        52\n",
    "# 6        36\n",
    "# 7        28\n",
    "# 8        11\n",
    "# 9         9\n",
    "# 11        8\n",
    "# 12        8\n",
    "# 10        5\n",
    "# 13        3\n",
    "# 19        2\n",
    "# 15        2\n",
    "# 14        2\n",
    "# 21        1\n",
    "# 26        1\n",
    "# 22        1\n",
    "# 29        1"
   ]
  },
  {
   "cell_type": "code",
   "execution_count": 49,
   "id": "946bd9a8",
   "metadata": {
    "execution": {
     "iopub.execute_input": "2022-11-26T11:19:08.729202Z",
     "iopub.status.busy": "2022-11-26T11:19:08.728269Z",
     "iopub.status.idle": "2022-11-26T11:19:08.762233Z",
     "shell.execute_reply": "2022-11-26T11:19:08.761068Z"
    },
    "papermill": {
     "duration": 0.07548,
     "end_time": "2022-11-26T11:19:08.764949",
     "exception": false,
     "start_time": "2022-11-26T11:19:08.689469",
     "status": "completed"
    },
    "tags": []
   },
   "outputs": [
    {
     "data": {
      "text/html": [
       "<div>\n",
       "<style scoped>\n",
       "    .dataframe tbody tr th:only-of-type {\n",
       "        vertical-align: middle;\n",
       "    }\n",
       "\n",
       "    .dataframe tbody tr th {\n",
       "        vertical-align: top;\n",
       "    }\n",
       "\n",
       "    .dataframe thead th {\n",
       "        text-align: right;\n",
       "    }\n",
       "</style>\n",
       "<table border=\"1\" class=\"dataframe\">\n",
       "  <thead>\n",
       "    <tr style=\"text-align: right;\">\n",
       "      <th></th>\n",
       "      <th>booking_id</th>\n",
       "      <th>payment_type_mode</th>\n",
       "      <th>payment_type_count</th>\n",
       "      <th>payment_type_unique</th>\n",
       "    </tr>\n",
       "  </thead>\n",
       "  <tbody>\n",
       "    <tr>\n",
       "      <th>44</th>\n",
       "      <td>002126e75f86b0f87332e4a079628ac8</td>\n",
       "      <td>[credit_card, debit_card]</td>\n",
       "      <td>2</td>\n",
       "      <td>[credit_card, debit_card]</td>\n",
       "    </tr>\n",
       "    <tr>\n",
       "      <th>47</th>\n",
       "      <td>0022bb703d781966370133ed7a53dfb5</td>\n",
       "      <td>[credit_card, voucher]</td>\n",
       "      <td>2</td>\n",
       "      <td>[voucher, credit_card]</td>\n",
       "    </tr>\n",
       "    <tr>\n",
       "      <th>61</th>\n",
       "      <td>002c099c87029b0362e5c0c993de8241</td>\n",
       "      <td>[credit_card, voucher]</td>\n",
       "      <td>2</td>\n",
       "      <td>[voucher, credit_card]</td>\n",
       "    </tr>\n",
       "    <tr>\n",
       "      <th>75</th>\n",
       "      <td>003ab580410022f433959505aeccc35d</td>\n",
       "      <td>[credit_card, voucher]</td>\n",
       "      <td>2</td>\n",
       "      <td>[credit_card, voucher]</td>\n",
       "    </tr>\n",
       "    <tr>\n",
       "      <th>139</th>\n",
       "      <td>006686710c6a29df356227de9611e75b</td>\n",
       "      <td>[credit_card, voucher]</td>\n",
       "      <td>2</td>\n",
       "      <td>[credit_card, voucher]</td>\n",
       "    </tr>\n",
       "    <tr>\n",
       "      <th>...</th>\n",
       "      <td>...</td>\n",
       "      <td>...</td>\n",
       "      <td>...</td>\n",
       "      <td>...</td>\n",
       "    </tr>\n",
       "    <tr>\n",
       "      <th>99266</th>\n",
       "      <td>ff8b9c8c049a351e55c4c9fc31abeaa3</td>\n",
       "      <td>voucher</td>\n",
       "      <td>2</td>\n",
       "      <td>[voucher]</td>\n",
       "    </tr>\n",
       "    <tr>\n",
       "      <th>99278</th>\n",
       "      <td>ff96bdc46566472362da2e0d50459e4b</td>\n",
       "      <td>[credit_card, voucher]</td>\n",
       "      <td>2</td>\n",
       "      <td>[voucher, credit_card]</td>\n",
       "    </tr>\n",
       "    <tr>\n",
       "      <th>99354</th>\n",
       "      <td>ffc5a0a705f006f9b2db1b959a7ff272</td>\n",
       "      <td>[credit_card, voucher]</td>\n",
       "      <td>2</td>\n",
       "      <td>[voucher, credit_card]</td>\n",
       "    </tr>\n",
       "    <tr>\n",
       "      <th>99372</th>\n",
       "      <td>ffd462fb4bb62e66fc3a73a24fa6a0d8</td>\n",
       "      <td>[credit_card, voucher]</td>\n",
       "      <td>2</td>\n",
       "      <td>[credit_card, voucher]</td>\n",
       "    </tr>\n",
       "    <tr>\n",
       "      <th>99421</th>\n",
       "      <td>fff4c42bf70f0d9a4525c340192c8364</td>\n",
       "      <td>[credit_card, voucher]</td>\n",
       "      <td>2</td>\n",
       "      <td>[credit_card, voucher]</td>\n",
       "    </tr>\n",
       "  </tbody>\n",
       "</table>\n",
       "<p>2382 rows × 4 columns</p>\n",
       "</div>"
      ],
      "text/plain": [
       "                             booking_id          payment_type_mode  \\\n",
       "44     002126e75f86b0f87332e4a079628ac8  [credit_card, debit_card]   \n",
       "47     0022bb703d781966370133ed7a53dfb5     [credit_card, voucher]   \n",
       "61     002c099c87029b0362e5c0c993de8241     [credit_card, voucher]   \n",
       "75     003ab580410022f433959505aeccc35d     [credit_card, voucher]   \n",
       "139    006686710c6a29df356227de9611e75b     [credit_card, voucher]   \n",
       "...                                 ...                        ...   \n",
       "99266  ff8b9c8c049a351e55c4c9fc31abeaa3                    voucher   \n",
       "99278  ff96bdc46566472362da2e0d50459e4b     [credit_card, voucher]   \n",
       "99354  ffc5a0a705f006f9b2db1b959a7ff272     [credit_card, voucher]   \n",
       "99372  ffd462fb4bb62e66fc3a73a24fa6a0d8     [credit_card, voucher]   \n",
       "99421  fff4c42bf70f0d9a4525c340192c8364     [credit_card, voucher]   \n",
       "\n",
       "       payment_type_count        payment_type_unique  \n",
       "44                      2  [credit_card, debit_card]  \n",
       "47                      2     [voucher, credit_card]  \n",
       "61                      2     [voucher, credit_card]  \n",
       "75                      2     [credit_card, voucher]  \n",
       "139                     2     [credit_card, voucher]  \n",
       "...                   ...                        ...  \n",
       "99266                   2                  [voucher]  \n",
       "99278                   2     [voucher, credit_card]  \n",
       "99354                   2     [voucher, credit_card]  \n",
       "99372                   2     [credit_card, voucher]  \n",
       "99421                   2     [credit_card, voucher]  \n",
       "\n",
       "[2382 rows x 4 columns]"
      ]
     },
     "execution_count": 49,
     "metadata": {},
     "output_type": "execute_result"
    }
   ],
   "source": [
    "gg1 = payments_data_unqiue_for_each_id_1.loc[payments_data_unqiue_for_each_id_1['payment_type_count'] == 2]\n",
    "gg1"
   ]
  },
  {
   "cell_type": "code",
   "execution_count": 50,
   "id": "d0a6d4f4",
   "metadata": {
    "execution": {
     "iopub.execute_input": "2022-11-26T11:19:08.840149Z",
     "iopub.status.busy": "2022-11-26T11:19:08.839169Z",
     "iopub.status.idle": "2022-11-26T11:19:08.858906Z",
     "shell.execute_reply": "2022-11-26T11:19:08.857832Z"
    },
    "papermill": {
     "duration": 0.056817,
     "end_time": "2022-11-26T11:19:08.861295",
     "exception": false,
     "start_time": "2022-11-26T11:19:08.804478",
     "status": "completed"
    },
    "tags": []
   },
   "outputs": [
    {
     "data": {
      "text/html": [
       "<div>\n",
       "<style scoped>\n",
       "    .dataframe tbody tr th:only-of-type {\n",
       "        vertical-align: middle;\n",
       "    }\n",
       "\n",
       "    .dataframe tbody tr th {\n",
       "        vertical-align: top;\n",
       "    }\n",
       "\n",
       "    .dataframe thead th {\n",
       "        text-align: right;\n",
       "    }\n",
       "</style>\n",
       "<table border=\"1\" class=\"dataframe\">\n",
       "  <thead>\n",
       "    <tr style=\"text-align: right;\">\n",
       "      <th></th>\n",
       "      <th>0</th>\n",
       "      <th>1</th>\n",
       "    </tr>\n",
       "  </thead>\n",
       "  <tbody>\n",
       "    <tr>\n",
       "      <th>44</th>\n",
       "      <td>credit_card</td>\n",
       "      <td>debit_card</td>\n",
       "    </tr>\n",
       "    <tr>\n",
       "      <th>47</th>\n",
       "      <td>voucher</td>\n",
       "      <td>credit_card</td>\n",
       "    </tr>\n",
       "    <tr>\n",
       "      <th>61</th>\n",
       "      <td>voucher</td>\n",
       "      <td>credit_card</td>\n",
       "    </tr>\n",
       "    <tr>\n",
       "      <th>75</th>\n",
       "      <td>credit_card</td>\n",
       "      <td>voucher</td>\n",
       "    </tr>\n",
       "    <tr>\n",
       "      <th>139</th>\n",
       "      <td>credit_card</td>\n",
       "      <td>voucher</td>\n",
       "    </tr>\n",
       "    <tr>\n",
       "      <th>...</th>\n",
       "      <td>...</td>\n",
       "      <td>...</td>\n",
       "    </tr>\n",
       "    <tr>\n",
       "      <th>99266</th>\n",
       "      <td>voucher</td>\n",
       "      <td>None</td>\n",
       "    </tr>\n",
       "    <tr>\n",
       "      <th>99278</th>\n",
       "      <td>voucher</td>\n",
       "      <td>credit_card</td>\n",
       "    </tr>\n",
       "    <tr>\n",
       "      <th>99354</th>\n",
       "      <td>voucher</td>\n",
       "      <td>credit_card</td>\n",
       "    </tr>\n",
       "    <tr>\n",
       "      <th>99372</th>\n",
       "      <td>credit_card</td>\n",
       "      <td>voucher</td>\n",
       "    </tr>\n",
       "    <tr>\n",
       "      <th>99421</th>\n",
       "      <td>credit_card</td>\n",
       "      <td>voucher</td>\n",
       "    </tr>\n",
       "  </tbody>\n",
       "</table>\n",
       "<p>2382 rows × 2 columns</p>\n",
       "</div>"
      ],
      "text/plain": [
       "                 0            1\n",
       "44     credit_card   debit_card\n",
       "47         voucher  credit_card\n",
       "61         voucher  credit_card\n",
       "75     credit_card      voucher\n",
       "139    credit_card      voucher\n",
       "...            ...          ...\n",
       "99266      voucher         None\n",
       "99278      voucher  credit_card\n",
       "99354      voucher  credit_card\n",
       "99372  credit_card      voucher\n",
       "99421  credit_card      voucher\n",
       "\n",
       "[2382 rows x 2 columns]"
      ]
     },
     "execution_count": 50,
     "metadata": {},
     "output_type": "execute_result"
    }
   ],
   "source": [
    "pd.DataFrame(gg1['payment_type_unique'].tolist(), index = gg1.index)"
   ]
  },
  {
   "cell_type": "code",
   "execution_count": 51,
   "id": "a55e16d9",
   "metadata": {
    "execution": {
     "iopub.execute_input": "2022-11-26T11:19:08.938579Z",
     "iopub.status.busy": "2022-11-26T11:19:08.937905Z",
     "iopub.status.idle": "2022-11-26T11:19:08.942120Z",
     "shell.execute_reply": "2022-11-26T11:19:08.941157Z"
    },
    "papermill": {
     "duration": 0.04885,
     "end_time": "2022-11-26T11:19:08.944900",
     "exception": false,
     "start_time": "2022-11-26T11:19:08.896050",
     "status": "completed"
    },
    "tags": []
   },
   "outputs": [],
   "source": [
    "# gg1['payment_type_mode_1'] = pd.DataFrame(gg1['payment_type_unique'].tolist(), index = gg1.index)"
   ]
  },
  {
   "cell_type": "code",
   "execution_count": 52,
   "id": "304d99e9",
   "metadata": {
    "execution": {
     "iopub.execute_input": "2022-11-26T11:19:09.030094Z",
     "iopub.status.busy": "2022-11-26T11:19:09.028796Z",
     "iopub.status.idle": "2022-11-26T11:19:09.034076Z",
     "shell.execute_reply": "2022-11-26T11:19:09.033160Z"
    },
    "papermill": {
     "duration": 0.048465,
     "end_time": "2022-11-26T11:19:09.036351",
     "exception": false,
     "start_time": "2022-11-26T11:19:08.987886",
     "status": "completed"
    },
    "tags": []
   },
   "outputs": [],
   "source": [
    "# gg1['payment_type_mode'].tolist()\n",
    "# ye to sab ['cc, voucher] yahi order me hai "
   ]
  },
  {
   "cell_type": "code",
   "execution_count": 53,
   "id": "e4013ed4",
   "metadata": {
    "execution": {
     "iopub.execute_input": "2022-11-26T11:19:09.105791Z",
     "iopub.status.busy": "2022-11-26T11:19:09.104945Z",
     "iopub.status.idle": "2022-11-26T11:19:09.110198Z",
     "shell.execute_reply": "2022-11-26T11:19:09.109189Z"
    },
    "papermill": {
     "duration": 0.043584,
     "end_time": "2022-11-26T11:19:09.112899",
     "exception": false,
     "start_time": "2022-11-26T11:19:09.069315",
     "status": "completed"
    },
    "tags": []
   },
   "outputs": [],
   "source": [
    "# gg1[['payment_type_mode_1','payment_type_mode2']] = pd.DataFrame(gg1['payment_type_mode'].tolist(), index = gg1.index)\n",
    "# ValueError: Columns must be same length as key\n",
    "# of course since sabke 2 unique nah hai"
   ]
  },
  {
   "cell_type": "markdown",
   "id": "ec6dd865",
   "metadata": {
    "papermill": {
     "duration": 0.033694,
     "end_time": "2022-11-26T11:19:09.182799",
     "exception": false,
     "start_time": "2022-11-26T11:19:09.149105",
     "status": "completed"
    },
    "tags": []
   },
   "source": [
    "**jaha 2 types ke payment hai, wo mostly credit card and voucher ka combination hai**\n",
    "- **yaha mode kaise lenge?**"
   ]
  },
  {
   "cell_type": "code",
   "execution_count": 54,
   "id": "712022ca",
   "metadata": {
    "execution": {
     "iopub.execute_input": "2022-11-26T11:19:09.251789Z",
     "iopub.status.busy": "2022-11-26T11:19:09.251356Z",
     "iopub.status.idle": "2022-11-26T11:19:09.271922Z",
     "shell.execute_reply": "2022-11-26T11:19:09.270725Z"
    },
    "papermill": {
     "duration": 0.057761,
     "end_time": "2022-11-26T11:19:09.274432",
     "exception": false,
     "start_time": "2022-11-26T11:19:09.216671",
     "status": "completed"
    },
    "tags": []
   },
   "outputs": [
    {
     "data": {
      "text/html": [
       "<div>\n",
       "<style scoped>\n",
       "    .dataframe tbody tr th:only-of-type {\n",
       "        vertical-align: middle;\n",
       "    }\n",
       "\n",
       "    .dataframe tbody tr th {\n",
       "        vertical-align: top;\n",
       "    }\n",
       "\n",
       "    .dataframe thead th {\n",
       "        text-align: right;\n",
       "    }\n",
       "</style>\n",
       "<table border=\"1\" class=\"dataframe\">\n",
       "  <thead>\n",
       "    <tr style=\"text-align: right;\">\n",
       "      <th></th>\n",
       "      <th>booking_id</th>\n",
       "      <th>payment_type_mode</th>\n",
       "      <th>payment_type_count</th>\n",
       "      <th>payment_type_unique</th>\n",
       "    </tr>\n",
       "  </thead>\n",
       "  <tbody>\n",
       "    <tr>\n",
       "      <th>69</th>\n",
       "      <td>003580be0b34472acce62033e70b1305</td>\n",
       "      <td>voucher</td>\n",
       "      <td>4</td>\n",
       "      <td>[voucher, credit_card]</td>\n",
       "    </tr>\n",
       "    <tr>\n",
       "      <th>198</th>\n",
       "      <td>009348caf87a4fcb8f0f4485ebaf1444</td>\n",
       "      <td>voucher</td>\n",
       "      <td>3</td>\n",
       "      <td>[voucher]</td>\n",
       "    </tr>\n",
       "    <tr>\n",
       "      <th>373</th>\n",
       "      <td>01159e32c2a4cba131e3e574a92fb05e</td>\n",
       "      <td>voucher</td>\n",
       "      <td>3</td>\n",
       "      <td>[voucher]</td>\n",
       "    </tr>\n",
       "    <tr>\n",
       "      <th>610</th>\n",
       "      <td>01b2887a2ad0685621ae4825515f8ef5</td>\n",
       "      <td>voucher</td>\n",
       "      <td>3</td>\n",
       "      <td>[voucher, credit_card]</td>\n",
       "    </tr>\n",
       "    <tr>\n",
       "      <th>633</th>\n",
       "      <td>01c58e06862dcb82fc64bd3e880a66ec</td>\n",
       "      <td>voucher</td>\n",
       "      <td>3</td>\n",
       "      <td>[credit_card, voucher]</td>\n",
       "    </tr>\n",
       "    <tr>\n",
       "      <th>...</th>\n",
       "      <td>...</td>\n",
       "      <td>...</td>\n",
       "      <td>...</td>\n",
       "      <td>...</td>\n",
       "    </tr>\n",
       "    <tr>\n",
       "      <th>98795</th>\n",
       "      <td>fe51778e36c40cd00ece6ffe133ae09e</td>\n",
       "      <td>voucher</td>\n",
       "      <td>3</td>\n",
       "      <td>[voucher]</td>\n",
       "    </tr>\n",
       "    <tr>\n",
       "      <th>98845</th>\n",
       "      <td>fe73d96ce4359a1caf38ea7b3950b933</td>\n",
       "      <td>voucher</td>\n",
       "      <td>6</td>\n",
       "      <td>[credit_card, voucher]</td>\n",
       "    </tr>\n",
       "    <tr>\n",
       "      <th>99063</th>\n",
       "      <td>ff082f229096ecda5cbc957ea8375e62</td>\n",
       "      <td>voucher</td>\n",
       "      <td>3</td>\n",
       "      <td>[voucher, credit_card]</td>\n",
       "    </tr>\n",
       "    <tr>\n",
       "      <th>99277</th>\n",
       "      <td>ff96573b07910d0f54a4505454bb3656</td>\n",
       "      <td>voucher</td>\n",
       "      <td>3</td>\n",
       "      <td>[credit_card, voucher]</td>\n",
       "    </tr>\n",
       "    <tr>\n",
       "      <th>99385</th>\n",
       "      <td>ffdf0dbf11db4b0a438031f67bef2180</td>\n",
       "      <td>voucher</td>\n",
       "      <td>3</td>\n",
       "      <td>[voucher]</td>\n",
       "    </tr>\n",
       "  </tbody>\n",
       "</table>\n",
       "<p>579 rows × 4 columns</p>\n",
       "</div>"
      ],
      "text/plain": [
       "                             booking_id payment_type_mode  payment_type_count  \\\n",
       "69     003580be0b34472acce62033e70b1305           voucher                   4   \n",
       "198    009348caf87a4fcb8f0f4485ebaf1444           voucher                   3   \n",
       "373    01159e32c2a4cba131e3e574a92fb05e           voucher                   3   \n",
       "610    01b2887a2ad0685621ae4825515f8ef5           voucher                   3   \n",
       "633    01c58e06862dcb82fc64bd3e880a66ec           voucher                   3   \n",
       "...                                 ...               ...                 ...   \n",
       "98795  fe51778e36c40cd00ece6ffe133ae09e           voucher                   3   \n",
       "98845  fe73d96ce4359a1caf38ea7b3950b933           voucher                   6   \n",
       "99063  ff082f229096ecda5cbc957ea8375e62           voucher                   3   \n",
       "99277  ff96573b07910d0f54a4505454bb3656           voucher                   3   \n",
       "99385  ffdf0dbf11db4b0a438031f67bef2180           voucher                   3   \n",
       "\n",
       "          payment_type_unique  \n",
       "69     [voucher, credit_card]  \n",
       "198                 [voucher]  \n",
       "373                 [voucher]  \n",
       "610    [voucher, credit_card]  \n",
       "633    [credit_card, voucher]  \n",
       "...                       ...  \n",
       "98795               [voucher]  \n",
       "98845  [credit_card, voucher]  \n",
       "99063  [voucher, credit_card]  \n",
       "99277  [credit_card, voucher]  \n",
       "99385               [voucher]  \n",
       "\n",
       "[579 rows x 4 columns]"
      ]
     },
     "execution_count": 54,
     "metadata": {},
     "output_type": "execute_result"
    }
   ],
   "source": [
    "gg2 = payments_data_unqiue_for_each_id_1.loc[payments_data_unqiue_for_each_id_1['payment_type_count'] > 2]\n",
    "gg2"
   ]
  },
  {
   "cell_type": "markdown",
   "id": "824bc2ee",
   "metadata": {
    "papermill": {
     "duration": 0.034173,
     "end_time": "2022-11-26T11:19:09.342368",
     "exception": false,
     "start_time": "2022-11-26T11:19:09.308195",
     "status": "completed"
    },
    "tags": []
   },
   "source": [
    "**very less such ids with payemtn type count >2. All are mostly vouchers only** "
   ]
  },
  {
   "cell_type": "code",
   "execution_count": 55,
   "id": "c7b7ac97",
   "metadata": {
    "execution": {
     "iopub.execute_input": "2022-11-26T11:19:09.411005Z",
     "iopub.status.busy": "2022-11-26T11:19:09.410263Z",
     "iopub.status.idle": "2022-11-26T11:19:09.433949Z",
     "shell.execute_reply": "2022-11-26T11:19:09.432721Z"
    },
    "papermill": {
     "duration": 0.060821,
     "end_time": "2022-11-26T11:19:09.436565",
     "exception": false,
     "start_time": "2022-11-26T11:19:09.375744",
     "status": "completed"
    },
    "tags": []
   },
   "outputs": [
    {
     "data": {
      "text/html": [
       "<div>\n",
       "<style scoped>\n",
       "    .dataframe tbody tr th:only-of-type {\n",
       "        vertical-align: middle;\n",
       "    }\n",
       "\n",
       "    .dataframe tbody tr th {\n",
       "        vertical-align: top;\n",
       "    }\n",
       "\n",
       "    .dataframe thead th {\n",
       "        text-align: right;\n",
       "    }\n",
       "</style>\n",
       "<table border=\"1\" class=\"dataframe\">\n",
       "  <thead>\n",
       "    <tr style=\"text-align: right;\">\n",
       "      <th></th>\n",
       "      <th>booking_id</th>\n",
       "      <th>payment_type_mode</th>\n",
       "      <th>payment_type_count</th>\n",
       "      <th>payment_type_unique</th>\n",
       "    </tr>\n",
       "  </thead>\n",
       "  <tbody>\n",
       "    <tr>\n",
       "      <th>44</th>\n",
       "      <td>002126e75f86b0f87332e4a079628ac8</td>\n",
       "      <td>[credit_card, debit_card]</td>\n",
       "      <td>2</td>\n",
       "      <td>[credit_card, debit_card]</td>\n",
       "    </tr>\n",
       "    <tr>\n",
       "      <th>47</th>\n",
       "      <td>0022bb703d781966370133ed7a53dfb5</td>\n",
       "      <td>[credit_card, voucher]</td>\n",
       "      <td>2</td>\n",
       "      <td>[voucher, credit_card]</td>\n",
       "    </tr>\n",
       "    <tr>\n",
       "      <th>61</th>\n",
       "      <td>002c099c87029b0362e5c0c993de8241</td>\n",
       "      <td>[credit_card, voucher]</td>\n",
       "      <td>2</td>\n",
       "      <td>[voucher, credit_card]</td>\n",
       "    </tr>\n",
       "    <tr>\n",
       "      <th>69</th>\n",
       "      <td>003580be0b34472acce62033e70b1305</td>\n",
       "      <td>voucher</td>\n",
       "      <td>4</td>\n",
       "      <td>[voucher, credit_card]</td>\n",
       "    </tr>\n",
       "    <tr>\n",
       "      <th>75</th>\n",
       "      <td>003ab580410022f433959505aeccc35d</td>\n",
       "      <td>[credit_card, voucher]</td>\n",
       "      <td>2</td>\n",
       "      <td>[credit_card, voucher]</td>\n",
       "    </tr>\n",
       "    <tr>\n",
       "      <th>...</th>\n",
       "      <td>...</td>\n",
       "      <td>...</td>\n",
       "      <td>...</td>\n",
       "      <td>...</td>\n",
       "    </tr>\n",
       "    <tr>\n",
       "      <th>99278</th>\n",
       "      <td>ff96bdc46566472362da2e0d50459e4b</td>\n",
       "      <td>[credit_card, voucher]</td>\n",
       "      <td>2</td>\n",
       "      <td>[voucher, credit_card]</td>\n",
       "    </tr>\n",
       "    <tr>\n",
       "      <th>99354</th>\n",
       "      <td>ffc5a0a705f006f9b2db1b959a7ff272</td>\n",
       "      <td>[credit_card, voucher]</td>\n",
       "      <td>2</td>\n",
       "      <td>[voucher, credit_card]</td>\n",
       "    </tr>\n",
       "    <tr>\n",
       "      <th>99372</th>\n",
       "      <td>ffd462fb4bb62e66fc3a73a24fa6a0d8</td>\n",
       "      <td>[credit_card, voucher]</td>\n",
       "      <td>2</td>\n",
       "      <td>[credit_card, voucher]</td>\n",
       "    </tr>\n",
       "    <tr>\n",
       "      <th>99385</th>\n",
       "      <td>ffdf0dbf11db4b0a438031f67bef2180</td>\n",
       "      <td>voucher</td>\n",
       "      <td>3</td>\n",
       "      <td>[voucher]</td>\n",
       "    </tr>\n",
       "    <tr>\n",
       "      <th>99421</th>\n",
       "      <td>fff4c42bf70f0d9a4525c340192c8364</td>\n",
       "      <td>[credit_card, voucher]</td>\n",
       "      <td>2</td>\n",
       "      <td>[credit_card, voucher]</td>\n",
       "    </tr>\n",
       "  </tbody>\n",
       "</table>\n",
       "<p>2961 rows × 4 columns</p>\n",
       "</div>"
      ],
      "text/plain": [
       "                             booking_id          payment_type_mode  \\\n",
       "44     002126e75f86b0f87332e4a079628ac8  [credit_card, debit_card]   \n",
       "47     0022bb703d781966370133ed7a53dfb5     [credit_card, voucher]   \n",
       "61     002c099c87029b0362e5c0c993de8241     [credit_card, voucher]   \n",
       "69     003580be0b34472acce62033e70b1305                    voucher   \n",
       "75     003ab580410022f433959505aeccc35d     [credit_card, voucher]   \n",
       "...                                 ...                        ...   \n",
       "99278  ff96bdc46566472362da2e0d50459e4b     [credit_card, voucher]   \n",
       "99354  ffc5a0a705f006f9b2db1b959a7ff272     [credit_card, voucher]   \n",
       "99372  ffd462fb4bb62e66fc3a73a24fa6a0d8     [credit_card, voucher]   \n",
       "99385  ffdf0dbf11db4b0a438031f67bef2180                    voucher   \n",
       "99421  fff4c42bf70f0d9a4525c340192c8364     [credit_card, voucher]   \n",
       "\n",
       "       payment_type_count        payment_type_unique  \n",
       "44                      2  [credit_card, debit_card]  \n",
       "47                      2     [voucher, credit_card]  \n",
       "61                      2     [voucher, credit_card]  \n",
       "69                      4     [voucher, credit_card]  \n",
       "75                      2     [credit_card, voucher]  \n",
       "...                   ...                        ...  \n",
       "99278                   2     [voucher, credit_card]  \n",
       "99354                   2     [voucher, credit_card]  \n",
       "99372                   2     [credit_card, voucher]  \n",
       "99385                   3                  [voucher]  \n",
       "99421                   2     [credit_card, voucher]  \n",
       "\n",
       "[2961 rows x 4 columns]"
      ]
     },
     "execution_count": 55,
     "metadata": {},
     "output_type": "execute_result"
    }
   ],
   "source": [
    "gg = payments_data_unqiue_for_each_id_1.loc[payments_data_unqiue_for_each_id_1['payment_type_count'] != 1]\n",
    "gg"
   ]
  },
  {
   "cell_type": "code",
   "execution_count": 56,
   "id": "55ca3990",
   "metadata": {
    "execution": {
     "iopub.execute_input": "2022-11-26T11:19:09.506626Z",
     "iopub.status.busy": "2022-11-26T11:19:09.505830Z",
     "iopub.status.idle": "2022-11-26T11:19:09.531100Z",
     "shell.execute_reply": "2022-11-26T11:19:09.529862Z"
    },
    "papermill": {
     "duration": 0.06307,
     "end_time": "2022-11-26T11:19:09.533565",
     "exception": false,
     "start_time": "2022-11-26T11:19:09.470495",
     "status": "completed"
    },
    "tags": []
   },
   "outputs": [
    {
     "data": {
      "text/html": [
       "<div>\n",
       "<style scoped>\n",
       "    .dataframe tbody tr th:only-of-type {\n",
       "        vertical-align: middle;\n",
       "    }\n",
       "\n",
       "    .dataframe tbody tr th {\n",
       "        vertical-align: top;\n",
       "    }\n",
       "\n",
       "    .dataframe thead th {\n",
       "        text-align: right;\n",
       "    }\n",
       "</style>\n",
       "<table border=\"1\" class=\"dataframe\">\n",
       "  <thead>\n",
       "    <tr style=\"text-align: right;\">\n",
       "      <th></th>\n",
       "      <th>booking_id</th>\n",
       "      <th>payment_type_mode</th>\n",
       "      <th>payment_type_count</th>\n",
       "      <th>payment_type_unique</th>\n",
       "    </tr>\n",
       "  </thead>\n",
       "  <tbody>\n",
       "    <tr>\n",
       "      <th>44</th>\n",
       "      <td>002126e75f86b0f87332e4a079628ac8</td>\n",
       "      <td>[credit_card, debit_card]</td>\n",
       "      <td>2</td>\n",
       "      <td>[credit_card, debit_card]</td>\n",
       "    </tr>\n",
       "    <tr>\n",
       "      <th>47</th>\n",
       "      <td>0022bb703d781966370133ed7a53dfb5</td>\n",
       "      <td>[credit_card, voucher]</td>\n",
       "      <td>2</td>\n",
       "      <td>[voucher, credit_card]</td>\n",
       "    </tr>\n",
       "    <tr>\n",
       "      <th>61</th>\n",
       "      <td>002c099c87029b0362e5c0c993de8241</td>\n",
       "      <td>[credit_card, voucher]</td>\n",
       "      <td>2</td>\n",
       "      <td>[voucher, credit_card]</td>\n",
       "    </tr>\n",
       "    <tr>\n",
       "      <th>75</th>\n",
       "      <td>003ab580410022f433959505aeccc35d</td>\n",
       "      <td>[credit_card, voucher]</td>\n",
       "      <td>2</td>\n",
       "      <td>[credit_card, voucher]</td>\n",
       "    </tr>\n",
       "    <tr>\n",
       "      <th>139</th>\n",
       "      <td>006686710c6a29df356227de9611e75b</td>\n",
       "      <td>[credit_card, voucher]</td>\n",
       "      <td>2</td>\n",
       "      <td>[credit_card, voucher]</td>\n",
       "    </tr>\n",
       "    <tr>\n",
       "      <th>...</th>\n",
       "      <td>...</td>\n",
       "      <td>...</td>\n",
       "      <td>...</td>\n",
       "      <td>...</td>\n",
       "    </tr>\n",
       "    <tr>\n",
       "      <th>99266</th>\n",
       "      <td>ff8b9c8c049a351e55c4c9fc31abeaa3</td>\n",
       "      <td>voucher</td>\n",
       "      <td>2</td>\n",
       "      <td>[voucher]</td>\n",
       "    </tr>\n",
       "    <tr>\n",
       "      <th>99278</th>\n",
       "      <td>ff96bdc46566472362da2e0d50459e4b</td>\n",
       "      <td>[credit_card, voucher]</td>\n",
       "      <td>2</td>\n",
       "      <td>[voucher, credit_card]</td>\n",
       "    </tr>\n",
       "    <tr>\n",
       "      <th>99354</th>\n",
       "      <td>ffc5a0a705f006f9b2db1b959a7ff272</td>\n",
       "      <td>[credit_card, voucher]</td>\n",
       "      <td>2</td>\n",
       "      <td>[voucher, credit_card]</td>\n",
       "    </tr>\n",
       "    <tr>\n",
       "      <th>99372</th>\n",
       "      <td>ffd462fb4bb62e66fc3a73a24fa6a0d8</td>\n",
       "      <td>[credit_card, voucher]</td>\n",
       "      <td>2</td>\n",
       "      <td>[credit_card, voucher]</td>\n",
       "    </tr>\n",
       "    <tr>\n",
       "      <th>99421</th>\n",
       "      <td>fff4c42bf70f0d9a4525c340192c8364</td>\n",
       "      <td>[credit_card, voucher]</td>\n",
       "      <td>2</td>\n",
       "      <td>[credit_card, voucher]</td>\n",
       "    </tr>\n",
       "  </tbody>\n",
       "</table>\n",
       "<p>2382 rows × 4 columns</p>\n",
       "</div>"
      ],
      "text/plain": [
       "                             booking_id          payment_type_mode  \\\n",
       "44     002126e75f86b0f87332e4a079628ac8  [credit_card, debit_card]   \n",
       "47     0022bb703d781966370133ed7a53dfb5     [credit_card, voucher]   \n",
       "61     002c099c87029b0362e5c0c993de8241     [credit_card, voucher]   \n",
       "75     003ab580410022f433959505aeccc35d     [credit_card, voucher]   \n",
       "139    006686710c6a29df356227de9611e75b     [credit_card, voucher]   \n",
       "...                                 ...                        ...   \n",
       "99266  ff8b9c8c049a351e55c4c9fc31abeaa3                    voucher   \n",
       "99278  ff96bdc46566472362da2e0d50459e4b     [credit_card, voucher]   \n",
       "99354  ffc5a0a705f006f9b2db1b959a7ff272     [credit_card, voucher]   \n",
       "99372  ffd462fb4bb62e66fc3a73a24fa6a0d8     [credit_card, voucher]   \n",
       "99421  fff4c42bf70f0d9a4525c340192c8364     [credit_card, voucher]   \n",
       "\n",
       "       payment_type_count        payment_type_unique  \n",
       "44                      2  [credit_card, debit_card]  \n",
       "47                      2     [voucher, credit_card]  \n",
       "61                      2     [voucher, credit_card]  \n",
       "75                      2     [credit_card, voucher]  \n",
       "139                     2     [credit_card, voucher]  \n",
       "...                   ...                        ...  \n",
       "99266                   2                  [voucher]  \n",
       "99278                   2     [voucher, credit_card]  \n",
       "99354                   2     [voucher, credit_card]  \n",
       "99372                   2     [credit_card, voucher]  \n",
       "99421                   2     [credit_card, voucher]  \n",
       "\n",
       "[2382 rows x 4 columns]"
      ]
     },
     "execution_count": 56,
     "metadata": {},
     "output_type": "execute_result"
    }
   ],
   "source": [
    "gg.loc[gg['payment_type_count'] == 2]"
   ]
  },
  {
   "cell_type": "code",
   "execution_count": 57,
   "id": "a64153f2",
   "metadata": {
    "execution": {
     "iopub.execute_input": "2022-11-26T11:19:09.603360Z",
     "iopub.status.busy": "2022-11-26T11:19:09.602566Z",
     "iopub.status.idle": "2022-11-26T11:19:09.614234Z",
     "shell.execute_reply": "2022-11-26T11:19:09.612662Z"
    },
    "papermill": {
     "duration": 0.05037,
     "end_time": "2022-11-26T11:19:09.617173",
     "exception": false,
     "start_time": "2022-11-26T11:19:09.566803",
     "status": "completed"
    },
    "tags": []
   },
   "outputs": [
    {
     "data": {
      "text/plain": [
       "voucher        298\n",
       "credit_card      3\n",
       "Name: payment_type_mode, dtype: int64"
      ]
     },
     "execution_count": 57,
     "metadata": {},
     "output_type": "execute_result"
    }
   ],
   "source": [
    "gg.loc[gg['payment_type_count'] == 3]['payment_type_mode'].value_counts()"
   ]
  },
  {
   "cell_type": "code",
   "execution_count": 58,
   "id": "9184cc7e",
   "metadata": {
    "execution": {
     "iopub.execute_input": "2022-11-26T11:19:09.688114Z",
     "iopub.status.busy": "2022-11-26T11:19:09.687725Z",
     "iopub.status.idle": "2022-11-26T11:19:09.698151Z",
     "shell.execute_reply": "2022-11-26T11:19:09.696748Z"
    },
    "papermill": {
     "duration": 0.048945,
     "end_time": "2022-11-26T11:19:09.701053",
     "exception": false,
     "start_time": "2022-11-26T11:19:09.652108",
     "status": "completed"
    },
    "tags": []
   },
   "outputs": [
    {
     "data": {
      "text/plain": [
       "voucher    108\n",
       "Name: payment_type_mode, dtype: int64"
      ]
     },
     "execution_count": 58,
     "metadata": {},
     "output_type": "execute_result"
    }
   ],
   "source": [
    "gg.loc[gg['payment_type_count'] == 4]['payment_type_mode'].value_counts()"
   ]
  },
  {
   "cell_type": "code",
   "execution_count": 59,
   "id": "f00638fe",
   "metadata": {
    "execution": {
     "iopub.execute_input": "2022-11-26T11:19:09.770812Z",
     "iopub.status.busy": "2022-11-26T11:19:09.770071Z",
     "iopub.status.idle": "2022-11-26T11:19:09.781964Z",
     "shell.execute_reply": "2022-11-26T11:19:09.780386Z"
    },
    "papermill": {
     "duration": 0.049494,
     "end_time": "2022-11-26T11:19:09.784570",
     "exception": false,
     "start_time": "2022-11-26T11:19:09.735076",
     "status": "completed"
    },
    "tags": []
   },
   "outputs": [
    {
     "data": {
      "text/plain": [
       "voucher    170\n",
       "Name: payment_type_mode, dtype: int64"
      ]
     },
     "execution_count": 59,
     "metadata": {},
     "output_type": "execute_result"
    }
   ],
   "source": [
    "gg.loc[gg['payment_type_count'] >= 5]['payment_type_mode'].value_counts()"
   ]
  },
  {
   "cell_type": "markdown",
   "id": "f1999b7b",
   "metadata": {
    "papermill": {
     "duration": 0.033037,
     "end_time": "2022-11-26T11:19:09.851607",
     "exception": false,
     "start_time": "2022-11-26T11:19:09.818570",
     "status": "completed"
    },
    "tags": []
   },
   "source": [
    "### **awesome** So whenever payment tyoe count is more than say 2, sab vouchers use huye hai"
   ]
  },
  {
   "cell_type": "code",
   "execution_count": 60,
   "id": "341a725a",
   "metadata": {
    "execution": {
     "iopub.execute_input": "2022-11-26T11:19:09.920683Z",
     "iopub.status.busy": "2022-11-26T11:19:09.920217Z",
     "iopub.status.idle": "2022-11-26T11:19:29.098956Z",
     "shell.execute_reply": "2022-11-26T11:19:29.097732Z"
    },
    "papermill": {
     "duration": 19.21618,
     "end_time": "2022-11-26T11:19:29.101395",
     "exception": false,
     "start_time": "2022-11-26T11:19:09.885215",
     "status": "completed"
    },
    "tags": []
   },
   "outputs": [
    {
     "data": {
      "text/html": [
       "<div>\n",
       "<style scoped>\n",
       "    .dataframe tbody tr th:only-of-type {\n",
       "        vertical-align: middle;\n",
       "    }\n",
       "\n",
       "    .dataframe tbody tr th {\n",
       "        vertical-align: top;\n",
       "    }\n",
       "\n",
       "    .dataframe thead th {\n",
       "        text-align: right;\n",
       "    }\n",
       "</style>\n",
       "<table border=\"1\" class=\"dataframe\">\n",
       "  <thead>\n",
       "    <tr style=\"text-align: right;\">\n",
       "      <th></th>\n",
       "      <th>booking_id</th>\n",
       "      <th>payment_sequential_min</th>\n",
       "      <th>payment_sequential_max</th>\n",
       "      <th>payment_sequential_mean</th>\n",
       "      <th>payment_sequential_count</th>\n",
       "      <th>payment_sequential_sum</th>\n",
       "      <th>payment_installments_min</th>\n",
       "      <th>payment_installments_max</th>\n",
       "      <th>payment_installments_mean</th>\n",
       "      <th>payment_installments_count</th>\n",
       "      <th>payment_installments_sum</th>\n",
       "      <th>payment_value_min</th>\n",
       "      <th>payment_value_max</th>\n",
       "      <th>payment_value_mean</th>\n",
       "      <th>payment_value_count</th>\n",
       "      <th>payment_value_sum</th>\n",
       "    </tr>\n",
       "  </thead>\n",
       "  <tbody>\n",
       "    <tr>\n",
       "      <th>0</th>\n",
       "      <td>00020b5bc201756cad655783aa166514</td>\n",
       "      <td>1</td>\n",
       "      <td>1</td>\n",
       "      <td>1.0</td>\n",
       "      <td>1</td>\n",
       "      <td>1</td>\n",
       "      <td>1</td>\n",
       "      <td>1</td>\n",
       "      <td>1.0</td>\n",
       "      <td>1</td>\n",
       "      <td>1</td>\n",
       "      <td>65.09</td>\n",
       "      <td>65.09</td>\n",
       "      <td>65.09</td>\n",
       "      <td>1</td>\n",
       "      <td>65.09</td>\n",
       "    </tr>\n",
       "    <tr>\n",
       "      <th>1</th>\n",
       "      <td>00025a261e572c2a9fc158e005414df7</td>\n",
       "      <td>1</td>\n",
       "      <td>1</td>\n",
       "      <td>1.0</td>\n",
       "      <td>1</td>\n",
       "      <td>1</td>\n",
       "      <td>2</td>\n",
       "      <td>2</td>\n",
       "      <td>2.0</td>\n",
       "      <td>1</td>\n",
       "      <td>2</td>\n",
       "      <td>191.58</td>\n",
       "      <td>191.58</td>\n",
       "      <td>191.58</td>\n",
       "      <td>1</td>\n",
       "      <td>191.58</td>\n",
       "    </tr>\n",
       "    <tr>\n",
       "      <th>2</th>\n",
       "      <td>00035456e8e57cbcf89cdf7268c63976</td>\n",
       "      <td>1</td>\n",
       "      <td>1</td>\n",
       "      <td>1.0</td>\n",
       "      <td>1</td>\n",
       "      <td>1</td>\n",
       "      <td>5</td>\n",
       "      <td>5</td>\n",
       "      <td>5.0</td>\n",
       "      <td>1</td>\n",
       "      <td>5</td>\n",
       "      <td>55.22</td>\n",
       "      <td>55.22</td>\n",
       "      <td>55.22</td>\n",
       "      <td>1</td>\n",
       "      <td>55.22</td>\n",
       "    </tr>\n",
       "    <tr>\n",
       "      <th>3</th>\n",
       "      <td>00045d86380d5b014642fbc4994b99a0</td>\n",
       "      <td>1</td>\n",
       "      <td>1</td>\n",
       "      <td>1.0</td>\n",
       "      <td>1</td>\n",
       "      <td>1</td>\n",
       "      <td>8</td>\n",
       "      <td>8</td>\n",
       "      <td>8.0</td>\n",
       "      <td>1</td>\n",
       "      <td>8</td>\n",
       "      <td>296.20</td>\n",
       "      <td>296.20</td>\n",
       "      <td>296.20</td>\n",
       "      <td>1</td>\n",
       "      <td>296.20</td>\n",
       "    </tr>\n",
       "    <tr>\n",
       "      <th>4</th>\n",
       "      <td>0004ed7b4b20bb24c1eeb5871a6f9a16</td>\n",
       "      <td>1</td>\n",
       "      <td>1</td>\n",
       "      <td>1.0</td>\n",
       "      <td>1</td>\n",
       "      <td>1</td>\n",
       "      <td>1</td>\n",
       "      <td>1</td>\n",
       "      <td>1.0</td>\n",
       "      <td>1</td>\n",
       "      <td>1</td>\n",
       "      <td>112.09</td>\n",
       "      <td>112.09</td>\n",
       "      <td>112.09</td>\n",
       "      <td>1</td>\n",
       "      <td>112.09</td>\n",
       "    </tr>\n",
       "  </tbody>\n",
       "</table>\n",
       "</div>"
      ],
      "text/plain": [
       "                         booking_id  payment_sequential_min  \\\n",
       "0  00020b5bc201756cad655783aa166514                       1   \n",
       "1  00025a261e572c2a9fc158e005414df7                       1   \n",
       "2  00035456e8e57cbcf89cdf7268c63976                       1   \n",
       "3  00045d86380d5b014642fbc4994b99a0                       1   \n",
       "4  0004ed7b4b20bb24c1eeb5871a6f9a16                       1   \n",
       "\n",
       "   payment_sequential_max  payment_sequential_mean  payment_sequential_count  \\\n",
       "0                       1                      1.0                         1   \n",
       "1                       1                      1.0                         1   \n",
       "2                       1                      1.0                         1   \n",
       "3                       1                      1.0                         1   \n",
       "4                       1                      1.0                         1   \n",
       "\n",
       "   payment_sequential_sum  payment_installments_min  payment_installments_max  \\\n",
       "0                       1                         1                         1   \n",
       "1                       1                         2                         2   \n",
       "2                       1                         5                         5   \n",
       "3                       1                         8                         8   \n",
       "4                       1                         1                         1   \n",
       "\n",
       "   payment_installments_mean  payment_installments_count  \\\n",
       "0                        1.0                           1   \n",
       "1                        2.0                           1   \n",
       "2                        5.0                           1   \n",
       "3                        8.0                           1   \n",
       "4                        1.0                           1   \n",
       "\n",
       "   payment_installments_sum  payment_value_min  payment_value_max  \\\n",
       "0                         1              65.09              65.09   \n",
       "1                         2             191.58             191.58   \n",
       "2                         5              55.22              55.22   \n",
       "3                         8             296.20             296.20   \n",
       "4                         1             112.09             112.09   \n",
       "\n",
       "   payment_value_mean  payment_value_count  payment_value_sum  \n",
       "0               65.09                    1              65.09  \n",
       "1              191.58                    1             191.58  \n",
       "2               55.22                    1              55.22  \n",
       "3              296.20                    1             296.20  \n",
       "4              112.09                    1             112.09  "
      ]
     },
     "execution_count": 60,
     "metadata": {},
     "output_type": "execute_result"
    }
   ],
   "source": [
    "payments_data_unqiue_for_each_id_2 = payments_data.groupby(by = 'booking_id')[[ 'payment_sequential', 'payment_installments', \n",
    "                                                                             'payment_value']].agg(['min', 'max', # pd.Series.mode \n",
    "                                                                                                    pd.Series.mean, 'count','sum'\n",
    "                                                                                                   ])\n",
    "payments_data_unqiue_for_each_id_2.set_axis(payments_data_unqiue_for_each_id_2.columns.map('_'.join), axis=1, inplace=True)\n",
    "payments_data_unqiue_for_each_id_2.reset_index(inplace=True)\n",
    "payments_data_unqiue_for_each_id_2.head()"
   ]
  },
  {
   "cell_type": "code",
   "execution_count": 61,
   "id": "020b20ba",
   "metadata": {
    "execution": {
     "iopub.execute_input": "2022-11-26T11:19:29.171969Z",
     "iopub.status.busy": "2022-11-26T11:19:29.171197Z",
     "iopub.status.idle": "2022-11-26T11:19:29.178425Z",
     "shell.execute_reply": "2022-11-26T11:19:29.177121Z"
    },
    "papermill": {
     "duration": 0.045222,
     "end_time": "2022-11-26T11:19:29.181004",
     "exception": false,
     "start_time": "2022-11-26T11:19:29.135782",
     "status": "completed"
    },
    "tags": []
   },
   "outputs": [
    {
     "data": {
      "text/plain": [
       "(99440, 16)"
      ]
     },
     "execution_count": 61,
     "metadata": {},
     "output_type": "execute_result"
    }
   ],
   "source": [
    "payments_data_unqiue_for_each_id_2.shape"
   ]
  },
  {
   "cell_type": "code",
   "execution_count": 62,
   "id": "bffaaa7c",
   "metadata": {
    "execution": {
     "iopub.execute_input": "2022-11-26T11:19:29.252045Z",
     "iopub.status.busy": "2022-11-26T11:19:29.251598Z",
     "iopub.status.idle": "2022-11-26T11:19:29.259492Z",
     "shell.execute_reply": "2022-11-26T11:19:29.258711Z"
    },
    "papermill": {
     "duration": 0.046051,
     "end_time": "2022-11-26T11:19:29.261749",
     "exception": false,
     "start_time": "2022-11-26T11:19:29.215698",
     "status": "completed"
    },
    "tags": []
   },
   "outputs": [
    {
     "data": {
      "text/plain": [
       "96492"
      ]
     },
     "execution_count": 62,
     "metadata": {},
     "output_type": "execute_result"
    }
   ],
   "source": [
    "(payments_data_unqiue_for_each_id_2['payment_value_min'] == payments_data_unqiue_for_each_id_2['payment_value_max']).sum()"
   ]
  },
  {
   "cell_type": "markdown",
   "id": "7d04c43a",
   "metadata": {
    "papermill": {
     "duration": 0.03466,
     "end_time": "2022-11-26T11:19:29.331062",
     "exception": false,
     "start_time": "2022-11-26T11:19:29.296402",
     "status": "completed"
    },
    "tags": []
   },
   "source": [
    "**matlab ki jitne total rows hai, sab me hi min value equal to max value nahi hua hai. MAtlab ye groupby ne sahi kaaam kiya hai :)** "
   ]
  },
  {
   "cell_type": "markdown",
   "id": "9b056908",
   "metadata": {
    "papermill": {
     "duration": 0.033686,
     "end_time": "2022-11-26T11:19:29.398967",
     "exception": false,
     "start_time": "2022-11-26T11:19:29.365281",
     "status": "completed"
    },
    "tags": []
   },
   "source": [
    "**merge both into one**"
   ]
  },
  {
   "cell_type": "code",
   "execution_count": 63,
   "id": "e5945a86",
   "metadata": {
    "execution": {
     "iopub.execute_input": "2022-11-26T11:19:29.469162Z",
     "iopub.status.busy": "2022-11-26T11:19:29.468580Z",
     "iopub.status.idle": "2022-11-26T11:19:29.633468Z",
     "shell.execute_reply": "2022-11-26T11:19:29.632336Z"
    },
    "papermill": {
     "duration": 0.202863,
     "end_time": "2022-11-26T11:19:29.635977",
     "exception": false,
     "start_time": "2022-11-26T11:19:29.433114",
     "status": "completed"
    },
    "tags": []
   },
   "outputs": [
    {
     "data": {
      "text/html": [
       "<div>\n",
       "<style scoped>\n",
       "    .dataframe tbody tr th:only-of-type {\n",
       "        vertical-align: middle;\n",
       "    }\n",
       "\n",
       "    .dataframe tbody tr th {\n",
       "        vertical-align: top;\n",
       "    }\n",
       "\n",
       "    .dataframe thead th {\n",
       "        text-align: right;\n",
       "    }\n",
       "</style>\n",
       "<table border=\"1\" class=\"dataframe\">\n",
       "  <thead>\n",
       "    <tr style=\"text-align: right;\">\n",
       "      <th></th>\n",
       "      <th>booking_id</th>\n",
       "      <th>payment_type_mode</th>\n",
       "      <th>payment_type_count</th>\n",
       "      <th>payment_type_unique</th>\n",
       "      <th>payment_sequential_min</th>\n",
       "      <th>payment_sequential_max</th>\n",
       "      <th>payment_sequential_mean</th>\n",
       "      <th>payment_sequential_count</th>\n",
       "      <th>payment_sequential_sum</th>\n",
       "      <th>payment_installments_min</th>\n",
       "      <th>payment_installments_max</th>\n",
       "      <th>payment_installments_mean</th>\n",
       "      <th>payment_installments_count</th>\n",
       "      <th>payment_installments_sum</th>\n",
       "      <th>payment_value_min</th>\n",
       "      <th>payment_value_max</th>\n",
       "      <th>payment_value_mean</th>\n",
       "      <th>payment_value_count</th>\n",
       "      <th>payment_value_sum</th>\n",
       "    </tr>\n",
       "  </thead>\n",
       "  <tbody>\n",
       "    <tr>\n",
       "      <th>0</th>\n",
       "      <td>00020b5bc201756cad655783aa166514</td>\n",
       "      <td>credit_card</td>\n",
       "      <td>1</td>\n",
       "      <td>[credit_card]</td>\n",
       "      <td>1</td>\n",
       "      <td>1</td>\n",
       "      <td>1.0</td>\n",
       "      <td>1</td>\n",
       "      <td>1</td>\n",
       "      <td>1</td>\n",
       "      <td>1</td>\n",
       "      <td>1.0</td>\n",
       "      <td>1</td>\n",
       "      <td>1</td>\n",
       "      <td>65.09</td>\n",
       "      <td>65.09</td>\n",
       "      <td>65.09</td>\n",
       "      <td>1</td>\n",
       "      <td>65.09</td>\n",
       "    </tr>\n",
       "    <tr>\n",
       "      <th>1</th>\n",
       "      <td>00025a261e572c2a9fc158e005414df7</td>\n",
       "      <td>credit_card</td>\n",
       "      <td>1</td>\n",
       "      <td>[credit_card]</td>\n",
       "      <td>1</td>\n",
       "      <td>1</td>\n",
       "      <td>1.0</td>\n",
       "      <td>1</td>\n",
       "      <td>1</td>\n",
       "      <td>2</td>\n",
       "      <td>2</td>\n",
       "      <td>2.0</td>\n",
       "      <td>1</td>\n",
       "      <td>2</td>\n",
       "      <td>191.58</td>\n",
       "      <td>191.58</td>\n",
       "      <td>191.58</td>\n",
       "      <td>1</td>\n",
       "      <td>191.58</td>\n",
       "    </tr>\n",
       "    <tr>\n",
       "      <th>2</th>\n",
       "      <td>00035456e8e57cbcf89cdf7268c63976</td>\n",
       "      <td>credit_card</td>\n",
       "      <td>1</td>\n",
       "      <td>[credit_card]</td>\n",
       "      <td>1</td>\n",
       "      <td>1</td>\n",
       "      <td>1.0</td>\n",
       "      <td>1</td>\n",
       "      <td>1</td>\n",
       "      <td>5</td>\n",
       "      <td>5</td>\n",
       "      <td>5.0</td>\n",
       "      <td>1</td>\n",
       "      <td>5</td>\n",
       "      <td>55.22</td>\n",
       "      <td>55.22</td>\n",
       "      <td>55.22</td>\n",
       "      <td>1</td>\n",
       "      <td>55.22</td>\n",
       "    </tr>\n",
       "    <tr>\n",
       "      <th>3</th>\n",
       "      <td>00045d86380d5b014642fbc4994b99a0</td>\n",
       "      <td>credit_card</td>\n",
       "      <td>1</td>\n",
       "      <td>[credit_card]</td>\n",
       "      <td>1</td>\n",
       "      <td>1</td>\n",
       "      <td>1.0</td>\n",
       "      <td>1</td>\n",
       "      <td>1</td>\n",
       "      <td>8</td>\n",
       "      <td>8</td>\n",
       "      <td>8.0</td>\n",
       "      <td>1</td>\n",
       "      <td>8</td>\n",
       "      <td>296.20</td>\n",
       "      <td>296.20</td>\n",
       "      <td>296.20</td>\n",
       "      <td>1</td>\n",
       "      <td>296.20</td>\n",
       "    </tr>\n",
       "    <tr>\n",
       "      <th>4</th>\n",
       "      <td>0004ed7b4b20bb24c1eeb5871a6f9a16</td>\n",
       "      <td>credit_card</td>\n",
       "      <td>1</td>\n",
       "      <td>[credit_card]</td>\n",
       "      <td>1</td>\n",
       "      <td>1</td>\n",
       "      <td>1.0</td>\n",
       "      <td>1</td>\n",
       "      <td>1</td>\n",
       "      <td>1</td>\n",
       "      <td>1</td>\n",
       "      <td>1.0</td>\n",
       "      <td>1</td>\n",
       "      <td>1</td>\n",
       "      <td>112.09</td>\n",
       "      <td>112.09</td>\n",
       "      <td>112.09</td>\n",
       "      <td>1</td>\n",
       "      <td>112.09</td>\n",
       "    </tr>\n",
       "  </tbody>\n",
       "</table>\n",
       "</div>"
      ],
      "text/plain": [
       "                         booking_id payment_type_mode  payment_type_count  \\\n",
       "0  00020b5bc201756cad655783aa166514       credit_card                   1   \n",
       "1  00025a261e572c2a9fc158e005414df7       credit_card                   1   \n",
       "2  00035456e8e57cbcf89cdf7268c63976       credit_card                   1   \n",
       "3  00045d86380d5b014642fbc4994b99a0       credit_card                   1   \n",
       "4  0004ed7b4b20bb24c1eeb5871a6f9a16       credit_card                   1   \n",
       "\n",
       "  payment_type_unique  payment_sequential_min  payment_sequential_max  \\\n",
       "0       [credit_card]                       1                       1   \n",
       "1       [credit_card]                       1                       1   \n",
       "2       [credit_card]                       1                       1   \n",
       "3       [credit_card]                       1                       1   \n",
       "4       [credit_card]                       1                       1   \n",
       "\n",
       "   payment_sequential_mean  payment_sequential_count  payment_sequential_sum  \\\n",
       "0                      1.0                         1                       1   \n",
       "1                      1.0                         1                       1   \n",
       "2                      1.0                         1                       1   \n",
       "3                      1.0                         1                       1   \n",
       "4                      1.0                         1                       1   \n",
       "\n",
       "   payment_installments_min  payment_installments_max  \\\n",
       "0                         1                         1   \n",
       "1                         2                         2   \n",
       "2                         5                         5   \n",
       "3                         8                         8   \n",
       "4                         1                         1   \n",
       "\n",
       "   payment_installments_mean  payment_installments_count  \\\n",
       "0                        1.0                           1   \n",
       "1                        2.0                           1   \n",
       "2                        5.0                           1   \n",
       "3                        8.0                           1   \n",
       "4                        1.0                           1   \n",
       "\n",
       "   payment_installments_sum  payment_value_min  payment_value_max  \\\n",
       "0                         1              65.09              65.09   \n",
       "1                         2             191.58             191.58   \n",
       "2                         5              55.22              55.22   \n",
       "3                         8             296.20             296.20   \n",
       "4                         1             112.09             112.09   \n",
       "\n",
       "   payment_value_mean  payment_value_count  payment_value_sum  \n",
       "0               65.09                    1              65.09  \n",
       "1              191.58                    1             191.58  \n",
       "2               55.22                    1              55.22  \n",
       "3              296.20                    1             296.20  \n",
       "4              112.09                    1             112.09  "
      ]
     },
     "execution_count": 63,
     "metadata": {},
     "output_type": "execute_result"
    }
   ],
   "source": [
    "payments_data_unqiue_for_each_id = pd.merge(payments_data_unqiue_for_each_id_1, payments_data_unqiue_for_each_id_2, on = 'booking_id', how = 'left')\n",
    "payments_data_unqiue_for_each_id.head()"
   ]
  },
  {
   "cell_type": "code",
   "execution_count": 64,
   "id": "8181222a",
   "metadata": {
    "execution": {
     "iopub.execute_input": "2022-11-26T11:19:29.706514Z",
     "iopub.status.busy": "2022-11-26T11:19:29.706070Z",
     "iopub.status.idle": "2022-11-26T11:19:29.712321Z",
     "shell.execute_reply": "2022-11-26T11:19:29.711466Z"
    },
    "papermill": {
     "duration": 0.04436,
     "end_time": "2022-11-26T11:19:29.714602",
     "exception": false,
     "start_time": "2022-11-26T11:19:29.670242",
     "status": "completed"
    },
    "tags": []
   },
   "outputs": [
    {
     "data": {
      "text/plain": [
       "(99440, 19)"
      ]
     },
     "execution_count": 64,
     "metadata": {},
     "output_type": "execute_result"
    }
   ],
   "source": [
    "payments_data_unqiue_for_each_id.shape"
   ]
  },
  {
   "cell_type": "code",
   "execution_count": 65,
   "id": "f2f63ea3",
   "metadata": {
    "execution": {
     "iopub.execute_input": "2022-11-26T11:19:29.785906Z",
     "iopub.status.busy": "2022-11-26T11:19:29.785116Z",
     "iopub.status.idle": "2022-11-26T11:19:29.789312Z",
     "shell.execute_reply": "2022-11-26T11:19:29.788472Z"
    },
    "papermill": {
     "duration": 0.042676,
     "end_time": "2022-11-26T11:19:29.791570",
     "exception": false,
     "start_time": "2022-11-26T11:19:29.748894",
     "status": "completed"
    },
    "tags": []
   },
   "outputs": [],
   "source": [
    "# payments_data['payment_sequential'].value_counts()"
   ]
  },
  {
   "cell_type": "markdown",
   "id": "0a2b6138",
   "metadata": {
    "papermill": {
     "duration": 0.033796,
     "end_time": "2022-11-26T11:19:29.859640",
     "exception": false,
     "start_time": "2022-11-26T11:19:29.825844",
     "status": "completed"
    },
    "tags": []
   },
   "source": [
    "**for those booking ids which are repeated, we can take either '1' or the most frequently occuring values**"
   ]
  },
  {
   "cell_type": "code",
   "execution_count": 66,
   "id": "f9ea7e35",
   "metadata": {
    "execution": {
     "iopub.execute_input": "2022-11-26T11:19:29.930913Z",
     "iopub.status.busy": "2022-11-26T11:19:29.930098Z",
     "iopub.status.idle": "2022-11-26T11:19:29.935055Z",
     "shell.execute_reply": "2022-11-26T11:19:29.933905Z"
    },
    "papermill": {
     "duration": 0.043426,
     "end_time": "2022-11-26T11:19:29.937775",
     "exception": false,
     "start_time": "2022-11-26T11:19:29.894349",
     "status": "completed"
    },
    "tags": []
   },
   "outputs": [],
   "source": [
    "# payments_data['payment_type'].value_counts()"
   ]
  },
  {
   "cell_type": "markdown",
   "id": "83bfa38a",
   "metadata": {
    "papermill": {
     "duration": 0.033713,
     "end_time": "2022-11-26T11:19:30.006339",
     "exception": false,
     "start_time": "2022-11-26T11:19:29.972626",
     "status": "completed"
    },
    "tags": []
   },
   "source": [
    "**similarly here also take most frequent value**"
   ]
  },
  {
   "cell_type": "code",
   "execution_count": 67,
   "id": "30354627",
   "metadata": {
    "execution": {
     "iopub.execute_input": "2022-11-26T11:19:30.078404Z",
     "iopub.status.busy": "2022-11-26T11:19:30.077968Z",
     "iopub.status.idle": "2022-11-26T11:19:30.083039Z",
     "shell.execute_reply": "2022-11-26T11:19:30.081717Z"
    },
    "papermill": {
     "duration": 0.044423,
     "end_time": "2022-11-26T11:19:30.085723",
     "exception": false,
     "start_time": "2022-11-26T11:19:30.041300",
     "status": "completed"
    },
    "tags": []
   },
   "outputs": [],
   "source": [
    "# payments_data['payment_installments'].value_counts()"
   ]
  },
  {
   "cell_type": "code",
   "execution_count": 68,
   "id": "70752300",
   "metadata": {
    "execution": {
     "iopub.execute_input": "2022-11-26T11:19:30.155657Z",
     "iopub.status.busy": "2022-11-26T11:19:30.155231Z",
     "iopub.status.idle": "2022-11-26T11:19:30.461677Z",
     "shell.execute_reply": "2022-11-26T11:19:30.460407Z"
    },
    "papermill": {
     "duration": 0.344691,
     "end_time": "2022-11-26T11:19:30.464494",
     "exception": false,
     "start_time": "2022-11-26T11:19:30.119803",
     "status": "completed"
    },
    "tags": []
   },
   "outputs": [
    {
     "data": {
      "text/plain": [
       "<AxesSubplot:>"
      ]
     },
     "execution_count": 68,
     "metadata": {},
     "output_type": "execute_result"
    },
    {
     "data": {
      "image/png": "[encoded data removed]",
      "text/plain": [
       "<Figure size 432x288 with 1 Axes>"
      ]
     },
     "metadata": {
      "needs_background": "light"
     },
     "output_type": "display_data"
    }
   ],
   "source": [
    "payments_data['payment_value'].hist(bins=10)"
   ]
  },
  {
   "cell_type": "code",
   "execution_count": 69,
   "id": "c75b2483",
   "metadata": {
    "execution": {
     "iopub.execute_input": "2022-11-26T11:19:30.539348Z",
     "iopub.status.busy": "2022-11-26T11:19:30.538899Z",
     "iopub.status.idle": "2022-11-26T11:19:30.765200Z",
     "shell.execute_reply": "2022-11-26T11:19:30.764216Z"
    },
    "papermill": {
     "duration": 0.266518,
     "end_time": "2022-11-26T11:19:30.767705",
     "exception": false,
     "start_time": "2022-11-26T11:19:30.501187",
     "status": "completed"
    },
    "tags": []
   },
   "outputs": [
    {
     "data": {
      "text/plain": [
       "<AxesSubplot:>"
      ]
     },
     "execution_count": 69,
     "metadata": {},
     "output_type": "execute_result"
    },
    {
     "data": {
      "image/png": "[encoded data removed]",
      "text/plain": [
       "<Figure size 432x288 with 1 Axes>"
      ]
     },
     "metadata": {
      "needs_background": "light"
     },
     "output_type": "display_data"
    }
   ],
   "source": [
    "payments_data['payment_value'].plot.box()"
   ]
  },
  {
   "cell_type": "markdown",
   "id": "5a976e52",
   "metadata": {
    "papermill": {
     "duration": 0.034822,
     "end_time": "2022-11-26T11:19:30.838362",
     "exception": false,
     "start_time": "2022-11-26T11:19:30.803540",
     "status": "completed"
    },
    "tags": []
   },
   "source": [
    "**will take mean and median values both, min and max also, because why not**"
   ]
  },
  {
   "cell_type": "markdown",
   "id": "f056a80f",
   "metadata": {
    "papermill": {
     "duration": 0.034685,
     "end_time": "2022-11-26T11:19:30.908158",
     "exception": false,
     "start_time": "2022-11-26T11:19:30.873473",
     "status": "completed"
    },
    "tags": []
   },
   "source": [
    "### Merge payments data with bookings_data_unqiue_for_each_id"
   ]
  },
  {
   "cell_type": "code",
   "execution_count": 70,
   "id": "73f931b0",
   "metadata": {
    "execution": {
     "iopub.execute_input": "2022-11-26T11:19:30.980666Z",
     "iopub.status.busy": "2022-11-26T11:19:30.980214Z",
     "iopub.status.idle": "2022-11-26T11:19:31.351660Z",
     "shell.execute_reply": "2022-11-26T11:19:31.350725Z"
    },
    "papermill": {
     "duration": 0.410947,
     "end_time": "2022-11-26T11:19:31.353971",
     "exception": false,
     "start_time": "2022-11-26T11:19:30.943024",
     "status": "completed"
    },
    "tags": []
   },
   "outputs": [
    {
     "data": {
      "text/html": [
       "<div>\n",
       "<style scoped>\n",
       "    .dataframe tbody tr th:only-of-type {\n",
       "        vertical-align: middle;\n",
       "    }\n",
       "\n",
       "    .dataframe tbody tr th {\n",
       "        vertical-align: top;\n",
       "    }\n",
       "\n",
       "    .dataframe thead th {\n",
       "        text-align: right;\n",
       "    }\n",
       "</style>\n",
       "<table border=\"1\" class=\"dataframe\">\n",
       "  <thead>\n",
       "    <tr style=\"text-align: right;\">\n",
       "      <th></th>\n",
       "      <th>booking_id</th>\n",
       "      <th>payment_type_mode</th>\n",
       "      <th>payment_type_count</th>\n",
       "      <th>payment_type_unique</th>\n",
       "      <th>payment_sequential_min</th>\n",
       "      <th>payment_sequential_max</th>\n",
       "      <th>payment_sequential_mean</th>\n",
       "      <th>payment_sequential_count</th>\n",
       "      <th>payment_sequential_sum</th>\n",
       "      <th>payment_installments_min</th>\n",
       "      <th>...</th>\n",
       "      <th>hotel_description_length_sum</th>\n",
       "      <th>hotel_photos_qty_min</th>\n",
       "      <th>hotel_photos_qty_max</th>\n",
       "      <th>hotel_photos_qty_mean</th>\n",
       "      <th>hotel_photos_qty_count</th>\n",
       "      <th>hotel_photos_qty_sum</th>\n",
       "      <th>booking_expiry_date_min</th>\n",
       "      <th>booking_expiry_date_max</th>\n",
       "      <th>booking_expiry_date_count</th>\n",
       "      <th>seller_agent_id_count</th>\n",
       "    </tr>\n",
       "  </thead>\n",
       "  <tbody>\n",
       "    <tr>\n",
       "      <th>0</th>\n",
       "      <td>00020b5bc201756cad655783aa166514</td>\n",
       "      <td>credit_card</td>\n",
       "      <td>1</td>\n",
       "      <td>[credit_card]</td>\n",
       "      <td>1</td>\n",
       "      <td>1</td>\n",
       "      <td>1.0</td>\n",
       "      <td>1</td>\n",
       "      <td>1</td>\n",
       "      <td>1</td>\n",
       "      <td>...</td>\n",
       "      <td>338.0</td>\n",
       "      <td>3.0</td>\n",
       "      <td>3.0</td>\n",
       "      <td>3.0</td>\n",
       "      <td>1.0</td>\n",
       "      <td>3.0</td>\n",
       "      <td>2018-02-09 14:10:50</td>\n",
       "      <td>2018-02-09 14:10:50</td>\n",
       "      <td>1.0</td>\n",
       "      <td>1.0</td>\n",
       "    </tr>\n",
       "    <tr>\n",
       "      <th>1</th>\n",
       "      <td>00025a261e572c2a9fc158e005414df7</td>\n",
       "      <td>credit_card</td>\n",
       "      <td>1</td>\n",
       "      <td>[credit_card]</td>\n",
       "      <td>1</td>\n",
       "      <td>1</td>\n",
       "      <td>1.0</td>\n",
       "      <td>1</td>\n",
       "      <td>1</td>\n",
       "      <td>2</td>\n",
       "      <td>...</td>\n",
       "      <td>1313.0</td>\n",
       "      <td>1.0</td>\n",
       "      <td>1.0</td>\n",
       "      <td>1.0</td>\n",
       "      <td>1.0</td>\n",
       "      <td>1.0</td>\n",
       "      <td>2017-05-22 18:02:34</td>\n",
       "      <td>2017-05-22 18:02:34</td>\n",
       "      <td>1.0</td>\n",
       "      <td>1.0</td>\n",
       "    </tr>\n",
       "    <tr>\n",
       "      <th>2</th>\n",
       "      <td>00035456e8e57cbcf89cdf7268c63976</td>\n",
       "      <td>credit_card</td>\n",
       "      <td>1</td>\n",
       "      <td>[credit_card]</td>\n",
       "      <td>1</td>\n",
       "      <td>1</td>\n",
       "      <td>1.0</td>\n",
       "      <td>1</td>\n",
       "      <td>1</td>\n",
       "      <td>5</td>\n",
       "      <td>...</td>\n",
       "      <td>463.0</td>\n",
       "      <td>2.0</td>\n",
       "      <td>2.0</td>\n",
       "      <td>2.0</td>\n",
       "      <td>1.0</td>\n",
       "      <td>2.0</td>\n",
       "      <td>2018-05-16 11:51:37</td>\n",
       "      <td>2018-05-16 11:51:37</td>\n",
       "      <td>1.0</td>\n",
       "      <td>1.0</td>\n",
       "    </tr>\n",
       "    <tr>\n",
       "      <th>3</th>\n",
       "      <td>00045d86380d5b014642fbc4994b99a0</td>\n",
       "      <td>credit_card</td>\n",
       "      <td>1</td>\n",
       "      <td>[credit_card]</td>\n",
       "      <td>1</td>\n",
       "      <td>1</td>\n",
       "      <td>1.0</td>\n",
       "      <td>1</td>\n",
       "      <td>1</td>\n",
       "      <td>8</td>\n",
       "      <td>...</td>\n",
       "      <td>814.0</td>\n",
       "      <td>1.0</td>\n",
       "      <td>1.0</td>\n",
       "      <td>1.0</td>\n",
       "      <td>2.0</td>\n",
       "      <td>2.0</td>\n",
       "      <td>2018-07-03 12:50:17</td>\n",
       "      <td>2018-07-03 12:50:17</td>\n",
       "      <td>2.0</td>\n",
       "      <td>2.0</td>\n",
       "    </tr>\n",
       "    <tr>\n",
       "      <th>4</th>\n",
       "      <td>0004ed7b4b20bb24c1eeb5871a6f9a16</td>\n",
       "      <td>credit_card</td>\n",
       "      <td>1</td>\n",
       "      <td>[credit_card]</td>\n",
       "      <td>1</td>\n",
       "      <td>1</td>\n",
       "      <td>1.0</td>\n",
       "      <td>1</td>\n",
       "      <td>1</td>\n",
       "      <td>1</td>\n",
       "      <td>...</td>\n",
       "      <td>273.0</td>\n",
       "      <td>1.0</td>\n",
       "      <td>1.0</td>\n",
       "      <td>1.0</td>\n",
       "      <td>1.0</td>\n",
       "      <td>1.0</td>\n",
       "      <td>2018-06-21 20:16:27</td>\n",
       "      <td>2018-06-21 20:16:27</td>\n",
       "      <td>1.0</td>\n",
       "      <td>1.0</td>\n",
       "    </tr>\n",
       "  </tbody>\n",
       "</table>\n",
       "<p>5 rows × 58 columns</p>\n",
       "</div>"
      ],
      "text/plain": [
       "                         booking_id payment_type_mode  payment_type_count  \\\n",
       "0  00020b5bc201756cad655783aa166514       credit_card                   1   \n",
       "1  00025a261e572c2a9fc158e005414df7       credit_card                   1   \n",
       "2  00035456e8e57cbcf89cdf7268c63976       credit_card                   1   \n",
       "3  00045d86380d5b014642fbc4994b99a0       credit_card                   1   \n",
       "4  0004ed7b4b20bb24c1eeb5871a6f9a16       credit_card                   1   \n",
       "\n",
       "  payment_type_unique  payment_sequential_min  payment_sequential_max  \\\n",
       "0       [credit_card]                       1                       1   \n",
       "1       [credit_card]                       1                       1   \n",
       "2       [credit_card]                       1                       1   \n",
       "3       [credit_card]                       1                       1   \n",
       "4       [credit_card]                       1                       1   \n",
       "\n",
       "   payment_sequential_mean  payment_sequential_count  payment_sequential_sum  \\\n",
       "0                      1.0                         1                       1   \n",
       "1                      1.0                         1                       1   \n",
       "2                      1.0                         1                       1   \n",
       "3                      1.0                         1                       1   \n",
       "4                      1.0                         1                       1   \n",
       "\n",
       "   payment_installments_min  ...  hotel_description_length_sum  \\\n",
       "0                         1  ...                         338.0   \n",
       "1                         2  ...                        1313.0   \n",
       "2                         5  ...                         463.0   \n",
       "3                         8  ...                         814.0   \n",
       "4                         1  ...                         273.0   \n",
       "\n",
       "   hotel_photos_qty_min  hotel_photos_qty_max  hotel_photos_qty_mean  \\\n",
       "0                   3.0                   3.0                    3.0   \n",
       "1                   1.0                   1.0                    1.0   \n",
       "2                   2.0                   2.0                    2.0   \n",
       "3                   1.0                   1.0                    1.0   \n",
       "4                   1.0                   1.0                    1.0   \n",
       "\n",
       "   hotel_photos_qty_count  hotel_photos_qty_sum  booking_expiry_date_min  \\\n",
       "0                     1.0                   3.0      2018-02-09 14:10:50   \n",
       "1                     1.0                   1.0      2017-05-22 18:02:34   \n",
       "2                     1.0                   2.0      2018-05-16 11:51:37   \n",
       "3                     2.0                   2.0      2018-07-03 12:50:17   \n",
       "4                     1.0                   1.0      2018-06-21 20:16:27   \n",
       "\n",
       "   booking_expiry_date_max  booking_expiry_date_count  seller_agent_id_count  \n",
       "0      2018-02-09 14:10:50                        1.0                    1.0  \n",
       "1      2017-05-22 18:02:34                        1.0                    1.0  \n",
       "2      2018-05-16 11:51:37                        1.0                    1.0  \n",
       "3      2018-07-03 12:50:17                        2.0                    2.0  \n",
       "4      2018-06-21 20:16:27                        1.0                    1.0  \n",
       "\n",
       "[5 rows x 58 columns]"
      ]
     },
     "execution_count": 70,
     "metadata": {},
     "output_type": "execute_result"
    }
   ],
   "source": [
    "bookings_data_payments_data_unqiue_for_each_id = pd.merge(payments_data_unqiue_for_each_id, bookings_data_unqiue_for_each_id, on = 'booking_id', how = 'left')\n",
    "bookings_data_payments_data_unqiue_for_each_id.head()"
   ]
  },
  {
   "cell_type": "code",
   "execution_count": 71,
   "id": "3535d81a",
   "metadata": {
    "execution": {
     "iopub.execute_input": "2022-11-26T11:19:31.427148Z",
     "iopub.status.busy": "2022-11-26T11:19:31.426718Z",
     "iopub.status.idle": "2022-11-26T11:19:31.435037Z",
     "shell.execute_reply": "2022-11-26T11:19:31.433749Z"
    },
    "papermill": {
     "duration": 0.047773,
     "end_time": "2022-11-26T11:19:31.437753",
     "exception": false,
     "start_time": "2022-11-26T11:19:31.389980",
     "status": "completed"
    },
    "tags": []
   },
   "outputs": [
    {
     "data": {
      "text/plain": [
       "(99440, 58)"
      ]
     },
     "execution_count": 71,
     "metadata": {},
     "output_type": "execute_result"
    }
   ],
   "source": [
    "bookings_data_payments_data_unqiue_for_each_id.shape"
   ]
  },
  {
   "cell_type": "markdown",
   "id": "f89ee2c8",
   "metadata": {
    "papermill": {
     "duration": 0.035279,
     "end_time": "2022-11-26T11:19:31.508735",
     "exception": false,
     "start_time": "2022-11-26T11:19:31.473456",
     "status": "completed"
    },
    "tags": []
   },
   "source": [
    "### Merge two big ones finally\n"
   ]
  },
  {
   "cell_type": "code",
   "execution_count": 72,
   "id": "0e2f0add",
   "metadata": {
    "execution": {
     "iopub.execute_input": "2022-11-26T11:19:31.581017Z",
     "iopub.status.busy": "2022-11-26T11:19:31.580567Z",
     "iopub.status.idle": "2022-11-26T11:19:32.110184Z",
     "shell.execute_reply": "2022-11-26T11:19:32.108882Z"
    },
    "papermill": {
     "duration": 0.568997,
     "end_time": "2022-11-26T11:19:32.113063",
     "exception": false,
     "start_time": "2022-11-26T11:19:31.544066",
     "status": "completed"
    },
    "tags": []
   },
   "outputs": [
    {
     "data": {
      "text/html": [
       "<div>\n",
       "<style scoped>\n",
       "    .dataframe tbody tr th:only-of-type {\n",
       "        vertical-align: middle;\n",
       "    }\n",
       "\n",
       "    .dataframe tbody tr th {\n",
       "        vertical-align: top;\n",
       "    }\n",
       "\n",
       "    .dataframe thead th {\n",
       "        text-align: right;\n",
       "    }\n",
       "</style>\n",
       "<table border=\"1\" class=\"dataframe\">\n",
       "  <thead>\n",
       "    <tr style=\"text-align: right;\">\n",
       "      <th></th>\n",
       "      <th>booking_id</th>\n",
       "      <th>customer_id</th>\n",
       "      <th>booking_status</th>\n",
       "      <th>booking_create_timestamp</th>\n",
       "      <th>booking_approved_at</th>\n",
       "      <th>booking_checkin_customer_date</th>\n",
       "      <th>country</th>\n",
       "      <th>payment_type_mode</th>\n",
       "      <th>payment_type_count</th>\n",
       "      <th>payment_type_unique</th>\n",
       "      <th>...</th>\n",
       "      <th>hotel_description_length_sum</th>\n",
       "      <th>hotel_photos_qty_min</th>\n",
       "      <th>hotel_photos_qty_max</th>\n",
       "      <th>hotel_photos_qty_mean</th>\n",
       "      <th>hotel_photos_qty_count</th>\n",
       "      <th>hotel_photos_qty_sum</th>\n",
       "      <th>booking_expiry_date_min</th>\n",
       "      <th>booking_expiry_date_max</th>\n",
       "      <th>booking_expiry_date_count</th>\n",
       "      <th>seller_agent_id_count</th>\n",
       "    </tr>\n",
       "  </thead>\n",
       "  <tbody>\n",
       "    <tr>\n",
       "      <th>0</th>\n",
       "      <td>c54678b7cc49136f2d6af7e481f51cbd</td>\n",
       "      <td>51297304e76186b10a928d9ef432eb62</td>\n",
       "      <td>completed</td>\n",
       "      <td>2007-10-05 10:39:33</td>\n",
       "      <td>2007-10-05 10:50:15</td>\n",
       "      <td>2007-10-13 21:08:13</td>\n",
       "      <td>Vietnam</td>\n",
       "      <td>voucher</td>\n",
       "      <td>3.0</td>\n",
       "      <td>[credit_card, voucher]</td>\n",
       "      <td>...</td>\n",
       "      <td>268.0</td>\n",
       "      <td>4.0</td>\n",
       "      <td>4.0</td>\n",
       "      <td>4.0</td>\n",
       "      <td>1.0</td>\n",
       "      <td>4.0</td>\n",
       "      <td>2017-10-06 11:07:15</td>\n",
       "      <td>2017-10-06 11:07:15</td>\n",
       "      <td>1.0</td>\n",
       "      <td>1.0</td>\n",
       "    </tr>\n",
       "    <tr>\n",
       "      <th>1</th>\n",
       "      <td>c7dce0b6741e215027345153cdb2fc8b</td>\n",
       "      <td>7a6c6d20dea0b8c802d7efb0830fb474</td>\n",
       "      <td>completed</td>\n",
       "      <td>2008-07-26 20:24:37</td>\n",
       "      <td>2008-07-28 03:07:27</td>\n",
       "      <td>2008-08-09 15:10:45</td>\n",
       "      <td>Portugal</td>\n",
       "      <td>gift_card</td>\n",
       "      <td>1.0</td>\n",
       "      <td>[gift_card]</td>\n",
       "      <td>...</td>\n",
       "      <td>178.0</td>\n",
       "      <td>1.0</td>\n",
       "      <td>1.0</td>\n",
       "      <td>1.0</td>\n",
       "      <td>1.0</td>\n",
       "      <td>1.0</td>\n",
       "      <td>2018-07-30 03:24:27</td>\n",
       "      <td>2018-07-30 03:24:27</td>\n",
       "      <td>1.0</td>\n",
       "      <td>1.0</td>\n",
       "    </tr>\n",
       "    <tr>\n",
       "      <th>2</th>\n",
       "      <td>d0c44946d9cf07ec65d47770eb9100c2</td>\n",
       "      <td>bf3443c3d931a36708941ce2a54c0b03</td>\n",
       "      <td>completed</td>\n",
       "      <td>2008-08-10 08:21:49</td>\n",
       "      <td>2008-08-10 08:38:23</td>\n",
       "      <td>2008-08-19 17:49:29</td>\n",
       "      <td>Portugal</td>\n",
       "      <td>credit_card</td>\n",
       "      <td>1.0</td>\n",
       "      <td>[credit_card]</td>\n",
       "      <td>...</td>\n",
       "      <td>232.0</td>\n",
       "      <td>1.0</td>\n",
       "      <td>1.0</td>\n",
       "      <td>1.0</td>\n",
       "      <td>1.0</td>\n",
       "      <td>1.0</td>\n",
       "      <td>2018-08-13 08:55:23</td>\n",
       "      <td>2018-08-13 08:55:23</td>\n",
       "      <td>1.0</td>\n",
       "      <td>1.0</td>\n",
       "    </tr>\n",
       "    <tr>\n",
       "      <th>3</th>\n",
       "      <td>e918fe9c16f97b45f8a949d5b44dbf5d</td>\n",
       "      <td>20adcdbec7375364d82f88197465ea79</td>\n",
       "      <td>completed</td>\n",
       "      <td>2007-11-21 19:11:06</td>\n",
       "      <td>2007-11-21 19:28:59</td>\n",
       "      <td>2007-12-05 00:11:42</td>\n",
       "      <td>Portugal</td>\n",
       "      <td>credit_card</td>\n",
       "      <td>1.0</td>\n",
       "      <td>[credit_card]</td>\n",
       "      <td>...</td>\n",
       "      <td>468.0</td>\n",
       "      <td>3.0</td>\n",
       "      <td>3.0</td>\n",
       "      <td>3.0</td>\n",
       "      <td>1.0</td>\n",
       "      <td>3.0</td>\n",
       "      <td>2017-11-23 19:45:59</td>\n",
       "      <td>2017-11-23 19:45:59</td>\n",
       "      <td>1.0</td>\n",
       "      <td>1.0</td>\n",
       "    </tr>\n",
       "    <tr>\n",
       "      <th>4</th>\n",
       "      <td>e6cb83a9ceb5573f8159ad21c59c0840</td>\n",
       "      <td>ea8866dbdbc4fb7aad2c8ab97904e6da</td>\n",
       "      <td>completed</td>\n",
       "      <td>2008-02-16 21:01:39</td>\n",
       "      <td>2008-02-16 22:03:29</td>\n",
       "      <td>2008-02-19 18:00:02</td>\n",
       "      <td>Spain</td>\n",
       "      <td>credit_card</td>\n",
       "      <td>1.0</td>\n",
       "      <td>[credit_card]</td>\n",
       "      <td>...</td>\n",
       "      <td>316.0</td>\n",
       "      <td>4.0</td>\n",
       "      <td>4.0</td>\n",
       "      <td>4.0</td>\n",
       "      <td>1.0</td>\n",
       "      <td>4.0</td>\n",
       "      <td>2018-02-19 20:31:37</td>\n",
       "      <td>2018-02-19 20:31:37</td>\n",
       "      <td>1.0</td>\n",
       "      <td>1.0</td>\n",
       "    </tr>\n",
       "  </tbody>\n",
       "</table>\n",
       "<p>5 rows × 64 columns</p>\n",
       "</div>"
      ],
      "text/plain": [
       "                         booking_id                       customer_id  \\\n",
       "0  c54678b7cc49136f2d6af7e481f51cbd  51297304e76186b10a928d9ef432eb62   \n",
       "1  c7dce0b6741e215027345153cdb2fc8b  7a6c6d20dea0b8c802d7efb0830fb474   \n",
       "2  d0c44946d9cf07ec65d47770eb9100c2  bf3443c3d931a36708941ce2a54c0b03   \n",
       "3  e918fe9c16f97b45f8a949d5b44dbf5d  20adcdbec7375364d82f88197465ea79   \n",
       "4  e6cb83a9ceb5573f8159ad21c59c0840  ea8866dbdbc4fb7aad2c8ab97904e6da   \n",
       "\n",
       "  booking_status booking_create_timestamp  booking_approved_at  \\\n",
       "0      completed      2007-10-05 10:39:33  2007-10-05 10:50:15   \n",
       "1      completed      2008-07-26 20:24:37  2008-07-28 03:07:27   \n",
       "2      completed      2008-08-10 08:21:49  2008-08-10 08:38:23   \n",
       "3      completed      2007-11-21 19:11:06  2007-11-21 19:28:59   \n",
       "4      completed      2008-02-16 21:01:39  2008-02-16 22:03:29   \n",
       "\n",
       "  booking_checkin_customer_date   country payment_type_mode  \\\n",
       "0           2007-10-13 21:08:13   Vietnam           voucher   \n",
       "1           2008-08-09 15:10:45  Portugal         gift_card   \n",
       "2           2008-08-19 17:49:29  Portugal       credit_card   \n",
       "3           2007-12-05 00:11:42  Portugal       credit_card   \n",
       "4           2008-02-19 18:00:02     Spain       credit_card   \n",
       "\n",
       "   payment_type_count     payment_type_unique  ...  \\\n",
       "0                 3.0  [credit_card, voucher]  ...   \n",
       "1                 1.0             [gift_card]  ...   \n",
       "2                 1.0           [credit_card]  ...   \n",
       "3                 1.0           [credit_card]  ...   \n",
       "4                 1.0           [credit_card]  ...   \n",
       "\n",
       "   hotel_description_length_sum  hotel_photos_qty_min  hotel_photos_qty_max  \\\n",
       "0                         268.0                   4.0                   4.0   \n",
       "1                         178.0                   1.0                   1.0   \n",
       "2                         232.0                   1.0                   1.0   \n",
       "3                         468.0                   3.0                   3.0   \n",
       "4                         316.0                   4.0                   4.0   \n",
       "\n",
       "   hotel_photos_qty_mean  hotel_photos_qty_count  hotel_photos_qty_sum  \\\n",
       "0                    4.0                     1.0                   4.0   \n",
       "1                    1.0                     1.0                   1.0   \n",
       "2                    1.0                     1.0                   1.0   \n",
       "3                    3.0                     1.0                   3.0   \n",
       "4                    4.0                     1.0                   4.0   \n",
       "\n",
       "   booking_expiry_date_min  booking_expiry_date_max  \\\n",
       "0      2017-10-06 11:07:15      2017-10-06 11:07:15   \n",
       "1      2018-07-30 03:24:27      2018-07-30 03:24:27   \n",
       "2      2018-08-13 08:55:23      2018-08-13 08:55:23   \n",
       "3      2017-11-23 19:45:59      2017-11-23 19:45:59   \n",
       "4      2018-02-19 20:31:37      2018-02-19 20:31:37   \n",
       "\n",
       "   booking_expiry_date_count  seller_agent_id_count  \n",
       "0                        1.0                    1.0  \n",
       "1                        1.0                    1.0  \n",
       "2                        1.0                    1.0  \n",
       "3                        1.0                    1.0  \n",
       "4                        1.0                    1.0  \n",
       "\n",
       "[5 rows x 64 columns]"
      ]
     },
     "execution_count": 72,
     "metadata": {},
     "output_type": "execute_result"
    }
   ],
   "source": [
    "final_data = pd.merge(bookings_customer_data_unqiue_for_each_id, bookings_data_payments_data_unqiue_for_each_id, on = 'booking_id', how = 'left')\n",
    "final_data.head()"
   ]
  },
  {
   "cell_type": "code",
   "execution_count": 73,
   "id": "8a1cf1cd",
   "metadata": {
    "execution": {
     "iopub.execute_input": "2022-11-26T11:19:32.187514Z",
     "iopub.status.busy": "2022-11-26T11:19:32.186679Z",
     "iopub.status.idle": "2022-11-26T11:19:32.194210Z",
     "shell.execute_reply": "2022-11-26T11:19:32.193126Z"
    },
    "papermill": {
     "duration": 0.047179,
     "end_time": "2022-11-26T11:19:32.196260",
     "exception": false,
     "start_time": "2022-11-26T11:19:32.149081",
     "status": "completed"
    },
    "tags": []
   },
   "outputs": [
    {
     "data": {
      "text/plain": [
       "(99441, 64)"
      ]
     },
     "execution_count": 73,
     "metadata": {},
     "output_type": "execute_result"
    }
   ],
   "source": [
    "final_data.shape"
   ]
  },
  {
   "cell_type": "markdown",
   "id": "cf99e96e",
   "metadata": {
    "papermill": {
     "duration": 0.037059,
     "end_time": "2022-11-26T11:19:32.269750",
     "exception": false,
     "start_time": "2022-11-26T11:19:32.232691",
     "status": "completed"
    },
    "tags": []
   },
   "source": [
    "### Train data"
   ]
  },
  {
   "cell_type": "code",
   "execution_count": 74,
   "id": "73586607",
   "metadata": {
    "execution": {
     "iopub.execute_input": "2022-11-26T11:19:32.344132Z",
     "iopub.status.busy": "2022-11-26T11:19:32.343689Z",
     "iopub.status.idle": "2022-11-26T11:19:32.352457Z",
     "shell.execute_reply": "2022-11-26T11:19:32.351607Z"
    },
    "papermill": {
     "duration": 0.048769,
     "end_time": "2022-11-26T11:19:32.354616",
     "exception": false,
     "start_time": "2022-11-26T11:19:32.305847",
     "status": "completed"
    },
    "tags": []
   },
   "outputs": [
    {
     "data": {
      "text/plain": [
       "(50000, 3)"
      ]
     },
     "execution_count": 74,
     "metadata": {},
     "output_type": "execute_result"
    }
   ],
   "source": [
    "train_data.head(2)\n",
    "train_data['set'] = 'training'\n",
    "train_data.shape"
   ]
  },
  {
   "cell_type": "code",
   "execution_count": null,
   "id": "876d9493",
   "metadata": {
    "papermill": {
     "duration": 0.036161,
     "end_time": "2022-11-26T11:19:32.427298",
     "exception": false,
     "start_time": "2022-11-26T11:19:32.391137",
     "status": "completed"
    },
    "tags": []
   },
   "outputs": [],
   "source": []
  },
  {
   "cell_type": "markdown",
   "id": "4c8a8c49",
   "metadata": {
    "papermill": {
     "duration": 0.035799,
     "end_time": "2022-11-26T11:19:32.499698",
     "exception": false,
     "start_time": "2022-11-26T11:19:32.463899",
     "status": "completed"
    },
    "tags": []
   },
   "source": [
    "### Sample Submission"
   ]
  },
  {
   "cell_type": "code",
   "execution_count": 75,
   "id": "ac4bcd9c",
   "metadata": {
    "execution": {
     "iopub.execute_input": "2022-11-26T11:19:32.576573Z",
     "iopub.status.busy": "2022-11-26T11:19:32.576119Z",
     "iopub.status.idle": "2022-11-26T11:19:32.584985Z",
     "shell.execute_reply": "2022-11-26T11:19:32.583686Z"
    },
    "papermill": {
     "duration": 0.049575,
     "end_time": "2022-11-26T11:19:32.587528",
     "exception": false,
     "start_time": "2022-11-26T11:19:32.537953",
     "status": "completed"
    },
    "tags": []
   },
   "outputs": [
    {
     "data": {
      "text/plain": [
       "(49079, 3)"
      ]
     },
     "execution_count": 75,
     "metadata": {},
     "output_type": "execute_result"
    }
   ],
   "source": [
    "sample_submission.head(2)\n",
    "sample_submission['set'] = 'testing'\n",
    "sample_submission.shape"
   ]
  },
  {
   "cell_type": "markdown",
   "id": "d84ecb99",
   "metadata": {
    "papermill": {
     "duration": 0.036202,
     "end_time": "2022-11-26T11:19:32.659816",
     "exception": false,
     "start_time": "2022-11-26T11:19:32.623614",
     "status": "completed"
    },
    "tags": []
   },
   "source": [
    "### Make a single dataframe of train and test for easier feature engineering"
   ]
  },
  {
   "cell_type": "code",
   "execution_count": 76,
   "id": "c7b47c07",
   "metadata": {
    "execution": {
     "iopub.execute_input": "2022-11-26T11:19:32.736560Z",
     "iopub.status.busy": "2022-11-26T11:19:32.736166Z",
     "iopub.status.idle": "2022-11-26T11:19:32.748211Z",
     "shell.execute_reply": "2022-11-26T11:19:32.746887Z"
    },
    "papermill": {
     "duration": 0.052737,
     "end_time": "2022-11-26T11:19:32.750676",
     "exception": false,
     "start_time": "2022-11-26T11:19:32.697939",
     "status": "completed"
    },
    "tags": []
   },
   "outputs": [
    {
     "data": {
      "text/html": [
       "<div>\n",
       "<style scoped>\n",
       "    .dataframe tbody tr th:only-of-type {\n",
       "        vertical-align: middle;\n",
       "    }\n",
       "\n",
       "    .dataframe tbody tr th {\n",
       "        vertical-align: top;\n",
       "    }\n",
       "\n",
       "    .dataframe thead th {\n",
       "        text-align: right;\n",
       "    }\n",
       "</style>\n",
       "<table border=\"1\" class=\"dataframe\">\n",
       "  <thead>\n",
       "    <tr style=\"text-align: right;\">\n",
       "      <th></th>\n",
       "      <th>booking_id</th>\n",
       "      <th>rating_score</th>\n",
       "      <th>set</th>\n",
       "    </tr>\n",
       "  </thead>\n",
       "  <tbody>\n",
       "    <tr>\n",
       "      <th>0</th>\n",
       "      <td>87114b39712e6da79b0a377eb73fc7af</td>\n",
       "      <td>4</td>\n",
       "      <td>training</td>\n",
       "    </tr>\n",
       "    <tr>\n",
       "      <th>1</th>\n",
       "      <td>81e283fa7e4f11123a3fb894f18e6bfb</td>\n",
       "      <td>5</td>\n",
       "      <td>training</td>\n",
       "    </tr>\n",
       "  </tbody>\n",
       "</table>\n",
       "</div>"
      ],
      "text/plain": [
       "                         booking_id  rating_score       set\n",
       "0  87114b39712e6da79b0a377eb73fc7af             4  training\n",
       "1  81e283fa7e4f11123a3fb894f18e6bfb             5  training"
      ]
     },
     "execution_count": 76,
     "metadata": {},
     "output_type": "execute_result"
    }
   ],
   "source": [
    "train_data.head(2)"
   ]
  },
  {
   "cell_type": "code",
   "execution_count": 77,
   "id": "b6b563c0",
   "metadata": {
    "execution": {
     "iopub.execute_input": "2022-11-26T11:19:32.825523Z",
     "iopub.status.busy": "2022-11-26T11:19:32.825105Z",
     "iopub.status.idle": "2022-11-26T11:19:33.254043Z",
     "shell.execute_reply": "2022-11-26T11:19:33.252926Z"
    },
    "papermill": {
     "duration": 0.468829,
     "end_time": "2022-11-26T11:19:33.256417",
     "exception": false,
     "start_time": "2022-11-26T11:19:32.787588",
     "status": "completed"
    },
    "tags": []
   },
   "outputs": [
    {
     "data": {
      "text/html": [
       "<div>\n",
       "<style scoped>\n",
       "    .dataframe tbody tr th:only-of-type {\n",
       "        vertical-align: middle;\n",
       "    }\n",
       "\n",
       "    .dataframe tbody tr th {\n",
       "        vertical-align: top;\n",
       "    }\n",
       "\n",
       "    .dataframe thead th {\n",
       "        text-align: right;\n",
       "    }\n",
       "</style>\n",
       "<table border=\"1\" class=\"dataframe\">\n",
       "  <thead>\n",
       "    <tr style=\"text-align: right;\">\n",
       "      <th></th>\n",
       "      <th>booking_id</th>\n",
       "      <th>rating_score</th>\n",
       "      <th>set</th>\n",
       "      <th>customer_id</th>\n",
       "      <th>booking_status</th>\n",
       "      <th>booking_create_timestamp</th>\n",
       "      <th>booking_approved_at</th>\n",
       "      <th>booking_checkin_customer_date</th>\n",
       "      <th>country</th>\n",
       "      <th>payment_type_mode</th>\n",
       "      <th>...</th>\n",
       "      <th>hotel_description_length_sum</th>\n",
       "      <th>hotel_photos_qty_min</th>\n",
       "      <th>hotel_photos_qty_max</th>\n",
       "      <th>hotel_photos_qty_mean</th>\n",
       "      <th>hotel_photos_qty_count</th>\n",
       "      <th>hotel_photos_qty_sum</th>\n",
       "      <th>booking_expiry_date_min</th>\n",
       "      <th>booking_expiry_date_max</th>\n",
       "      <th>booking_expiry_date_count</th>\n",
       "      <th>seller_agent_id_count</th>\n",
       "    </tr>\n",
       "  </thead>\n",
       "  <tbody>\n",
       "    <tr>\n",
       "      <th>0</th>\n",
       "      <td>87114b39712e6da79b0a377eb73fc7af</td>\n",
       "      <td>4</td>\n",
       "      <td>training</td>\n",
       "      <td>6f807e993532d44626329010441dcb10</td>\n",
       "      <td>completed</td>\n",
       "      <td>2008-01-14 15:13:49</td>\n",
       "      <td>2008-01-14 15:30:59</td>\n",
       "      <td>2008-01-20 18:25:41</td>\n",
       "      <td>Spain</td>\n",
       "      <td>credit_card</td>\n",
       "      <td>...</td>\n",
       "      <td>1716.0</td>\n",
       "      <td>1.0</td>\n",
       "      <td>1.0</td>\n",
       "      <td>1.0</td>\n",
       "      <td>2.0</td>\n",
       "      <td>2.0</td>\n",
       "      <td>2018-01-18 15:47:59</td>\n",
       "      <td>2018-01-18 15:47:59</td>\n",
       "      <td>2.0</td>\n",
       "      <td>2.0</td>\n",
       "    </tr>\n",
       "    <tr>\n",
       "      <th>1</th>\n",
       "      <td>81e283fa7e4f11123a3fb894f18e6bfb</td>\n",
       "      <td>5</td>\n",
       "      <td>training</td>\n",
       "      <td>33ca0d44534a156a52a8e33a835986b3</td>\n",
       "      <td>completed</td>\n",
       "      <td>2008-02-13 10:42:03</td>\n",
       "      <td>2008-02-13 15:31:21</td>\n",
       "      <td>2008-03-02 16:16:35</td>\n",
       "      <td>Cambodia</td>\n",
       "      <td>credit_card</td>\n",
       "      <td>...</td>\n",
       "      <td>562.0</td>\n",
       "      <td>5.0</td>\n",
       "      <td>5.0</td>\n",
       "      <td>5.0</td>\n",
       "      <td>1.0</td>\n",
       "      <td>5.0</td>\n",
       "      <td>2018-02-15 15:48:21</td>\n",
       "      <td>2018-02-15 15:48:21</td>\n",
       "      <td>1.0</td>\n",
       "      <td>1.0</td>\n",
       "    </tr>\n",
       "  </tbody>\n",
       "</table>\n",
       "<p>2 rows × 66 columns</p>\n",
       "</div>"
      ],
      "text/plain": [
       "                         booking_id  rating_score       set  \\\n",
       "0  87114b39712e6da79b0a377eb73fc7af             4  training   \n",
       "1  81e283fa7e4f11123a3fb894f18e6bfb             5  training   \n",
       "\n",
       "                        customer_id booking_status booking_create_timestamp  \\\n",
       "0  6f807e993532d44626329010441dcb10      completed      2008-01-14 15:13:49   \n",
       "1  33ca0d44534a156a52a8e33a835986b3      completed      2008-02-13 10:42:03   \n",
       "\n",
       "   booking_approved_at booking_checkin_customer_date   country  \\\n",
       "0  2008-01-14 15:30:59           2008-01-20 18:25:41     Spain   \n",
       "1  2008-02-13 15:31:21           2008-03-02 16:16:35  Cambodia   \n",
       "\n",
       "  payment_type_mode  ...  hotel_description_length_sum hotel_photos_qty_min  \\\n",
       "0       credit_card  ...                        1716.0                  1.0   \n",
       "1       credit_card  ...                         562.0                  5.0   \n",
       "\n",
       "   hotel_photos_qty_max  hotel_photos_qty_mean  hotel_photos_qty_count  \\\n",
       "0                   1.0                    1.0                     2.0   \n",
       "1                   5.0                    5.0                     1.0   \n",
       "\n",
       "   hotel_photos_qty_sum  booking_expiry_date_min  booking_expiry_date_max  \\\n",
       "0                   2.0      2018-01-18 15:47:59      2018-01-18 15:47:59   \n",
       "1                   5.0      2018-02-15 15:48:21      2018-02-15 15:48:21   \n",
       "\n",
       "   booking_expiry_date_count  seller_agent_id_count  \n",
       "0                        2.0                    2.0  \n",
       "1                        1.0                    1.0  \n",
       "\n",
       "[2 rows x 66 columns]"
      ]
     },
     "execution_count": 77,
     "metadata": {},
     "output_type": "execute_result"
    }
   ],
   "source": [
    "train_data_merged = pd.merge(train_data, final_data, on = 'booking_id', how = 'left')\n",
    "train_data_merged.head(2)"
   ]
  },
  {
   "cell_type": "code",
   "execution_count": 78,
   "id": "dc8ab069",
   "metadata": {
    "execution": {
     "iopub.execute_input": "2022-11-26T11:19:33.331965Z",
     "iopub.status.busy": "2022-11-26T11:19:33.331556Z",
     "iopub.status.idle": "2022-11-26T11:19:33.339317Z",
     "shell.execute_reply": "2022-11-26T11:19:33.338072Z"
    },
    "papermill": {
     "duration": 0.048149,
     "end_time": "2022-11-26T11:19:33.341721",
     "exception": false,
     "start_time": "2022-11-26T11:19:33.293572",
     "status": "completed"
    },
    "tags": []
   },
   "outputs": [
    {
     "data": {
      "text/plain": [
       "(50000, 66)"
      ]
     },
     "execution_count": 78,
     "metadata": {},
     "output_type": "execute_result"
    }
   ],
   "source": [
    "train_data_merged.shape"
   ]
  },
  {
   "cell_type": "code",
   "execution_count": 79,
   "id": "428c4cec",
   "metadata": {
    "execution": {
     "iopub.execute_input": "2022-11-26T11:19:33.416671Z",
     "iopub.status.busy": "2022-11-26T11:19:33.416162Z",
     "iopub.status.idle": "2022-11-26T11:19:33.827669Z",
     "shell.execute_reply": "2022-11-26T11:19:33.826580Z"
    },
    "papermill": {
     "duration": 0.451883,
     "end_time": "2022-11-26T11:19:33.830150",
     "exception": false,
     "start_time": "2022-11-26T11:19:33.378267",
     "status": "completed"
    },
    "tags": []
   },
   "outputs": [
    {
     "data": {
      "text/html": [
       "<div>\n",
       "<style scoped>\n",
       "    .dataframe tbody tr th:only-of-type {\n",
       "        vertical-align: middle;\n",
       "    }\n",
       "\n",
       "    .dataframe tbody tr th {\n",
       "        vertical-align: top;\n",
       "    }\n",
       "\n",
       "    .dataframe thead th {\n",
       "        text-align: right;\n",
       "    }\n",
       "</style>\n",
       "<table border=\"1\" class=\"dataframe\">\n",
       "  <thead>\n",
       "    <tr style=\"text-align: right;\">\n",
       "      <th></th>\n",
       "      <th>booking_id</th>\n",
       "      <th>rating_score</th>\n",
       "      <th>set</th>\n",
       "      <th>customer_id</th>\n",
       "      <th>booking_status</th>\n",
       "      <th>booking_create_timestamp</th>\n",
       "      <th>booking_approved_at</th>\n",
       "      <th>booking_checkin_customer_date</th>\n",
       "      <th>country</th>\n",
       "      <th>payment_type_mode</th>\n",
       "      <th>...</th>\n",
       "      <th>hotel_description_length_sum</th>\n",
       "      <th>hotel_photos_qty_min</th>\n",
       "      <th>hotel_photos_qty_max</th>\n",
       "      <th>hotel_photos_qty_mean</th>\n",
       "      <th>hotel_photos_qty_count</th>\n",
       "      <th>hotel_photos_qty_sum</th>\n",
       "      <th>booking_expiry_date_min</th>\n",
       "      <th>booking_expiry_date_max</th>\n",
       "      <th>booking_expiry_date_count</th>\n",
       "      <th>seller_agent_id_count</th>\n",
       "    </tr>\n",
       "  </thead>\n",
       "  <tbody>\n",
       "    <tr>\n",
       "      <th>0</th>\n",
       "      <td>796b98fdf73dbeba33a548910a1c6147</td>\n",
       "      <td>5</td>\n",
       "      <td>testing</td>\n",
       "      <td>531e4dc76bd6d853e68a2e7ef9053dea</td>\n",
       "      <td>completed</td>\n",
       "      <td>2008-03-02 12:08:19</td>\n",
       "      <td>2008-03-02 12:31:39</td>\n",
       "      <td>2008-03-11 23:00:20</td>\n",
       "      <td>Japan</td>\n",
       "      <td>credit_card</td>\n",
       "      <td>...</td>\n",
       "      <td>493.0</td>\n",
       "      <td>1.0</td>\n",
       "      <td>1.0</td>\n",
       "      <td>1.0</td>\n",
       "      <td>1.0</td>\n",
       "      <td>1.0</td>\n",
       "      <td>2018-03-06 12:48:39</td>\n",
       "      <td>2018-03-06 12:48:39</td>\n",
       "      <td>1.0</td>\n",
       "      <td>1.0</td>\n",
       "    </tr>\n",
       "    <tr>\n",
       "      <th>1</th>\n",
       "      <td>b201a9f2ecdecbb34bed034bf9e4b658</td>\n",
       "      <td>5</td>\n",
       "      <td>testing</td>\n",
       "      <td>6544df5b7b87a48208690febe226dfed</td>\n",
       "      <td>completed</td>\n",
       "      <td>2008-02-06 09:39:22</td>\n",
       "      <td>2008-02-06 10:16:41</td>\n",
       "      <td>2008-02-19 17:11:48</td>\n",
       "      <td>Portugal</td>\n",
       "      <td>credit_card</td>\n",
       "      <td>...</td>\n",
       "      <td>1893.0</td>\n",
       "      <td>1.0</td>\n",
       "      <td>1.0</td>\n",
       "      <td>1.0</td>\n",
       "      <td>1.0</td>\n",
       "      <td>1.0</td>\n",
       "      <td>2018-02-08 10:31:15</td>\n",
       "      <td>2018-02-08 10:31:15</td>\n",
       "      <td>1.0</td>\n",
       "      <td>1.0</td>\n",
       "    </tr>\n",
       "  </tbody>\n",
       "</table>\n",
       "<p>2 rows × 66 columns</p>\n",
       "</div>"
      ],
      "text/plain": [
       "                         booking_id  rating_score      set  \\\n",
       "0  796b98fdf73dbeba33a548910a1c6147             5  testing   \n",
       "1  b201a9f2ecdecbb34bed034bf9e4b658             5  testing   \n",
       "\n",
       "                        customer_id booking_status booking_create_timestamp  \\\n",
       "0  531e4dc76bd6d853e68a2e7ef9053dea      completed      2008-03-02 12:08:19   \n",
       "1  6544df5b7b87a48208690febe226dfed      completed      2008-02-06 09:39:22   \n",
       "\n",
       "   booking_approved_at booking_checkin_customer_date   country  \\\n",
       "0  2008-03-02 12:31:39           2008-03-11 23:00:20     Japan   \n",
       "1  2008-02-06 10:16:41           2008-02-19 17:11:48  Portugal   \n",
       "\n",
       "  payment_type_mode  ...  hotel_description_length_sum hotel_photos_qty_min  \\\n",
       "0       credit_card  ...                         493.0                  1.0   \n",
       "1       credit_card  ...                        1893.0                  1.0   \n",
       "\n",
       "   hotel_photos_qty_max  hotel_photos_qty_mean  hotel_photos_qty_count  \\\n",
       "0                   1.0                    1.0                     1.0   \n",
       "1                   1.0                    1.0                     1.0   \n",
       "\n",
       "   hotel_photos_qty_sum  booking_expiry_date_min  booking_expiry_date_max  \\\n",
       "0                   1.0      2018-03-06 12:48:39      2018-03-06 12:48:39   \n",
       "1                   1.0      2018-02-08 10:31:15      2018-02-08 10:31:15   \n",
       "\n",
       "   booking_expiry_date_count  seller_agent_id_count  \n",
       "0                        1.0                    1.0  \n",
       "1                        1.0                    1.0  \n",
       "\n",
       "[2 rows x 66 columns]"
      ]
     },
     "execution_count": 79,
     "metadata": {},
     "output_type": "execute_result"
    }
   ],
   "source": [
    "test_data_merged = pd.merge(sample_submission, final_data, on = 'booking_id', how = 'left')\n",
    "test_data_merged.head(2)"
   ]
  },
  {
   "cell_type": "code",
   "execution_count": 80,
   "id": "4b91b0c9",
   "metadata": {
    "execution": {
     "iopub.execute_input": "2022-11-26T11:19:33.905779Z",
     "iopub.status.busy": "2022-11-26T11:19:33.905329Z",
     "iopub.status.idle": "2022-11-26T11:19:33.912915Z",
     "shell.execute_reply": "2022-11-26T11:19:33.911689Z"
    },
    "papermill": {
     "duration": 0.048299,
     "end_time": "2022-11-26T11:19:33.915320",
     "exception": false,
     "start_time": "2022-11-26T11:19:33.867021",
     "status": "completed"
    },
    "tags": []
   },
   "outputs": [
    {
     "data": {
      "text/plain": [
       "((49079, 66), (49079, 3))"
      ]
     },
     "execution_count": 80,
     "metadata": {},
     "output_type": "execute_result"
    }
   ],
   "source": [
    "test_data_merged.shape, sample_submission.shape"
   ]
  },
  {
   "cell_type": "code",
   "execution_count": 81,
   "id": "4d439651",
   "metadata": {
    "execution": {
     "iopub.execute_input": "2022-11-26T11:19:33.991340Z",
     "iopub.status.busy": "2022-11-26T11:19:33.990912Z",
     "iopub.status.idle": "2022-11-26T11:19:33.999570Z",
     "shell.execute_reply": "2022-11-26T11:19:33.998400Z"
    },
    "papermill": {
     "duration": 0.04972,
     "end_time": "2022-11-26T11:19:34.002117",
     "exception": false,
     "start_time": "2022-11-26T11:19:33.952397",
     "status": "completed"
    },
    "tags": []
   },
   "outputs": [
    {
     "data": {
      "text/plain": [
       "array([ True,  True,  True,  True,  True,  True,  True,  True,  True,\n",
       "        True,  True,  True,  True,  True,  True,  True,  True,  True,\n",
       "        True,  True,  True,  True,  True,  True,  True,  True,  True,\n",
       "        True,  True,  True,  True,  True,  True,  True,  True,  True,\n",
       "        True,  True,  True,  True,  True,  True,  True,  True,  True,\n",
       "        True,  True,  True,  True,  True,  True,  True,  True,  True,\n",
       "        True,  True,  True,  True,  True,  True,  True,  True,  True,\n",
       "        True,  True,  True])"
      ]
     },
     "execution_count": 81,
     "metadata": {},
     "output_type": "execute_result"
    }
   ],
   "source": [
    "train_data_merged.columns == test_data_merged.columns\n",
    "# all in correct order"
   ]
  },
  {
   "cell_type": "code",
   "execution_count": 82,
   "id": "efb11086",
   "metadata": {
    "execution": {
     "iopub.execute_input": "2022-11-26T11:19:34.080044Z",
     "iopub.status.busy": "2022-11-26T11:19:34.079026Z",
     "iopub.status.idle": "2022-11-26T11:19:34.123849Z",
     "shell.execute_reply": "2022-11-26T11:19:34.122482Z"
    },
    "papermill": {
     "duration": 0.087483,
     "end_time": "2022-11-26T11:19:34.127015",
     "exception": false,
     "start_time": "2022-11-26T11:19:34.039532",
     "status": "completed"
    },
    "tags": []
   },
   "outputs": [
    {
     "data": {
      "text/plain": [
       "(99079, 66)"
      ]
     },
     "execution_count": 82,
     "metadata": {},
     "output_type": "execute_result"
    }
   ],
   "source": [
    "full_data = pd.concat([train_data_merged, test_data_merged], axis=0)\n",
    "full_data.shape"
   ]
  },
  {
   "cell_type": "markdown",
   "id": "a8495881",
   "metadata": {
    "papermill": {
     "duration": 0.043306,
     "end_time": "2022-11-26T11:19:34.208231",
     "exception": false,
     "start_time": "2022-11-26T11:19:34.164925",
     "status": "completed"
    },
    "tags": []
   },
   "source": [
    "**Write to memory**"
   ]
  },
  {
   "cell_type": "code",
   "execution_count": 83,
   "id": "2fcba8f0",
   "metadata": {
    "execution": {
     "iopub.execute_input": "2022-11-26T11:19:34.286782Z",
     "iopub.status.busy": "2022-11-26T11:19:34.285708Z",
     "iopub.status.idle": "2022-11-26T11:19:40.460536Z",
     "shell.execute_reply": "2022-11-26T11:19:40.459229Z"
    },
    "papermill": {
     "duration": 6.217704,
     "end_time": "2022-11-26T11:19:40.463717",
     "exception": false,
     "start_time": "2022-11-26T11:19:34.246013",
     "status": "completed"
    },
    "tags": []
   },
   "outputs": [],
   "source": [
    "full_data.to_csv('full_data.csv',index=False)"
   ]
  },
  {
   "cell_type": "code",
   "execution_count": null,
   "id": "33698e56",
   "metadata": {
    "papermill": {
     "duration": 0.043451,
     "end_time": "2022-11-26T11:19:40.549782",
     "exception": false,
     "start_time": "2022-11-26T11:19:40.506331",
     "status": "completed"
    },
    "tags": []
   },
   "outputs": [],
   "source": []
  }
 ],
 "metadata": {
  "kernelspec": {
   "display_name": "Python 3",
   "language": "python",
   "name": "python3"
  },
  "language_info": {
   "codemirror_mode": {
    "name": "ipython",
    "version": 3
   },
   "file_extension": ".py",
   "mimetype": "text/x-python",
   "name": "python",
   "nbconvert_exporter": "python",
   "pygments_lexer": "ipython3",
   "version": "3.7.12"
  },
  "papermill": {
   "default_parameters": {},
   "duration": 145.634859,
   "end_time": "2022-11-26T11:19:41.527592",
   "environment_variables": {},
   "exception": null,
   "input_path": "__notebook__.ipynb",
   "output_path": "__notebook__.ipynb",
   "parameters": {},
   "start_time": "2022-11-26T11:17:15.892733",
   "version": "2.3.4"
  }
 },
 "nbformat": 4,
 "nbformat_minor": 5
}
